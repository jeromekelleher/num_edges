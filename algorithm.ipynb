{
 "cells": [
  {
   "cell_type": "code",
   "execution_count": 16,
   "id": "e83bff08",
   "metadata": {},
   "outputs": [],
   "source": [
    "import msprime, tskit\n",
    "from IPython.display import SVG\n",
    "import numpy as np"
   ]
  },
  {
   "cell_type": "code",
   "execution_count": 32,
   "id": "ee2cefe8",
   "metadata": {},
   "outputs": [],
   "source": [
    "ts = msprime.sim_ancestry(3, population_size=1000, sequence_length=1e5, recombination_rate=1e-8)"
   ]
  },
  {
   "cell_type": "code",
   "execution_count": 33,
   "id": "859453d0",
   "metadata": {},
   "outputs": [
    {
     "data": {
      "text/plain": [
       "11"
      ]
     },
     "execution_count": 33,
     "metadata": {},
     "output_type": "execute_result"
    }
   ],
   "source": [
    "ts.num_trees"
   ]
  },
  {
   "cell_type": "code",
   "execution_count": 34,
   "id": "6e4d3a7f",
   "metadata": {},
   "outputs": [
    {
     "data": {
      "image/svg+xml": [
       "<svg xmlns=\"http://www.w3.org/2000/svg\" xmlns:ev=\"http://www.w3.org/2001/xml-events\" xmlns:xlink=\"http://www.w3.org/1999/xlink\" baseProfile=\"full\" height=\"200\" version=\"1.1\" width=\"2200\"><defs><style type=\"text/css\"><![CDATA[.background path {fill: #808080; fill-opacity: 0}.background path:nth-child(odd) {fill-opacity: .1}.axes {font-size: 14px}.x-axis .tick .lab {font-weight: bold; dominant-baseline: hanging}.axes, .tree {font-size: 14px; text-anchor: middle}.axes line, .edge {stroke: black; fill: none}.y-axis .grid {stroke: #FAFAFA}.node > .sym {fill: black; stroke: none}.site > .sym {stroke: black}.mut text {fill: red; font-style: italic}.mut.extra text {fill: hotpink}.mut line {fill: none; stroke: none}.mut .sym {fill: none; stroke: red}.mut.extra .sym {stroke: hotpink}.node .mut .sym {stroke-width: 1.5px}.tree text, .tree-sequence text {dominant-baseline: central}.plotbox .lab.lft {text-anchor: end}.plotbox .lab.rgt {text-anchor: start}]]></style></defs><g class=\"tree-sequence\"><g class=\"background\"><path d=\"M20,0 l196.364,0 l0,138.2 l-139.901,25 l0,5 l-56.4624,0 l0,-5 l0,-25 l0,-138.2z\"/><path d=\"M216.364,0 l196.364,0 l0,138.2 l-75.7257,25 l0,5 l-260.539,0 l0,-5 l139.901,-25 l0,-138.2z\"/><path d=\"M412.727,0 l196.364,0 l0,138.2 l-180.181,25 l0,5 l-91.908,0 l0,-5 l75.7257,-25 l0,-138.2z\"/><path d=\"M609.091,0 l196.364,0 l0,138.2 l-347.99,25 l0,5 l-28.5552,0 l0,-5 l180.181,-25 l0,-138.2z\"/><path d=\"M805.455,0 l196.364,0 l0,138.2 l-455.081,25 l0,5 l-89.2728,0 l0,-5 l347.99,-25 l0,-138.2z\"/><path d=\"M1001.82,0 l196.364,0 l0,138.2 l-458.275,25 l0,5 l-193.169,0 l0,-5 l455.081,-25 l0,-138.2z\"/><path d=\"M1198.18,0 l196.364,0 l0,138.2 l-295.863,25 l0,5 l-358.776,0 l0,-5 l458.275,-25 l0,-138.2z\"/><path d=\"M1394.55,0 l196.364,0 l0,138.2 l-334.525,25 l0,5 l-157.702,0 l0,-5 l295.863,-25 l0,-138.2z\"/><path d=\"M1590.91,0 l196.364,0 l0,138.2 l-341.111,25 l0,5 l-189.778,0 l0,-5 l334.525,-25 l0,-138.2z\"/><path d=\"M1787.27,0 l196.364,0 l0,138.2 l16.5652,25 l0,5 l-554.04,0 l0,-5 l341.111,-25 l0,-138.2z\"/><path d=\"M1983.64,0 l196.364,0 l0,138.2 l0,25 l0,5 l-179.798,0 l0,-5 l-16.5652,-25 l0,-138.2z\"/></g><g class=\"axes\"><g class=\"x-axis\"><g transform=\"translate(1100 200)\"><text class=\"lab\" text-anchor=\"middle\" transform=\"translate(0 -11)\">Genome position</text></g><line x1=\"20\" x2=\"2180\" y1=\"163.2\" y2=\"163.2\"/><g class=\"ticks\"><g class=\"tick\" transform=\"translate(20 163.2)\"><line x1=\"0\" x2=\"0\" y1=\"0\" y2=\"5\"/><g transform=\"translate(0 6)\"><text class=\"lab\">0</text></g></g><g class=\"tick\" transform=\"translate(76.4624 163.2)\"><line x1=\"0\" x2=\"0\" y1=\"0\" y2=\"5\"/><g transform=\"translate(0 6)\"><text class=\"lab\">2614</text></g></g><g class=\"tick\" transform=\"translate(337.002 163.2)\"><line x1=\"0\" x2=\"0\" y1=\"0\" y2=\"5\"/><g transform=\"translate(0 6)\"><text class=\"lab\">14676</text></g></g><g class=\"tick\" transform=\"translate(428.91 163.2)\"><line x1=\"0\" x2=\"0\" y1=\"0\" y2=\"5\"/><g transform=\"translate(0 6)\"><text class=\"lab\">18931</text></g></g><g class=\"tick\" transform=\"translate(457.465 163.2)\"><line x1=\"0\" x2=\"0\" y1=\"0\" y2=\"5\"/><g transform=\"translate(0 6)\"><text class=\"lab\">20253</text></g></g><g class=\"tick\" transform=\"translate(546.738 163.2)\"><line x1=\"0\" x2=\"0\" y1=\"0\" y2=\"5\"/><g transform=\"translate(0 6)\"><text class=\"lab\">24386</text></g></g><g class=\"tick\" transform=\"translate(739.906 163.2)\"><line x1=\"0\" x2=\"0\" y1=\"0\" y2=\"5\"/><g transform=\"translate(0 6)\"><text class=\"lab\">33329</text></g></g><g class=\"tick\" transform=\"translate(1098.68 163.2)\"><line x1=\"0\" x2=\"0\" y1=\"0\" y2=\"5\"/><g transform=\"translate(0 6)\"><text class=\"lab\">49939</text></g></g><g class=\"tick\" transform=\"translate(1256.38 163.2)\"><line x1=\"0\" x2=\"0\" y1=\"0\" y2=\"5\"/><g transform=\"translate(0 6)\"><text class=\"lab\">57240</text></g></g><g class=\"tick\" transform=\"translate(1446.16 163.2)\"><line x1=\"0\" x2=\"0\" y1=\"0\" y2=\"5\"/><g transform=\"translate(0 6)\"><text class=\"lab\">66026</text></g></g><g class=\"tick\" transform=\"translate(2000.2 163.2)\"><line x1=\"0\" x2=\"0\" y1=\"0\" y2=\"5\"/><g transform=\"translate(0 6)\"><text class=\"lab\">91676</text></g></g><g class=\"tick\" transform=\"translate(2180 163.2)\"><line x1=\"0\" x2=\"0\" y1=\"0\" y2=\"5\"/><g transform=\"translate(0 6)\"><text class=\"lab\">100000</text></g></g></g></g></g><g class=\"plotbox trees\"><g class=\"tree t0\" transform=\"translate(20 0)\"><g class=\"plotbox\"><g class=\"c2 node n18 p0 root\" transform=\"translate(129.129 27.1541)\"><g class=\"a18 i1 leaf node n2 p0 sample\" transform=\"translate(34.2045 94.2459)\"><path class=\"edge\" d=\"M 0 0 V -94.2459 H -34.2045\"/><rect class=\"sym\" height=\"6\" width=\"6\" x=\"-3\" y=\"-3\"/><text class=\"lab\" transform=\"translate(0 11)\">2</text></g><g class=\"a18 c2 node n17 p0\" transform=\"translate(-34.2045 34.6974)\"><g class=\"a17 c2 node n9 p0\" transform=\"translate(-29.3182 47.3215)\"><g class=\"a9 i0 leaf node n1 p0 sample\" transform=\"translate(19.5455 12.227)\"><path class=\"edge\" d=\"M 0 0 V -12.227 H -19.5455\"/><rect class=\"sym\" height=\"6\" width=\"6\" x=\"-3\" y=\"-3\"/><text class=\"lab\" transform=\"translate(0 11)\">1</text></g><g class=\"a9 c2 node n7 p0\" transform=\"translate(-19.5455 2.63504)\"><g class=\"a7 i0 leaf node n0 p0 sample\" transform=\"translate(-13.0303 9.59191)\"><path class=\"edge\" d=\"M 0 0 V -9.59191 H 13.0303\"/><rect class=\"sym\" height=\"6\" width=\"6\" x=\"-3\" y=\"-3\"/><text class=\"lab\" transform=\"translate(0 11)\">0</text></g><g class=\"a7 i1 leaf node n3 p0 sample\" transform=\"translate(13.0303 9.59191)\"><path class=\"edge\" d=\"M 0 0 V -9.59191 H -13.0303\"/><rect class=\"sym\" height=\"6\" width=\"6\" x=\"-3\" y=\"-3\"/><text class=\"lab\" transform=\"translate(0 11)\">3</text></g><path class=\"edge\" d=\"M 0 0 V -2.63504 H 19.5455\"/><circle class=\"sym\" cx=\"0\" cy=\"0\" r=\"3\"/><text class=\"lab lft\" transform=\"translate(-3 -7.0)\">7</text></g><path class=\"edge\" d=\"M 0 0 V -47.3215 H 29.3182\"/><circle class=\"sym\" cx=\"0\" cy=\"0\" r=\"3\"/><text class=\"lab lft\" transform=\"translate(-3 -7.0)\">9</text></g><g class=\"a17 c2 node n14 p0\" transform=\"translate(29.3182 40.0336)\"><g class=\"a14 i2 leaf node n4 p0 sample\" transform=\"translate(-13.0303 19.5148)\"><path class=\"edge\" d=\"M 0 0 V -19.5148 H 13.0303\"/><rect class=\"sym\" height=\"6\" width=\"6\" x=\"-3\" y=\"-3\"/><text class=\"lab\" transform=\"translate(0 11)\">4</text></g><g class=\"a14 i2 leaf node n5 p0 sample\" transform=\"translate(13.0303 19.5148)\"><path class=\"edge\" d=\"M 0 0 V -19.5148 H -13.0303\"/><rect class=\"sym\" height=\"6\" width=\"6\" x=\"-3\" y=\"-3\"/><text class=\"lab\" transform=\"translate(0 11)\">5</text></g><path class=\"edge\" d=\"M 0 0 V -40.0336 H -29.3182\"/><circle class=\"sym\" cx=\"0\" cy=\"0\" r=\"3\"/><text class=\"lab rgt\" transform=\"translate(3 -7.0)\">14</text></g><path class=\"edge\" d=\"M 0 0 V -34.6974 H 34.2045\"/><circle class=\"sym\" cx=\"0\" cy=\"0\" r=\"3\"/><text class=\"lab lft\" transform=\"translate(-3 -7.0)\">17</text></g><circle class=\"sym\" cx=\"0\" cy=\"0\" r=\"3\"/><text class=\"lab\" transform=\"translate(0 -11)\">18</text></g></g></g><g class=\"tree t1\" transform=\"translate(216.364 0)\"><g class=\"plotbox\"><g class=\"c2 node n18 p0 root\" transform=\"translate(122.614 27.1541)\"><g class=\"a18 i1 leaf node n2 p0 sample\" transform=\"translate(40.7197 94.2459)\"><path class=\"edge\" d=\"M 0 0 V -94.2459 H -40.7197\"/><rect class=\"sym\" height=\"6\" width=\"6\" x=\"-3\" y=\"-3\"/><text class=\"lab\" transform=\"translate(0 11)\">2</text></g><g class=\"a18 c2 node n17 p0\" transform=\"translate(-40.7197 34.6974)\"><g class=\"a17 c2 node n9 p0\" transform=\"translate(-35.8333 47.3215)\"><g class=\"a9 i0 leaf node n1 p0 sample\" transform=\"translate(13.0303 12.227)\"><path class=\"edge\" d=\"M 0 0 V -12.227 H -13.0303\"/><rect class=\"sym\" height=\"6\" width=\"6\" x=\"-3\" y=\"-3\"/><text class=\"lab\" transform=\"translate(0 11)\">1</text></g><g class=\"a9 i0 leaf node n0 p0 sample\" transform=\"translate(-13.0303 12.227)\"><path class=\"edge\" d=\"M 0 0 V -12.227 H 13.0303\"/><rect class=\"sym\" height=\"6\" width=\"6\" x=\"-3\" y=\"-3\"/><text class=\"lab\" transform=\"translate(0 11)\">0</text></g><path class=\"edge\" d=\"M 0 0 V -47.3215 H 35.8333\"/><circle class=\"sym\" cx=\"0\" cy=\"0\" r=\"3\"/><text class=\"lab lft\" transform=\"translate(-3 -7.0)\">9</text></g><g class=\"a17 c2 node n14 p0\" transform=\"translate(35.8333 40.0336)\"><g class=\"a14 i2 leaf node n4 p0 sample\" transform=\"translate(19.5455 19.5148)\"><path class=\"edge\" d=\"M 0 0 V -19.5148 H -19.5455\"/><rect class=\"sym\" height=\"6\" width=\"6\" x=\"-3\" y=\"-3\"/><text class=\"lab\" transform=\"translate(0 11)\">4</text></g><g class=\"a14 c2 node n13 p0\" transform=\"translate(-19.5455 1.45646)\"><g class=\"a13 i1 leaf node n3 p0 sample\" transform=\"translate(-13.0303 18.0584)\"><path class=\"edge\" d=\"M 0 0 V -18.0584 H 13.0303\"/><rect class=\"sym\" height=\"6\" width=\"6\" x=\"-3\" y=\"-3\"/><text class=\"lab\" transform=\"translate(0 11)\">3</text></g><g class=\"a13 i2 leaf node n5 p0 sample\" transform=\"translate(13.0303 18.0584)\"><path class=\"edge\" d=\"M 0 0 V -18.0584 H -13.0303\"/><rect class=\"sym\" height=\"6\" width=\"6\" x=\"-3\" y=\"-3\"/><text class=\"lab\" transform=\"translate(0 11)\">5</text></g><path class=\"edge\" d=\"M 0 0 V -1.45646 H 19.5455\"/><circle class=\"sym\" cx=\"0\" cy=\"0\" r=\"3\"/><text class=\"lab lft\" transform=\"translate(-3 -7.0)\">13</text></g><path class=\"edge\" d=\"M 0 0 V -40.0336 H -35.8333\"/><circle class=\"sym\" cx=\"0\" cy=\"0\" r=\"3\"/><text class=\"lab rgt\" transform=\"translate(3 -7.0)\">14</text></g><path class=\"edge\" d=\"M 0 0 V -34.6974 H 40.7197\"/><circle class=\"sym\" cx=\"0\" cy=\"0\" r=\"3\"/><text class=\"lab lft\" transform=\"translate(-3 -7.0)\">17</text></g><circle class=\"sym\" cx=\"0\" cy=\"0\" r=\"3\"/><text class=\"lab\" transform=\"translate(0 -11)\">18</text></g></g></g><g class=\"tree t2\" transform=\"translate(412.727 0)\"><g class=\"plotbox\"><g class=\"c2 node n18 p0 root\" transform=\"translate(122.614 27.1541)\"><g class=\"a18 i1 leaf node n2 p0 sample\" transform=\"translate(40.7197 94.2459)\"><path class=\"edge\" d=\"M 0 0 V -94.2459 H -40.7197\"/><rect class=\"sym\" height=\"6\" width=\"6\" x=\"-3\" y=\"-3\"/><text class=\"lab\" transform=\"translate(0 11)\">2</text></g><g class=\"a18 c2 node n16 p0\" transform=\"translate(-40.7197 62.4414)\"><g class=\"a16 c2 node n9 p0\" transform=\"translate(-35.8333 19.5775)\"><g class=\"a9 i0 leaf node n1 p0 sample\" transform=\"translate(13.0303 12.227)\"><path class=\"edge\" d=\"M 0 0 V -12.227 H -13.0303\"/><rect class=\"sym\" height=\"6\" width=\"6\" x=\"-3\" y=\"-3\"/><text class=\"lab\" transform=\"translate(0 11)\">1</text></g><g class=\"a9 i0 leaf node n0 p0 sample\" transform=\"translate(-13.0303 12.227)\"><path class=\"edge\" d=\"M 0 0 V -12.227 H 13.0303\"/><rect class=\"sym\" height=\"6\" width=\"6\" x=\"-3\" y=\"-3\"/><text class=\"lab\" transform=\"translate(0 11)\">0</text></g><path class=\"edge\" d=\"M 0 0 V -19.5775 H 35.8333\"/><circle class=\"sym\" cx=\"0\" cy=\"0\" r=\"3\"/><text class=\"lab lft\" transform=\"translate(-3 -7.0)\">9</text></g><g class=\"a16 c2 node n14 p0\" transform=\"translate(35.8333 12.2897)\"><g class=\"a14 i2 leaf node n4 p0 sample\" transform=\"translate(19.5455 19.5148)\"><path class=\"edge\" d=\"M 0 0 V -19.5148 H -19.5455\"/><rect class=\"sym\" height=\"6\" width=\"6\" x=\"-3\" y=\"-3\"/><text class=\"lab\" transform=\"translate(0 11)\">4</text></g><g class=\"a14 c2 node n13 p0\" transform=\"translate(-19.5455 1.45646)\"><g class=\"a13 i1 leaf node n3 p0 sample\" transform=\"translate(-13.0303 18.0584)\"><path class=\"edge\" d=\"M 0 0 V -18.0584 H 13.0303\"/><rect class=\"sym\" height=\"6\" width=\"6\" x=\"-3\" y=\"-3\"/><text class=\"lab\" transform=\"translate(0 11)\">3</text></g><g class=\"a13 i2 leaf node n5 p0 sample\" transform=\"translate(13.0303 18.0584)\"><path class=\"edge\" d=\"M 0 0 V -18.0584 H -13.0303\"/><rect class=\"sym\" height=\"6\" width=\"6\" x=\"-3\" y=\"-3\"/><text class=\"lab\" transform=\"translate(0 11)\">5</text></g><path class=\"edge\" d=\"M 0 0 V -1.45646 H 19.5455\"/><circle class=\"sym\" cx=\"0\" cy=\"0\" r=\"3\"/><text class=\"lab lft\" transform=\"translate(-3 -7.0)\">13</text></g><path class=\"edge\" d=\"M 0 0 V -12.2897 H -35.8333\"/><circle class=\"sym\" cx=\"0\" cy=\"0\" r=\"3\"/><text class=\"lab rgt\" transform=\"translate(3 -7.0)\">14</text></g><path class=\"edge\" d=\"M 0 0 V -62.4414 H 40.7197\"/><circle class=\"sym\" cx=\"0\" cy=\"0\" r=\"3\"/><text class=\"lab lft\" transform=\"translate(-3 -7.0)\">16</text></g><circle class=\"sym\" cx=\"0\" cy=\"0\" r=\"3\"/><text class=\"lab\" transform=\"translate(0 -11)\">18</text></g></g></g><g class=\"tree t3\" transform=\"translate(609.091 0)\"><g class=\"plotbox\"><g class=\"c2 node n18 p0 root\" transform=\"translate(119.356 27.1541)\"><g class=\"a18 i1 leaf node n2 p0 sample\" transform=\"translate(43.9773 94.2459)\"><path class=\"edge\" d=\"M 0 0 V -94.2459 H -43.9773\"/><rect class=\"sym\" height=\"6\" width=\"6\" x=\"-3\" y=\"-3\"/><text class=\"lab\" transform=\"translate(0 11)\">2</text></g><g class=\"a18 c2 node n16 p0\" transform=\"translate(-43.9773 62.4414)\"><g class=\"a16 c2 node n9 p0\" transform=\"translate(-29.3182 19.5775)\"><g class=\"a9 i0 leaf node n1 p0 sample\" transform=\"translate(13.0303 12.227)\"><path class=\"edge\" d=\"M 0 0 V -12.227 H -13.0303\"/><rect class=\"sym\" height=\"6\" width=\"6\" x=\"-3\" y=\"-3\"/><text class=\"lab\" transform=\"translate(0 11)\">1</text></g><g class=\"a9 i0 leaf node n0 p0 sample\" transform=\"translate(-13.0303 12.227)\"><path class=\"edge\" d=\"M 0 0 V -12.227 H 13.0303\"/><rect class=\"sym\" height=\"6\" width=\"6\" x=\"-3\" y=\"-3\"/><text class=\"lab\" transform=\"translate(0 11)\">0</text></g><path class=\"edge\" d=\"M 0 0 V -19.5775 H 29.3182\"/><circle class=\"sym\" cx=\"0\" cy=\"0\" r=\"3\"/><text class=\"lab lft\" transform=\"translate(-3 -7.0)\">9</text></g><g class=\"a16 c2 node n13 p0\" transform=\"translate(29.3182 13.7461)\"><g class=\"a13 i1 leaf node n3 p0 sample\" transform=\"translate(-19.5455 18.0584)\"><path class=\"edge\" d=\"M 0 0 V -18.0584 H 19.5455\"/><rect class=\"sym\" height=\"6\" width=\"6\" x=\"-3\" y=\"-3\"/><text class=\"lab\" transform=\"translate(0 11)\">3</text></g><g class=\"a13 c2 node n10 p0\" transform=\"translate(19.5455 5.23004)\"><g class=\"a10 i2 leaf node n4 p0 sample\" transform=\"translate(-13.0303 12.8283)\"><path class=\"edge\" d=\"M 0 0 V -12.8283 H 13.0303\"/><rect class=\"sym\" height=\"6\" width=\"6\" x=\"-3\" y=\"-3\"/><text class=\"lab\" transform=\"translate(0 11)\">4</text></g><g class=\"a10 i2 leaf node n5 p0 sample\" transform=\"translate(13.0303 12.8283)\"><path class=\"edge\" d=\"M 0 0 V -12.8283 H -13.0303\"/><rect class=\"sym\" height=\"6\" width=\"6\" x=\"-3\" y=\"-3\"/><text class=\"lab\" transform=\"translate(0 11)\">5</text></g><path class=\"edge\" d=\"M 0 0 V -5.23004 H -19.5455\"/><circle class=\"sym\" cx=\"0\" cy=\"0\" r=\"3\"/><text class=\"lab rgt\" transform=\"translate(3 -7.0)\">10</text></g><path class=\"edge\" d=\"M 0 0 V -13.7461 H -29.3182\"/><circle class=\"sym\" cx=\"0\" cy=\"0\" r=\"3\"/><text class=\"lab rgt\" transform=\"translate(3 -7.0)\">13</text></g><path class=\"edge\" d=\"M 0 0 V -62.4414 H 43.9773\"/><circle class=\"sym\" cx=\"0\" cy=\"0\" r=\"3\"/><text class=\"lab lft\" transform=\"translate(-3 -7.0)\">16</text></g><circle class=\"sym\" cx=\"0\" cy=\"0\" r=\"3\"/><text class=\"lab\" transform=\"translate(0 -11)\">18</text></g></g></g><g class=\"tree t4\" transform=\"translate(805.455 0)\"><g class=\"plotbox\"><g class=\"c2 node n18 p0 root\" transform=\"translate(125.871 27.1541)\"><g class=\"a18 i1 leaf node n2 p0 sample\" transform=\"translate(37.4621 94.2459)\"><path class=\"edge\" d=\"M 0 0 V -94.2459 H -37.4621\"/><rect class=\"sym\" height=\"6\" width=\"6\" x=\"-3\" y=\"-3\"/><text class=\"lab\" transform=\"translate(0 11)\">2</text></g><g class=\"a18 c2 node n16 p0\" transform=\"translate(-37.4621 62.4414)\"><g class=\"a16 c2 node n9 p0\" transform=\"translate(-35.8333 19.5775)\"><g class=\"a9 i0 leaf node n0 p0 sample\" transform=\"translate(-19.5455 12.227)\"><path class=\"edge\" d=\"M 0 0 V -12.227 H 19.5455\"/><rect class=\"sym\" height=\"6\" width=\"6\" x=\"-3\" y=\"-3\"/><text class=\"lab\" transform=\"translate(0 11)\">0</text></g><g class=\"a9 c2 node n6 p0\" transform=\"translate(19.5455 6.67456)\"><g class=\"a6 i0 leaf node n1 p0 sample\" transform=\"translate(-13.0303 5.55239)\"><path class=\"edge\" d=\"M 0 0 V -5.55239 H 13.0303\"/><rect class=\"sym\" height=\"6\" width=\"6\" x=\"-3\" y=\"-3\"/><text class=\"lab\" transform=\"translate(0 11)\">1</text></g><g class=\"a6 i1 leaf node n3 p0 sample\" transform=\"translate(13.0303 5.55239)\"><path class=\"edge\" d=\"M 0 0 V -5.55239 H -13.0303\"/><rect class=\"sym\" height=\"6\" width=\"6\" x=\"-3\" y=\"-3\"/><text class=\"lab\" transform=\"translate(0 11)\">3</text></g><path class=\"edge\" d=\"M 0 0 V -6.67456 H -19.5455\"/><circle class=\"sym\" cx=\"0\" cy=\"0\" r=\"3\"/><text class=\"lab rgt\" transform=\"translate(3 -7.0)\">6</text></g><path class=\"edge\" d=\"M 0 0 V -19.5775 H 35.8333\"/><circle class=\"sym\" cx=\"0\" cy=\"0\" r=\"3\"/><text class=\"lab lft\" transform=\"translate(-3 -7.0)\">9</text></g><g class=\"a16 c2 node n10 p0\" transform=\"translate(35.8333 18.9762)\"><g class=\"a10 i2 leaf node n4 p0 sample\" transform=\"translate(-13.0303 12.8283)\"><path class=\"edge\" d=\"M 0 0 V -12.8283 H 13.0303\"/><rect class=\"sym\" height=\"6\" width=\"6\" x=\"-3\" y=\"-3\"/><text class=\"lab\" transform=\"translate(0 11)\">4</text></g><g class=\"a10 i2 leaf node n5 p0 sample\" transform=\"translate(13.0303 12.8283)\"><path class=\"edge\" d=\"M 0 0 V -12.8283 H -13.0303\"/><rect class=\"sym\" height=\"6\" width=\"6\" x=\"-3\" y=\"-3\"/><text class=\"lab\" transform=\"translate(0 11)\">5</text></g><path class=\"edge\" d=\"M 0 0 V -18.9762 H -35.8333\"/><circle class=\"sym\" cx=\"0\" cy=\"0\" r=\"3\"/><text class=\"lab rgt\" transform=\"translate(3 -7.0)\">10</text></g><path class=\"edge\" d=\"M 0 0 V -62.4414 H 37.4621\"/><circle class=\"sym\" cx=\"0\" cy=\"0\" r=\"3\"/><text class=\"lab lft\" transform=\"translate(-3 -7.0)\">16</text></g><circle class=\"sym\" cx=\"0\" cy=\"0\" r=\"3\"/><text class=\"lab\" transform=\"translate(0 -11)\">18</text></g></g></g><g class=\"tree t5\" transform=\"translate(1001.82 0)\"><g class=\"plotbox\"><g class=\"c2 node n19 p0 root\" transform=\"translate(125.871 26.8)\"><g class=\"a19 i1 leaf node n2 p0 sample\" transform=\"translate(37.4621 94.6)\"><path class=\"edge\" d=\"M 0 0 V -94.6 H -37.4621\"/><rect class=\"sym\" height=\"6\" width=\"6\" x=\"-3\" y=\"-3\"/><text class=\"lab\" transform=\"translate(0 11)\">2</text></g><g class=\"a19 c2 node n16 p0\" transform=\"translate(-37.4621 62.7955)\"><g class=\"a16 c2 node n9 p0\" transform=\"translate(-35.8333 19.5775)\"><g class=\"a9 i0 leaf node n0 p0 sample\" transform=\"translate(-19.5455 12.227)\"><path class=\"edge\" d=\"M 0 0 V -12.227 H 19.5455\"/><rect class=\"sym\" height=\"6\" width=\"6\" x=\"-3\" y=\"-3\"/><text class=\"lab\" transform=\"translate(0 11)\">0</text></g><g class=\"a9 c2 node n6 p0\" transform=\"translate(19.5455 6.67456)\"><g class=\"a6 i0 leaf node n1 p0 sample\" transform=\"translate(-13.0303 5.55239)\"><path class=\"edge\" d=\"M 0 0 V -5.55239 H 13.0303\"/><rect class=\"sym\" height=\"6\" width=\"6\" x=\"-3\" y=\"-3\"/><text class=\"lab\" transform=\"translate(0 11)\">1</text></g><g class=\"a6 i1 leaf node n3 p0 sample\" transform=\"translate(13.0303 5.55239)\"><path class=\"edge\" d=\"M 0 0 V -5.55239 H -13.0303\"/><rect class=\"sym\" height=\"6\" width=\"6\" x=\"-3\" y=\"-3\"/><text class=\"lab\" transform=\"translate(0 11)\">3</text></g><path class=\"edge\" d=\"M 0 0 V -6.67456 H -19.5455\"/><circle class=\"sym\" cx=\"0\" cy=\"0\" r=\"3\"/><text class=\"lab rgt\" transform=\"translate(3 -7.0)\">6</text></g><path class=\"edge\" d=\"M 0 0 V -19.5775 H 35.8333\"/><circle class=\"sym\" cx=\"0\" cy=\"0\" r=\"3\"/><text class=\"lab lft\" transform=\"translate(-3 -7.0)\">9</text></g><g class=\"a16 c2 node n10 p0\" transform=\"translate(35.8333 18.9762)\"><g class=\"a10 i2 leaf node n4 p0 sample\" transform=\"translate(-13.0303 12.8283)\"><path class=\"edge\" d=\"M 0 0 V -12.8283 H 13.0303\"/><rect class=\"sym\" height=\"6\" width=\"6\" x=\"-3\" y=\"-3\"/><text class=\"lab\" transform=\"translate(0 11)\">4</text></g><g class=\"a10 i2 leaf node n5 p0 sample\" transform=\"translate(13.0303 12.8283)\"><path class=\"edge\" d=\"M 0 0 V -12.8283 H -13.0303\"/><rect class=\"sym\" height=\"6\" width=\"6\" x=\"-3\" y=\"-3\"/><text class=\"lab\" transform=\"translate(0 11)\">5</text></g><path class=\"edge\" d=\"M 0 0 V -18.9762 H -35.8333\"/><circle class=\"sym\" cx=\"0\" cy=\"0\" r=\"3\"/><text class=\"lab rgt\" transform=\"translate(3 -7.0)\">10</text></g><path class=\"edge\" d=\"M 0 0 V -62.7955 H 37.4621\"/><circle class=\"sym\" cx=\"0\" cy=\"0\" r=\"3\"/><text class=\"lab lft\" transform=\"translate(-3 -7.0)\">16</text></g><circle class=\"sym\" cx=\"0\" cy=\"0\" r=\"3\"/><text class=\"lab\" transform=\"translate(0 -11)\">19</text></g></g></g><g class=\"tree t6\" transform=\"translate(1198.18 0)\"><g class=\"plotbox\"><g class=\"c2 node n19 p0 root\" transform=\"translate(131.572 26.8)\"><g class=\"a19 i1 leaf node n2 p0 sample\" transform=\"translate(31.7614 94.6)\"><path class=\"edge\" d=\"M 0 0 V -94.6 H -31.7614\"/><rect class=\"sym\" height=\"6\" width=\"6\" x=\"-3\" y=\"-3\"/><text class=\"lab\" transform=\"translate(0 11)\">2</text></g><g class=\"a19 c2 node n16 p0\" transform=\"translate(-31.7614 62.7955)\"><g class=\"a16 c2 node n9 p0\" transform=\"translate(-37.4621 19.5775)\"><g class=\"a9 i0 leaf node n0 p0 sample\" transform=\"translate(-29.3182 12.227)\"><path class=\"edge\" d=\"M 0 0 V -12.227 H 29.3182\"/><rect class=\"sym\" height=\"6\" width=\"6\" x=\"-3\" y=\"-3\"/><text class=\"lab\" transform=\"translate(0 11)\">0</text></g><g class=\"a9 c2 node n8 p0\" transform=\"translate(29.3182 2.52182)\"><g class=\"a8 i2 leaf node n5 p0 sample\" transform=\"translate(19.5455 9.70513)\"><path class=\"edge\" d=\"M 0 0 V -9.70513 H -19.5455\"/><rect class=\"sym\" height=\"6\" width=\"6\" x=\"-3\" y=\"-3\"/><text class=\"lab\" transform=\"translate(0 11)\">5</text></g><g class=\"a8 c2 node n6 p0\" transform=\"translate(-19.5455 4.15274)\"><g class=\"a6 i0 leaf node n1 p0 sample\" transform=\"translate(-13.0303 5.55239)\"><path class=\"edge\" d=\"M 0 0 V -5.55239 H 13.0303\"/><rect class=\"sym\" height=\"6\" width=\"6\" x=\"-3\" y=\"-3\"/><text class=\"lab\" transform=\"translate(0 11)\">1</text></g><g class=\"a6 i1 leaf node n3 p0 sample\" transform=\"translate(13.0303 5.55239)\"><path class=\"edge\" d=\"M 0 0 V -5.55239 H -13.0303\"/><rect class=\"sym\" height=\"6\" width=\"6\" x=\"-3\" y=\"-3\"/><text class=\"lab\" transform=\"translate(0 11)\">3</text></g><path class=\"edge\" d=\"M 0 0 V -4.15274 H 19.5455\"/><circle class=\"sym\" cx=\"0\" cy=\"0\" r=\"3\"/><text class=\"lab lft\" transform=\"translate(-3 -7.0)\">6</text></g><path class=\"edge\" d=\"M 0 0 V -2.52182 H -29.3182\"/><circle class=\"sym\" cx=\"0\" cy=\"0\" r=\"3\"/><text class=\"lab rgt\" transform=\"translate(3 -7.0)\">8</text></g><path class=\"edge\" d=\"M 0 0 V -19.5775 H 37.4621\"/><circle class=\"sym\" cx=\"0\" cy=\"0\" r=\"3\"/><text class=\"lab lft\" transform=\"translate(-3 -7.0)\">9</text></g><g class=\"a16 i2 leaf node n4 p0 sample\" transform=\"translate(37.4621 31.8045)\"><path class=\"edge\" d=\"M 0 0 V -31.8045 H -37.4621\"/><rect class=\"sym\" height=\"6\" width=\"6\" x=\"-3\" y=\"-3\"/><text class=\"lab\" transform=\"translate(0 11)\">4</text></g><path class=\"edge\" d=\"M 0 0 V -62.7955 H 31.7614\"/><circle class=\"sym\" cx=\"0\" cy=\"0\" r=\"3\"/><text class=\"lab lft\" transform=\"translate(-3 -7.0)\">16</text></g><circle class=\"sym\" cx=\"0\" cy=\"0\" r=\"3\"/><text class=\"lab\" transform=\"translate(0 -11)\">19</text></g></g></g><g class=\"tree t7\" transform=\"translate(1394.55 0)\"><g class=\"plotbox\"><g class=\"c2 node n19 p0 root\" transform=\"translate(125.871 26.8)\"><g class=\"a19 i1 leaf node n2 p0 sample\" transform=\"translate(37.4621 94.6)\"><path class=\"edge\" d=\"M 0 0 V -94.6 H -37.4621\"/><rect class=\"sym\" height=\"6\" width=\"6\" x=\"-3\" y=\"-3\"/><text class=\"lab\" transform=\"translate(0 11)\">2</text></g><g class=\"a19 c2 node n16 p0\" transform=\"translate(-37.4621 62.7955)\"><g class=\"a16 c2 node n9 p0\" transform=\"translate(-35.8333 19.5775)\"><g class=\"a9 i0 leaf node n0 p0 sample\" transform=\"translate(-19.5455 12.227)\"><path class=\"edge\" d=\"M 0 0 V -12.227 H 19.5455\"/><rect class=\"sym\" height=\"6\" width=\"6\" x=\"-3\" y=\"-3\"/><text class=\"lab\" transform=\"translate(0 11)\">0</text></g><g class=\"a9 c2 node n6 p0\" transform=\"translate(19.5455 6.67456)\"><g class=\"a6 i0 leaf node n1 p0 sample\" transform=\"translate(-13.0303 5.55239)\"><path class=\"edge\" d=\"M 0 0 V -5.55239 H 13.0303\"/><rect class=\"sym\" height=\"6\" width=\"6\" x=\"-3\" y=\"-3\"/><text class=\"lab\" transform=\"translate(0 11)\">1</text></g><g class=\"a6 i1 leaf node n3 p0 sample\" transform=\"translate(13.0303 5.55239)\"><path class=\"edge\" d=\"M 0 0 V -5.55239 H -13.0303\"/><rect class=\"sym\" height=\"6\" width=\"6\" x=\"-3\" y=\"-3\"/><text class=\"lab\" transform=\"translate(0 11)\">3</text></g><path class=\"edge\" d=\"M 0 0 V -6.67456 H -19.5455\"/><circle class=\"sym\" cx=\"0\" cy=\"0\" r=\"3\"/><text class=\"lab rgt\" transform=\"translate(3 -7.0)\">6</text></g><path class=\"edge\" d=\"M 0 0 V -19.5775 H 35.8333\"/><circle class=\"sym\" cx=\"0\" cy=\"0\" r=\"3\"/><text class=\"lab lft\" transform=\"translate(-3 -7.0)\">9</text></g><g class=\"a16 c2 node n15 p0\" transform=\"translate(35.8333 0.618605)\"><g class=\"a15 i2 leaf node n4 p0 sample\" transform=\"translate(-13.0303 31.1859)\"><path class=\"edge\" d=\"M 0 0 V -31.1859 H 13.0303\"/><rect class=\"sym\" height=\"6\" width=\"6\" x=\"-3\" y=\"-3\"/><text class=\"lab\" transform=\"translate(0 11)\">4</text></g><g class=\"a15 i2 leaf node n5 p0 sample\" transform=\"translate(13.0303 31.1859)\"><path class=\"edge\" d=\"M 0 0 V -31.1859 H -13.0303\"/><rect class=\"sym\" height=\"6\" width=\"6\" x=\"-3\" y=\"-3\"/><text class=\"lab\" transform=\"translate(0 11)\">5</text></g><path class=\"edge\" d=\"M 0 0 V -0.618605 H -35.8333\"/><circle class=\"sym\" cx=\"0\" cy=\"0\" r=\"3\"/><text class=\"lab rgt\" transform=\"translate(3 -7.0)\">15</text></g><path class=\"edge\" d=\"M 0 0 V -62.7955 H 37.4621\"/><circle class=\"sym\" cx=\"0\" cy=\"0\" r=\"3\"/><text class=\"lab lft\" transform=\"translate(-3 -7.0)\">16</text></g><circle class=\"sym\" cx=\"0\" cy=\"0\" r=\"3\"/><text class=\"lab\" transform=\"translate(0 -11)\">19</text></g></g></g><g class=\"tree t8\" transform=\"translate(1590.91 0)\"><g class=\"plotbox\"><g class=\"c2 node n19 p0 root\" transform=\"translate(116.098 26.8)\"><g class=\"a19 c2 node n16 p0\" transform=\"translate(-34.2045 62.7955)\"><g class=\"a16 c2 node n9 p0\" transform=\"translate(-29.3182 19.5775)\"><g class=\"a9 i0 leaf node n0 p0 sample\" transform=\"translate(-19.5455 12.227)\"><path class=\"edge\" d=\"M 0 0 V -12.227 H 19.5455\"/><rect class=\"sym\" height=\"6\" width=\"6\" x=\"-3\" y=\"-3\"/><text class=\"lab\" transform=\"translate(0 11)\">0</text></g><g class=\"a9 c2 node n6 p0\" transform=\"translate(19.5455 6.67456)\"><g class=\"a6 i0 leaf node n1 p0 sample\" transform=\"translate(-13.0303 5.55239)\"><path class=\"edge\" d=\"M 0 0 V -5.55239 H 13.0303\"/><rect class=\"sym\" height=\"6\" width=\"6\" x=\"-3\" y=\"-3\"/><text class=\"lab\" transform=\"translate(0 11)\">1</text></g><g class=\"a6 i1 leaf node n3 p0 sample\" transform=\"translate(13.0303 5.55239)\"><path class=\"edge\" d=\"M 0 0 V -5.55239 H -13.0303\"/><rect class=\"sym\" height=\"6\" width=\"6\" x=\"-3\" y=\"-3\"/><text class=\"lab\" transform=\"translate(0 11)\">3</text></g><path class=\"edge\" d=\"M 0 0 V -6.67456 H -19.5455\"/><circle class=\"sym\" cx=\"0\" cy=\"0\" r=\"3\"/><text class=\"lab rgt\" transform=\"translate(3 -7.0)\">6</text></g><path class=\"edge\" d=\"M 0 0 V -19.5775 H 29.3182\"/><circle class=\"sym\" cx=\"0\" cy=\"0\" r=\"3\"/><text class=\"lab lft\" transform=\"translate(-3 -7.0)\">9</text></g><g class=\"a16 i2 leaf node n4 p0 sample\" transform=\"translate(29.3182 31.8045)\"><path class=\"edge\" d=\"M 0 0 V -31.8045 H -29.3182\"/><rect class=\"sym\" height=\"6\" width=\"6\" x=\"-3\" y=\"-3\"/><text class=\"lab\" transform=\"translate(0 11)\">4</text></g><path class=\"edge\" d=\"M 0 0 V -62.7955 H 34.2045\"/><circle class=\"sym\" cx=\"0\" cy=\"0\" r=\"3\"/><text class=\"lab lft\" transform=\"translate(-3 -7.0)\">16</text></g><g class=\"a19 c2 node n11 p0\" transform=\"translate(34.2045 81.5031)\"><g class=\"a11 i1 leaf node n2 p0 sample\" transform=\"translate(-13.0303 13.0969)\"><path class=\"edge\" d=\"M 0 0 V -13.0969 H 13.0303\"/><rect class=\"sym\" height=\"6\" width=\"6\" x=\"-3\" y=\"-3\"/><text class=\"lab\" transform=\"translate(0 11)\">2</text></g><g class=\"a11 i2 leaf node n5 p0 sample\" transform=\"translate(13.0303 13.0969)\"><path class=\"edge\" d=\"M 0 0 V -13.0969 H -13.0303\"/><rect class=\"sym\" height=\"6\" width=\"6\" x=\"-3\" y=\"-3\"/><text class=\"lab\" transform=\"translate(0 11)\">5</text></g><path class=\"edge\" d=\"M 0 0 V -81.5031 H -34.2045\"/><circle class=\"sym\" cx=\"0\" cy=\"0\" r=\"3\"/><text class=\"lab rgt\" transform=\"translate(3 -7.0)\">11</text></g><circle class=\"sym\" cx=\"0\" cy=\"0\" r=\"3\"/><text class=\"lab\" transform=\"translate(0 -11)\">19</text></g></g></g><g class=\"tree t9\" transform=\"translate(1787.27 0)\"><g class=\"plotbox\"><g class=\"c2 node n19 p0 root\" transform=\"translate(125.871 26.8)\"><g class=\"a19 c2 node n16 p0\" transform=\"translate(-37.4621 62.7955)\"><g class=\"a16 c2 node n9 p0\" transform=\"translate(-35.8333 19.5775)\"><g class=\"a9 i0 leaf node n0 p0 sample\" transform=\"translate(-19.5455 12.227)\"><path class=\"edge\" d=\"M 0 0 V -12.227 H 19.5455\"/><rect class=\"sym\" height=\"6\" width=\"6\" x=\"-3\" y=\"-3\"/><text class=\"lab\" transform=\"translate(0 11)\">0</text></g><g class=\"a9 c2 node n6 p0\" transform=\"translate(19.5455 6.67456)\"><g class=\"a6 i0 leaf node n1 p0 sample\" transform=\"translate(-13.0303 5.55239)\"><path class=\"edge\" d=\"M 0 0 V -5.55239 H 13.0303\"/><rect class=\"sym\" height=\"6\" width=\"6\" x=\"-3\" y=\"-3\"/><text class=\"lab\" transform=\"translate(0 11)\">1</text></g><g class=\"a6 i1 leaf node n3 p0 sample\" transform=\"translate(13.0303 5.55239)\"><path class=\"edge\" d=\"M 0 0 V -5.55239 H -13.0303\"/><rect class=\"sym\" height=\"6\" width=\"6\" x=\"-3\" y=\"-3\"/><text class=\"lab\" transform=\"translate(0 11)\">3</text></g><path class=\"edge\" d=\"M 0 0 V -6.67456 H -19.5455\"/><circle class=\"sym\" cx=\"0\" cy=\"0\" r=\"3\"/><text class=\"lab rgt\" transform=\"translate(3 -7.0)\">6</text></g><path class=\"edge\" d=\"M 0 0 V -19.5775 H 35.8333\"/><circle class=\"sym\" cx=\"0\" cy=\"0\" r=\"3\"/><text class=\"lab lft\" transform=\"translate(-3 -7.0)\">9</text></g><g class=\"a16 c2 node n13 p0\" transform=\"translate(35.8333 13.7461)\"><g class=\"a13 i2 leaf node n4 p0 sample\" transform=\"translate(-13.0303 18.0584)\"><path class=\"edge\" d=\"M 0 0 V -18.0584 H 13.0303\"/><rect class=\"sym\" height=\"6\" width=\"6\" x=\"-3\" y=\"-3\"/><text class=\"lab\" transform=\"translate(0 11)\">4</text></g><g class=\"a13 i2 leaf node n5 p0 sample\" transform=\"translate(13.0303 18.0584)\"><path class=\"edge\" d=\"M 0 0 V -18.0584 H -13.0303\"/><rect class=\"sym\" height=\"6\" width=\"6\" x=\"-3\" y=\"-3\"/><text class=\"lab\" transform=\"translate(0 11)\">5</text></g><path class=\"edge\" d=\"M 0 0 V -13.7461 H -35.8333\"/><circle class=\"sym\" cx=\"0\" cy=\"0\" r=\"3\"/><text class=\"lab rgt\" transform=\"translate(3 -7.0)\">13</text></g><path class=\"edge\" d=\"M 0 0 V -62.7955 H 37.4621\"/><circle class=\"sym\" cx=\"0\" cy=\"0\" r=\"3\"/><text class=\"lab lft\" transform=\"translate(-3 -7.0)\">16</text></g><g class=\"a19 i1 leaf node n2 p0 sample\" transform=\"translate(37.4621 94.6)\"><path class=\"edge\" d=\"M 0 0 V -94.6 H -37.4621\"/><rect class=\"sym\" height=\"6\" width=\"6\" x=\"-3\" y=\"-3\"/><text class=\"lab\" transform=\"translate(0 11)\">2</text></g><circle class=\"sym\" cx=\"0\" cy=\"0\" r=\"3\"/><text class=\"lab\" transform=\"translate(0 -11)\">19</text></g></g></g><g class=\"tree t10\" transform=\"translate(1983.64 0)\"><g class=\"plotbox\"><g class=\"c2 node n19 p0 root\" transform=\"translate(116.098 26.8)\"><g class=\"a19 c2 node n12 p0\" transform=\"translate(-34.2045 76.779)\"><g class=\"a12 i1 leaf node n2 p0 sample\" transform=\"translate(29.3182 17.821)\"><path class=\"edge\" d=\"M 0 0 V -17.821 H -29.3182\"/><rect class=\"sym\" height=\"6\" width=\"6\" x=\"-3\" y=\"-3\"/><text class=\"lab\" transform=\"translate(0 11)\">2</text></g><g class=\"a12 c2 node n9 p0\" transform=\"translate(-29.3182 5.59403)\"><g class=\"a9 i0 leaf node n0 p0 sample\" transform=\"translate(-19.5455 12.227)\"><path class=\"edge\" d=\"M 0 0 V -12.227 H 19.5455\"/><rect class=\"sym\" height=\"6\" width=\"6\" x=\"-3\" y=\"-3\"/><text class=\"lab\" transform=\"translate(0 11)\">0</text></g><g class=\"a9 c2 node n6 p0\" transform=\"translate(19.5455 6.67456)\"><g class=\"a6 i0 leaf node n1 p0 sample\" transform=\"translate(-13.0303 5.55239)\"><path class=\"edge\" d=\"M 0 0 V -5.55239 H 13.0303\"/><rect class=\"sym\" height=\"6\" width=\"6\" x=\"-3\" y=\"-3\"/><text class=\"lab\" transform=\"translate(0 11)\">1</text></g><g class=\"a6 i1 leaf node n3 p0 sample\" transform=\"translate(13.0303 5.55239)\"><path class=\"edge\" d=\"M 0 0 V -5.55239 H -13.0303\"/><rect class=\"sym\" height=\"6\" width=\"6\" x=\"-3\" y=\"-3\"/><text class=\"lab\" transform=\"translate(0 11)\">3</text></g><path class=\"edge\" d=\"M 0 0 V -6.67456 H -19.5455\"/><circle class=\"sym\" cx=\"0\" cy=\"0\" r=\"3\"/><text class=\"lab rgt\" transform=\"translate(3 -7.0)\">6</text></g><path class=\"edge\" d=\"M 0 0 V -5.59403 H 29.3182\"/><circle class=\"sym\" cx=\"0\" cy=\"0\" r=\"3\"/><text class=\"lab lft\" transform=\"translate(-3 -7.0)\">9</text></g><path class=\"edge\" d=\"M 0 0 V -76.779 H 34.2045\"/><circle class=\"sym\" cx=\"0\" cy=\"0\" r=\"3\"/><text class=\"lab lft\" transform=\"translate(-3 -7.0)\">12</text></g><g class=\"a19 c2 node n13 p0\" transform=\"translate(34.2045 76.5416)\"><g class=\"a13 i2 leaf node n4 p0 sample\" transform=\"translate(-13.0303 18.0584)\"><path class=\"edge\" d=\"M 0 0 V -18.0584 H 13.0303\"/><rect class=\"sym\" height=\"6\" width=\"6\" x=\"-3\" y=\"-3\"/><text class=\"lab\" transform=\"translate(0 11)\">4</text></g><g class=\"a13 i2 leaf node n5 p0 sample\" transform=\"translate(13.0303 18.0584)\"><path class=\"edge\" d=\"M 0 0 V -18.0584 H -13.0303\"/><rect class=\"sym\" height=\"6\" width=\"6\" x=\"-3\" y=\"-3\"/><text class=\"lab\" transform=\"translate(0 11)\">5</text></g><path class=\"edge\" d=\"M 0 0 V -76.5416 H -34.2045\"/><circle class=\"sym\" cx=\"0\" cy=\"0\" r=\"3\"/><text class=\"lab rgt\" transform=\"translate(3 -7.0)\">13</text></g><circle class=\"sym\" cx=\"0\" cy=\"0\" r=\"3\"/><text class=\"lab\" transform=\"translate(0 -11)\">19</text></g></g></g></g></g></svg>"
      ],
      "text/plain": [
       "<IPython.core.display.SVG object>"
      ]
     },
     "execution_count": 34,
     "metadata": {},
     "output_type": "execute_result"
    }
   ],
   "source": [
    "SVG(ts.draw_svg())"
   ]
  },
  {
   "cell_type": "markdown",
   "id": "9c3fabae",
   "metadata": {},
   "source": [
    "First, et's try to find out how many edges are extendable.\n",
    "To do this, we'll\n",
    "\n"
   ]
  },
  {
   "cell_type": "code",
   "execution_count": 57,
   "id": "eef9ae48",
   "metadata": {},
   "outputs": [
    {
     "name": "stdout",
     "output_type": "stream",
     "text": [
      "Interval(left=2614.0, right=14676.0) 0 - 7 - 9  ->  Edge(left=2614.0, right=100000.0, parent=9, child=0, metadata=b'', id=6)\n",
      "ping!!\n",
      "Interval(left=14676.0, right=18931.0) 0 - 7 - 9  ->  Edge(left=2614.0, right=100000.0, parent=9, child=0, metadata=b'', id=6)\n",
      "ping!!\n",
      "Interval(left=18931.0, right=20253.0) 13 - 14 - 16  ->  Edge(left=18931.0, right=20253.0, parent=16, child=13, metadata=b'', id=32)\n",
      "ping!!\n",
      "Interval(left=18931.0, right=20253.0) 0 - 7 - 9  ->  Edge(left=2614.0, right=100000.0, parent=9, child=0, metadata=b'', id=6)\n",
      "ping!!\n",
      "Interval(left=18931.0, right=20253.0) 0 - 7 - 9  ->  Edge(left=2614.0, right=100000.0, parent=9, child=0, metadata=b'', id=6)\n",
      "ping!!\n",
      "Interval(left=18931.0, right=20253.0) 0 - 7 - 9  ->  Edge(left=2614.0, right=100000.0, parent=9, child=0, metadata=b'', id=6)\n",
      "ping!!\n",
      "Interval(left=18931.0, right=20253.0) 0 - 7 - 9  ->  Edge(left=2614.0, right=100000.0, parent=9, child=0, metadata=b'', id=6)\n",
      "ping!!\n",
      "Interval(left=18931.0, right=20253.0) 0 - 7 - 9  ->  Edge(left=2614.0, right=100000.0, parent=9, child=0, metadata=b'', id=6)\n",
      "ping!!\n",
      "Interval(left=18931.0, right=20253.0) 0 - 7 - 9  ->  Edge(left=2614.0, right=100000.0, parent=9, child=0, metadata=b'', id=6)\n",
      "ping!!\n",
      "Interval(left=18931.0, right=20253.0) 0 - 7 - 9  ->  Edge(left=2614.0, right=100000.0, parent=9, child=0, metadata=b'', id=6)\n"
     ]
    },
    {
     "ename": "AssertionError",
     "evalue": "",
     "output_type": "error",
     "traceback": [
      "\u001b[0;31m---------------------------------------------------------------------------\u001b[0m",
      "\u001b[0;31mAssertionError\u001b[0m                            Traceback (most recent call last)",
      "Input \u001b[0;32mIn [57]\u001b[0m, in \u001b[0;36m<cell line: 18>\u001b[0;34m()\u001b[0m\n\u001b[1;32m     29\u001b[0m max_n \u001b[38;5;241m-\u001b[39m\u001b[38;5;241m=\u001b[39m \u001b[38;5;241m1\u001b[39m\n\u001b[1;32m     30\u001b[0m \u001b[38;5;28;01mif\u001b[39;00m max_n \u001b[38;5;241m<\u001b[39m\u001b[38;5;241m=\u001b[39m \u001b[38;5;241m0\u001b[39m:\n\u001b[0;32m---> 31\u001b[0m     \u001b[38;5;28;01massert\u001b[39;00m \u001b[38;5;28;01mFalse\u001b[39;00m\n\u001b[1;32m     32\u001b[0m \u001b[38;5;28mprint\u001b[39m(\u001b[38;5;124m\"\u001b[39m\u001b[38;5;124mping!!\u001b[39m\u001b[38;5;124m\"\u001b[39m)\n\u001b[1;32m     33\u001b[0m \u001b[38;5;66;03m# extend e1 and e2, postpone e_in\u001b[39;00m\n",
      "\u001b[0;31mAssertionError\u001b[0m: "
     ]
    }
   ],
   "source": [
    "edgediffs = ts.edge_diffs()\n",
    "trees1 = ts.trees()\n",
    "trees2 = ts.trees()\n",
    "_ = next(trees1)\n",
    "_ = next(edgediffs)\n",
    "\n",
    "\n",
    "t = ts.tables\n",
    "edges = t.edges\n",
    "new_left = edges.left\n",
    "new_right = edges.right\n",
    "pending_in = []\n",
    "pending_out = []\n",
    "\n",
    "max_n = 10\n",
    "\n",
    "# note we skip the first tree\n",
    "for last_tree, next_tree, (interval, edges_out, edges_in) in zip(trees2, trees1, edgediffs):\n",
    "    assert interval == next_tree.interval\n",
    "    for e1 in edges_out + pending_out:\n",
    "        # assert last_tree.parent(e1.child) == e1.parent\n",
    "        for e2 in edges_out + pending_out:\n",
    "            if e1.parent == e2.child:\n",
    "                for e_in in edges_in + pending_in:\n",
    "                    if e_in.right > interval.left:\n",
    "                        # assert next_tree.parent(e_in.child) == e_in.parent\n",
    "                        if e1.child == e_in.child and e2.parent == e_in.parent:\n",
    "                            print(interval, e1.child, \"-\", e1.parent, \"-\", e2.parent, \" -> \", e_in)\n",
    "                            max_n -= 1\n",
    "                            if max_n <= 0:\n",
    "                                assert False\n",
    "                            print(\"ping!!\")\n",
    "                            # extend e1 and e2, postpone e_in\n",
    "                            pending_out.extend([e1, e2])\n",
    "                            pending_in.append(e_in)\n",
    "                            new_right[e1.id] = interval.right\n",
    "                            new_right[e2.id] = interval.right\n",
    "                            new_left[e_in.id] = interval.right"
   ]
  },
  {
   "cell_type": "code",
   "execution_count": null,
   "id": "979e8f02",
   "metadata": {},
   "outputs": [],
   "source": [
    "keep = new_left < new_right\n",
    "edges.set_columns(\n",
    "    left=new_left[keep],\n",
    "    right=new_right[keep],\n",
    "    parent=edges.parent[keep],\n",
    "    child=edges.child[keep])\n",
    "new_ts = t.tree_sequence()\n",
    "SVG(new_ts.draw_svg())"
   ]
  },
  {
   "cell_type": "code",
   "execution_count": 18,
   "id": "fe0b323e",
   "metadata": {},
   "outputs": [
    {
     "data": {
      "text/plain": [
       "[Edge(left=71941.0, right=83435.0, parent=17, child=13, metadata=b'', id=29),\n",
       " Edge(left=71941.0, right=83435.0, parent=17, child=12, metadata=b'', id=28)]"
      ]
     },
     "execution_count": 18,
     "metadata": {},
     "output_type": "execute_result"
    }
   ],
   "source": [
    "edges_out"
   ]
  }
 ],
 "metadata": {
  "kernelspec": {
   "display_name": "Python 3 (ipykernel)",
   "language": "python",
   "name": "python3"
  },
  "language_info": {
   "codemirror_mode": {
    "name": "ipython",
    "version": 3
   },
   "file_extension": ".py",
   "mimetype": "text/x-python",
   "name": "python",
   "nbconvert_exporter": "python",
   "pygments_lexer": "ipython3",
   "version": "3.10.4"
  }
 },
 "nbformat": 4,
 "nbformat_minor": 5
}
