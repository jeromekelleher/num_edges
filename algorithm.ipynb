{
 "cells": [
  {
   "cell_type": "code",
   "execution_count": 1,
   "id": "e83bff08",
   "metadata": {},
   "outputs": [],
   "source": [
    "import msprime, tskit\n",
    "from IPython.display import SVG\n",
    "import numpy as np\n",
    "import matplotlib.pyplot as plt"
   ]
  },
  {
   "cell_type": "code",
   "execution_count": 2,
   "id": "ee2cefe8",
   "metadata": {},
   "outputs": [],
   "source": [
    "ts = msprime.sim_ancestry(3, population_size=1000, sequence_length=1e5, recombination_rate=1e-8, random_seed=40)"
   ]
  },
  {
   "cell_type": "code",
   "execution_count": 3,
   "id": "859453d0",
   "metadata": {},
   "outputs": [
    {
     "data": {
      "text/plain": [
       "10"
      ]
     },
     "execution_count": 3,
     "metadata": {},
     "output_type": "execute_result"
    }
   ],
   "source": [
    "ts.num_trees"
   ]
  },
  {
   "cell_type": "code",
   "execution_count": 4,
   "id": "6e4d3a7f",
   "metadata": {},
   "outputs": [
    {
     "data": {
      "image/svg+xml": [
       "<svg xmlns=\"http://www.w3.org/2000/svg\" xmlns:ev=\"http://www.w3.org/2001/xml-events\" xmlns:xlink=\"http://www.w3.org/1999/xlink\" baseProfile=\"full\" height=\"200\" version=\"1.1\" width=\"2000\"><defs><style type=\"text/css\"><![CDATA[.background path {fill: #808080; fill-opacity: 0}.background path:nth-child(odd) {fill-opacity: .1}.axes {font-size: 14px}.x-axis .tick .lab {font-weight: bold; dominant-baseline: hanging}.axes, .tree {font-size: 14px; text-anchor: middle}.axes line, .edge {stroke: black; fill: none}.y-axis .grid {stroke: #FAFAFA}.node > .sym {fill: black; stroke: none}.site > .sym {stroke: black}.mut text {fill: red; font-style: italic}.mut.extra text {fill: hotpink}.mut line {fill: none; stroke: none}.mut .sym {fill: none; stroke: red}.mut.extra .sym {stroke: hotpink}.node .mut .sym {stroke-width: 1.5px}.tree text, .tree-sequence text {dominant-baseline: central}.plotbox .lab.lft {text-anchor: end}.plotbox .lab.rgt {text-anchor: start}]]></style></defs><g class=\"tree-sequence\"><g class=\"background\"><path d=\"M20,0 l196,0 l0,138.2 l72.2064,25 l0,5 l-268.206,0 l0,-5 l0,-25 l0,-138.2z\"/><path d=\"M216,0 l196,0 l0,138.2 l59.1724,25 l0,5 l-182.966,0 l0,-5 l-72.2064,-25 l0,-138.2z\"/><path d=\"M412,0 l196,0 l0,138.2 l-96.9024,25 l0,5 l-39.9252,0 l0,-5 l-59.1724,-25 l0,-138.2z\"/><path d=\"M608,0 l196,0 l0,138.2 l-203.84,25 l0,5 l-89.0624,0 l0,-5 l96.9024,-25 l0,-138.2z\"/><path d=\"M804,0 l196,0 l0,138.2 l-328.888,25 l0,5 l-70.952,0 l0,-5 l203.84,-25 l0,-138.2z\"/><path d=\"M1000,0 l196,0 l0,138.2 l-113.19,25 l0,5 l-411.698,0 l0,-5 l328.888,-25 l0,-138.2z\"/><path d=\"M1196,0 l196,0 l0,138.2 l-205.643,25 l0,5 l-103.547,0 l0,-5 l113.19,-25 l0,-138.2z\"/><path d=\"M1392,0 l196,0 l0,138.2 l83.1236,25 l0,5 l-484.767,0 l0,-5 l205.643,-25 l0,-138.2z\"/><path d=\"M1588,0 l196,0 l0,138.2 l168.482,25 l0,5 l-281.358,0 l0,-5 l-83.1236,-25 l0,-138.2z\"/><path d=\"M1784,0 l196,0 l0,138.2 l0,25 l0,5 l-27.5184,0 l0,-5 l-168.482,-25 l0,-138.2z\"/></g><g class=\"axes\"><g class=\"x-axis\"><g transform=\"translate(1000 200)\"><text class=\"lab\" text-anchor=\"middle\" transform=\"translate(0 -11)\">Genome position</text></g><line x1=\"20\" x2=\"1980\" y1=\"163.2\" y2=\"163.2\"/><g class=\"ticks\"><g class=\"tick\" transform=\"translate(20 163.2)\"><line x1=\"0\" x2=\"0\" y1=\"0\" y2=\"5\"/><g transform=\"translate(0 6)\"><text class=\"lab\">0</text></g></g><g class=\"tick\" transform=\"translate(288.206 163.2)\"><line x1=\"0\" x2=\"0\" y1=\"0\" y2=\"5\"/><g transform=\"translate(0 6)\"><text class=\"lab\">13684</text></g></g><g class=\"tick\" transform=\"translate(471.172 163.2)\"><line x1=\"0\" x2=\"0\" y1=\"0\" y2=\"5\"/><g transform=\"translate(0 6)\"><text class=\"lab\">23019</text></g></g><g class=\"tick\" transform=\"translate(511.098 163.2)\"><line x1=\"0\" x2=\"0\" y1=\"0\" y2=\"5\"/><g transform=\"translate(0 6)\"><text class=\"lab\">25056</text></g></g><g class=\"tick\" transform=\"translate(600.16 163.2)\"><line x1=\"0\" x2=\"0\" y1=\"0\" y2=\"5\"/><g transform=\"translate(0 6)\"><text class=\"lab\">29600</text></g></g><g class=\"tick\" transform=\"translate(671.112 163.2)\"><line x1=\"0\" x2=\"0\" y1=\"0\" y2=\"5\"/><g transform=\"translate(0 6)\"><text class=\"lab\">33220</text></g></g><g class=\"tick\" transform=\"translate(1082.81 163.2)\"><line x1=\"0\" x2=\"0\" y1=\"0\" y2=\"5\"/><g transform=\"translate(0 6)\"><text class=\"lab\">54225</text></g></g><g class=\"tick\" transform=\"translate(1186.36 163.2)\"><line x1=\"0\" x2=\"0\" y1=\"0\" y2=\"5\"/><g transform=\"translate(0 6)\"><text class=\"lab\">59508</text></g></g><g class=\"tick\" transform=\"translate(1671.12 163.2)\"><line x1=\"0\" x2=\"0\" y1=\"0\" y2=\"5\"/><g transform=\"translate(0 6)\"><text class=\"lab\">84241</text></g></g><g class=\"tick\" transform=\"translate(1952.48 163.2)\"><line x1=\"0\" x2=\"0\" y1=\"0\" y2=\"5\"/><g transform=\"translate(0 6)\"><text class=\"lab\">98596</text></g></g><g class=\"tick\" transform=\"translate(1980 163.2)\"><line x1=\"0\" x2=\"0\" y1=\"0\" y2=\"5\"/><g transform=\"translate(0 6)\"><text class=\"lab\">100000</text></g></g></g></g></g><g class=\"plotbox trees\"><g class=\"tree t0\" transform=\"translate(20 0)\"><g class=\"plotbox\"><g class=\"c2 node n17 p0 root\" transform=\"translate(98 26.8)\"><g class=\"a17 c2 node n9 p0\" transform=\"translate(-45.5 73.1923)\"><g class=\"a9 i0 leaf node n0 p0 sample\" transform=\"translate(-19.5 21.4077)\"><path class=\"edge\" d=\"M 0 0 V -21.4077 H 19.5\"/><rect class=\"sym\" height=\"6\" width=\"6\" x=\"-3\" y=\"-3\"/><text class=\"lab\" transform=\"translate(0 11)\">0</text></g><g class=\"a9 c2 node n8 p0\" transform=\"translate(19.5 4.65726)\"><g class=\"a8 i0 leaf node n1 p0 sample\" transform=\"translate(-13 16.7505)\"><path class=\"edge\" d=\"M 0 0 V -16.7505 H 13\"/><rect class=\"sym\" height=\"6\" width=\"6\" x=\"-3\" y=\"-3\"/><text class=\"lab\" transform=\"translate(0 11)\">1</text></g><g class=\"a8 i1 leaf node n3 p0 sample\" transform=\"translate(13 16.7505)\"><path class=\"edge\" d=\"M 0 0 V -16.7505 H -13\"/><rect class=\"sym\" height=\"6\" width=\"6\" x=\"-3\" y=\"-3\"/><text class=\"lab\" transform=\"translate(0 11)\">3</text></g><path class=\"edge\" d=\"M 0 0 V -4.65726 H -19.5\"/><circle class=\"sym\" cx=\"0\" cy=\"0\" r=\"3\"/><text class=\"lab rgt\" transform=\"translate(3 -7.0)\">8</text></g><path class=\"edge\" d=\"M 0 0 V -73.1923 H 45.5\"/><circle class=\"sym\" cx=\"0\" cy=\"0\" r=\"3\"/><text class=\"lab lft\" transform=\"translate(-3 -7.0)\">9</text></g><g class=\"a17 c2 node n10 p0\" transform=\"translate(45.5 63.2856)\"><g class=\"a10 i2 leaf node n5 p0 sample\" transform=\"translate(19.5 31.3144)\"><path class=\"edge\" d=\"M 0 0 V -31.3144 H -19.5\"/><rect class=\"sym\" height=\"6\" width=\"6\" x=\"-3\" y=\"-3\"/><text class=\"lab\" transform=\"translate(0 11)\">5</text></g><g class=\"a10 c2 node n6 p0\" transform=\"translate(-19.5 26.4406)\"><g class=\"a6 i1 leaf node n2 p0 sample\" transform=\"translate(-13 4.87378)\"><path class=\"edge\" d=\"M 0 0 V -4.87378 H 13\"/><rect class=\"sym\" height=\"6\" width=\"6\" x=\"-3\" y=\"-3\"/><text class=\"lab\" transform=\"translate(0 11)\">2</text></g><g class=\"a6 i2 leaf node n4 p0 sample\" transform=\"translate(13 4.87378)\"><path class=\"edge\" d=\"M 0 0 V -4.87378 H -13\"/><rect class=\"sym\" height=\"6\" width=\"6\" x=\"-3\" y=\"-3\"/><text class=\"lab\" transform=\"translate(0 11)\">4</text></g><path class=\"edge\" d=\"M 0 0 V -26.4406 H 19.5\"/><circle class=\"sym\" cx=\"0\" cy=\"0\" r=\"3\"/><text class=\"lab lft\" transform=\"translate(-3 -7.0)\">6</text></g><path class=\"edge\" d=\"M 0 0 V -63.2856 H -45.5\"/><circle class=\"sym\" cx=\"0\" cy=\"0\" r=\"3\"/><text class=\"lab rgt\" transform=\"translate(3 -7.0)\">10</text></g><circle class=\"sym\" cx=\"0\" cy=\"0\" r=\"3\"/><text class=\"lab\" transform=\"translate(0 -11)\">17</text></g></g></g><g class=\"tree t1\" transform=\"translate(216 0)\"><g class=\"plotbox\"><g class=\"c2 node n17 p0 root\" transform=\"translate(80.125 26.8)\"><g class=\"a17 c2 node n9 p0\" transform=\"translate(-34.125 73.1923)\"><g class=\"a9 i0 leaf node n0 p0 sample\" transform=\"translate(-13 21.4077)\"><path class=\"edge\" d=\"M 0 0 V -21.4077 H 13\"/><rect class=\"sym\" height=\"6\" width=\"6\" x=\"-3\" y=\"-3\"/><text class=\"lab\" transform=\"translate(0 11)\">0</text></g><g class=\"a9 i1 leaf node n3 p0 sample\" transform=\"translate(13 21.4077)\"><path class=\"edge\" d=\"M 0 0 V -21.4077 H -13\"/><rect class=\"sym\" height=\"6\" width=\"6\" x=\"-3\" y=\"-3\"/><text class=\"lab\" transform=\"translate(0 11)\">3</text></g><path class=\"edge\" d=\"M 0 0 V -73.1923 H 34.125\"/><circle class=\"sym\" cx=\"0\" cy=\"0\" r=\"3\"/><text class=\"lab lft\" transform=\"translate(-3 -7.0)\">9</text></g><g class=\"a17 c2 node n11 p0\" transform=\"translate(34.125 61.7086)\"><g class=\"a11 i0 leaf node n1 p0 sample\" transform=\"translate(-29.25 32.8914)\"><path class=\"edge\" d=\"M 0 0 V -32.8914 H 29.25\"/><rect class=\"sym\" height=\"6\" width=\"6\" x=\"-3\" y=\"-3\"/><text class=\"lab\" transform=\"translate(0 11)\">1</text></g><g class=\"a11 c2 node n10 p0\" transform=\"translate(29.25 1.57699)\"><g class=\"a10 i2 leaf node n5 p0 sample\" transform=\"translate(19.5 31.3144)\"><path class=\"edge\" d=\"M 0 0 V -31.3144 H -19.5\"/><rect class=\"sym\" height=\"6\" width=\"6\" x=\"-3\" y=\"-3\"/><text class=\"lab\" transform=\"translate(0 11)\">5</text></g><g class=\"a10 c2 node n6 p0\" transform=\"translate(-19.5 26.4406)\"><g class=\"a6 i1 leaf node n2 p0 sample\" transform=\"translate(-13 4.87378)\"><path class=\"edge\" d=\"M 0 0 V -4.87378 H 13\"/><rect class=\"sym\" height=\"6\" width=\"6\" x=\"-3\" y=\"-3\"/><text class=\"lab\" transform=\"translate(0 11)\">2</text></g><g class=\"a6 i2 leaf node n4 p0 sample\" transform=\"translate(13 4.87378)\"><path class=\"edge\" d=\"M 0 0 V -4.87378 H -13\"/><rect class=\"sym\" height=\"6\" width=\"6\" x=\"-3\" y=\"-3\"/><text class=\"lab\" transform=\"translate(0 11)\">4</text></g><path class=\"edge\" d=\"M 0 0 V -26.4406 H 19.5\"/><circle class=\"sym\" cx=\"0\" cy=\"0\" r=\"3\"/><text class=\"lab lft\" transform=\"translate(-3 -7.0)\">6</text></g><path class=\"edge\" d=\"M 0 0 V -1.57699 H -29.25\"/><circle class=\"sym\" cx=\"0\" cy=\"0\" r=\"3\"/><text class=\"lab rgt\" transform=\"translate(3 -7.0)\">10</text></g><path class=\"edge\" d=\"M 0 0 V -61.7086 H -34.125\"/><circle class=\"sym\" cx=\"0\" cy=\"0\" r=\"3\"/><text class=\"lab rgt\" transform=\"translate(3 -7.0)\">11</text></g><circle class=\"sym\" cx=\"0\" cy=\"0\" r=\"3\"/><text class=\"lab\" transform=\"translate(0 -11)\">17</text></g></g></g><g class=\"tree t2\" transform=\"translate(412 0)\"><g class=\"plotbox\"><g class=\"c2 node n17 p0 root\" transform=\"translate(85 26.8)\"><g class=\"a17 c2 node n9 p0\" transform=\"translate(-39 73.1923)\"><g class=\"a9 i0 leaf node n0 p0 sample\" transform=\"translate(-13 21.4077)\"><path class=\"edge\" d=\"M 0 0 V -21.4077 H 13\"/><rect class=\"sym\" height=\"6\" width=\"6\" x=\"-3\" y=\"-3\"/><text class=\"lab\" transform=\"translate(0 11)\">0</text></g><g class=\"a9 i1 leaf node n3 p0 sample\" transform=\"translate(13 21.4077)\"><path class=\"edge\" d=\"M 0 0 V -21.4077 H -13\"/><rect class=\"sym\" height=\"6\" width=\"6\" x=\"-3\" y=\"-3\"/><text class=\"lab\" transform=\"translate(0 11)\">3</text></g><path class=\"edge\" d=\"M 0 0 V -73.1923 H 39\"/><circle class=\"sym\" cx=\"0\" cy=\"0\" r=\"3\"/><text class=\"lab lft\" transform=\"translate(-3 -7.0)\">9</text></g><g class=\"a17 c2 node n10 p0\" transform=\"translate(39 63.2856)\"><g class=\"a10 c2 node n6 p0\" transform=\"translate(26 26.4406)\"><g class=\"a6 i1 leaf node n2 p0 sample\" transform=\"translate(-13 4.87378)\"><path class=\"edge\" d=\"M 0 0 V -4.87378 H 13\"/><rect class=\"sym\" height=\"6\" width=\"6\" x=\"-3\" y=\"-3\"/><text class=\"lab\" transform=\"translate(0 11)\">2</text></g><g class=\"a6 i2 leaf node n4 p0 sample\" transform=\"translate(13 4.87378)\"><path class=\"edge\" d=\"M 0 0 V -4.87378 H -13\"/><rect class=\"sym\" height=\"6\" width=\"6\" x=\"-3\" y=\"-3\"/><text class=\"lab\" transform=\"translate(0 11)\">4</text></g><path class=\"edge\" d=\"M 0 0 V -26.4406 H -26\"/><circle class=\"sym\" cx=\"0\" cy=\"0\" r=\"3\"/><text class=\"lab rgt\" transform=\"translate(3 -7.0)\">6</text></g><g class=\"a10 c2 node n7 p0\" transform=\"translate(-26 25.8758)\"><g class=\"a7 i0 leaf node n1 p0 sample\" transform=\"translate(-13 5.4386)\"><path class=\"edge\" d=\"M 0 0 V -5.4386 H 13\"/><rect class=\"sym\" height=\"6\" width=\"6\" x=\"-3\" y=\"-3\"/><text class=\"lab\" transform=\"translate(0 11)\">1</text></g><g class=\"a7 i2 leaf node n5 p0 sample\" transform=\"translate(13 5.4386)\"><path class=\"edge\" d=\"M 0 0 V -5.4386 H -13\"/><rect class=\"sym\" height=\"6\" width=\"6\" x=\"-3\" y=\"-3\"/><text class=\"lab\" transform=\"translate(0 11)\">5</text></g><path class=\"edge\" d=\"M 0 0 V -25.8758 H 26\"/><circle class=\"sym\" cx=\"0\" cy=\"0\" r=\"3\"/><text class=\"lab lft\" transform=\"translate(-3 -7.0)\">7</text></g><path class=\"edge\" d=\"M 0 0 V -63.2856 H -39\"/><circle class=\"sym\" cx=\"0\" cy=\"0\" r=\"3\"/><text class=\"lab rgt\" transform=\"translate(3 -7.0)\">10</text></g><circle class=\"sym\" cx=\"0\" cy=\"0\" r=\"3\"/><text class=\"lab\" transform=\"translate(0 -11)\">17</text></g></g></g><g class=\"tree t3\" transform=\"translate(608 0)\"><g class=\"plotbox\"><g class=\"c2 node n17 p0 root\" transform=\"translate(85 26.8)\"><g class=\"a17 c2 node n9 p0\" transform=\"translate(-39 73.1923)\"><g class=\"a9 i0 leaf node n0 p0 sample\" transform=\"translate(-13 21.4077)\"><path class=\"edge\" d=\"M 0 0 V -21.4077 H 13\"/><rect class=\"sym\" height=\"6\" width=\"6\" x=\"-3\" y=\"-3\"/><text class=\"lab\" transform=\"translate(0 11)\">0</text></g><g class=\"a9 i1 leaf node n3 p0 sample\" transform=\"translate(13 21.4077)\"><path class=\"edge\" d=\"M 0 0 V -21.4077 H -13\"/><rect class=\"sym\" height=\"6\" width=\"6\" x=\"-3\" y=\"-3\"/><text class=\"lab\" transform=\"translate(0 11)\">3</text></g><path class=\"edge\" d=\"M 0 0 V -73.1923 H 39\"/><circle class=\"sym\" cx=\"0\" cy=\"0\" r=\"3\"/><text class=\"lab lft\" transform=\"translate(-3 -7.0)\">9</text></g><g class=\"a17 c2 node n11 p0\" transform=\"translate(39 61.7086)\"><g class=\"a11 c2 node n6 p0\" transform=\"translate(26 28.0176)\"><g class=\"a6 i1 leaf node n2 p0 sample\" transform=\"translate(-13 4.87378)\"><path class=\"edge\" d=\"M 0 0 V -4.87378 H 13\"/><rect class=\"sym\" height=\"6\" width=\"6\" x=\"-3\" y=\"-3\"/><text class=\"lab\" transform=\"translate(0 11)\">2</text></g><g class=\"a6 i2 leaf node n4 p0 sample\" transform=\"translate(13 4.87378)\"><path class=\"edge\" d=\"M 0 0 V -4.87378 H -13\"/><rect class=\"sym\" height=\"6\" width=\"6\" x=\"-3\" y=\"-3\"/><text class=\"lab\" transform=\"translate(0 11)\">4</text></g><path class=\"edge\" d=\"M 0 0 V -28.0176 H -26\"/><circle class=\"sym\" cx=\"0\" cy=\"0\" r=\"3\"/><text class=\"lab rgt\" transform=\"translate(3 -7.0)\">6</text></g><g class=\"a11 c2 node n7 p0\" transform=\"translate(-26 27.4528)\"><g class=\"a7 i0 leaf node n1 p0 sample\" transform=\"translate(-13 5.4386)\"><path class=\"edge\" d=\"M 0 0 V -5.4386 H 13\"/><rect class=\"sym\" height=\"6\" width=\"6\" x=\"-3\" y=\"-3\"/><text class=\"lab\" transform=\"translate(0 11)\">1</text></g><g class=\"a7 i2 leaf node n5 p0 sample\" transform=\"translate(13 5.4386)\"><path class=\"edge\" d=\"M 0 0 V -5.4386 H -13\"/><rect class=\"sym\" height=\"6\" width=\"6\" x=\"-3\" y=\"-3\"/><text class=\"lab\" transform=\"translate(0 11)\">5</text></g><path class=\"edge\" d=\"M 0 0 V -27.4528 H 26\"/><circle class=\"sym\" cx=\"0\" cy=\"0\" r=\"3\"/><text class=\"lab lft\" transform=\"translate(-3 -7.0)\">7</text></g><path class=\"edge\" d=\"M 0 0 V -61.7086 H -39\"/><circle class=\"sym\" cx=\"0\" cy=\"0\" r=\"3\"/><text class=\"lab rgt\" transform=\"translate(3 -7.0)\">11</text></g><circle class=\"sym\" cx=\"0\" cy=\"0\" r=\"3\"/><text class=\"lab\" transform=\"translate(0 -11)\">17</text></g></g></g><g class=\"tree t4\" transform=\"translate(804 0)\"><g class=\"plotbox\"><g class=\"c2 node n14 p0 root\" transform=\"translate(85 54.7901)\"><g class=\"a14 c2 node n9 p0\" transform=\"translate(-39 45.2022)\"><g class=\"a9 i0 leaf node n0 p0 sample\" transform=\"translate(-13 21.4077)\"><path class=\"edge\" d=\"M 0 0 V -21.4077 H 13\"/><rect class=\"sym\" height=\"6\" width=\"6\" x=\"-3\" y=\"-3\"/><text class=\"lab\" transform=\"translate(0 11)\">0</text></g><g class=\"a9 i1 leaf node n3 p0 sample\" transform=\"translate(13 21.4077)\"><path class=\"edge\" d=\"M 0 0 V -21.4077 H -13\"/><rect class=\"sym\" height=\"6\" width=\"6\" x=\"-3\" y=\"-3\"/><text class=\"lab\" transform=\"translate(0 11)\">3</text></g><path class=\"edge\" d=\"M 0 0 V -45.2022 H 39\"/><circle class=\"sym\" cx=\"0\" cy=\"0\" r=\"3\"/><text class=\"lab lft\" transform=\"translate(-3 -7.0)\">9</text></g><g class=\"a14 c2 node n11 p0\" transform=\"translate(39 33.7185)\"><g class=\"a11 c2 node n6 p0\" transform=\"translate(26 28.0176)\"><g class=\"a6 i1 leaf node n2 p0 sample\" transform=\"translate(-13 4.87378)\"><path class=\"edge\" d=\"M 0 0 V -4.87378 H 13\"/><rect class=\"sym\" height=\"6\" width=\"6\" x=\"-3\" y=\"-3\"/><text class=\"lab\" transform=\"translate(0 11)\">2</text></g><g class=\"a6 i2 leaf node n4 p0 sample\" transform=\"translate(13 4.87378)\"><path class=\"edge\" d=\"M 0 0 V -4.87378 H -13\"/><rect class=\"sym\" height=\"6\" width=\"6\" x=\"-3\" y=\"-3\"/><text class=\"lab\" transform=\"translate(0 11)\">4</text></g><path class=\"edge\" d=\"M 0 0 V -28.0176 H -26\"/><circle class=\"sym\" cx=\"0\" cy=\"0\" r=\"3\"/><text class=\"lab rgt\" transform=\"translate(3 -7.0)\">6</text></g><g class=\"a11 c2 node n7 p0\" transform=\"translate(-26 27.4528)\"><g class=\"a7 i0 leaf node n1 p0 sample\" transform=\"translate(-13 5.4386)\"><path class=\"edge\" d=\"M 0 0 V -5.4386 H 13\"/><rect class=\"sym\" height=\"6\" width=\"6\" x=\"-3\" y=\"-3\"/><text class=\"lab\" transform=\"translate(0 11)\">1</text></g><g class=\"a7 i2 leaf node n5 p0 sample\" transform=\"translate(13 5.4386)\"><path class=\"edge\" d=\"M 0 0 V -5.4386 H -13\"/><rect class=\"sym\" height=\"6\" width=\"6\" x=\"-3\" y=\"-3\"/><text class=\"lab\" transform=\"translate(0 11)\">5</text></g><path class=\"edge\" d=\"M 0 0 V -27.4528 H 26\"/><circle class=\"sym\" cx=\"0\" cy=\"0\" r=\"3\"/><text class=\"lab lft\" transform=\"translate(-3 -7.0)\">7</text></g><path class=\"edge\" d=\"M 0 0 V -33.7185 H -39\"/><circle class=\"sym\" cx=\"0\" cy=\"0\" r=\"3\"/><text class=\"lab rgt\" transform=\"translate(3 -7.0)\">11</text></g><circle class=\"sym\" cx=\"0\" cy=\"0\" r=\"3\"/><text class=\"lab\" transform=\"translate(0 -11)\">14</text></g></g></g><g class=\"tree t5\" transform=\"translate(1000 0)\"><g class=\"plotbox\"><g class=\"c2 node n17 p0 root\" transform=\"translate(119.125 26.8)\"><g class=\"a17 i2 leaf node n5 p0 sample\" transform=\"translate(43.875 94.6)\"><path class=\"edge\" d=\"M 0 0 V -94.6 H -43.875\"/><rect class=\"sym\" height=\"6\" width=\"6\" x=\"-3\" y=\"-3\"/><text class=\"lab\" transform=\"translate(0 11)\">5</text></g><g class=\"a17 c2 node n14 p0\" transform=\"translate(-43.875 27.9901)\"><g class=\"a14 c2 node n9 p0\" transform=\"translate(-29.25 45.2022)\"><g class=\"a9 i0 leaf node n0 p0 sample\" transform=\"translate(-13 21.4077)\"><path class=\"edge\" d=\"M 0 0 V -21.4077 H 13\"/><rect class=\"sym\" height=\"6\" width=\"6\" x=\"-3\" y=\"-3\"/><text class=\"lab\" transform=\"translate(0 11)\">0</text></g><g class=\"a9 i1 leaf node n3 p0 sample\" transform=\"translate(13 21.4077)\"><path class=\"edge\" d=\"M 0 0 V -21.4077 H -13\"/><rect class=\"sym\" height=\"6\" width=\"6\" x=\"-3\" y=\"-3\"/><text class=\"lab\" transform=\"translate(0 11)\">3</text></g><path class=\"edge\" d=\"M 0 0 V -45.2022 H 29.25\"/><circle class=\"sym\" cx=\"0\" cy=\"0\" r=\"3\"/><text class=\"lab lft\" transform=\"translate(-3 -7.0)\">9</text></g><g class=\"a14 c2 node n11 p0\" transform=\"translate(29.25 33.7185)\"><g class=\"a11 c2 node n6 p0\" transform=\"translate(19.5 28.0176)\"><g class=\"a6 i1 leaf node n2 p0 sample\" transform=\"translate(-13 4.87378)\"><path class=\"edge\" d=\"M 0 0 V -4.87378 H 13\"/><rect class=\"sym\" height=\"6\" width=\"6\" x=\"-3\" y=\"-3\"/><text class=\"lab\" transform=\"translate(0 11)\">2</text></g><g class=\"a6 i2 leaf node n4 p0 sample\" transform=\"translate(13 4.87378)\"><path class=\"edge\" d=\"M 0 0 V -4.87378 H -13\"/><rect class=\"sym\" height=\"6\" width=\"6\" x=\"-3\" y=\"-3\"/><text class=\"lab\" transform=\"translate(0 11)\">4</text></g><path class=\"edge\" d=\"M 0 0 V -28.0176 H -19.5\"/><circle class=\"sym\" cx=\"0\" cy=\"0\" r=\"3\"/><text class=\"lab rgt\" transform=\"translate(3 -7.0)\">6</text></g><g class=\"a11 i0 leaf node n1 p0 sample\" transform=\"translate(-19.5 32.8914)\"><path class=\"edge\" d=\"M 0 0 V -32.8914 H 19.5\"/><rect class=\"sym\" height=\"6\" width=\"6\" x=\"-3\" y=\"-3\"/><text class=\"lab\" transform=\"translate(0 11)\">1</text></g><path class=\"edge\" d=\"M 0 0 V -33.7185 H -29.25\"/><circle class=\"sym\" cx=\"0\" cy=\"0\" r=\"3\"/><text class=\"lab rgt\" transform=\"translate(3 -7.0)\">11</text></g><path class=\"edge\" d=\"M 0 0 V -27.9901 H 43.875\"/><circle class=\"sym\" cx=\"0\" cy=\"0\" r=\"3\"/><text class=\"lab lft\" transform=\"translate(-3 -7.0)\">14</text></g><circle class=\"sym\" cx=\"0\" cy=\"0\" r=\"3\"/><text class=\"lab\" transform=\"translate(0 -11)\">17</text></g></g></g><g class=\"tree t6\" transform=\"translate(1196 0)\"><g class=\"plotbox\"><g class=\"c2 node n17 p0 root\" transform=\"translate(89.875 26.8)\"><g class=\"a17 c2 node n14 p0\" transform=\"translate(43.875 27.9901)\"><g class=\"a14 c2 node n11 p0\" transform=\"translate(-29.25 33.7185)\"><g class=\"a11 c2 node n6 p0\" transform=\"translate(19.5 28.0176)\"><g class=\"a6 i1 leaf node n2 p0 sample\" transform=\"translate(-13 4.87378)\"><path class=\"edge\" d=\"M 0 0 V -4.87378 H 13\"/><rect class=\"sym\" height=\"6\" width=\"6\" x=\"-3\" y=\"-3\"/><text class=\"lab\" transform=\"translate(0 11)\">2</text></g><g class=\"a6 i2 leaf node n4 p0 sample\" transform=\"translate(13 4.87378)\"><path class=\"edge\" d=\"M 0 0 V -4.87378 H -13\"/><rect class=\"sym\" height=\"6\" width=\"6\" x=\"-3\" y=\"-3\"/><text class=\"lab\" transform=\"translate(0 11)\">4</text></g><path class=\"edge\" d=\"M 0 0 V -28.0176 H -19.5\"/><circle class=\"sym\" cx=\"0\" cy=\"0\" r=\"3\"/><text class=\"lab rgt\" transform=\"translate(3 -7.0)\">6</text></g><g class=\"a11 i0 leaf node n1 p0 sample\" transform=\"translate(-19.5 32.8914)\"><path class=\"edge\" d=\"M 0 0 V -32.8914 H 19.5\"/><rect class=\"sym\" height=\"6\" width=\"6\" x=\"-3\" y=\"-3\"/><text class=\"lab\" transform=\"translate(0 11)\">1</text></g><path class=\"edge\" d=\"M 0 0 V -33.7185 H 29.25\"/><circle class=\"sym\" cx=\"0\" cy=\"0\" r=\"3\"/><text class=\"lab lft\" transform=\"translate(-3 -7.0)\">11</text></g><g class=\"a14 i1 leaf node n3 p0 sample\" transform=\"translate(29.25 66.6099)\"><path class=\"edge\" d=\"M 0 0 V -66.6099 H -29.25\"/><rect class=\"sym\" height=\"6\" width=\"6\" x=\"-3\" y=\"-3\"/><text class=\"lab\" transform=\"translate(0 11)\">3</text></g><path class=\"edge\" d=\"M 0 0 V -27.9901 H -43.875\"/><circle class=\"sym\" cx=\"0\" cy=\"0\" r=\"3\"/><text class=\"lab rgt\" transform=\"translate(3 -7.0)\">14</text></g><g class=\"a17 c2 node n12 p0\" transform=\"translate(-43.875 48.522)\"><g class=\"a12 i0 leaf node n0 p0 sample\" transform=\"translate(-13 46.078)\"><path class=\"edge\" d=\"M 0 0 V -46.078 H 13\"/><rect class=\"sym\" height=\"6\" width=\"6\" x=\"-3\" y=\"-3\"/><text class=\"lab\" transform=\"translate(0 11)\">0</text></g><g class=\"a12 i2 leaf node n5 p0 sample\" transform=\"translate(13 46.078)\"><path class=\"edge\" d=\"M 0 0 V -46.078 H -13\"/><rect class=\"sym\" height=\"6\" width=\"6\" x=\"-3\" y=\"-3\"/><text class=\"lab\" transform=\"translate(0 11)\">5</text></g><path class=\"edge\" d=\"M 0 0 V -48.522 H 43.875\"/><circle class=\"sym\" cx=\"0\" cy=\"0\" r=\"3\"/><text class=\"lab lft\" transform=\"translate(-3 -7.0)\">12</text></g><circle class=\"sym\" cx=\"0\" cy=\"0\" r=\"3\"/><text class=\"lab\" transform=\"translate(0 -11)\">17</text></g></g></g><g class=\"tree t7\" transform=\"translate(1392 0)\"><g class=\"plotbox\"><g class=\"c2 node n17 p0 root\" transform=\"translate(89.875 26.8)\"><g class=\"a17 c2 node n12 p0\" transform=\"translate(-43.875 48.522)\"><g class=\"a12 i0 leaf node n0 p0 sample\" transform=\"translate(-13 46.078)\"><path class=\"edge\" d=\"M 0 0 V -46.078 H 13\"/><rect class=\"sym\" height=\"6\" width=\"6\" x=\"-3\" y=\"-3\"/><text class=\"lab\" transform=\"translate(0 11)\">0</text></g><g class=\"a12 i2 leaf node n5 p0 sample\" transform=\"translate(13 46.078)\"><path class=\"edge\" d=\"M 0 0 V -46.078 H -13\"/><rect class=\"sym\" height=\"6\" width=\"6\" x=\"-3\" y=\"-3\"/><text class=\"lab\" transform=\"translate(0 11)\">5</text></g><path class=\"edge\" d=\"M 0 0 V -48.522 H 43.875\"/><circle class=\"sym\" cx=\"0\" cy=\"0\" r=\"3\"/><text class=\"lab lft\" transform=\"translate(-3 -7.0)\">12</text></g><g class=\"a17 c2 node n13 p0\" transform=\"translate(43.875 31.4067)\"><g class=\"a13 i1 leaf node n3 p0 sample\" transform=\"translate(29.25 63.1933)\"><path class=\"edge\" d=\"M 0 0 V -63.1933 H -29.25\"/><rect class=\"sym\" height=\"6\" width=\"6\" x=\"-3\" y=\"-3\"/><text class=\"lab\" transform=\"translate(0 11)\">3</text></g><g class=\"a13 c2 node n11 p0\" transform=\"translate(-29.25 30.3019)\"><g class=\"a11 c2 node n6 p0\" transform=\"translate(19.5 28.0176)\"><g class=\"a6 i1 leaf node n2 p0 sample\" transform=\"translate(-13 4.87378)\"><path class=\"edge\" d=\"M 0 0 V -4.87378 H 13\"/><rect class=\"sym\" height=\"6\" width=\"6\" x=\"-3\" y=\"-3\"/><text class=\"lab\" transform=\"translate(0 11)\">2</text></g><g class=\"a6 i2 leaf node n4 p0 sample\" transform=\"translate(13 4.87378)\"><path class=\"edge\" d=\"M 0 0 V -4.87378 H -13\"/><rect class=\"sym\" height=\"6\" width=\"6\" x=\"-3\" y=\"-3\"/><text class=\"lab\" transform=\"translate(0 11)\">4</text></g><path class=\"edge\" d=\"M 0 0 V -28.0176 H -19.5\"/><circle class=\"sym\" cx=\"0\" cy=\"0\" r=\"3\"/><text class=\"lab rgt\" transform=\"translate(3 -7.0)\">6</text></g><g class=\"a11 i0 leaf node n1 p0 sample\" transform=\"translate(-19.5 32.8914)\"><path class=\"edge\" d=\"M 0 0 V -32.8914 H 19.5\"/><rect class=\"sym\" height=\"6\" width=\"6\" x=\"-3\" y=\"-3\"/><text class=\"lab\" transform=\"translate(0 11)\">1</text></g><path class=\"edge\" d=\"M 0 0 V -30.3019 H 29.25\"/><circle class=\"sym\" cx=\"0\" cy=\"0\" r=\"3\"/><text class=\"lab lft\" transform=\"translate(-3 -7.0)\">11</text></g><path class=\"edge\" d=\"M 0 0 V -31.4067 H -43.875\"/><circle class=\"sym\" cx=\"0\" cy=\"0\" r=\"3\"/><text class=\"lab rgt\" transform=\"translate(3 -7.0)\">13</text></g><circle class=\"sym\" cx=\"0\" cy=\"0\" r=\"3\"/><text class=\"lab\" transform=\"translate(0 -11)\">17</text></g></g></g><g class=\"tree t8\" transform=\"translate(1588 0)\"><g class=\"plotbox\"><g class=\"c2 node n15 p0 root\" transform=\"translate(89.875 43.8591)\"><g class=\"a15 c2 node n12 p0\" transform=\"translate(-43.875 31.463)\"><g class=\"a12 i0 leaf node n0 p0 sample\" transform=\"translate(-13 46.078)\"><path class=\"edge\" d=\"M 0 0 V -46.078 H 13\"/><rect class=\"sym\" height=\"6\" width=\"6\" x=\"-3\" y=\"-3\"/><text class=\"lab\" transform=\"translate(0 11)\">0</text></g><g class=\"a12 i2 leaf node n5 p0 sample\" transform=\"translate(13 46.078)\"><path class=\"edge\" d=\"M 0 0 V -46.078 H -13\"/><rect class=\"sym\" height=\"6\" width=\"6\" x=\"-3\" y=\"-3\"/><text class=\"lab\" transform=\"translate(0 11)\">5</text></g><path class=\"edge\" d=\"M 0 0 V -31.463 H 43.875\"/><circle class=\"sym\" cx=\"0\" cy=\"0\" r=\"3\"/><text class=\"lab lft\" transform=\"translate(-3 -7.0)\">12</text></g><g class=\"a15 c2 node n13 p0\" transform=\"translate(43.875 14.3477)\"><g class=\"a13 i1 leaf node n3 p0 sample\" transform=\"translate(29.25 63.1933)\"><path class=\"edge\" d=\"M 0 0 V -63.1933 H -29.25\"/><rect class=\"sym\" height=\"6\" width=\"6\" x=\"-3\" y=\"-3\"/><text class=\"lab\" transform=\"translate(0 11)\">3</text></g><g class=\"a13 c2 node n11 p0\" transform=\"translate(-29.25 30.3019)\"><g class=\"a11 c2 node n6 p0\" transform=\"translate(19.5 28.0176)\"><g class=\"a6 i1 leaf node n2 p0 sample\" transform=\"translate(-13 4.87378)\"><path class=\"edge\" d=\"M 0 0 V -4.87378 H 13\"/><rect class=\"sym\" height=\"6\" width=\"6\" x=\"-3\" y=\"-3\"/><text class=\"lab\" transform=\"translate(0 11)\">2</text></g><g class=\"a6 i2 leaf node n4 p0 sample\" transform=\"translate(13 4.87378)\"><path class=\"edge\" d=\"M 0 0 V -4.87378 H -13\"/><rect class=\"sym\" height=\"6\" width=\"6\" x=\"-3\" y=\"-3\"/><text class=\"lab\" transform=\"translate(0 11)\">4</text></g><path class=\"edge\" d=\"M 0 0 V -28.0176 H -19.5\"/><circle class=\"sym\" cx=\"0\" cy=\"0\" r=\"3\"/><text class=\"lab rgt\" transform=\"translate(3 -7.0)\">6</text></g><g class=\"a11 i0 leaf node n1 p0 sample\" transform=\"translate(-19.5 32.8914)\"><path class=\"edge\" d=\"M 0 0 V -32.8914 H 19.5\"/><rect class=\"sym\" height=\"6\" width=\"6\" x=\"-3\" y=\"-3\"/><text class=\"lab\" transform=\"translate(0 11)\">1</text></g><path class=\"edge\" d=\"M 0 0 V -30.3019 H 29.25\"/><circle class=\"sym\" cx=\"0\" cy=\"0\" r=\"3\"/><text class=\"lab lft\" transform=\"translate(-3 -7.0)\">11</text></g><path class=\"edge\" d=\"M 0 0 V -14.3477 H -43.875\"/><circle class=\"sym\" cx=\"0\" cy=\"0\" r=\"3\"/><text class=\"lab rgt\" transform=\"translate(3 -7.0)\">13</text></g><circle class=\"sym\" cx=\"0\" cy=\"0\" r=\"3\"/><text class=\"lab\" transform=\"translate(0 -11)\">15</text></g></g></g><g class=\"tree t9\" transform=\"translate(1784 0)\"><g class=\"plotbox\"><g class=\"c2 node n16 p0 root\" transform=\"translate(119.125 29.8767)\"><g class=\"a16 i1 leaf node n3 p0 sample\" transform=\"translate(43.875 91.5233)\"><path class=\"edge\" d=\"M 0 0 V -91.5233 H -43.875\"/><rect class=\"sym\" height=\"6\" width=\"6\" x=\"-3\" y=\"-3\"/><text class=\"lab\" transform=\"translate(0 11)\">3</text></g><g class=\"a16 c2 node n15 p0\" transform=\"translate(-43.875 13.9823)\"><g class=\"a15 c2 node n12 p0\" transform=\"translate(-29.25 31.463)\"><g class=\"a12 i0 leaf node n0 p0 sample\" transform=\"translate(-13 46.078)\"><path class=\"edge\" d=\"M 0 0 V -46.078 H 13\"/><rect class=\"sym\" height=\"6\" width=\"6\" x=\"-3\" y=\"-3\"/><text class=\"lab\" transform=\"translate(0 11)\">0</text></g><g class=\"a12 i2 leaf node n5 p0 sample\" transform=\"translate(13 46.078)\"><path class=\"edge\" d=\"M 0 0 V -46.078 H -13\"/><rect class=\"sym\" height=\"6\" width=\"6\" x=\"-3\" y=\"-3\"/><text class=\"lab\" transform=\"translate(0 11)\">5</text></g><path class=\"edge\" d=\"M 0 0 V -31.463 H 29.25\"/><circle class=\"sym\" cx=\"0\" cy=\"0\" r=\"3\"/><text class=\"lab lft\" transform=\"translate(-3 -7.0)\">12</text></g><g class=\"a15 c2 node n11 p0\" transform=\"translate(29.25 44.6495)\"><g class=\"a11 c2 node n6 p0\" transform=\"translate(19.5 28.0176)\"><g class=\"a6 i1 leaf node n2 p0 sample\" transform=\"translate(-13 4.87378)\"><path class=\"edge\" d=\"M 0 0 V -4.87378 H 13\"/><rect class=\"sym\" height=\"6\" width=\"6\" x=\"-3\" y=\"-3\"/><text class=\"lab\" transform=\"translate(0 11)\">2</text></g><g class=\"a6 i2 leaf node n4 p0 sample\" transform=\"translate(13 4.87378)\"><path class=\"edge\" d=\"M 0 0 V -4.87378 H -13\"/><rect class=\"sym\" height=\"6\" width=\"6\" x=\"-3\" y=\"-3\"/><text class=\"lab\" transform=\"translate(0 11)\">4</text></g><path class=\"edge\" d=\"M 0 0 V -28.0176 H -19.5\"/><circle class=\"sym\" cx=\"0\" cy=\"0\" r=\"3\"/><text class=\"lab rgt\" transform=\"translate(3 -7.0)\">6</text></g><g class=\"a11 i0 leaf node n1 p0 sample\" transform=\"translate(-19.5 32.8914)\"><path class=\"edge\" d=\"M 0 0 V -32.8914 H 19.5\"/><rect class=\"sym\" height=\"6\" width=\"6\" x=\"-3\" y=\"-3\"/><text class=\"lab\" transform=\"translate(0 11)\">1</text></g><path class=\"edge\" d=\"M 0 0 V -44.6495 H -29.25\"/><circle class=\"sym\" cx=\"0\" cy=\"0\" r=\"3\"/><text class=\"lab rgt\" transform=\"translate(3 -7.0)\">11</text></g><path class=\"edge\" d=\"M 0 0 V -13.9823 H 43.875\"/><circle class=\"sym\" cx=\"0\" cy=\"0\" r=\"3\"/><text class=\"lab lft\" transform=\"translate(-3 -7.0)\">15</text></g><circle class=\"sym\" cx=\"0\" cy=\"0\" r=\"3\"/><text class=\"lab\" transform=\"translate(0 -11)\">16</text></g></g></g></g></g></svg>"
      ],
      "text/plain": [
       "<IPython.core.display.SVG object>"
      ]
     },
     "execution_count": 4,
     "metadata": {},
     "output_type": "execute_result"
    }
   ],
   "source": [
    "SVG(ts.draw_svg())"
   ]
  },
  {
   "cell_type": "code",
   "execution_count": 52,
   "id": "eef9ae48",
   "metadata": {},
   "outputs": [],
   "source": [
    "# from https://github.com/tskit-dev/tskit/issues/2118\n",
    "\n",
    "def mirror_coordinates(ts):\n",
    "    \"\"\"\n",
    "    Returns a copy of the specified tables in which all\n",
    "    coordinates x are transformed into L - x.\n",
    "    \"\"\"\n",
    "    L = ts.sequence_length\n",
    "    tables = ts.dump_tables()\n",
    "    left = tables.edges.left\n",
    "    right = tables.edges.right\n",
    "    tables.edges.left = L - right\n",
    "    tables.edges.right = L - left\n",
    "    tables.sites.position = L - tables.sites.position - 1\n",
    "    tables.sort()\n",
    "    return tables.tree_sequence()\n",
    "\n",
    "def forward_extend(ts, verbose=False):\n",
    "    edgediffs = ts.edge_diffs()\n",
    "    trees1 = ts.trees()\n",
    "    trees2 = ts.trees()\n",
    "    _ = next(trees1)\n",
    "    _ = next(edgediffs)\n",
    "\n",
    "\n",
    "    t = ts.tables\n",
    "    edges = t.edges\n",
    "    new_left = edges.left\n",
    "    new_right = edges.right\n",
    "\n",
    "    pending_out = []\n",
    "    pending_in = []\n",
    "    # note we skip the first tree\n",
    "    for (interval, edges_out, edges_in) in edgediffs:\n",
    "        edges_out.extend(pending_out)\n",
    "        edges_in.extend(pending_in)\n",
    "        pending_out = []\n",
    "        pending_in = []\n",
    "        extended = [False for _ in edges_out]\n",
    "        for j1, e1 in enumerate(edges_out):\n",
    "            if not extended[j1]:\n",
    "                for j2, e2 in enumerate(edges_out):\n",
    "                    if not extended[j2]:\n",
    "                        if e1.parent == e2.child:\n",
    "                            for e_in in edges_in:\n",
    "                                if e_in.right > interval.left:\n",
    "                                    # assert next_tree.parent(e_in.child) == e_in.parent\n",
    "                                    if e1.child == e_in.child and e2.parent == e_in.parent:\n",
    "                                        # print(\"     \", interval, e1.child, \"-\", e1.parent, \"-\", e2.parent, \" -> \", e_in)\n",
    "                                        if verbose:\n",
    "                                            print(\"ping!!\", e1.id, \"+\", e2.id, \"=\", e_in.id)\n",
    "                                        # extend e1 and e2, postpone e_in\n",
    "                                        extended[j1] = True\n",
    "                                        extended[j2] = True\n",
    "                                        pending_out.extend([e1, e2])\n",
    "                                        pending_in.append(e_in)\n",
    "                                        new_right[e1.id] = interval.right\n",
    "                                        new_right[e2.id] = interval.right\n",
    "                                        new_left[e_in.id] = interval.right\n",
    "                                        # TODO fix up this terrible flow control \n",
    "                                        # to make sure that the same edges aren't extended more than once\n",
    "    keep = new_left < new_right\n",
    "    edges.set_columns(\n",
    "        left=new_left[keep],\n",
    "        right=new_right[keep],\n",
    "        parent=edges.parent[keep],\n",
    "        child=edges.child[keep])\n",
    "    return t.tree_sequence()\n",
    "    \n",
    "def extend_edges(ts, max_iter=100, verbose=False):\n",
    "    num_edges = [ts.num_edges]\n",
    "    for _ in range(max_iter):\n",
    "        ts = forward_extend(ts, verbose=verbose)\n",
    "        ts = mirror_coordinates(ts)\n",
    "        ts = forward_extend(ts, verbose=verbose)\n",
    "        ts = mirror_coordinates(ts)\n",
    "        if ts.num_edges == num_edges[-1]:\n",
    "            break\n",
    "        else:\n",
    "            num_edges.append(ts.num_edges)\n",
    "    return ts, num_edges"
   ]
  },
  {
   "cell_type": "code",
   "execution_count": 45,
   "id": "979e8f02",
   "metadata": {},
   "outputs": [
    {
     "name": "stdout",
     "output_type": "stream",
     "text": [
      "ping!! 8 + 14 = 11\n",
      "ping!! 6 + 12 = 10\n",
      "ping!! 9 + 13 = 11\n",
      "ping!! 6 + 12 = 10\n",
      "[23, 20]\n"
     ]
    },
    {
     "data": {
      "image/svg+xml": [
       "<svg xmlns=\"http://www.w3.org/2000/svg\" xmlns:ev=\"http://www.w3.org/2001/xml-events\" xmlns:xlink=\"http://www.w3.org/1999/xlink\" baseProfile=\"full\" height=\"200\" version=\"1.1\" width=\"1200\"><defs><style type=\"text/css\"><![CDATA[.background path {fill: #808080; fill-opacity: 0}.background path:nth-child(odd) {fill-opacity: .1}.axes {font-size: 14px}.x-axis .tick .lab {font-weight: bold; dominant-baseline: hanging}.axes, .tree {font-size: 14px; text-anchor: middle}.axes line, .edge {stroke: black; fill: none}.y-axis .grid {stroke: #FAFAFA}.node > .sym {fill: black; stroke: none}.site > .sym {stroke: black}.mut text {fill: red; font-style: italic}.mut.extra text {fill: hotpink}.mut line {fill: none; stroke: none}.mut .sym {fill: none; stroke: red}.mut.extra .sym {stroke: hotpink}.node .mut .sym {stroke-width: 1.5px}.tree text, .tree-sequence text {dominant-baseline: central}.plotbox .lab.lft {text-anchor: end}.plotbox .lab.rgt {text-anchor: start}]]></style></defs><g class=\"tree-sequence\"><g class=\"background\"><path d=\"M20,0 l193.333,0 l0,138.2 l-30.8289,25 l0,5 l-162.504,0 l0,-5 l0,-25 l0,-138.2z\"/><path d=\"M213.333,0 l193.333,0 l0,138.2 l199.783,25 l0,5 l-423.945,0 l0,-5 l30.8289,-25 l0,-138.2z\"/><path d=\"M406.667,0 l193.333,0 l0,138.2 l18.1656,25 l0,5 l-11.716,0 l0,-5 l-199.783,-25 l0,-138.2z\"/><path d=\"M600,0 l193.333,0 l0,138.2 l66.3327,25 l0,5 l-241.5,0 l0,-5 l-18.1656,-25 l0,-138.2z\"/><path d=\"M793.333,0 l193.333,0 l0,138.2 l73.2733,25 l0,5 l-200.274,0 l0,-5 l-66.3327,-25 l0,-138.2z\"/><path d=\"M986.667,0 l193.333,0 l0,138.2 l0,25 l0,5 l-120.06,0 l0,-5 l-73.2733,-25 l0,-138.2z\"/></g><g class=\"axes\"><g class=\"x-axis\"><g transform=\"translate(600 200)\"><text class=\"lab\" text-anchor=\"middle\" transform=\"translate(0 -11)\">Genome position</text></g><line x1=\"20\" x2=\"1180\" y1=\"163.2\" y2=\"163.2\"/><g class=\"ticks\"><g class=\"tick\" transform=\"translate(20 163.2)\"><line x1=\"0\" x2=\"0\" y1=\"0\" y2=\"5\"/><g transform=\"translate(0 6)\"><text class=\"lab\">0</text></g></g><g class=\"tick\" transform=\"translate(182.504 163.2)\"><line x1=\"0\" x2=\"0\" y1=\"0\" y2=\"5\"/><g transform=\"translate(0 6)\"><text class=\"lab\">14009</text></g></g><g class=\"tick\" transform=\"translate(606.45 163.2)\"><line x1=\"0\" x2=\"0\" y1=\"0\" y2=\"5\"/><g transform=\"translate(0 6)\"><text class=\"lab\">50556</text></g></g><g class=\"tick\" transform=\"translate(618.166 163.2)\"><line x1=\"0\" x2=\"0\" y1=\"0\" y2=\"5\"/><g transform=\"translate(0 6)\"><text class=\"lab\">51566</text></g></g><g class=\"tick\" transform=\"translate(859.666 163.2)\"><line x1=\"0\" x2=\"0\" y1=\"0\" y2=\"5\"/><g transform=\"translate(0 6)\"><text class=\"lab\">72385</text></g></g><g class=\"tick\" transform=\"translate(1059.94 163.2)\"><line x1=\"0\" x2=\"0\" y1=\"0\" y2=\"5\"/><g transform=\"translate(0 6)\"><text class=\"lab\">89650</text></g></g><g class=\"tick\" transform=\"translate(1180 163.2)\"><line x1=\"0\" x2=\"0\" y1=\"0\" y2=\"5\"/><g transform=\"translate(0 6)\"><text class=\"lab\">100000</text></g></g></g></g></g><g class=\"plotbox trees\"><g class=\"tree t0\" transform=\"translate(20 0)\"><g class=\"plotbox\"><g class=\"c2 node n12 p0 root\" transform=\"translate(135.799 49.9362)\"><g class=\"a12 i2 leaf node n5 p0 sample\" transform=\"translate(24.7569 71.4638)\"><path class=\"edge\" d=\"M 0 0 V -71.4638 H -24.7569\"/><rect class=\"sym\" height=\"6\" width=\"6\" x=\"-3\" y=\"-3\"/><text class=\"lab\" transform=\"translate(0 11)\">5</text></g><g class=\"a12 c2 node n11 p0\" transform=\"translate(-24.7569 1.41982)\"><g class=\"a11 c1 node n9 p0\" transform=\"translate(23.9583 26.5917)\"><g class=\"a9 i2 leaf node n4 p0 sample\" transform=\"translate(0.0 43.4522)\"><path class=\"edge\" d=\"M 0 0 V -43.4522 H 0.0\"/><rect class=\"sym\" height=\"6\" width=\"6\" x=\"-3\" y=\"-3\"/><text class=\"lab\" transform=\"translate(0 11)\">4</text></g><path class=\"edge\" d=\"M 0 0 V -26.5917 H -23.9583\"/><circle class=\"sym\" cx=\"0\" cy=\"0\" r=\"3\"/><text class=\"lab rgt\" transform=\"translate(3 -7.0)\">9</text></g><g class=\"a11 c1 node n10 p0\" transform=\"translate(-23.9583 9.76662)\"><g class=\"a10 c2 node n8 p0\" transform=\"translate(0.0 39.0623)\"><g class=\"a8 i0 leaf node n1 p0 sample\" transform=\"translate(22.3611 21.215)\"><path class=\"edge\" d=\"M 0 0 V -21.215 H -22.3611\"/><rect class=\"sym\" height=\"6\" width=\"6\" x=\"-3\" y=\"-3\"/><text class=\"lab\" transform=\"translate(0 11)\">1</text></g><g class=\"a8 c2 node n7 p0\" transform=\"translate(-22.3611 2.99367)\"><g class=\"a7 i1 leaf node n2 p0 sample\" transform=\"translate(19.1667 18.2214)\"><path class=\"edge\" d=\"M 0 0 V -18.2214 H -19.1667\"/><rect class=\"sym\" height=\"6\" width=\"6\" x=\"-3\" y=\"-3\"/><text class=\"lab\" transform=\"translate(0 11)\">2</text></g><g class=\"a7 c2 node n6 p0\" transform=\"translate(-19.1667 11.0747)\"><g class=\"a6 i0 leaf node n0 p0 sample\" transform=\"translate(-12.7778 7.14668)\"><path class=\"edge\" d=\"M 0 0 V -7.14668 H 12.7778\"/><rect class=\"sym\" height=\"6\" width=\"6\" x=\"-3\" y=\"-3\"/><text class=\"lab\" transform=\"translate(0 11)\">0</text></g><g class=\"a6 i1 leaf node n3 p0 sample\" transform=\"translate(12.7778 7.14668)\"><path class=\"edge\" d=\"M 0 0 V -7.14668 H -12.7778\"/><rect class=\"sym\" height=\"6\" width=\"6\" x=\"-3\" y=\"-3\"/><text class=\"lab\" transform=\"translate(0 11)\">3</text></g><path class=\"edge\" d=\"M 0 0 V -11.0747 H 19.1667\"/><circle class=\"sym\" cx=\"0\" cy=\"0\" r=\"3\"/><text class=\"lab lft\" transform=\"translate(-3 -7.0)\">6</text></g><path class=\"edge\" d=\"M 0 0 V -2.99367 H 22.3611\"/><circle class=\"sym\" cx=\"0\" cy=\"0\" r=\"3\"/><text class=\"lab lft\" transform=\"translate(-3 -7.0)\">7</text></g><path class=\"edge\" d=\"M 0 0 V -39.0623 H 0.0\"/><circle class=\"sym\" cx=\"0\" cy=\"0\" r=\"3\"/><text class=\"lab lft\" transform=\"translate(-3 -7.0)\">8</text></g><path class=\"edge\" d=\"M 0 0 V -9.76662 H 23.9583\"/><circle class=\"sym\" cx=\"0\" cy=\"0\" r=\"3\"/><text class=\"lab lft\" transform=\"translate(-3 -7.0)\">10</text></g><path class=\"edge\" d=\"M 0 0 V -1.41982 H 24.7569\"/><circle class=\"sym\" cx=\"0\" cy=\"0\" r=\"3\"/><text class=\"lab lft\" transform=\"translate(-3 -7.0)\">11</text></g><circle class=\"sym\" cx=\"0\" cy=\"0\" r=\"3\"/><text class=\"lab\" transform=\"translate(0 -11)\">12</text></g></g></g><g class=\"tree t1\" transform=\"translate(213.333 0)\"><g class=\"plotbox\"><g class=\"c2 node n11 p0 root\" transform=\"translate(135.799 51.356)\"><g class=\"a11 c1 node n9 p0\" transform=\"translate(24.7569 26.5917)\"><g class=\"a9 i2 leaf node n4 p0 sample\" transform=\"translate(0.0 43.4522)\"><path class=\"edge\" d=\"M 0 0 V -43.4522 H 0.0\"/><rect class=\"sym\" height=\"6\" width=\"6\" x=\"-3\" y=\"-3\"/><text class=\"lab\" transform=\"translate(0 11)\">4</text></g><path class=\"edge\" d=\"M 0 0 V -26.5917 H -24.7569\"/><circle class=\"sym\" cx=\"0\" cy=\"0\" r=\"3\"/><text class=\"lab rgt\" transform=\"translate(3 -7.0)\">9</text></g><g class=\"a11 c2 node n10 p0\" transform=\"translate(-24.7569 9.76662)\"><g class=\"a10 c2 node n8 p0\" transform=\"translate(-23.9583 39.0623)\"><g class=\"a8 i0 leaf node n1 p0 sample\" transform=\"translate(22.3611 21.215)\"><path class=\"edge\" d=\"M 0 0 V -21.215 H -22.3611\"/><rect class=\"sym\" height=\"6\" width=\"6\" x=\"-3\" y=\"-3\"/><text class=\"lab\" transform=\"translate(0 11)\">1</text></g><g class=\"a8 c2 node n7 p0\" transform=\"translate(-22.3611 2.99367)\"><g class=\"a7 i1 leaf node n2 p0 sample\" transform=\"translate(19.1667 18.2214)\"><path class=\"edge\" d=\"M 0 0 V -18.2214 H -19.1667\"/><rect class=\"sym\" height=\"6\" width=\"6\" x=\"-3\" y=\"-3\"/><text class=\"lab\" transform=\"translate(0 11)\">2</text></g><g class=\"a7 c2 node n6 p0\" transform=\"translate(-19.1667 11.0747)\"><g class=\"a6 i0 leaf node n0 p0 sample\" transform=\"translate(-12.7778 7.14668)\"><path class=\"edge\" d=\"M 0 0 V -7.14668 H 12.7778\"/><rect class=\"sym\" height=\"6\" width=\"6\" x=\"-3\" y=\"-3\"/><text class=\"lab\" transform=\"translate(0 11)\">0</text></g><g class=\"a6 i1 leaf node n3 p0 sample\" transform=\"translate(12.7778 7.14668)\"><path class=\"edge\" d=\"M 0 0 V -7.14668 H -12.7778\"/><rect class=\"sym\" height=\"6\" width=\"6\" x=\"-3\" y=\"-3\"/><text class=\"lab\" transform=\"translate(0 11)\">3</text></g><path class=\"edge\" d=\"M 0 0 V -11.0747 H 19.1667\"/><circle class=\"sym\" cx=\"0\" cy=\"0\" r=\"3\"/><text class=\"lab lft\" transform=\"translate(-3 -7.0)\">6</text></g><path class=\"edge\" d=\"M 0 0 V -2.99367 H 22.3611\"/><circle class=\"sym\" cx=\"0\" cy=\"0\" r=\"3\"/><text class=\"lab lft\" transform=\"translate(-3 -7.0)\">7</text></g><path class=\"edge\" d=\"M 0 0 V -39.0623 H 23.9583\"/><circle class=\"sym\" cx=\"0\" cy=\"0\" r=\"3\"/><text class=\"lab lft\" transform=\"translate(-3 -7.0)\">8</text></g><g class=\"a10 i2 leaf node n5 p0 sample\" transform=\"translate(23.9583 60.2773)\"><path class=\"edge\" d=\"M 0 0 V -60.2773 H -23.9583\"/><rect class=\"sym\" height=\"6\" width=\"6\" x=\"-3\" y=\"-3\"/><text class=\"lab\" transform=\"translate(0 11)\">5</text></g><path class=\"edge\" d=\"M 0 0 V -9.76662 H 24.7569\"/><circle class=\"sym\" cx=\"0\" cy=\"0\" r=\"3\"/><text class=\"lab lft\" transform=\"translate(-3 -7.0)\">10</text></g><circle class=\"sym\" cx=\"0\" cy=\"0\" r=\"3\"/><text class=\"lab\" transform=\"translate(0 -11)\">11</text></g></g></g><g class=\"tree t2\" transform=\"translate(406.667 0)\"><g class=\"plotbox\"><g class=\"c2 node n11 p0 root\" transform=\"translate(135.799 51.356)\"><g class=\"a11 c2 node n9 p0\" transform=\"translate(-24.7569 26.5917)\"><g class=\"a9 i2 leaf node n4 p0 sample\" transform=\"translate(23.9583 43.4522)\"><path class=\"edge\" d=\"M 0 0 V -43.4522 H -23.9583\"/><rect class=\"sym\" height=\"6\" width=\"6\" x=\"-3\" y=\"-3\"/><text class=\"lab\" transform=\"translate(0 11)\">4</text></g><g class=\"a9 c2 node n8 p0\" transform=\"translate(-23.9583 22.2372)\"><g class=\"a8 i0 leaf node n1 p0 sample\" transform=\"translate(22.3611 21.215)\"><path class=\"edge\" d=\"M 0 0 V -21.215 H -22.3611\"/><rect class=\"sym\" height=\"6\" width=\"6\" x=\"-3\" y=\"-3\"/><text class=\"lab\" transform=\"translate(0 11)\">1</text></g><g class=\"a8 c2 node n7 p0\" transform=\"translate(-22.3611 2.99367)\"><g class=\"a7 i1 leaf node n2 p0 sample\" transform=\"translate(19.1667 18.2214)\"><path class=\"edge\" d=\"M 0 0 V -18.2214 H -19.1667\"/><rect class=\"sym\" height=\"6\" width=\"6\" x=\"-3\" y=\"-3\"/><text class=\"lab\" transform=\"translate(0 11)\">2</text></g><g class=\"a7 c2 node n6 p0\" transform=\"translate(-19.1667 11.0747)\"><g class=\"a6 i0 leaf node n0 p0 sample\" transform=\"translate(-12.7778 7.14668)\"><path class=\"edge\" d=\"M 0 0 V -7.14668 H 12.7778\"/><rect class=\"sym\" height=\"6\" width=\"6\" x=\"-3\" y=\"-3\"/><text class=\"lab\" transform=\"translate(0 11)\">0</text></g><g class=\"a6 i1 leaf node n3 p0 sample\" transform=\"translate(12.7778 7.14668)\"><path class=\"edge\" d=\"M 0 0 V -7.14668 H -12.7778\"/><rect class=\"sym\" height=\"6\" width=\"6\" x=\"-3\" y=\"-3\"/><text class=\"lab\" transform=\"translate(0 11)\">3</text></g><path class=\"edge\" d=\"M 0 0 V -11.0747 H 19.1667\"/><circle class=\"sym\" cx=\"0\" cy=\"0\" r=\"3\"/><text class=\"lab lft\" transform=\"translate(-3 -7.0)\">6</text></g><path class=\"edge\" d=\"M 0 0 V -2.99367 H 22.3611\"/><circle class=\"sym\" cx=\"0\" cy=\"0\" r=\"3\"/><text class=\"lab lft\" transform=\"translate(-3 -7.0)\">7</text></g><path class=\"edge\" d=\"M 0 0 V -22.2372 H 23.9583\"/><circle class=\"sym\" cx=\"0\" cy=\"0\" r=\"3\"/><text class=\"lab lft\" transform=\"translate(-3 -7.0)\">8</text></g><path class=\"edge\" d=\"M 0 0 V -26.5917 H 24.7569\"/><circle class=\"sym\" cx=\"0\" cy=\"0\" r=\"3\"/><text class=\"lab lft\" transform=\"translate(-3 -7.0)\">9</text></g><g class=\"a11 c1 node n10 p0\" transform=\"translate(24.7569 9.76662)\"><g class=\"a10 i2 leaf node n5 p0 sample\" transform=\"translate(0.0 60.2773)\"><path class=\"edge\" d=\"M 0 0 V -60.2773 H 0.0\"/><rect class=\"sym\" height=\"6\" width=\"6\" x=\"-3\" y=\"-3\"/><text class=\"lab\" transform=\"translate(0 11)\">5</text></g><path class=\"edge\" d=\"M 0 0 V -9.76662 H -24.7569\"/><circle class=\"sym\" cx=\"0\" cy=\"0\" r=\"3\"/><text class=\"lab rgt\" transform=\"translate(3 -7.0)\">10</text></g><circle class=\"sym\" cx=\"0\" cy=\"0\" r=\"3\"/><text class=\"lab\" transform=\"translate(0 -11)\">11</text></g></g></g><g class=\"tree t3\" transform=\"translate(600 0)\"><g class=\"plotbox\"><g class=\"c2 node n13 p0 root\" transform=\"translate(135.799 44.246)\"><g class=\"a13 i2 leaf node n5 p0 sample\" transform=\"translate(24.7569 77.154)\"><path class=\"edge\" d=\"M 0 0 V -77.154 H -24.7569\"/><rect class=\"sym\" height=\"6\" width=\"6\" x=\"-3\" y=\"-3\"/><text class=\"lab\" transform=\"translate(0 11)\">5</text></g><g class=\"a13 c2 node n9 p0\" transform=\"translate(-24.7569 33.7017)\"><g class=\"a9 i2 leaf node n4 p0 sample\" transform=\"translate(23.9583 43.4522)\"><path class=\"edge\" d=\"M 0 0 V -43.4522 H -23.9583\"/><rect class=\"sym\" height=\"6\" width=\"6\" x=\"-3\" y=\"-3\"/><text class=\"lab\" transform=\"translate(0 11)\">4</text></g><g class=\"a9 c2 node n8 p0\" transform=\"translate(-23.9583 22.2372)\"><g class=\"a8 i0 leaf node n1 p0 sample\" transform=\"translate(22.3611 21.215)\"><path class=\"edge\" d=\"M 0 0 V -21.215 H -22.3611\"/><rect class=\"sym\" height=\"6\" width=\"6\" x=\"-3\" y=\"-3\"/><text class=\"lab\" transform=\"translate(0 11)\">1</text></g><g class=\"a8 c2 node n7 p0\" transform=\"translate(-22.3611 2.99367)\"><g class=\"a7 i1 leaf node n2 p0 sample\" transform=\"translate(19.1667 18.2214)\"><path class=\"edge\" d=\"M 0 0 V -18.2214 H -19.1667\"/><rect class=\"sym\" height=\"6\" width=\"6\" x=\"-3\" y=\"-3\"/><text class=\"lab\" transform=\"translate(0 11)\">2</text></g><g class=\"a7 c2 node n6 p0\" transform=\"translate(-19.1667 11.0747)\"><g class=\"a6 i0 leaf node n0 p0 sample\" transform=\"translate(-12.7778 7.14668)\"><path class=\"edge\" d=\"M 0 0 V -7.14668 H 12.7778\"/><rect class=\"sym\" height=\"6\" width=\"6\" x=\"-3\" y=\"-3\"/><text class=\"lab\" transform=\"translate(0 11)\">0</text></g><g class=\"a6 i1 leaf node n3 p0 sample\" transform=\"translate(12.7778 7.14668)\"><path class=\"edge\" d=\"M 0 0 V -7.14668 H -12.7778\"/><rect class=\"sym\" height=\"6\" width=\"6\" x=\"-3\" y=\"-3\"/><text class=\"lab\" transform=\"translate(0 11)\">3</text></g><path class=\"edge\" d=\"M 0 0 V -11.0747 H 19.1667\"/><circle class=\"sym\" cx=\"0\" cy=\"0\" r=\"3\"/><text class=\"lab lft\" transform=\"translate(-3 -7.0)\">6</text></g><path class=\"edge\" d=\"M 0 0 V -2.99367 H 22.3611\"/><circle class=\"sym\" cx=\"0\" cy=\"0\" r=\"3\"/><text class=\"lab lft\" transform=\"translate(-3 -7.0)\">7</text></g><path class=\"edge\" d=\"M 0 0 V -22.2372 H 23.9583\"/><circle class=\"sym\" cx=\"0\" cy=\"0\" r=\"3\"/><text class=\"lab lft\" transform=\"translate(-3 -7.0)\">8</text></g><path class=\"edge\" d=\"M 0 0 V -33.7017 H 24.7569\"/><circle class=\"sym\" cx=\"0\" cy=\"0\" r=\"3\"/><text class=\"lab lft\" transform=\"translate(-3 -7.0)\">9</text></g><circle class=\"sym\" cx=\"0\" cy=\"0\" r=\"3\"/><text class=\"lab\" transform=\"translate(0 -11)\">13</text></g></g></g><g class=\"tree t4\" transform=\"translate(793.333 0)\"><g class=\"plotbox\"><g class=\"c2 node n12 p0 root\" transform=\"translate(135.799 49.9362)\"><g class=\"a12 i2 leaf node n5 p0 sample\" transform=\"translate(24.7569 71.4638)\"><path class=\"edge\" d=\"M 0 0 V -71.4638 H -24.7569\"/><rect class=\"sym\" height=\"6\" width=\"6\" x=\"-3\" y=\"-3\"/><text class=\"lab\" transform=\"translate(0 11)\">5</text></g><g class=\"a12 c2 node n9 p0\" transform=\"translate(-24.7569 28.0116)\"><g class=\"a9 i2 leaf node n4 p0 sample\" transform=\"translate(23.9583 43.4522)\"><path class=\"edge\" d=\"M 0 0 V -43.4522 H -23.9583\"/><rect class=\"sym\" height=\"6\" width=\"6\" x=\"-3\" y=\"-3\"/><text class=\"lab\" transform=\"translate(0 11)\">4</text></g><g class=\"a9 c2 node n8 p0\" transform=\"translate(-23.9583 22.2372)\"><g class=\"a8 i0 leaf node n1 p0 sample\" transform=\"translate(22.3611 21.215)\"><path class=\"edge\" d=\"M 0 0 V -21.215 H -22.3611\"/><rect class=\"sym\" height=\"6\" width=\"6\" x=\"-3\" y=\"-3\"/><text class=\"lab\" transform=\"translate(0 11)\">1</text></g><g class=\"a8 c2 node n7 p0\" transform=\"translate(-22.3611 2.99367)\"><g class=\"a7 i1 leaf node n2 p0 sample\" transform=\"translate(19.1667 18.2214)\"><path class=\"edge\" d=\"M 0 0 V -18.2214 H -19.1667\"/><rect class=\"sym\" height=\"6\" width=\"6\" x=\"-3\" y=\"-3\"/><text class=\"lab\" transform=\"translate(0 11)\">2</text></g><g class=\"a7 c2 node n6 p0\" transform=\"translate(-19.1667 11.0747)\"><g class=\"a6 i0 leaf node n0 p0 sample\" transform=\"translate(-12.7778 7.14668)\"><path class=\"edge\" d=\"M 0 0 V -7.14668 H 12.7778\"/><rect class=\"sym\" height=\"6\" width=\"6\" x=\"-3\" y=\"-3\"/><text class=\"lab\" transform=\"translate(0 11)\">0</text></g><g class=\"a6 i1 leaf node n3 p0 sample\" transform=\"translate(12.7778 7.14668)\"><path class=\"edge\" d=\"M 0 0 V -7.14668 H -12.7778\"/><rect class=\"sym\" height=\"6\" width=\"6\" x=\"-3\" y=\"-3\"/><text class=\"lab\" transform=\"translate(0 11)\">3</text></g><path class=\"edge\" d=\"M 0 0 V -11.0747 H 19.1667\"/><circle class=\"sym\" cx=\"0\" cy=\"0\" r=\"3\"/><text class=\"lab lft\" transform=\"translate(-3 -7.0)\">6</text></g><path class=\"edge\" d=\"M 0 0 V -2.99367 H 22.3611\"/><circle class=\"sym\" cx=\"0\" cy=\"0\" r=\"3\"/><text class=\"lab lft\" transform=\"translate(-3 -7.0)\">7</text></g><path class=\"edge\" d=\"M 0 0 V -22.2372 H 23.9583\"/><circle class=\"sym\" cx=\"0\" cy=\"0\" r=\"3\"/><text class=\"lab lft\" transform=\"translate(-3 -7.0)\">8</text></g><path class=\"edge\" d=\"M 0 0 V -28.0116 H 24.7569\"/><circle class=\"sym\" cx=\"0\" cy=\"0\" r=\"3\"/><text class=\"lab lft\" transform=\"translate(-3 -7.0)\">9</text></g><circle class=\"sym\" cx=\"0\" cy=\"0\" r=\"3\"/><text class=\"lab\" transform=\"translate(0 -11)\">12</text></g></g></g><g class=\"tree t5\" transform=\"translate(986.667 0)\"><g class=\"plotbox\"><g class=\"c2 node n14 p0 root\" transform=\"translate(135.799 26.8)\"><g class=\"a14 i2 leaf node n5 p0 sample\" transform=\"translate(24.7569 94.6)\"><path class=\"edge\" d=\"M 0 0 V -94.6 H -24.7569\"/><rect class=\"sym\" height=\"6\" width=\"6\" x=\"-3\" y=\"-3\"/><text class=\"lab\" transform=\"translate(0 11)\">5</text></g><g class=\"a14 c2 node n9 p0\" transform=\"translate(-24.7569 51.1478)\"><g class=\"a9 i2 leaf node n4 p0 sample\" transform=\"translate(23.9583 43.4522)\"><path class=\"edge\" d=\"M 0 0 V -43.4522 H -23.9583\"/><rect class=\"sym\" height=\"6\" width=\"6\" x=\"-3\" y=\"-3\"/><text class=\"lab\" transform=\"translate(0 11)\">4</text></g><g class=\"a9 c2 node n8 p0\" transform=\"translate(-23.9583 22.2372)\"><g class=\"a8 i0 leaf node n1 p0 sample\" transform=\"translate(22.3611 21.215)\"><path class=\"edge\" d=\"M 0 0 V -21.215 H -22.3611\"/><rect class=\"sym\" height=\"6\" width=\"6\" x=\"-3\" y=\"-3\"/><text class=\"lab\" transform=\"translate(0 11)\">1</text></g><g class=\"a8 c2 node n7 p0\" transform=\"translate(-22.3611 2.99367)\"><g class=\"a7 i1 leaf node n2 p0 sample\" transform=\"translate(19.1667 18.2214)\"><path class=\"edge\" d=\"M 0 0 V -18.2214 H -19.1667\"/><rect class=\"sym\" height=\"6\" width=\"6\" x=\"-3\" y=\"-3\"/><text class=\"lab\" transform=\"translate(0 11)\">2</text></g><g class=\"a7 c2 node n6 p0\" transform=\"translate(-19.1667 11.0747)\"><g class=\"a6 i0 leaf node n0 p0 sample\" transform=\"translate(-12.7778 7.14668)\"><path class=\"edge\" d=\"M 0 0 V -7.14668 H 12.7778\"/><rect class=\"sym\" height=\"6\" width=\"6\" x=\"-3\" y=\"-3\"/><text class=\"lab\" transform=\"translate(0 11)\">0</text></g><g class=\"a6 i1 leaf node n3 p0 sample\" transform=\"translate(12.7778 7.14668)\"><path class=\"edge\" d=\"M 0 0 V -7.14668 H -12.7778\"/><rect class=\"sym\" height=\"6\" width=\"6\" x=\"-3\" y=\"-3\"/><text class=\"lab\" transform=\"translate(0 11)\">3</text></g><path class=\"edge\" d=\"M 0 0 V -11.0747 H 19.1667\"/><circle class=\"sym\" cx=\"0\" cy=\"0\" r=\"3\"/><text class=\"lab lft\" transform=\"translate(-3 -7.0)\">6</text></g><path class=\"edge\" d=\"M 0 0 V -2.99367 H 22.3611\"/><circle class=\"sym\" cx=\"0\" cy=\"0\" r=\"3\"/><text class=\"lab lft\" transform=\"translate(-3 -7.0)\">7</text></g><path class=\"edge\" d=\"M 0 0 V -22.2372 H 23.9583\"/><circle class=\"sym\" cx=\"0\" cy=\"0\" r=\"3\"/><text class=\"lab lft\" transform=\"translate(-3 -7.0)\">8</text></g><path class=\"edge\" d=\"M 0 0 V -51.1478 H 24.7569\"/><circle class=\"sym\" cx=\"0\" cy=\"0\" r=\"3\"/><text class=\"lab lft\" transform=\"translate(-3 -7.0)\">9</text></g><circle class=\"sym\" cx=\"0\" cy=\"0\" r=\"3\"/><text class=\"lab\" transform=\"translate(0 -11)\">14</text></g></g></g></g></g></svg>"
      ],
      "text/plain": [
       "<IPython.core.display.SVG object>"
      ]
     },
     "execution_count": 45,
     "metadata": {},
     "output_type": "execute_result"
    }
   ],
   "source": [
    "new_ts, num_edges = extend_edges(ts, verbose=True)\n",
    "print(num_edges)\n",
    "SVG(new_ts.draw_svg())"
   ]
  },
  {
   "cell_type": "code",
   "execution_count": 48,
   "id": "8440a19e",
   "metadata": {},
   "outputs": [
    {
     "name": "stdout",
     "output_type": "stream",
     "text": [
      "[23, 20]\n"
     ]
    }
   ],
   "source": [
    "def verify_extending(ts):\n",
    "    ets, num_edges = extend_edges(ts)\n",
    "    sts = ets.simplify()\n",
    "    sts.tables.assert_equals(ts.tables, ignore_provenance=True)\n",
    "    print(num_edges)\n",
    "    \n",
    "verify_extending(ts)"
   ]
  },
  {
   "cell_type": "code",
   "execution_count": 50,
   "id": "23c02248",
   "metadata": {},
   "outputs": [
    {
     "name": "stdout",
     "output_type": "stream",
     "text": [
      "[22, 20]\n",
      "[25, 19]\n",
      "[22]\n",
      "[46, 39, 38]\n",
      "[33, 30, 28]\n",
      "[40, 34]\n",
      "[32, 31]\n",
      "[28, 23]\n",
      "[22, 20]\n",
      "[33, 30, 28]\n",
      "[17, 15]\n",
      "[44, 37]\n",
      "[47, 36, 34]\n",
      "[62, 50]\n",
      "[39, 35]\n",
      "[36, 31, 29]\n",
      "[21, 18]\n",
      "[16]\n",
      "[37, 30]\n",
      "[35, 29, 28]\n",
      "[28, 24, 23]\n",
      "[28, 24]\n",
      "[37, 29, 26]\n",
      "[23, 20, 18]\n",
      "[21, 19]\n",
      "[38, 31]\n",
      "[14, 12]\n",
      "[38, 34]\n",
      "[44, 36]\n",
      "[36, 32]\n",
      "[36, 30]\n",
      "[22, 20]\n",
      "[32, 27, 26]\n",
      "[16]\n",
      "[42, 36]\n",
      "[19, 17]\n",
      "[20, 18]\n",
      "[24, 20]\n",
      "[31, 29]\n",
      "[38, 31, 29]\n",
      "[45, 38, 37]\n",
      "[28, 24]\n",
      "[19, 16]\n",
      "[22, 20]\n",
      "[23, 21]\n",
      "[25, 21]\n",
      "[26, 24]\n",
      "[47, 42]\n",
      "[20]\n",
      "[34, 28, 27]\n",
      "[23, 21]\n",
      "[34, 31]\n",
      "[68, 53, 50]\n",
      "[37, 31, 29]\n",
      "[36, 30, 28, 27]\n",
      "[25, 20]\n",
      "[20, 16]\n",
      "[31, 26]\n",
      "[36, 27, 26]\n",
      "[18, 16]\n",
      "[14]\n",
      "[26, 23, 22]\n",
      "[15]\n",
      "[27, 20]\n",
      "[40, 29]\n",
      "[40, 35, 33, 32]\n",
      "[28, 22, 21]\n",
      "[50, 42]\n",
      "[21, 17]\n",
      "[20, 17]\n",
      "[58, 51]\n",
      "[41, 35]\n",
      "[21, 20]\n",
      "[32, 30]\n",
      "[22, 18]\n",
      "[18, 16]\n",
      "[20, 18]\n",
      "[40, 35, 33]\n",
      "[19, 16]\n",
      "[30, 25, 24]\n",
      "[19, 17, 16]\n",
      "[28, 26]\n",
      "[27, 24, 22, 20]\n",
      "[26, 24]\n",
      "[33, 27]\n",
      "[28, 24]\n",
      "[40, 34, 33]\n",
      "[32, 29]\n",
      "[34, 27]\n",
      "[41, 32]\n",
      "[45, 37, 35]\n",
      "[23, 20]\n",
      "[14]\n",
      "[33, 30, 28]\n",
      "[21, 18]\n",
      "[28, 26]\n",
      "[12]\n",
      "[28, 24]\n",
      "[23, 20]\n"
     ]
    }
   ],
   "source": [
    "for seed in range(1, 100):\n",
    "    # print(\"----\", seed)\n",
    "    ts = msprime.sim_ancestry(3, population_size=1000, sequence_length=1e5, recombination_rate=1e-8, random_seed=seed)\n",
    "    verify_extending(ts)"
   ]
  },
  {
   "cell_type": "code",
   "execution_count": 60,
   "id": "11ef4144",
   "metadata": {},
   "outputs": [
    {
     "name": "stdout",
     "output_type": "stream",
     "text": [
      "[15242, 12084, 11057, 10811, 10751, 10740, 10736]\n"
     ]
    }
   ],
   "source": [
    "ts = msprime.sim_ancestry(\n",
    "        1000, \n",
    "        population_size=1000,\n",
    "        sequence_length=1e7,\n",
    "        recombination_rate=1e-8,\n",
    ")\n",
    "ets, num_edges = extend_edges(ts)\n",
    "print(num_edges)"
   ]
  },
  {
   "cell_type": "code",
   "execution_count": 72,
   "id": "8f280938",
   "metadata": {},
   "outputs": [
    {
     "ename": "LibraryError",
     "evalue": "Bad edges: contradictory children for a given parent over an interval",
     "output_type": "error",
     "traceback": [
      "\u001b[0;31m---------------------------------------------------------------------------\u001b[0m",
      "\u001b[0;31mLibraryError\u001b[0m                              Traceback (most recent call last)",
      "\u001b[0;32m/tmp/ipykernel_42110/1656547956.py\u001b[0m in \u001b[0;36m<module>\u001b[0;34m\u001b[0m\n\u001b[1;32m     11\u001b[0m             \u001b[0mrecombination_rate\u001b[0m\u001b[0;34m=\u001b[0m\u001b[0;36m1e-8\u001b[0m\u001b[0;34m,\u001b[0m\u001b[0;34m\u001b[0m\u001b[0;34m\u001b[0m\u001b[0m\n\u001b[1;32m     12\u001b[0m         )\n\u001b[0;32m---> 13\u001b[0;31m         \u001b[0mets\u001b[0m\u001b[0;34m,\u001b[0m \u001b[0mnum_edges\u001b[0m \u001b[0;34m=\u001b[0m \u001b[0mextend_edges\u001b[0m\u001b[0;34m(\u001b[0m\u001b[0mts\u001b[0m\u001b[0;34m)\u001b[0m\u001b[0;34m\u001b[0m\u001b[0;34m\u001b[0m\u001b[0m\n\u001b[0m\u001b[1;32m     14\u001b[0m         \u001b[0mnel\u001b[0m\u001b[0;34m.\u001b[0m\u001b[0mappend\u001b[0m\u001b[0;34m(\u001b[0m\u001b[0mnum_edges\u001b[0m\u001b[0;34m)\u001b[0m\u001b[0;34m\u001b[0m\u001b[0;34m\u001b[0m\u001b[0m\n\u001b[1;32m     15\u001b[0m     \u001b[0mnum_edge_lists\u001b[0m\u001b[0;34m[\u001b[0m\u001b[0mS\u001b[0m\u001b[0;34m]\u001b[0m \u001b[0;34m=\u001b[0m \u001b[0mnel\u001b[0m\u001b[0;34m\u001b[0m\u001b[0;34m\u001b[0m\u001b[0m\n",
      "\u001b[0;32m/tmp/ipykernel_42110/3882033192.py\u001b[0m in \u001b[0;36mextend_edges\u001b[0;34m(ts, max_iter, verbose)\u001b[0m\n\u001b[1;32m     71\u001b[0m     \u001b[0mnum_edges\u001b[0m \u001b[0;34m=\u001b[0m \u001b[0;34m[\u001b[0m\u001b[0mts\u001b[0m\u001b[0;34m.\u001b[0m\u001b[0mnum_edges\u001b[0m\u001b[0;34m]\u001b[0m\u001b[0;34m\u001b[0m\u001b[0;34m\u001b[0m\u001b[0m\n\u001b[1;32m     72\u001b[0m     \u001b[0;32mfor\u001b[0m \u001b[0m_\u001b[0m \u001b[0;32min\u001b[0m \u001b[0mrange\u001b[0m\u001b[0;34m(\u001b[0m\u001b[0mmax_iter\u001b[0m\u001b[0;34m)\u001b[0m\u001b[0;34m:\u001b[0m\u001b[0;34m\u001b[0m\u001b[0;34m\u001b[0m\u001b[0m\n\u001b[0;32m---> 73\u001b[0;31m         \u001b[0mts\u001b[0m \u001b[0;34m=\u001b[0m \u001b[0mforward_extend\u001b[0m\u001b[0;34m(\u001b[0m\u001b[0mts\u001b[0m\u001b[0;34m,\u001b[0m \u001b[0mverbose\u001b[0m\u001b[0;34m=\u001b[0m\u001b[0mverbose\u001b[0m\u001b[0;34m)\u001b[0m\u001b[0;34m\u001b[0m\u001b[0;34m\u001b[0m\u001b[0m\n\u001b[0m\u001b[1;32m     74\u001b[0m         \u001b[0mts\u001b[0m \u001b[0;34m=\u001b[0m \u001b[0mmirror_coordinates\u001b[0m\u001b[0;34m(\u001b[0m\u001b[0mts\u001b[0m\u001b[0;34m)\u001b[0m\u001b[0;34m\u001b[0m\u001b[0;34m\u001b[0m\u001b[0m\n\u001b[1;32m     75\u001b[0m         \u001b[0mts\u001b[0m \u001b[0;34m=\u001b[0m \u001b[0mforward_extend\u001b[0m\u001b[0;34m(\u001b[0m\u001b[0mts\u001b[0m\u001b[0;34m,\u001b[0m \u001b[0mverbose\u001b[0m\u001b[0;34m=\u001b[0m\u001b[0mverbose\u001b[0m\u001b[0;34m)\u001b[0m\u001b[0;34m\u001b[0m\u001b[0;34m\u001b[0m\u001b[0m\n",
      "\u001b[0;32m/tmp/ipykernel_42110/3882033192.py\u001b[0m in \u001b[0;36mforward_extend\u001b[0;34m(ts, verbose)\u001b[0m\n\u001b[1;32m     66\u001b[0m         \u001b[0mparent\u001b[0m\u001b[0;34m=\u001b[0m\u001b[0medges\u001b[0m\u001b[0;34m.\u001b[0m\u001b[0mparent\u001b[0m\u001b[0;34m[\u001b[0m\u001b[0mkeep\u001b[0m\u001b[0;34m]\u001b[0m\u001b[0;34m,\u001b[0m\u001b[0;34m\u001b[0m\u001b[0;34m\u001b[0m\u001b[0m\n\u001b[1;32m     67\u001b[0m         child=edges.child[keep])\n\u001b[0;32m---> 68\u001b[0;31m     \u001b[0;32mreturn\u001b[0m \u001b[0mt\u001b[0m\u001b[0;34m.\u001b[0m\u001b[0mtree_sequence\u001b[0m\u001b[0;34m(\u001b[0m\u001b[0;34m)\u001b[0m\u001b[0;34m\u001b[0m\u001b[0;34m\u001b[0m\u001b[0m\n\u001b[0m\u001b[1;32m     69\u001b[0m \u001b[0;34m\u001b[0m\u001b[0m\n\u001b[1;32m     70\u001b[0m \u001b[0;32mdef\u001b[0m \u001b[0mextend_edges\u001b[0m\u001b[0;34m(\u001b[0m\u001b[0mts\u001b[0m\u001b[0;34m,\u001b[0m \u001b[0mmax_iter\u001b[0m\u001b[0;34m=\u001b[0m\u001b[0;36m100\u001b[0m\u001b[0;34m,\u001b[0m \u001b[0mverbose\u001b[0m\u001b[0;34m=\u001b[0m\u001b[0;32mFalse\u001b[0m\u001b[0;34m)\u001b[0m\u001b[0;34m:\u001b[0m\u001b[0;34m\u001b[0m\u001b[0;34m\u001b[0m\u001b[0m\n",
      "\u001b[0;32m~/.local/lib/python3.9/site-packages/tskit-0.4.0-py3.9-linux-x86_64.egg/tskit/tables.py\u001b[0m in \u001b[0;36mtree_sequence\u001b[0;34m(self)\u001b[0m\n\u001b[1;32m   3240\u001b[0m         \u001b[0;32mif\u001b[0m \u001b[0;32mnot\u001b[0m \u001b[0mself\u001b[0m\u001b[0;34m.\u001b[0m\u001b[0mhas_index\u001b[0m\u001b[0;34m(\u001b[0m\u001b[0;34m)\u001b[0m\u001b[0;34m:\u001b[0m\u001b[0;34m\u001b[0m\u001b[0;34m\u001b[0m\u001b[0m\n\u001b[1;32m   3241\u001b[0m             \u001b[0mself\u001b[0m\u001b[0;34m.\u001b[0m\u001b[0mbuild_index\u001b[0m\u001b[0;34m(\u001b[0m\u001b[0;34m)\u001b[0m\u001b[0;34m\u001b[0m\u001b[0;34m\u001b[0m\u001b[0m\n\u001b[0;32m-> 3242\u001b[0;31m         \u001b[0;32mreturn\u001b[0m \u001b[0mtskit\u001b[0m\u001b[0;34m.\u001b[0m\u001b[0mTreeSequence\u001b[0m\u001b[0;34m.\u001b[0m\u001b[0mload_tables\u001b[0m\u001b[0;34m(\u001b[0m\u001b[0mself\u001b[0m\u001b[0;34m)\u001b[0m\u001b[0;34m\u001b[0m\u001b[0;34m\u001b[0m\u001b[0m\n\u001b[0m\u001b[1;32m   3243\u001b[0m \u001b[0;34m\u001b[0m\u001b[0m\n\u001b[1;32m   3244\u001b[0m     def simplify(\n",
      "\u001b[0;32m~/.local/lib/python3.9/site-packages/tskit-0.4.0-py3.9-linux-x86_64.egg/tskit/trees.py\u001b[0m in \u001b[0;36mload_tables\u001b[0;34m(cls, tables, build_indexes)\u001b[0m\n\u001b[1;32m   3721\u001b[0m     \u001b[0;32mdef\u001b[0m \u001b[0mload_tables\u001b[0m\u001b[0;34m(\u001b[0m\u001b[0mcls\u001b[0m\u001b[0;34m,\u001b[0m \u001b[0mtables\u001b[0m\u001b[0;34m,\u001b[0m \u001b[0;34m*\u001b[0m\u001b[0;34m,\u001b[0m \u001b[0mbuild_indexes\u001b[0m\u001b[0;34m=\u001b[0m\u001b[0;32mFalse\u001b[0m\u001b[0;34m)\u001b[0m\u001b[0;34m:\u001b[0m\u001b[0;34m\u001b[0m\u001b[0;34m\u001b[0m\u001b[0m\n\u001b[1;32m   3722\u001b[0m         \u001b[0mts\u001b[0m \u001b[0;34m=\u001b[0m \u001b[0m_tskit\u001b[0m\u001b[0;34m.\u001b[0m\u001b[0mTreeSequence\u001b[0m\u001b[0;34m(\u001b[0m\u001b[0;34m)\u001b[0m\u001b[0;34m\u001b[0m\u001b[0;34m\u001b[0m\u001b[0m\n\u001b[0;32m-> 3723\u001b[0;31m         \u001b[0mts\u001b[0m\u001b[0;34m.\u001b[0m\u001b[0mload_tables\u001b[0m\u001b[0;34m(\u001b[0m\u001b[0mtables\u001b[0m\u001b[0;34m.\u001b[0m\u001b[0m_ll_tables\u001b[0m\u001b[0;34m,\u001b[0m \u001b[0mbuild_indexes\u001b[0m\u001b[0;34m=\u001b[0m\u001b[0mbuild_indexes\u001b[0m\u001b[0;34m)\u001b[0m\u001b[0;34m\u001b[0m\u001b[0;34m\u001b[0m\u001b[0m\n\u001b[0m\u001b[1;32m   3724\u001b[0m         \u001b[0;32mreturn\u001b[0m \u001b[0mTreeSequence\u001b[0m\u001b[0;34m(\u001b[0m\u001b[0mts\u001b[0m\u001b[0;34m)\u001b[0m\u001b[0;34m\u001b[0m\u001b[0;34m\u001b[0m\u001b[0m\n\u001b[1;32m   3725\u001b[0m \u001b[0;34m\u001b[0m\u001b[0m\n",
      "\u001b[0;31mLibraryError\u001b[0m: Bad edges: contradictory children for a given parent over an interval"
     ]
    }
   ],
   "source": [
    "Svals = [100, 1000, 10000]\n",
    "Lvals = np.linspace(1e4, 3e6, 31)\n",
    "num_edge_lists = {}\n",
    "for S in Svals:\n",
    "    nel = []\n",
    "    for L in Lvals:\n",
    "        ts = msprime.sim_ancestry(\n",
    "            1000, \n",
    "            population_size=1000,\n",
    "            sequence_length=int(L),\n",
    "            recombination_rate=1e-8,\n",
    "        )\n",
    "        ets, num_edges = extend_edges(ts)\n",
    "        nel.append(num_edges)\n",
    "    num_edge_lists[S] = nel"
   ]
  },
  {
   "cell_type": "code",
   "execution_count": null,
   "id": "6a5cc605",
   "metadata": {},
   "outputs": [],
   "source": [
    "fig, ax = plt.subplots(figsize=(15, 6))\n",
    "\n",
    "for S in Svals:\n",
    "    reduction = [x[-1] / x[0] for x in num_edge_lists[S]]\n",
    "    ax.plot(Lvals, reduction, label=f\"num samples = {S}\")\n",
    "ax.set_xlabel(\"sequence length\")\n",
    "ax.set_ylabel(\"percent of edges left\")\n",
    "ax.legend();"
   ]
  },
  {
   "cell_type": "code",
   "execution_count": 82,
   "id": "d76d5371",
   "metadata": {},
   "outputs": [
    {
     "name": "stdout",
     "output_type": "stream",
     "text": [
      "Before: 0.0006997585296630859, after: 0.0005362033843994141\n"
     ]
    }
   ],
   "source": [
    "import time\n",
    "ts = msprime.sim_ancestry(\n",
    "        1000, \n",
    "        population_size=1000,\n",
    "        sequence_length=1e6,\n",
    "        recombination_rate=1e-8,\n",
    "    )\n",
    "ets, _ = extend_edges(ts)\n",
    "\n",
    "before_time = time.time()\n",
    "a = ts.Tajimas_D()\n",
    "next_time = time.time()\n",
    "b = ets.Tajimas_D()\n",
    "after_time = time.time()\n",
    "\n",
    "print(f\"Before: {next_time - before_time}, after: {after_time - next_time}\")"
   ]
  }
 ],
 "metadata": {
  "kernelspec": {
   "display_name": "Python 3 (ipykernel)",
   "language": "python",
   "name": "python3"
  },
  "language_info": {
   "codemirror_mode": {
    "name": "ipython",
    "version": 3
   },
   "file_extension": ".py",
   "mimetype": "text/x-python",
   "name": "python",
   "nbconvert_exporter": "python",
   "pygments_lexer": "ipython3",
   "version": "3.9.9"
  }
 },
 "nbformat": 4,
 "nbformat_minor": 5
}
