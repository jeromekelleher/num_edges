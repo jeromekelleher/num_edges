{
 "cells": [
  {
   "cell_type": "code",
   "execution_count": 1,
   "id": "e83bff08",
   "metadata": {},
   "outputs": [],
   "source": [
    "import msprime, tskit\n",
    "from IPython.display import SVG\n",
    "import numpy as np\n",
    "import matplotlib.pyplot as plt"
   ]
  },
  {
   "cell_type": "code",
   "execution_count": 2,
   "id": "ee2cefe8",
   "metadata": {},
   "outputs": [],
   "source": [
    "ts = msprime.sim_ancestry(3, population_size=1000, sequence_length=1e5, recombination_rate=1e-8, random_seed=40)"
   ]
  },
  {
   "cell_type": "code",
   "execution_count": 3,
   "id": "859453d0",
   "metadata": {},
   "outputs": [
    {
     "data": {
      "text/plain": [
       "10"
      ]
     },
     "execution_count": 3,
     "metadata": {},
     "output_type": "execute_result"
    }
   ],
   "source": [
    "ts.num_trees"
   ]
  },
  {
   "cell_type": "code",
   "execution_count": 4,
   "id": "6e4d3a7f",
   "metadata": {},
   "outputs": [
    {
     "data": {
      "image/svg+xml": [
       "<svg xmlns=\"http://www.w3.org/2000/svg\" xmlns:ev=\"http://www.w3.org/2001/xml-events\" xmlns:xlink=\"http://www.w3.org/1999/xlink\" baseProfile=\"full\" height=\"200\" version=\"1.1\" width=\"2000\"><defs><style type=\"text/css\"><![CDATA[.background path {fill: #808080; fill-opacity: 0}.background path:nth-child(odd) {fill-opacity: .1}.axes {font-size: 14px}.x-axis .tick .lab {font-weight: bold; dominant-baseline: hanging}.axes, .tree {font-size: 14px; text-anchor: middle}.axes line, .edge {stroke: black; fill: none}.y-axis .grid {stroke: #FAFAFA}.node > .sym {fill: black; stroke: none}.site > .sym {stroke: black}.mut text {fill: red; font-style: italic}.mut.extra text {fill: hotpink}.mut line {fill: none; stroke: none}.mut .sym {fill: none; stroke: red}.mut.extra .sym {stroke: hotpink}.node .mut .sym {stroke-width: 1.5px}.tree text, .tree-sequence text {dominant-baseline: central}.plotbox .lab.lft {text-anchor: end}.plotbox .lab.rgt {text-anchor: start}]]></style></defs><g class=\"tree-sequence\"><g class=\"background\"><path d=\"M20,0 l196,0 l0,138.2 l72.2064,25 l0,5 l-268.206,0 l0,-5 l0,-25 l0,-138.2z\"/><path d=\"M216,0 l196,0 l0,138.2 l59.1724,25 l0,5 l-182.966,0 l0,-5 l-72.2064,-25 l0,-138.2z\"/><path d=\"M412,0 l196,0 l0,138.2 l-96.9024,25 l0,5 l-39.9252,0 l0,-5 l-59.1724,-25 l0,-138.2z\"/><path d=\"M608,0 l196,0 l0,138.2 l-203.84,25 l0,5 l-89.0624,0 l0,-5 l96.9024,-25 l0,-138.2z\"/><path d=\"M804,0 l196,0 l0,138.2 l-328.888,25 l0,5 l-70.952,0 l0,-5 l203.84,-25 l0,-138.2z\"/><path d=\"M1000,0 l196,0 l0,138.2 l-113.19,25 l0,5 l-411.698,0 l0,-5 l328.888,-25 l0,-138.2z\"/><path d=\"M1196,0 l196,0 l0,138.2 l-205.643,25 l0,5 l-103.547,0 l0,-5 l113.19,-25 l0,-138.2z\"/><path d=\"M1392,0 l196,0 l0,138.2 l83.1236,25 l0,5 l-484.767,0 l0,-5 l205.643,-25 l0,-138.2z\"/><path d=\"M1588,0 l196,0 l0,138.2 l168.482,25 l0,5 l-281.358,0 l0,-5 l-83.1236,-25 l0,-138.2z\"/><path d=\"M1784,0 l196,0 l0,138.2 l0,25 l0,5 l-27.5184,0 l0,-5 l-168.482,-25 l0,-138.2z\"/></g><g class=\"axes\"><g class=\"x-axis\"><g transform=\"translate(1000 200)\"><text class=\"lab\" text-anchor=\"middle\" transform=\"translate(0 -11)\">Genome position</text></g><line x1=\"20\" x2=\"1980\" y1=\"163.2\" y2=\"163.2\"/><g class=\"ticks\"><g class=\"tick\" transform=\"translate(20 163.2)\"><line x1=\"0\" x2=\"0\" y1=\"0\" y2=\"5\"/><g transform=\"translate(0 6)\"><text class=\"lab\">0</text></g></g><g class=\"tick\" transform=\"translate(288.206 163.2)\"><line x1=\"0\" x2=\"0\" y1=\"0\" y2=\"5\"/><g transform=\"translate(0 6)\"><text class=\"lab\">13684</text></g></g><g class=\"tick\" transform=\"translate(471.172 163.2)\"><line x1=\"0\" x2=\"0\" y1=\"0\" y2=\"5\"/><g transform=\"translate(0 6)\"><text class=\"lab\">23019</text></g></g><g class=\"tick\" transform=\"translate(511.098 163.2)\"><line x1=\"0\" x2=\"0\" y1=\"0\" y2=\"5\"/><g transform=\"translate(0 6)\"><text class=\"lab\">25056</text></g></g><g class=\"tick\" transform=\"translate(600.16 163.2)\"><line x1=\"0\" x2=\"0\" y1=\"0\" y2=\"5\"/><g transform=\"translate(0 6)\"><text class=\"lab\">29600</text></g></g><g class=\"tick\" transform=\"translate(671.112 163.2)\"><line x1=\"0\" x2=\"0\" y1=\"0\" y2=\"5\"/><g transform=\"translate(0 6)\"><text class=\"lab\">33220</text></g></g><g class=\"tick\" transform=\"translate(1082.81 163.2)\"><line x1=\"0\" x2=\"0\" y1=\"0\" y2=\"5\"/><g transform=\"translate(0 6)\"><text class=\"lab\">54225</text></g></g><g class=\"tick\" transform=\"translate(1186.36 163.2)\"><line x1=\"0\" x2=\"0\" y1=\"0\" y2=\"5\"/><g transform=\"translate(0 6)\"><text class=\"lab\">59508</text></g></g><g class=\"tick\" transform=\"translate(1671.12 163.2)\"><line x1=\"0\" x2=\"0\" y1=\"0\" y2=\"5\"/><g transform=\"translate(0 6)\"><text class=\"lab\">84241</text></g></g><g class=\"tick\" transform=\"translate(1952.48 163.2)\"><line x1=\"0\" x2=\"0\" y1=\"0\" y2=\"5\"/><g transform=\"translate(0 6)\"><text class=\"lab\">98596</text></g></g><g class=\"tick\" transform=\"translate(1980 163.2)\"><line x1=\"0\" x2=\"0\" y1=\"0\" y2=\"5\"/><g transform=\"translate(0 6)\"><text class=\"lab\">100000</text></g></g></g></g></g><g class=\"plotbox trees\"><g class=\"tree t0\" transform=\"translate(20 0)\"><g class=\"plotbox\"><g class=\"c2 node n17 p0 root\" transform=\"translate(98 26.8)\"><g class=\"a17 c2 node n9 p0\" transform=\"translate(-45.5 73.1923)\"><g class=\"a9 i0 leaf node n0 p0 sample\" transform=\"translate(-19.5 21.4077)\"><path class=\"edge\" d=\"M 0 0 V -21.4077 H 19.5\"/><rect class=\"sym\" height=\"6\" width=\"6\" x=\"-3\" y=\"-3\"/><text class=\"lab\" transform=\"translate(0 11)\">0</text></g><g class=\"a9 c2 node n8 p0\" transform=\"translate(19.5 4.65726)\"><g class=\"a8 i0 leaf node n1 p0 sample\" transform=\"translate(-13 16.7505)\"><path class=\"edge\" d=\"M 0 0 V -16.7505 H 13\"/><rect class=\"sym\" height=\"6\" width=\"6\" x=\"-3\" y=\"-3\"/><text class=\"lab\" transform=\"translate(0 11)\">1</text></g><g class=\"a8 i1 leaf node n3 p0 sample\" transform=\"translate(13 16.7505)\"><path class=\"edge\" d=\"M 0 0 V -16.7505 H -13\"/><rect class=\"sym\" height=\"6\" width=\"6\" x=\"-3\" y=\"-3\"/><text class=\"lab\" transform=\"translate(0 11)\">3</text></g><path class=\"edge\" d=\"M 0 0 V -4.65726 H -19.5\"/><circle class=\"sym\" cx=\"0\" cy=\"0\" r=\"3\"/><text class=\"lab rgt\" transform=\"translate(3 -7.0)\">8</text></g><path class=\"edge\" d=\"M 0 0 V -73.1923 H 45.5\"/><circle class=\"sym\" cx=\"0\" cy=\"0\" r=\"3\"/><text class=\"lab lft\" transform=\"translate(-3 -7.0)\">9</text></g><g class=\"a17 c2 node n10 p0\" transform=\"translate(45.5 63.2856)\"><g class=\"a10 i2 leaf node n5 p0 sample\" transform=\"translate(19.5 31.3144)\"><path class=\"edge\" d=\"M 0 0 V -31.3144 H -19.5\"/><rect class=\"sym\" height=\"6\" width=\"6\" x=\"-3\" y=\"-3\"/><text class=\"lab\" transform=\"translate(0 11)\">5</text></g><g class=\"a10 c2 node n6 p0\" transform=\"translate(-19.5 26.4406)\"><g class=\"a6 i1 leaf node n2 p0 sample\" transform=\"translate(-13 4.87378)\"><path class=\"edge\" d=\"M 0 0 V -4.87378 H 13\"/><rect class=\"sym\" height=\"6\" width=\"6\" x=\"-3\" y=\"-3\"/><text class=\"lab\" transform=\"translate(0 11)\">2</text></g><g class=\"a6 i2 leaf node n4 p0 sample\" transform=\"translate(13 4.87378)\"><path class=\"edge\" d=\"M 0 0 V -4.87378 H -13\"/><rect class=\"sym\" height=\"6\" width=\"6\" x=\"-3\" y=\"-3\"/><text class=\"lab\" transform=\"translate(0 11)\">4</text></g><path class=\"edge\" d=\"M 0 0 V -26.4406 H 19.5\"/><circle class=\"sym\" cx=\"0\" cy=\"0\" r=\"3\"/><text class=\"lab lft\" transform=\"translate(-3 -7.0)\">6</text></g><path class=\"edge\" d=\"M 0 0 V -63.2856 H -45.5\"/><circle class=\"sym\" cx=\"0\" cy=\"0\" r=\"3\"/><text class=\"lab rgt\" transform=\"translate(3 -7.0)\">10</text></g><circle class=\"sym\" cx=\"0\" cy=\"0\" r=\"3\"/><text class=\"lab\" transform=\"translate(0 -11)\">17</text></g></g></g><g class=\"tree t1\" transform=\"translate(216 0)\"><g class=\"plotbox\"><g class=\"c2 node n17 p0 root\" transform=\"translate(80.125 26.8)\"><g class=\"a17 c2 node n9 p0\" transform=\"translate(-34.125 73.1923)\"><g class=\"a9 i0 leaf node n0 p0 sample\" transform=\"translate(-13 21.4077)\"><path class=\"edge\" d=\"M 0 0 V -21.4077 H 13\"/><rect class=\"sym\" height=\"6\" width=\"6\" x=\"-3\" y=\"-3\"/><text class=\"lab\" transform=\"translate(0 11)\">0</text></g><g class=\"a9 i1 leaf node n3 p0 sample\" transform=\"translate(13 21.4077)\"><path class=\"edge\" d=\"M 0 0 V -21.4077 H -13\"/><rect class=\"sym\" height=\"6\" width=\"6\" x=\"-3\" y=\"-3\"/><text class=\"lab\" transform=\"translate(0 11)\">3</text></g><path class=\"edge\" d=\"M 0 0 V -73.1923 H 34.125\"/><circle class=\"sym\" cx=\"0\" cy=\"0\" r=\"3\"/><text class=\"lab lft\" transform=\"translate(-3 -7.0)\">9</text></g><g class=\"a17 c2 node n11 p0\" transform=\"translate(34.125 61.7086)\"><g class=\"a11 i0 leaf node n1 p0 sample\" transform=\"translate(-29.25 32.8914)\"><path class=\"edge\" d=\"M 0 0 V -32.8914 H 29.25\"/><rect class=\"sym\" height=\"6\" width=\"6\" x=\"-3\" y=\"-3\"/><text class=\"lab\" transform=\"translate(0 11)\">1</text></g><g class=\"a11 c2 node n10 p0\" transform=\"translate(29.25 1.57699)\"><g class=\"a10 i2 leaf node n5 p0 sample\" transform=\"translate(19.5 31.3144)\"><path class=\"edge\" d=\"M 0 0 V -31.3144 H -19.5\"/><rect class=\"sym\" height=\"6\" width=\"6\" x=\"-3\" y=\"-3\"/><text class=\"lab\" transform=\"translate(0 11)\">5</text></g><g class=\"a10 c2 node n6 p0\" transform=\"translate(-19.5 26.4406)\"><g class=\"a6 i1 leaf node n2 p0 sample\" transform=\"translate(-13 4.87378)\"><path class=\"edge\" d=\"M 0 0 V -4.87378 H 13\"/><rect class=\"sym\" height=\"6\" width=\"6\" x=\"-3\" y=\"-3\"/><text class=\"lab\" transform=\"translate(0 11)\">2</text></g><g class=\"a6 i2 leaf node n4 p0 sample\" transform=\"translate(13 4.87378)\"><path class=\"edge\" d=\"M 0 0 V -4.87378 H -13\"/><rect class=\"sym\" height=\"6\" width=\"6\" x=\"-3\" y=\"-3\"/><text class=\"lab\" transform=\"translate(0 11)\">4</text></g><path class=\"edge\" d=\"M 0 0 V -26.4406 H 19.5\"/><circle class=\"sym\" cx=\"0\" cy=\"0\" r=\"3\"/><text class=\"lab lft\" transform=\"translate(-3 -7.0)\">6</text></g><path class=\"edge\" d=\"M 0 0 V -1.57699 H -29.25\"/><circle class=\"sym\" cx=\"0\" cy=\"0\" r=\"3\"/><text class=\"lab rgt\" transform=\"translate(3 -7.0)\">10</text></g><path class=\"edge\" d=\"M 0 0 V -61.7086 H -34.125\"/><circle class=\"sym\" cx=\"0\" cy=\"0\" r=\"3\"/><text class=\"lab rgt\" transform=\"translate(3 -7.0)\">11</text></g><circle class=\"sym\" cx=\"0\" cy=\"0\" r=\"3\"/><text class=\"lab\" transform=\"translate(0 -11)\">17</text></g></g></g><g class=\"tree t2\" transform=\"translate(412 0)\"><g class=\"plotbox\"><g class=\"c2 node n17 p0 root\" transform=\"translate(85 26.8)\"><g class=\"a17 c2 node n9 p0\" transform=\"translate(-39 73.1923)\"><g class=\"a9 i0 leaf node n0 p0 sample\" transform=\"translate(-13 21.4077)\"><path class=\"edge\" d=\"M 0 0 V -21.4077 H 13\"/><rect class=\"sym\" height=\"6\" width=\"6\" x=\"-3\" y=\"-3\"/><text class=\"lab\" transform=\"translate(0 11)\">0</text></g><g class=\"a9 i1 leaf node n3 p0 sample\" transform=\"translate(13 21.4077)\"><path class=\"edge\" d=\"M 0 0 V -21.4077 H -13\"/><rect class=\"sym\" height=\"6\" width=\"6\" x=\"-3\" y=\"-3\"/><text class=\"lab\" transform=\"translate(0 11)\">3</text></g><path class=\"edge\" d=\"M 0 0 V -73.1923 H 39\"/><circle class=\"sym\" cx=\"0\" cy=\"0\" r=\"3\"/><text class=\"lab lft\" transform=\"translate(-3 -7.0)\">9</text></g><g class=\"a17 c2 node n10 p0\" transform=\"translate(39 63.2856)\"><g class=\"a10 c2 node n6 p0\" transform=\"translate(26 26.4406)\"><g class=\"a6 i1 leaf node n2 p0 sample\" transform=\"translate(-13 4.87378)\"><path class=\"edge\" d=\"M 0 0 V -4.87378 H 13\"/><rect class=\"sym\" height=\"6\" width=\"6\" x=\"-3\" y=\"-3\"/><text class=\"lab\" transform=\"translate(0 11)\">2</text></g><g class=\"a6 i2 leaf node n4 p0 sample\" transform=\"translate(13 4.87378)\"><path class=\"edge\" d=\"M 0 0 V -4.87378 H -13\"/><rect class=\"sym\" height=\"6\" width=\"6\" x=\"-3\" y=\"-3\"/><text class=\"lab\" transform=\"translate(0 11)\">4</text></g><path class=\"edge\" d=\"M 0 0 V -26.4406 H -26\"/><circle class=\"sym\" cx=\"0\" cy=\"0\" r=\"3\"/><text class=\"lab rgt\" transform=\"translate(3 -7.0)\">6</text></g><g class=\"a10 c2 node n7 p0\" transform=\"translate(-26 25.8758)\"><g class=\"a7 i0 leaf node n1 p0 sample\" transform=\"translate(-13 5.4386)\"><path class=\"edge\" d=\"M 0 0 V -5.4386 H 13\"/><rect class=\"sym\" height=\"6\" width=\"6\" x=\"-3\" y=\"-3\"/><text class=\"lab\" transform=\"translate(0 11)\">1</text></g><g class=\"a7 i2 leaf node n5 p0 sample\" transform=\"translate(13 5.4386)\"><path class=\"edge\" d=\"M 0 0 V -5.4386 H -13\"/><rect class=\"sym\" height=\"6\" width=\"6\" x=\"-3\" y=\"-3\"/><text class=\"lab\" transform=\"translate(0 11)\">5</text></g><path class=\"edge\" d=\"M 0 0 V -25.8758 H 26\"/><circle class=\"sym\" cx=\"0\" cy=\"0\" r=\"3\"/><text class=\"lab lft\" transform=\"translate(-3 -7.0)\">7</text></g><path class=\"edge\" d=\"M 0 0 V -63.2856 H -39\"/><circle class=\"sym\" cx=\"0\" cy=\"0\" r=\"3\"/><text class=\"lab rgt\" transform=\"translate(3 -7.0)\">10</text></g><circle class=\"sym\" cx=\"0\" cy=\"0\" r=\"3\"/><text class=\"lab\" transform=\"translate(0 -11)\">17</text></g></g></g><g class=\"tree t3\" transform=\"translate(608 0)\"><g class=\"plotbox\"><g class=\"c2 node n17 p0 root\" transform=\"translate(85 26.8)\"><g class=\"a17 c2 node n9 p0\" transform=\"translate(-39 73.1923)\"><g class=\"a9 i0 leaf node n0 p0 sample\" transform=\"translate(-13 21.4077)\"><path class=\"edge\" d=\"M 0 0 V -21.4077 H 13\"/><rect class=\"sym\" height=\"6\" width=\"6\" x=\"-3\" y=\"-3\"/><text class=\"lab\" transform=\"translate(0 11)\">0</text></g><g class=\"a9 i1 leaf node n3 p0 sample\" transform=\"translate(13 21.4077)\"><path class=\"edge\" d=\"M 0 0 V -21.4077 H -13\"/><rect class=\"sym\" height=\"6\" width=\"6\" x=\"-3\" y=\"-3\"/><text class=\"lab\" transform=\"translate(0 11)\">3</text></g><path class=\"edge\" d=\"M 0 0 V -73.1923 H 39\"/><circle class=\"sym\" cx=\"0\" cy=\"0\" r=\"3\"/><text class=\"lab lft\" transform=\"translate(-3 -7.0)\">9</text></g><g class=\"a17 c2 node n11 p0\" transform=\"translate(39 61.7086)\"><g class=\"a11 c2 node n6 p0\" transform=\"translate(26 28.0176)\"><g class=\"a6 i1 leaf node n2 p0 sample\" transform=\"translate(-13 4.87378)\"><path class=\"edge\" d=\"M 0 0 V -4.87378 H 13\"/><rect class=\"sym\" height=\"6\" width=\"6\" x=\"-3\" y=\"-3\"/><text class=\"lab\" transform=\"translate(0 11)\">2</text></g><g class=\"a6 i2 leaf node n4 p0 sample\" transform=\"translate(13 4.87378)\"><path class=\"edge\" d=\"M 0 0 V -4.87378 H -13\"/><rect class=\"sym\" height=\"6\" width=\"6\" x=\"-3\" y=\"-3\"/><text class=\"lab\" transform=\"translate(0 11)\">4</text></g><path class=\"edge\" d=\"M 0 0 V -28.0176 H -26\"/><circle class=\"sym\" cx=\"0\" cy=\"0\" r=\"3\"/><text class=\"lab rgt\" transform=\"translate(3 -7.0)\">6</text></g><g class=\"a11 c2 node n7 p0\" transform=\"translate(-26 27.4528)\"><g class=\"a7 i0 leaf node n1 p0 sample\" transform=\"translate(-13 5.4386)\"><path class=\"edge\" d=\"M 0 0 V -5.4386 H 13\"/><rect class=\"sym\" height=\"6\" width=\"6\" x=\"-3\" y=\"-3\"/><text class=\"lab\" transform=\"translate(0 11)\">1</text></g><g class=\"a7 i2 leaf node n5 p0 sample\" transform=\"translate(13 5.4386)\"><path class=\"edge\" d=\"M 0 0 V -5.4386 H -13\"/><rect class=\"sym\" height=\"6\" width=\"6\" x=\"-3\" y=\"-3\"/><text class=\"lab\" transform=\"translate(0 11)\">5</text></g><path class=\"edge\" d=\"M 0 0 V -27.4528 H 26\"/><circle class=\"sym\" cx=\"0\" cy=\"0\" r=\"3\"/><text class=\"lab lft\" transform=\"translate(-3 -7.0)\">7</text></g><path class=\"edge\" d=\"M 0 0 V -61.7086 H -39\"/><circle class=\"sym\" cx=\"0\" cy=\"0\" r=\"3\"/><text class=\"lab rgt\" transform=\"translate(3 -7.0)\">11</text></g><circle class=\"sym\" cx=\"0\" cy=\"0\" r=\"3\"/><text class=\"lab\" transform=\"translate(0 -11)\">17</text></g></g></g><g class=\"tree t4\" transform=\"translate(804 0)\"><g class=\"plotbox\"><g class=\"c2 node n14 p0 root\" transform=\"translate(85 54.7901)\"><g class=\"a14 c2 node n9 p0\" transform=\"translate(-39 45.2022)\"><g class=\"a9 i0 leaf node n0 p0 sample\" transform=\"translate(-13 21.4077)\"><path class=\"edge\" d=\"M 0 0 V -21.4077 H 13\"/><rect class=\"sym\" height=\"6\" width=\"6\" x=\"-3\" y=\"-3\"/><text class=\"lab\" transform=\"translate(0 11)\">0</text></g><g class=\"a9 i1 leaf node n3 p0 sample\" transform=\"translate(13 21.4077)\"><path class=\"edge\" d=\"M 0 0 V -21.4077 H -13\"/><rect class=\"sym\" height=\"6\" width=\"6\" x=\"-3\" y=\"-3\"/><text class=\"lab\" transform=\"translate(0 11)\">3</text></g><path class=\"edge\" d=\"M 0 0 V -45.2022 H 39\"/><circle class=\"sym\" cx=\"0\" cy=\"0\" r=\"3\"/><text class=\"lab lft\" transform=\"translate(-3 -7.0)\">9</text></g><g class=\"a14 c2 node n11 p0\" transform=\"translate(39 33.7185)\"><g class=\"a11 c2 node n6 p0\" transform=\"translate(26 28.0176)\"><g class=\"a6 i1 leaf node n2 p0 sample\" transform=\"translate(-13 4.87378)\"><path class=\"edge\" d=\"M 0 0 V -4.87378 H 13\"/><rect class=\"sym\" height=\"6\" width=\"6\" x=\"-3\" y=\"-3\"/><text class=\"lab\" transform=\"translate(0 11)\">2</text></g><g class=\"a6 i2 leaf node n4 p0 sample\" transform=\"translate(13 4.87378)\"><path class=\"edge\" d=\"M 0 0 V -4.87378 H -13\"/><rect class=\"sym\" height=\"6\" width=\"6\" x=\"-3\" y=\"-3\"/><text class=\"lab\" transform=\"translate(0 11)\">4</text></g><path class=\"edge\" d=\"M 0 0 V -28.0176 H -26\"/><circle class=\"sym\" cx=\"0\" cy=\"0\" r=\"3\"/><text class=\"lab rgt\" transform=\"translate(3 -7.0)\">6</text></g><g class=\"a11 c2 node n7 p0\" transform=\"translate(-26 27.4528)\"><g class=\"a7 i0 leaf node n1 p0 sample\" transform=\"translate(-13 5.4386)\"><path class=\"edge\" d=\"M 0 0 V -5.4386 H 13\"/><rect class=\"sym\" height=\"6\" width=\"6\" x=\"-3\" y=\"-3\"/><text class=\"lab\" transform=\"translate(0 11)\">1</text></g><g class=\"a7 i2 leaf node n5 p0 sample\" transform=\"translate(13 5.4386)\"><path class=\"edge\" d=\"M 0 0 V -5.4386 H -13\"/><rect class=\"sym\" height=\"6\" width=\"6\" x=\"-3\" y=\"-3\"/><text class=\"lab\" transform=\"translate(0 11)\">5</text></g><path class=\"edge\" d=\"M 0 0 V -27.4528 H 26\"/><circle class=\"sym\" cx=\"0\" cy=\"0\" r=\"3\"/><text class=\"lab lft\" transform=\"translate(-3 -7.0)\">7</text></g><path class=\"edge\" d=\"M 0 0 V -33.7185 H -39\"/><circle class=\"sym\" cx=\"0\" cy=\"0\" r=\"3\"/><text class=\"lab rgt\" transform=\"translate(3 -7.0)\">11</text></g><circle class=\"sym\" cx=\"0\" cy=\"0\" r=\"3\"/><text class=\"lab\" transform=\"translate(0 -11)\">14</text></g></g></g><g class=\"tree t5\" transform=\"translate(1000 0)\"><g class=\"plotbox\"><g class=\"c2 node n17 p0 root\" transform=\"translate(119.125 26.8)\"><g class=\"a17 i2 leaf node n5 p0 sample\" transform=\"translate(43.875 94.6)\"><path class=\"edge\" d=\"M 0 0 V -94.6 H -43.875\"/><rect class=\"sym\" height=\"6\" width=\"6\" x=\"-3\" y=\"-3\"/><text class=\"lab\" transform=\"translate(0 11)\">5</text></g><g class=\"a17 c2 node n14 p0\" transform=\"translate(-43.875 27.9901)\"><g class=\"a14 c2 node n9 p0\" transform=\"translate(-29.25 45.2022)\"><g class=\"a9 i0 leaf node n0 p0 sample\" transform=\"translate(-13 21.4077)\"><path class=\"edge\" d=\"M 0 0 V -21.4077 H 13\"/><rect class=\"sym\" height=\"6\" width=\"6\" x=\"-3\" y=\"-3\"/><text class=\"lab\" transform=\"translate(0 11)\">0</text></g><g class=\"a9 i1 leaf node n3 p0 sample\" transform=\"translate(13 21.4077)\"><path class=\"edge\" d=\"M 0 0 V -21.4077 H -13\"/><rect class=\"sym\" height=\"6\" width=\"6\" x=\"-3\" y=\"-3\"/><text class=\"lab\" transform=\"translate(0 11)\">3</text></g><path class=\"edge\" d=\"M 0 0 V -45.2022 H 29.25\"/><circle class=\"sym\" cx=\"0\" cy=\"0\" r=\"3\"/><text class=\"lab lft\" transform=\"translate(-3 -7.0)\">9</text></g><g class=\"a14 c2 node n11 p0\" transform=\"translate(29.25 33.7185)\"><g class=\"a11 c2 node n6 p0\" transform=\"translate(19.5 28.0176)\"><g class=\"a6 i1 leaf node n2 p0 sample\" transform=\"translate(-13 4.87378)\"><path class=\"edge\" d=\"M 0 0 V -4.87378 H 13\"/><rect class=\"sym\" height=\"6\" width=\"6\" x=\"-3\" y=\"-3\"/><text class=\"lab\" transform=\"translate(0 11)\">2</text></g><g class=\"a6 i2 leaf node n4 p0 sample\" transform=\"translate(13 4.87378)\"><path class=\"edge\" d=\"M 0 0 V -4.87378 H -13\"/><rect class=\"sym\" height=\"6\" width=\"6\" x=\"-3\" y=\"-3\"/><text class=\"lab\" transform=\"translate(0 11)\">4</text></g><path class=\"edge\" d=\"M 0 0 V -28.0176 H -19.5\"/><circle class=\"sym\" cx=\"0\" cy=\"0\" r=\"3\"/><text class=\"lab rgt\" transform=\"translate(3 -7.0)\">6</text></g><g class=\"a11 i0 leaf node n1 p0 sample\" transform=\"translate(-19.5 32.8914)\"><path class=\"edge\" d=\"M 0 0 V -32.8914 H 19.5\"/><rect class=\"sym\" height=\"6\" width=\"6\" x=\"-3\" y=\"-3\"/><text class=\"lab\" transform=\"translate(0 11)\">1</text></g><path class=\"edge\" d=\"M 0 0 V -33.7185 H -29.25\"/><circle class=\"sym\" cx=\"0\" cy=\"0\" r=\"3\"/><text class=\"lab rgt\" transform=\"translate(3 -7.0)\">11</text></g><path class=\"edge\" d=\"M 0 0 V -27.9901 H 43.875\"/><circle class=\"sym\" cx=\"0\" cy=\"0\" r=\"3\"/><text class=\"lab lft\" transform=\"translate(-3 -7.0)\">14</text></g><circle class=\"sym\" cx=\"0\" cy=\"0\" r=\"3\"/><text class=\"lab\" transform=\"translate(0 -11)\">17</text></g></g></g><g class=\"tree t6\" transform=\"translate(1196 0)\"><g class=\"plotbox\"><g class=\"c2 node n17 p0 root\" transform=\"translate(89.875 26.8)\"><g class=\"a17 c2 node n14 p0\" transform=\"translate(43.875 27.9901)\"><g class=\"a14 c2 node n11 p0\" transform=\"translate(-29.25 33.7185)\"><g class=\"a11 c2 node n6 p0\" transform=\"translate(19.5 28.0176)\"><g class=\"a6 i1 leaf node n2 p0 sample\" transform=\"translate(-13 4.87378)\"><path class=\"edge\" d=\"M 0 0 V -4.87378 H 13\"/><rect class=\"sym\" height=\"6\" width=\"6\" x=\"-3\" y=\"-3\"/><text class=\"lab\" transform=\"translate(0 11)\">2</text></g><g class=\"a6 i2 leaf node n4 p0 sample\" transform=\"translate(13 4.87378)\"><path class=\"edge\" d=\"M 0 0 V -4.87378 H -13\"/><rect class=\"sym\" height=\"6\" width=\"6\" x=\"-3\" y=\"-3\"/><text class=\"lab\" transform=\"translate(0 11)\">4</text></g><path class=\"edge\" d=\"M 0 0 V -28.0176 H -19.5\"/><circle class=\"sym\" cx=\"0\" cy=\"0\" r=\"3\"/><text class=\"lab rgt\" transform=\"translate(3 -7.0)\">6</text></g><g class=\"a11 i0 leaf node n1 p0 sample\" transform=\"translate(-19.5 32.8914)\"><path class=\"edge\" d=\"M 0 0 V -32.8914 H 19.5\"/><rect class=\"sym\" height=\"6\" width=\"6\" x=\"-3\" y=\"-3\"/><text class=\"lab\" transform=\"translate(0 11)\">1</text></g><path class=\"edge\" d=\"M 0 0 V -33.7185 H 29.25\"/><circle class=\"sym\" cx=\"0\" cy=\"0\" r=\"3\"/><text class=\"lab lft\" transform=\"translate(-3 -7.0)\">11</text></g><g class=\"a14 i1 leaf node n3 p0 sample\" transform=\"translate(29.25 66.6099)\"><path class=\"edge\" d=\"M 0 0 V -66.6099 H -29.25\"/><rect class=\"sym\" height=\"6\" width=\"6\" x=\"-3\" y=\"-3\"/><text class=\"lab\" transform=\"translate(0 11)\">3</text></g><path class=\"edge\" d=\"M 0 0 V -27.9901 H -43.875\"/><circle class=\"sym\" cx=\"0\" cy=\"0\" r=\"3\"/><text class=\"lab rgt\" transform=\"translate(3 -7.0)\">14</text></g><g class=\"a17 c2 node n12 p0\" transform=\"translate(-43.875 48.522)\"><g class=\"a12 i0 leaf node n0 p0 sample\" transform=\"translate(-13 46.078)\"><path class=\"edge\" d=\"M 0 0 V -46.078 H 13\"/><rect class=\"sym\" height=\"6\" width=\"6\" x=\"-3\" y=\"-3\"/><text class=\"lab\" transform=\"translate(0 11)\">0</text></g><g class=\"a12 i2 leaf node n5 p0 sample\" transform=\"translate(13 46.078)\"><path class=\"edge\" d=\"M 0 0 V -46.078 H -13\"/><rect class=\"sym\" height=\"6\" width=\"6\" x=\"-3\" y=\"-3\"/><text class=\"lab\" transform=\"translate(0 11)\">5</text></g><path class=\"edge\" d=\"M 0 0 V -48.522 H 43.875\"/><circle class=\"sym\" cx=\"0\" cy=\"0\" r=\"3\"/><text class=\"lab lft\" transform=\"translate(-3 -7.0)\">12</text></g><circle class=\"sym\" cx=\"0\" cy=\"0\" r=\"3\"/><text class=\"lab\" transform=\"translate(0 -11)\">17</text></g></g></g><g class=\"tree t7\" transform=\"translate(1392 0)\"><g class=\"plotbox\"><g class=\"c2 node n17 p0 root\" transform=\"translate(89.875 26.8)\"><g class=\"a17 c2 node n12 p0\" transform=\"translate(-43.875 48.522)\"><g class=\"a12 i0 leaf node n0 p0 sample\" transform=\"translate(-13 46.078)\"><path class=\"edge\" d=\"M 0 0 V -46.078 H 13\"/><rect class=\"sym\" height=\"6\" width=\"6\" x=\"-3\" y=\"-3\"/><text class=\"lab\" transform=\"translate(0 11)\">0</text></g><g class=\"a12 i2 leaf node n5 p0 sample\" transform=\"translate(13 46.078)\"><path class=\"edge\" d=\"M 0 0 V -46.078 H -13\"/><rect class=\"sym\" height=\"6\" width=\"6\" x=\"-3\" y=\"-3\"/><text class=\"lab\" transform=\"translate(0 11)\">5</text></g><path class=\"edge\" d=\"M 0 0 V -48.522 H 43.875\"/><circle class=\"sym\" cx=\"0\" cy=\"0\" r=\"3\"/><text class=\"lab lft\" transform=\"translate(-3 -7.0)\">12</text></g><g class=\"a17 c2 node n13 p0\" transform=\"translate(43.875 31.4067)\"><g class=\"a13 i1 leaf node n3 p0 sample\" transform=\"translate(29.25 63.1933)\"><path class=\"edge\" d=\"M 0 0 V -63.1933 H -29.25\"/><rect class=\"sym\" height=\"6\" width=\"6\" x=\"-3\" y=\"-3\"/><text class=\"lab\" transform=\"translate(0 11)\">3</text></g><g class=\"a13 c2 node n11 p0\" transform=\"translate(-29.25 30.3019)\"><g class=\"a11 c2 node n6 p0\" transform=\"translate(19.5 28.0176)\"><g class=\"a6 i1 leaf node n2 p0 sample\" transform=\"translate(-13 4.87378)\"><path class=\"edge\" d=\"M 0 0 V -4.87378 H 13\"/><rect class=\"sym\" height=\"6\" width=\"6\" x=\"-3\" y=\"-3\"/><text class=\"lab\" transform=\"translate(0 11)\">2</text></g><g class=\"a6 i2 leaf node n4 p0 sample\" transform=\"translate(13 4.87378)\"><path class=\"edge\" d=\"M 0 0 V -4.87378 H -13\"/><rect class=\"sym\" height=\"6\" width=\"6\" x=\"-3\" y=\"-3\"/><text class=\"lab\" transform=\"translate(0 11)\">4</text></g><path class=\"edge\" d=\"M 0 0 V -28.0176 H -19.5\"/><circle class=\"sym\" cx=\"0\" cy=\"0\" r=\"3\"/><text class=\"lab rgt\" transform=\"translate(3 -7.0)\">6</text></g><g class=\"a11 i0 leaf node n1 p0 sample\" transform=\"translate(-19.5 32.8914)\"><path class=\"edge\" d=\"M 0 0 V -32.8914 H 19.5\"/><rect class=\"sym\" height=\"6\" width=\"6\" x=\"-3\" y=\"-3\"/><text class=\"lab\" transform=\"translate(0 11)\">1</text></g><path class=\"edge\" d=\"M 0 0 V -30.3019 H 29.25\"/><circle class=\"sym\" cx=\"0\" cy=\"0\" r=\"3\"/><text class=\"lab lft\" transform=\"translate(-3 -7.0)\">11</text></g><path class=\"edge\" d=\"M 0 0 V -31.4067 H -43.875\"/><circle class=\"sym\" cx=\"0\" cy=\"0\" r=\"3\"/><text class=\"lab rgt\" transform=\"translate(3 -7.0)\">13</text></g><circle class=\"sym\" cx=\"0\" cy=\"0\" r=\"3\"/><text class=\"lab\" transform=\"translate(0 -11)\">17</text></g></g></g><g class=\"tree t8\" transform=\"translate(1588 0)\"><g class=\"plotbox\"><g class=\"c2 node n15 p0 root\" transform=\"translate(89.875 43.8591)\"><g class=\"a15 c2 node n12 p0\" transform=\"translate(-43.875 31.463)\"><g class=\"a12 i0 leaf node n0 p0 sample\" transform=\"translate(-13 46.078)\"><path class=\"edge\" d=\"M 0 0 V -46.078 H 13\"/><rect class=\"sym\" height=\"6\" width=\"6\" x=\"-3\" y=\"-3\"/><text class=\"lab\" transform=\"translate(0 11)\">0</text></g><g class=\"a12 i2 leaf node n5 p0 sample\" transform=\"translate(13 46.078)\"><path class=\"edge\" d=\"M 0 0 V -46.078 H -13\"/><rect class=\"sym\" height=\"6\" width=\"6\" x=\"-3\" y=\"-3\"/><text class=\"lab\" transform=\"translate(0 11)\">5</text></g><path class=\"edge\" d=\"M 0 0 V -31.463 H 43.875\"/><circle class=\"sym\" cx=\"0\" cy=\"0\" r=\"3\"/><text class=\"lab lft\" transform=\"translate(-3 -7.0)\">12</text></g><g class=\"a15 c2 node n13 p0\" transform=\"translate(43.875 14.3477)\"><g class=\"a13 i1 leaf node n3 p0 sample\" transform=\"translate(29.25 63.1933)\"><path class=\"edge\" d=\"M 0 0 V -63.1933 H -29.25\"/><rect class=\"sym\" height=\"6\" width=\"6\" x=\"-3\" y=\"-3\"/><text class=\"lab\" transform=\"translate(0 11)\">3</text></g><g class=\"a13 c2 node n11 p0\" transform=\"translate(-29.25 30.3019)\"><g class=\"a11 c2 node n6 p0\" transform=\"translate(19.5 28.0176)\"><g class=\"a6 i1 leaf node n2 p0 sample\" transform=\"translate(-13 4.87378)\"><path class=\"edge\" d=\"M 0 0 V -4.87378 H 13\"/><rect class=\"sym\" height=\"6\" width=\"6\" x=\"-3\" y=\"-3\"/><text class=\"lab\" transform=\"translate(0 11)\">2</text></g><g class=\"a6 i2 leaf node n4 p0 sample\" transform=\"translate(13 4.87378)\"><path class=\"edge\" d=\"M 0 0 V -4.87378 H -13\"/><rect class=\"sym\" height=\"6\" width=\"6\" x=\"-3\" y=\"-3\"/><text class=\"lab\" transform=\"translate(0 11)\">4</text></g><path class=\"edge\" d=\"M 0 0 V -28.0176 H -19.5\"/><circle class=\"sym\" cx=\"0\" cy=\"0\" r=\"3\"/><text class=\"lab rgt\" transform=\"translate(3 -7.0)\">6</text></g><g class=\"a11 i0 leaf node n1 p0 sample\" transform=\"translate(-19.5 32.8914)\"><path class=\"edge\" d=\"M 0 0 V -32.8914 H 19.5\"/><rect class=\"sym\" height=\"6\" width=\"6\" x=\"-3\" y=\"-3\"/><text class=\"lab\" transform=\"translate(0 11)\">1</text></g><path class=\"edge\" d=\"M 0 0 V -30.3019 H 29.25\"/><circle class=\"sym\" cx=\"0\" cy=\"0\" r=\"3\"/><text class=\"lab lft\" transform=\"translate(-3 -7.0)\">11</text></g><path class=\"edge\" d=\"M 0 0 V -14.3477 H -43.875\"/><circle class=\"sym\" cx=\"0\" cy=\"0\" r=\"3\"/><text class=\"lab rgt\" transform=\"translate(3 -7.0)\">13</text></g><circle class=\"sym\" cx=\"0\" cy=\"0\" r=\"3\"/><text class=\"lab\" transform=\"translate(0 -11)\">15</text></g></g></g><g class=\"tree t9\" transform=\"translate(1784 0)\"><g class=\"plotbox\"><g class=\"c2 node n16 p0 root\" transform=\"translate(119.125 29.8767)\"><g class=\"a16 i1 leaf node n3 p0 sample\" transform=\"translate(43.875 91.5233)\"><path class=\"edge\" d=\"M 0 0 V -91.5233 H -43.875\"/><rect class=\"sym\" height=\"6\" width=\"6\" x=\"-3\" y=\"-3\"/><text class=\"lab\" transform=\"translate(0 11)\">3</text></g><g class=\"a16 c2 node n15 p0\" transform=\"translate(-43.875 13.9823)\"><g class=\"a15 c2 node n12 p0\" transform=\"translate(-29.25 31.463)\"><g class=\"a12 i0 leaf node n0 p0 sample\" transform=\"translate(-13 46.078)\"><path class=\"edge\" d=\"M 0 0 V -46.078 H 13\"/><rect class=\"sym\" height=\"6\" width=\"6\" x=\"-3\" y=\"-3\"/><text class=\"lab\" transform=\"translate(0 11)\">0</text></g><g class=\"a12 i2 leaf node n5 p0 sample\" transform=\"translate(13 46.078)\"><path class=\"edge\" d=\"M 0 0 V -46.078 H -13\"/><rect class=\"sym\" height=\"6\" width=\"6\" x=\"-3\" y=\"-3\"/><text class=\"lab\" transform=\"translate(0 11)\">5</text></g><path class=\"edge\" d=\"M 0 0 V -31.463 H 29.25\"/><circle class=\"sym\" cx=\"0\" cy=\"0\" r=\"3\"/><text class=\"lab lft\" transform=\"translate(-3 -7.0)\">12</text></g><g class=\"a15 c2 node n11 p0\" transform=\"translate(29.25 44.6495)\"><g class=\"a11 c2 node n6 p0\" transform=\"translate(19.5 28.0176)\"><g class=\"a6 i1 leaf node n2 p0 sample\" transform=\"translate(-13 4.87378)\"><path class=\"edge\" d=\"M 0 0 V -4.87378 H 13\"/><rect class=\"sym\" height=\"6\" width=\"6\" x=\"-3\" y=\"-3\"/><text class=\"lab\" transform=\"translate(0 11)\">2</text></g><g class=\"a6 i2 leaf node n4 p0 sample\" transform=\"translate(13 4.87378)\"><path class=\"edge\" d=\"M 0 0 V -4.87378 H -13\"/><rect class=\"sym\" height=\"6\" width=\"6\" x=\"-3\" y=\"-3\"/><text class=\"lab\" transform=\"translate(0 11)\">4</text></g><path class=\"edge\" d=\"M 0 0 V -28.0176 H -19.5\"/><circle class=\"sym\" cx=\"0\" cy=\"0\" r=\"3\"/><text class=\"lab rgt\" transform=\"translate(3 -7.0)\">6</text></g><g class=\"a11 i0 leaf node n1 p0 sample\" transform=\"translate(-19.5 32.8914)\"><path class=\"edge\" d=\"M 0 0 V -32.8914 H 19.5\"/><rect class=\"sym\" height=\"6\" width=\"6\" x=\"-3\" y=\"-3\"/><text class=\"lab\" transform=\"translate(0 11)\">1</text></g><path class=\"edge\" d=\"M 0 0 V -44.6495 H -29.25\"/><circle class=\"sym\" cx=\"0\" cy=\"0\" r=\"3\"/><text class=\"lab rgt\" transform=\"translate(3 -7.0)\">11</text></g><path class=\"edge\" d=\"M 0 0 V -13.9823 H 43.875\"/><circle class=\"sym\" cx=\"0\" cy=\"0\" r=\"3\"/><text class=\"lab lft\" transform=\"translate(-3 -7.0)\">15</text></g><circle class=\"sym\" cx=\"0\" cy=\"0\" r=\"3\"/><text class=\"lab\" transform=\"translate(0 -11)\">16</text></g></g></g></g></g></svg>"
      ],
      "text/plain": [
       "<IPython.core.display.SVG object>"
      ]
     },
     "execution_count": 4,
     "metadata": {},
     "output_type": "execute_result"
    }
   ],
   "source": [
    "SVG(ts.draw_svg())"
   ]
  },
  {
   "cell_type": "code",
   "execution_count": 61,
   "id": "eef9ae48",
   "metadata": {},
   "outputs": [],
   "source": [
    "# from https://github.com/tskit-dev/tskit/issues/2118\n",
    "\n",
    "def mirror_coordinates(ts):\n",
    "    \"\"\"\n",
    "    Returns a copy of the specified tables in which all\n",
    "    coordinates x are transformed into L - x.\n",
    "    \"\"\"\n",
    "    L = ts.sequence_length\n",
    "    tables = ts.dump_tables()\n",
    "    left = tables.edges.left\n",
    "    right = tables.edges.right\n",
    "    tables.edges.left = L - right\n",
    "    tables.edges.right = L - left\n",
    "    tables.sites.position = L - tables.sites.position - 1\n",
    "    tables.sort()\n",
    "    return tables.tree_sequence()\n",
    "\n",
    "def forward_extend(ts, verbose=False, return_tables=False):\n",
    "    edgediffs = ts.edge_diffs()\n",
    "    # skip first tree\n",
    "    num_edges = np.full(ts.num_nodes, 0)\n",
    "    (_, edges_out, edges_in) = next(edgediffs)\n",
    "    assert len(edges_out) == 0\n",
    "    for e in edges_in:\n",
    "        num_edges[e.parent] += 1\n",
    "        num_edges[e.child] += 1\n",
    "\n",
    "\n",
    "    t = ts.tables\n",
    "    edges = t.edges\n",
    "    new_left = edges.left\n",
    "    new_right = edges.right\n",
    "\n",
    "    pending_out = []\n",
    "    pending_in = []\n",
    "    for (interval, edges_out, edges_in) in edgediffs:\n",
    "        edges_out.extend(pending_out)\n",
    "        edges_in.extend(pending_in)\n",
    "        # first update number of referring edges to what will happen after these are removed/added\n",
    "        for e in edges_out:\n",
    "            num_edges[e.parent] -= 1\n",
    "            num_edges[e.child] -=1\n",
    "        for e in edges_in:\n",
    "            num_edges[e.parent] += 1\n",
    "            num_edges[e.child] +=1\n",
    "        print(num_edges)\n",
    "        assert np.all(num_edges >= 0)\n",
    "        pending_out = []\n",
    "        pending_in = []\n",
    "        extended = [False for _ in edges_out]\n",
    "        for j1, e1 in enumerate(edges_out):\n",
    "            if not extended[j1]:\n",
    "                for j2, e2 in enumerate(edges_out):\n",
    "                    if not extended[j2]:\n",
    "                        # need the intermediate node to not be present in the new tree\n",
    "                        if (e1.parent == e2.child) and (num_edges[e2.child] == 0):\n",
    "                            for e_in in edges_in:\n",
    "                                if e_in.right > interval.left:\n",
    "                                    if e1.child == e_in.child and e2.parent == e_in.parent:\n",
    "                                        # extend e2->e1 and postpone e_in\n",
    "                                        # print(\"     \", interval, e1.child, \"-\", e1.parent, \"-\", e2.parent, \" -> \", e_in)\n",
    "                                        if verbose:\n",
    "                                            print(\"ping!!\", e1.id, \"+\", e2.id, \"=\", e_in.id)\n",
    "                                        # extend e1 and e2, postpone e_in\n",
    "                                        extended[j1] = True\n",
    "                                        extended[j2] = True\n",
    "                                        pending_out.extend([e1, e2])\n",
    "                                        pending_in.append(e_in)\n",
    "                                        new_right[e1.id] = interval.right\n",
    "                                        new_right[e2.id] = interval.right\n",
    "                                        new_left[e_in.id] = interval.right\n",
    "                                        # amend num_edges: the intermediate node has 2 edges instead of 1\n",
    "                                        num_edges[e1.parent] += 1\n",
    "    keep = new_left < new_right\n",
    "    edges.set_columns(\n",
    "        left=new_left[keep],\n",
    "        right=new_right[keep],\n",
    "        parent=edges.parent[keep],\n",
    "        child=edges.child[keep])\n",
    "    if return_tables:\n",
    "        return t\n",
    "    else:\n",
    "        return t.tree_sequence()\n",
    "\n",
    "\n",
    "def extend_edges(ts, max_iter=100, verbose=False):\n",
    "    num_edges = [ts.num_edges]\n",
    "    for _ in range(max_iter):\n",
    "        if verbose:\n",
    "            print(\"Forwards\")\n",
    "        ts = forward_extend(ts, verbose=verbose)\n",
    "        ts = mirror_coordinates(ts)\n",
    "        if verbose:\n",
    "            print(\"Reverse\")\n",
    "        ts = forward_extend(ts, verbose=verbose)\n",
    "        ts = mirror_coordinates(ts)\n",
    "        if ts.num_edges == num_edges[-1]:\n",
    "            break\n",
    "        else:\n",
    "            num_edges.append(ts.num_edges)\n",
    "    return ts, num_edges"
   ]
  },
  {
   "cell_type": "code",
   "execution_count": 45,
   "id": "979e8f02",
   "metadata": {},
   "outputs": [
    {
     "name": "stdout",
     "output_type": "stream",
     "text": [
      "ping!! 8 + 14 = 11\n",
      "ping!! 6 + 12 = 10\n",
      "ping!! 9 + 13 = 11\n",
      "ping!! 6 + 12 = 10\n",
      "[23, 20]\n"
     ]
    },
    {
     "data": {
      "image/svg+xml": [
       "<svg xmlns=\"http://www.w3.org/2000/svg\" xmlns:ev=\"http://www.w3.org/2001/xml-events\" xmlns:xlink=\"http://www.w3.org/1999/xlink\" baseProfile=\"full\" height=\"200\" version=\"1.1\" width=\"1200\"><defs><style type=\"text/css\"><![CDATA[.background path {fill: #808080; fill-opacity: 0}.background path:nth-child(odd) {fill-opacity: .1}.axes {font-size: 14px}.x-axis .tick .lab {font-weight: bold; dominant-baseline: hanging}.axes, .tree {font-size: 14px; text-anchor: middle}.axes line, .edge {stroke: black; fill: none}.y-axis .grid {stroke: #FAFAFA}.node > .sym {fill: black; stroke: none}.site > .sym {stroke: black}.mut text {fill: red; font-style: italic}.mut.extra text {fill: hotpink}.mut line {fill: none; stroke: none}.mut .sym {fill: none; stroke: red}.mut.extra .sym {stroke: hotpink}.node .mut .sym {stroke-width: 1.5px}.tree text, .tree-sequence text {dominant-baseline: central}.plotbox .lab.lft {text-anchor: end}.plotbox .lab.rgt {text-anchor: start}]]></style></defs><g class=\"tree-sequence\"><g class=\"background\"><path d=\"M20,0 l193.333,0 l0,138.2 l-30.8289,25 l0,5 l-162.504,0 l0,-5 l0,-25 l0,-138.2z\"/><path d=\"M213.333,0 l193.333,0 l0,138.2 l199.783,25 l0,5 l-423.945,0 l0,-5 l30.8289,-25 l0,-138.2z\"/><path d=\"M406.667,0 l193.333,0 l0,138.2 l18.1656,25 l0,5 l-11.716,0 l0,-5 l-199.783,-25 l0,-138.2z\"/><path d=\"M600,0 l193.333,0 l0,138.2 l66.3327,25 l0,5 l-241.5,0 l0,-5 l-18.1656,-25 l0,-138.2z\"/><path d=\"M793.333,0 l193.333,0 l0,138.2 l73.2733,25 l0,5 l-200.274,0 l0,-5 l-66.3327,-25 l0,-138.2z\"/><path d=\"M986.667,0 l193.333,0 l0,138.2 l0,25 l0,5 l-120.06,0 l0,-5 l-73.2733,-25 l0,-138.2z\"/></g><g class=\"axes\"><g class=\"x-axis\"><g transform=\"translate(600 200)\"><text class=\"lab\" text-anchor=\"middle\" transform=\"translate(0 -11)\">Genome position</text></g><line x1=\"20\" x2=\"1180\" y1=\"163.2\" y2=\"163.2\"/><g class=\"ticks\"><g class=\"tick\" transform=\"translate(20 163.2)\"><line x1=\"0\" x2=\"0\" y1=\"0\" y2=\"5\"/><g transform=\"translate(0 6)\"><text class=\"lab\">0</text></g></g><g class=\"tick\" transform=\"translate(182.504 163.2)\"><line x1=\"0\" x2=\"0\" y1=\"0\" y2=\"5\"/><g transform=\"translate(0 6)\"><text class=\"lab\">14009</text></g></g><g class=\"tick\" transform=\"translate(606.45 163.2)\"><line x1=\"0\" x2=\"0\" y1=\"0\" y2=\"5\"/><g transform=\"translate(0 6)\"><text class=\"lab\">50556</text></g></g><g class=\"tick\" transform=\"translate(618.166 163.2)\"><line x1=\"0\" x2=\"0\" y1=\"0\" y2=\"5\"/><g transform=\"translate(0 6)\"><text class=\"lab\">51566</text></g></g><g class=\"tick\" transform=\"translate(859.666 163.2)\"><line x1=\"0\" x2=\"0\" y1=\"0\" y2=\"5\"/><g transform=\"translate(0 6)\"><text class=\"lab\">72385</text></g></g><g class=\"tick\" transform=\"translate(1059.94 163.2)\"><line x1=\"0\" x2=\"0\" y1=\"0\" y2=\"5\"/><g transform=\"translate(0 6)\"><text class=\"lab\">89650</text></g></g><g class=\"tick\" transform=\"translate(1180 163.2)\"><line x1=\"0\" x2=\"0\" y1=\"0\" y2=\"5\"/><g transform=\"translate(0 6)\"><text class=\"lab\">100000</text></g></g></g></g></g><g class=\"plotbox trees\"><g class=\"tree t0\" transform=\"translate(20 0)\"><g class=\"plotbox\"><g class=\"c2 node n12 p0 root\" transform=\"translate(135.799 49.9362)\"><g class=\"a12 i2 leaf node n5 p0 sample\" transform=\"translate(24.7569 71.4638)\"><path class=\"edge\" d=\"M 0 0 V -71.4638 H -24.7569\"/><rect class=\"sym\" height=\"6\" width=\"6\" x=\"-3\" y=\"-3\"/><text class=\"lab\" transform=\"translate(0 11)\">5</text></g><g class=\"a12 c2 node n11 p0\" transform=\"translate(-24.7569 1.41982)\"><g class=\"a11 c1 node n9 p0\" transform=\"translate(23.9583 26.5917)\"><g class=\"a9 i2 leaf node n4 p0 sample\" transform=\"translate(0.0 43.4522)\"><path class=\"edge\" d=\"M 0 0 V -43.4522 H 0.0\"/><rect class=\"sym\" height=\"6\" width=\"6\" x=\"-3\" y=\"-3\"/><text class=\"lab\" transform=\"translate(0 11)\">4</text></g><path class=\"edge\" d=\"M 0 0 V -26.5917 H -23.9583\"/><circle class=\"sym\" cx=\"0\" cy=\"0\" r=\"3\"/><text class=\"lab rgt\" transform=\"translate(3 -7.0)\">9</text></g><g class=\"a11 c1 node n10 p0\" transform=\"translate(-23.9583 9.76662)\"><g class=\"a10 c2 node n8 p0\" transform=\"translate(0.0 39.0623)\"><g class=\"a8 i0 leaf node n1 p0 sample\" transform=\"translate(22.3611 21.215)\"><path class=\"edge\" d=\"M 0 0 V -21.215 H -22.3611\"/><rect class=\"sym\" height=\"6\" width=\"6\" x=\"-3\" y=\"-3\"/><text class=\"lab\" transform=\"translate(0 11)\">1</text></g><g class=\"a8 c2 node n7 p0\" transform=\"translate(-22.3611 2.99367)\"><g class=\"a7 i1 leaf node n2 p0 sample\" transform=\"translate(19.1667 18.2214)\"><path class=\"edge\" d=\"M 0 0 V -18.2214 H -19.1667\"/><rect class=\"sym\" height=\"6\" width=\"6\" x=\"-3\" y=\"-3\"/><text class=\"lab\" transform=\"translate(0 11)\">2</text></g><g class=\"a7 c2 node n6 p0\" transform=\"translate(-19.1667 11.0747)\"><g class=\"a6 i0 leaf node n0 p0 sample\" transform=\"translate(-12.7778 7.14668)\"><path class=\"edge\" d=\"M 0 0 V -7.14668 H 12.7778\"/><rect class=\"sym\" height=\"6\" width=\"6\" x=\"-3\" y=\"-3\"/><text class=\"lab\" transform=\"translate(0 11)\">0</text></g><g class=\"a6 i1 leaf node n3 p0 sample\" transform=\"translate(12.7778 7.14668)\"><path class=\"edge\" d=\"M 0 0 V -7.14668 H -12.7778\"/><rect class=\"sym\" height=\"6\" width=\"6\" x=\"-3\" y=\"-3\"/><text class=\"lab\" transform=\"translate(0 11)\">3</text></g><path class=\"edge\" d=\"M 0 0 V -11.0747 H 19.1667\"/><circle class=\"sym\" cx=\"0\" cy=\"0\" r=\"3\"/><text class=\"lab lft\" transform=\"translate(-3 -7.0)\">6</text></g><path class=\"edge\" d=\"M 0 0 V -2.99367 H 22.3611\"/><circle class=\"sym\" cx=\"0\" cy=\"0\" r=\"3\"/><text class=\"lab lft\" transform=\"translate(-3 -7.0)\">7</text></g><path class=\"edge\" d=\"M 0 0 V -39.0623 H 0.0\"/><circle class=\"sym\" cx=\"0\" cy=\"0\" r=\"3\"/><text class=\"lab lft\" transform=\"translate(-3 -7.0)\">8</text></g><path class=\"edge\" d=\"M 0 0 V -9.76662 H 23.9583\"/><circle class=\"sym\" cx=\"0\" cy=\"0\" r=\"3\"/><text class=\"lab lft\" transform=\"translate(-3 -7.0)\">10</text></g><path class=\"edge\" d=\"M 0 0 V -1.41982 H 24.7569\"/><circle class=\"sym\" cx=\"0\" cy=\"0\" r=\"3\"/><text class=\"lab lft\" transform=\"translate(-3 -7.0)\">11</text></g><circle class=\"sym\" cx=\"0\" cy=\"0\" r=\"3\"/><text class=\"lab\" transform=\"translate(0 -11)\">12</text></g></g></g><g class=\"tree t1\" transform=\"translate(213.333 0)\"><g class=\"plotbox\"><g class=\"c2 node n11 p0 root\" transform=\"translate(135.799 51.356)\"><g class=\"a11 c1 node n9 p0\" transform=\"translate(24.7569 26.5917)\"><g class=\"a9 i2 leaf node n4 p0 sample\" transform=\"translate(0.0 43.4522)\"><path class=\"edge\" d=\"M 0 0 V -43.4522 H 0.0\"/><rect class=\"sym\" height=\"6\" width=\"6\" x=\"-3\" y=\"-3\"/><text class=\"lab\" transform=\"translate(0 11)\">4</text></g><path class=\"edge\" d=\"M 0 0 V -26.5917 H -24.7569\"/><circle class=\"sym\" cx=\"0\" cy=\"0\" r=\"3\"/><text class=\"lab rgt\" transform=\"translate(3 -7.0)\">9</text></g><g class=\"a11 c2 node n10 p0\" transform=\"translate(-24.7569 9.76662)\"><g class=\"a10 c2 node n8 p0\" transform=\"translate(-23.9583 39.0623)\"><g class=\"a8 i0 leaf node n1 p0 sample\" transform=\"translate(22.3611 21.215)\"><path class=\"edge\" d=\"M 0 0 V -21.215 H -22.3611\"/><rect class=\"sym\" height=\"6\" width=\"6\" x=\"-3\" y=\"-3\"/><text class=\"lab\" transform=\"translate(0 11)\">1</text></g><g class=\"a8 c2 node n7 p0\" transform=\"translate(-22.3611 2.99367)\"><g class=\"a7 i1 leaf node n2 p0 sample\" transform=\"translate(19.1667 18.2214)\"><path class=\"edge\" d=\"M 0 0 V -18.2214 H -19.1667\"/><rect class=\"sym\" height=\"6\" width=\"6\" x=\"-3\" y=\"-3\"/><text class=\"lab\" transform=\"translate(0 11)\">2</text></g><g class=\"a7 c2 node n6 p0\" transform=\"translate(-19.1667 11.0747)\"><g class=\"a6 i0 leaf node n0 p0 sample\" transform=\"translate(-12.7778 7.14668)\"><path class=\"edge\" d=\"M 0 0 V -7.14668 H 12.7778\"/><rect class=\"sym\" height=\"6\" width=\"6\" x=\"-3\" y=\"-3\"/><text class=\"lab\" transform=\"translate(0 11)\">0</text></g><g class=\"a6 i1 leaf node n3 p0 sample\" transform=\"translate(12.7778 7.14668)\"><path class=\"edge\" d=\"M 0 0 V -7.14668 H -12.7778\"/><rect class=\"sym\" height=\"6\" width=\"6\" x=\"-3\" y=\"-3\"/><text class=\"lab\" transform=\"translate(0 11)\">3</text></g><path class=\"edge\" d=\"M 0 0 V -11.0747 H 19.1667\"/><circle class=\"sym\" cx=\"0\" cy=\"0\" r=\"3\"/><text class=\"lab lft\" transform=\"translate(-3 -7.0)\">6</text></g><path class=\"edge\" d=\"M 0 0 V -2.99367 H 22.3611\"/><circle class=\"sym\" cx=\"0\" cy=\"0\" r=\"3\"/><text class=\"lab lft\" transform=\"translate(-3 -7.0)\">7</text></g><path class=\"edge\" d=\"M 0 0 V -39.0623 H 23.9583\"/><circle class=\"sym\" cx=\"0\" cy=\"0\" r=\"3\"/><text class=\"lab lft\" transform=\"translate(-3 -7.0)\">8</text></g><g class=\"a10 i2 leaf node n5 p0 sample\" transform=\"translate(23.9583 60.2773)\"><path class=\"edge\" d=\"M 0 0 V -60.2773 H -23.9583\"/><rect class=\"sym\" height=\"6\" width=\"6\" x=\"-3\" y=\"-3\"/><text class=\"lab\" transform=\"translate(0 11)\">5</text></g><path class=\"edge\" d=\"M 0 0 V -9.76662 H 24.7569\"/><circle class=\"sym\" cx=\"0\" cy=\"0\" r=\"3\"/><text class=\"lab lft\" transform=\"translate(-3 -7.0)\">10</text></g><circle class=\"sym\" cx=\"0\" cy=\"0\" r=\"3\"/><text class=\"lab\" transform=\"translate(0 -11)\">11</text></g></g></g><g class=\"tree t2\" transform=\"translate(406.667 0)\"><g class=\"plotbox\"><g class=\"c2 node n11 p0 root\" transform=\"translate(135.799 51.356)\"><g class=\"a11 c2 node n9 p0\" transform=\"translate(-24.7569 26.5917)\"><g class=\"a9 i2 leaf node n4 p0 sample\" transform=\"translate(23.9583 43.4522)\"><path class=\"edge\" d=\"M 0 0 V -43.4522 H -23.9583\"/><rect class=\"sym\" height=\"6\" width=\"6\" x=\"-3\" y=\"-3\"/><text class=\"lab\" transform=\"translate(0 11)\">4</text></g><g class=\"a9 c2 node n8 p0\" transform=\"translate(-23.9583 22.2372)\"><g class=\"a8 i0 leaf node n1 p0 sample\" transform=\"translate(22.3611 21.215)\"><path class=\"edge\" d=\"M 0 0 V -21.215 H -22.3611\"/><rect class=\"sym\" height=\"6\" width=\"6\" x=\"-3\" y=\"-3\"/><text class=\"lab\" transform=\"translate(0 11)\">1</text></g><g class=\"a8 c2 node n7 p0\" transform=\"translate(-22.3611 2.99367)\"><g class=\"a7 i1 leaf node n2 p0 sample\" transform=\"translate(19.1667 18.2214)\"><path class=\"edge\" d=\"M 0 0 V -18.2214 H -19.1667\"/><rect class=\"sym\" height=\"6\" width=\"6\" x=\"-3\" y=\"-3\"/><text class=\"lab\" transform=\"translate(0 11)\">2</text></g><g class=\"a7 c2 node n6 p0\" transform=\"translate(-19.1667 11.0747)\"><g class=\"a6 i0 leaf node n0 p0 sample\" transform=\"translate(-12.7778 7.14668)\"><path class=\"edge\" d=\"M 0 0 V -7.14668 H 12.7778\"/><rect class=\"sym\" height=\"6\" width=\"6\" x=\"-3\" y=\"-3\"/><text class=\"lab\" transform=\"translate(0 11)\">0</text></g><g class=\"a6 i1 leaf node n3 p0 sample\" transform=\"translate(12.7778 7.14668)\"><path class=\"edge\" d=\"M 0 0 V -7.14668 H -12.7778\"/><rect class=\"sym\" height=\"6\" width=\"6\" x=\"-3\" y=\"-3\"/><text class=\"lab\" transform=\"translate(0 11)\">3</text></g><path class=\"edge\" d=\"M 0 0 V -11.0747 H 19.1667\"/><circle class=\"sym\" cx=\"0\" cy=\"0\" r=\"3\"/><text class=\"lab lft\" transform=\"translate(-3 -7.0)\">6</text></g><path class=\"edge\" d=\"M 0 0 V -2.99367 H 22.3611\"/><circle class=\"sym\" cx=\"0\" cy=\"0\" r=\"3\"/><text class=\"lab lft\" transform=\"translate(-3 -7.0)\">7</text></g><path class=\"edge\" d=\"M 0 0 V -22.2372 H 23.9583\"/><circle class=\"sym\" cx=\"0\" cy=\"0\" r=\"3\"/><text class=\"lab lft\" transform=\"translate(-3 -7.0)\">8</text></g><path class=\"edge\" d=\"M 0 0 V -26.5917 H 24.7569\"/><circle class=\"sym\" cx=\"0\" cy=\"0\" r=\"3\"/><text class=\"lab lft\" transform=\"translate(-3 -7.0)\">9</text></g><g class=\"a11 c1 node n10 p0\" transform=\"translate(24.7569 9.76662)\"><g class=\"a10 i2 leaf node n5 p0 sample\" transform=\"translate(0.0 60.2773)\"><path class=\"edge\" d=\"M 0 0 V -60.2773 H 0.0\"/><rect class=\"sym\" height=\"6\" width=\"6\" x=\"-3\" y=\"-3\"/><text class=\"lab\" transform=\"translate(0 11)\">5</text></g><path class=\"edge\" d=\"M 0 0 V -9.76662 H -24.7569\"/><circle class=\"sym\" cx=\"0\" cy=\"0\" r=\"3\"/><text class=\"lab rgt\" transform=\"translate(3 -7.0)\">10</text></g><circle class=\"sym\" cx=\"0\" cy=\"0\" r=\"3\"/><text class=\"lab\" transform=\"translate(0 -11)\">11</text></g></g></g><g class=\"tree t3\" transform=\"translate(600 0)\"><g class=\"plotbox\"><g class=\"c2 node n13 p0 root\" transform=\"translate(135.799 44.246)\"><g class=\"a13 i2 leaf node n5 p0 sample\" transform=\"translate(24.7569 77.154)\"><path class=\"edge\" d=\"M 0 0 V -77.154 H -24.7569\"/><rect class=\"sym\" height=\"6\" width=\"6\" x=\"-3\" y=\"-3\"/><text class=\"lab\" transform=\"translate(0 11)\">5</text></g><g class=\"a13 c2 node n9 p0\" transform=\"translate(-24.7569 33.7017)\"><g class=\"a9 i2 leaf node n4 p0 sample\" transform=\"translate(23.9583 43.4522)\"><path class=\"edge\" d=\"M 0 0 V -43.4522 H -23.9583\"/><rect class=\"sym\" height=\"6\" width=\"6\" x=\"-3\" y=\"-3\"/><text class=\"lab\" transform=\"translate(0 11)\">4</text></g><g class=\"a9 c2 node n8 p0\" transform=\"translate(-23.9583 22.2372)\"><g class=\"a8 i0 leaf node n1 p0 sample\" transform=\"translate(22.3611 21.215)\"><path class=\"edge\" d=\"M 0 0 V -21.215 H -22.3611\"/><rect class=\"sym\" height=\"6\" width=\"6\" x=\"-3\" y=\"-3\"/><text class=\"lab\" transform=\"translate(0 11)\">1</text></g><g class=\"a8 c2 node n7 p0\" transform=\"translate(-22.3611 2.99367)\"><g class=\"a7 i1 leaf node n2 p0 sample\" transform=\"translate(19.1667 18.2214)\"><path class=\"edge\" d=\"M 0 0 V -18.2214 H -19.1667\"/><rect class=\"sym\" height=\"6\" width=\"6\" x=\"-3\" y=\"-3\"/><text class=\"lab\" transform=\"translate(0 11)\">2</text></g><g class=\"a7 c2 node n6 p0\" transform=\"translate(-19.1667 11.0747)\"><g class=\"a6 i0 leaf node n0 p0 sample\" transform=\"translate(-12.7778 7.14668)\"><path class=\"edge\" d=\"M 0 0 V -7.14668 H 12.7778\"/><rect class=\"sym\" height=\"6\" width=\"6\" x=\"-3\" y=\"-3\"/><text class=\"lab\" transform=\"translate(0 11)\">0</text></g><g class=\"a6 i1 leaf node n3 p0 sample\" transform=\"translate(12.7778 7.14668)\"><path class=\"edge\" d=\"M 0 0 V -7.14668 H -12.7778\"/><rect class=\"sym\" height=\"6\" width=\"6\" x=\"-3\" y=\"-3\"/><text class=\"lab\" transform=\"translate(0 11)\">3</text></g><path class=\"edge\" d=\"M 0 0 V -11.0747 H 19.1667\"/><circle class=\"sym\" cx=\"0\" cy=\"0\" r=\"3\"/><text class=\"lab lft\" transform=\"translate(-3 -7.0)\">6</text></g><path class=\"edge\" d=\"M 0 0 V -2.99367 H 22.3611\"/><circle class=\"sym\" cx=\"0\" cy=\"0\" r=\"3\"/><text class=\"lab lft\" transform=\"translate(-3 -7.0)\">7</text></g><path class=\"edge\" d=\"M 0 0 V -22.2372 H 23.9583\"/><circle class=\"sym\" cx=\"0\" cy=\"0\" r=\"3\"/><text class=\"lab lft\" transform=\"translate(-3 -7.0)\">8</text></g><path class=\"edge\" d=\"M 0 0 V -33.7017 H 24.7569\"/><circle class=\"sym\" cx=\"0\" cy=\"0\" r=\"3\"/><text class=\"lab lft\" transform=\"translate(-3 -7.0)\">9</text></g><circle class=\"sym\" cx=\"0\" cy=\"0\" r=\"3\"/><text class=\"lab\" transform=\"translate(0 -11)\">13</text></g></g></g><g class=\"tree t4\" transform=\"translate(793.333 0)\"><g class=\"plotbox\"><g class=\"c2 node n12 p0 root\" transform=\"translate(135.799 49.9362)\"><g class=\"a12 i2 leaf node n5 p0 sample\" transform=\"translate(24.7569 71.4638)\"><path class=\"edge\" d=\"M 0 0 V -71.4638 H -24.7569\"/><rect class=\"sym\" height=\"6\" width=\"6\" x=\"-3\" y=\"-3\"/><text class=\"lab\" transform=\"translate(0 11)\">5</text></g><g class=\"a12 c2 node n9 p0\" transform=\"translate(-24.7569 28.0116)\"><g class=\"a9 i2 leaf node n4 p0 sample\" transform=\"translate(23.9583 43.4522)\"><path class=\"edge\" d=\"M 0 0 V -43.4522 H -23.9583\"/><rect class=\"sym\" height=\"6\" width=\"6\" x=\"-3\" y=\"-3\"/><text class=\"lab\" transform=\"translate(0 11)\">4</text></g><g class=\"a9 c2 node n8 p0\" transform=\"translate(-23.9583 22.2372)\"><g class=\"a8 i0 leaf node n1 p0 sample\" transform=\"translate(22.3611 21.215)\"><path class=\"edge\" d=\"M 0 0 V -21.215 H -22.3611\"/><rect class=\"sym\" height=\"6\" width=\"6\" x=\"-3\" y=\"-3\"/><text class=\"lab\" transform=\"translate(0 11)\">1</text></g><g class=\"a8 c2 node n7 p0\" transform=\"translate(-22.3611 2.99367)\"><g class=\"a7 i1 leaf node n2 p0 sample\" transform=\"translate(19.1667 18.2214)\"><path class=\"edge\" d=\"M 0 0 V -18.2214 H -19.1667\"/><rect class=\"sym\" height=\"6\" width=\"6\" x=\"-3\" y=\"-3\"/><text class=\"lab\" transform=\"translate(0 11)\">2</text></g><g class=\"a7 c2 node n6 p0\" transform=\"translate(-19.1667 11.0747)\"><g class=\"a6 i0 leaf node n0 p0 sample\" transform=\"translate(-12.7778 7.14668)\"><path class=\"edge\" d=\"M 0 0 V -7.14668 H 12.7778\"/><rect class=\"sym\" height=\"6\" width=\"6\" x=\"-3\" y=\"-3\"/><text class=\"lab\" transform=\"translate(0 11)\">0</text></g><g class=\"a6 i1 leaf node n3 p0 sample\" transform=\"translate(12.7778 7.14668)\"><path class=\"edge\" d=\"M 0 0 V -7.14668 H -12.7778\"/><rect class=\"sym\" height=\"6\" width=\"6\" x=\"-3\" y=\"-3\"/><text class=\"lab\" transform=\"translate(0 11)\">3</text></g><path class=\"edge\" d=\"M 0 0 V -11.0747 H 19.1667\"/><circle class=\"sym\" cx=\"0\" cy=\"0\" r=\"3\"/><text class=\"lab lft\" transform=\"translate(-3 -7.0)\">6</text></g><path class=\"edge\" d=\"M 0 0 V -2.99367 H 22.3611\"/><circle class=\"sym\" cx=\"0\" cy=\"0\" r=\"3\"/><text class=\"lab lft\" transform=\"translate(-3 -7.0)\">7</text></g><path class=\"edge\" d=\"M 0 0 V -22.2372 H 23.9583\"/><circle class=\"sym\" cx=\"0\" cy=\"0\" r=\"3\"/><text class=\"lab lft\" transform=\"translate(-3 -7.0)\">8</text></g><path class=\"edge\" d=\"M 0 0 V -28.0116 H 24.7569\"/><circle class=\"sym\" cx=\"0\" cy=\"0\" r=\"3\"/><text class=\"lab lft\" transform=\"translate(-3 -7.0)\">9</text></g><circle class=\"sym\" cx=\"0\" cy=\"0\" r=\"3\"/><text class=\"lab\" transform=\"translate(0 -11)\">12</text></g></g></g><g class=\"tree t5\" transform=\"translate(986.667 0)\"><g class=\"plotbox\"><g class=\"c2 node n14 p0 root\" transform=\"translate(135.799 26.8)\"><g class=\"a14 i2 leaf node n5 p0 sample\" transform=\"translate(24.7569 94.6)\"><path class=\"edge\" d=\"M 0 0 V -94.6 H -24.7569\"/><rect class=\"sym\" height=\"6\" width=\"6\" x=\"-3\" y=\"-3\"/><text class=\"lab\" transform=\"translate(0 11)\">5</text></g><g class=\"a14 c2 node n9 p0\" transform=\"translate(-24.7569 51.1478)\"><g class=\"a9 i2 leaf node n4 p0 sample\" transform=\"translate(23.9583 43.4522)\"><path class=\"edge\" d=\"M 0 0 V -43.4522 H -23.9583\"/><rect class=\"sym\" height=\"6\" width=\"6\" x=\"-3\" y=\"-3\"/><text class=\"lab\" transform=\"translate(0 11)\">4</text></g><g class=\"a9 c2 node n8 p0\" transform=\"translate(-23.9583 22.2372)\"><g class=\"a8 i0 leaf node n1 p0 sample\" transform=\"translate(22.3611 21.215)\"><path class=\"edge\" d=\"M 0 0 V -21.215 H -22.3611\"/><rect class=\"sym\" height=\"6\" width=\"6\" x=\"-3\" y=\"-3\"/><text class=\"lab\" transform=\"translate(0 11)\">1</text></g><g class=\"a8 c2 node n7 p0\" transform=\"translate(-22.3611 2.99367)\"><g class=\"a7 i1 leaf node n2 p0 sample\" transform=\"translate(19.1667 18.2214)\"><path class=\"edge\" d=\"M 0 0 V -18.2214 H -19.1667\"/><rect class=\"sym\" height=\"6\" width=\"6\" x=\"-3\" y=\"-3\"/><text class=\"lab\" transform=\"translate(0 11)\">2</text></g><g class=\"a7 c2 node n6 p0\" transform=\"translate(-19.1667 11.0747)\"><g class=\"a6 i0 leaf node n0 p0 sample\" transform=\"translate(-12.7778 7.14668)\"><path class=\"edge\" d=\"M 0 0 V -7.14668 H 12.7778\"/><rect class=\"sym\" height=\"6\" width=\"6\" x=\"-3\" y=\"-3\"/><text class=\"lab\" transform=\"translate(0 11)\">0</text></g><g class=\"a6 i1 leaf node n3 p0 sample\" transform=\"translate(12.7778 7.14668)\"><path class=\"edge\" d=\"M 0 0 V -7.14668 H -12.7778\"/><rect class=\"sym\" height=\"6\" width=\"6\" x=\"-3\" y=\"-3\"/><text class=\"lab\" transform=\"translate(0 11)\">3</text></g><path class=\"edge\" d=\"M 0 0 V -11.0747 H 19.1667\"/><circle class=\"sym\" cx=\"0\" cy=\"0\" r=\"3\"/><text class=\"lab lft\" transform=\"translate(-3 -7.0)\">6</text></g><path class=\"edge\" d=\"M 0 0 V -2.99367 H 22.3611\"/><circle class=\"sym\" cx=\"0\" cy=\"0\" r=\"3\"/><text class=\"lab lft\" transform=\"translate(-3 -7.0)\">7</text></g><path class=\"edge\" d=\"M 0 0 V -22.2372 H 23.9583\"/><circle class=\"sym\" cx=\"0\" cy=\"0\" r=\"3\"/><text class=\"lab lft\" transform=\"translate(-3 -7.0)\">8</text></g><path class=\"edge\" d=\"M 0 0 V -51.1478 H 24.7569\"/><circle class=\"sym\" cx=\"0\" cy=\"0\" r=\"3\"/><text class=\"lab lft\" transform=\"translate(-3 -7.0)\">9</text></g><circle class=\"sym\" cx=\"0\" cy=\"0\" r=\"3\"/><text class=\"lab\" transform=\"translate(0 -11)\">14</text></g></g></g></g></g></svg>"
      ],
      "text/plain": [
       "<IPython.core.display.SVG object>"
      ]
     },
     "execution_count": 45,
     "metadata": {},
     "output_type": "execute_result"
    }
   ],
   "source": [
    "new_ts, num_edges = extend_edges(ts, verbose=True)\n",
    "print(num_edges)\n",
    "SVG(new_ts.draw_svg())"
   ]
  },
  {
   "cell_type": "code",
   "execution_count": 8,
   "id": "8440a19e",
   "metadata": {},
   "outputs": [],
   "source": [
    "def verify_extending(ts):\n",
    "    ets, num_edges = extend_edges(ts)\n",
    "    sts = ets.simplify()\n",
    "    sts.tables.assert_equals(ts.tables, ignore_provenance=True)\n",
    "    # print(num_edges)\n",
    "    \n",
    "verify_extending(ts)"
   ]
  },
  {
   "cell_type": "code",
   "execution_count": 22,
   "id": "23c02248",
   "metadata": {},
   "outputs": [
    {
     "name": "stdout",
     "output_type": "stream",
     "text": [
      "1379\n"
     ]
    }
   ],
   "source": [
    "for seed in range(1, 100000):\n",
    "    ts = msprime.sim_ancestry(3, population_size=2000, sequence_length=1e5, recombination_rate=1e-8, random_seed=seed)\n",
    "    try:\n",
    "        verify_extending(ts)\n",
    "    except:\n",
    "        print(seed)\n",
    "        break"
   ]
  },
  {
   "cell_type": "code",
   "execution_count": 62,
   "id": "ca8beb37",
   "metadata": {},
   "outputs": [
    {
     "name": "stdout",
     "output_type": "stream",
     "text": [
      "[1 1 1 1 1 1 3 3 3 3 0 2 0 0]\n",
      "[1 1 1 1 1 1 3 3 0 3 2 2 0 0]\n",
      "[ 1  1  1  1  1  1  3  3 -1  3 -1  3  2  0]\n"
     ]
    },
    {
     "ename": "AssertionError",
     "evalue": "",
     "output_type": "error",
     "traceback": [
      "\u001b[0;31m---------------------------------------------------------------------------\u001b[0m",
      "\u001b[0;31mAssertionError\u001b[0m                            Traceback (most recent call last)",
      "\u001b[0;32m/tmp/ipykernel_139184/3415075178.py\u001b[0m in \u001b[0;36m<module>\u001b[0;34m\u001b[0m\n\u001b[1;32m      1\u001b[0m \u001b[0mts\u001b[0m \u001b[0;34m=\u001b[0m \u001b[0mmsprime\u001b[0m\u001b[0;34m.\u001b[0m\u001b[0msim_ancestry\u001b[0m\u001b[0;34m(\u001b[0m\u001b[0;36m3\u001b[0m\u001b[0;34m,\u001b[0m \u001b[0mpopulation_size\u001b[0m\u001b[0;34m=\u001b[0m\u001b[0;36m2000\u001b[0m\u001b[0;34m,\u001b[0m \u001b[0msequence_length\u001b[0m\u001b[0;34m=\u001b[0m\u001b[0;36m1e5\u001b[0m\u001b[0;34m,\u001b[0m \u001b[0mrecombination_rate\u001b[0m\u001b[0;34m=\u001b[0m\u001b[0;36m1e-8\u001b[0m\u001b[0;34m,\u001b[0m \u001b[0mrandom_seed\u001b[0m\u001b[0;34m=\u001b[0m\u001b[0;36m1379\u001b[0m\u001b[0;34m)\u001b[0m\u001b[0;34m\u001b[0m\u001b[0;34m\u001b[0m\u001b[0m\n\u001b[0;32m----> 2\u001b[0;31m \u001b[0mts\u001b[0m \u001b[0;34m=\u001b[0m \u001b[0mforward_extend\u001b[0m\u001b[0;34m(\u001b[0m\u001b[0mts\u001b[0m\u001b[0;34m,\u001b[0m \u001b[0mverbose\u001b[0m\u001b[0;34m=\u001b[0m\u001b[0;32mFalse\u001b[0m\u001b[0;34m)\u001b[0m\u001b[0;34m\u001b[0m\u001b[0;34m\u001b[0m\u001b[0m\n\u001b[0m\u001b[1;32m      3\u001b[0m \u001b[0mts\u001b[0m \u001b[0;34m=\u001b[0m \u001b[0mmirror_coordinates\u001b[0m\u001b[0;34m(\u001b[0m\u001b[0mts\u001b[0m\u001b[0;34m)\u001b[0m\u001b[0;34m\u001b[0m\u001b[0;34m\u001b[0m\u001b[0m\n\u001b[1;32m      4\u001b[0m \u001b[0mts\u001b[0m \u001b[0;34m=\u001b[0m \u001b[0mforward_extend\u001b[0m\u001b[0;34m(\u001b[0m\u001b[0mts\u001b[0m\u001b[0;34m,\u001b[0m \u001b[0mverbose\u001b[0m\u001b[0;34m=\u001b[0m\u001b[0;32mFalse\u001b[0m\u001b[0;34m)\u001b[0m\u001b[0;34m\u001b[0m\u001b[0;34m\u001b[0m\u001b[0m\n\u001b[1;32m      5\u001b[0m \u001b[0mts\u001b[0m \u001b[0;34m=\u001b[0m \u001b[0mmirror_coordinates\u001b[0m\u001b[0;34m(\u001b[0m\u001b[0mts\u001b[0m\u001b[0;34m)\u001b[0m\u001b[0;34m\u001b[0m\u001b[0;34m\u001b[0m\u001b[0m\n",
      "\u001b[0;32m/tmp/ipykernel_139184/868127535.py\u001b[0m in \u001b[0;36mforward_extend\u001b[0;34m(ts, verbose, return_tables)\u001b[0m\n\u001b[1;32m     45\u001b[0m             \u001b[0mnum_edges\u001b[0m\u001b[0;34m[\u001b[0m\u001b[0me\u001b[0m\u001b[0;34m.\u001b[0m\u001b[0mchild\u001b[0m\u001b[0;34m]\u001b[0m \u001b[0;34m+=\u001b[0m\u001b[0;36m1\u001b[0m\u001b[0;34m\u001b[0m\u001b[0;34m\u001b[0m\u001b[0m\n\u001b[1;32m     46\u001b[0m         \u001b[0mprint\u001b[0m\u001b[0;34m(\u001b[0m\u001b[0mnum_edges\u001b[0m\u001b[0;34m)\u001b[0m\u001b[0;34m\u001b[0m\u001b[0;34m\u001b[0m\u001b[0m\n\u001b[0;32m---> 47\u001b[0;31m         \u001b[0;32massert\u001b[0m \u001b[0mnp\u001b[0m\u001b[0;34m.\u001b[0m\u001b[0mall\u001b[0m\u001b[0;34m(\u001b[0m\u001b[0mnum_edges\u001b[0m \u001b[0;34m>=\u001b[0m \u001b[0;36m0\u001b[0m\u001b[0;34m)\u001b[0m\u001b[0;34m\u001b[0m\u001b[0;34m\u001b[0m\u001b[0m\n\u001b[0m\u001b[1;32m     48\u001b[0m         \u001b[0mpending_out\u001b[0m \u001b[0;34m=\u001b[0m \u001b[0;34m[\u001b[0m\u001b[0;34m]\u001b[0m\u001b[0;34m\u001b[0m\u001b[0;34m\u001b[0m\u001b[0m\n\u001b[1;32m     49\u001b[0m         \u001b[0mpending_in\u001b[0m \u001b[0;34m=\u001b[0m \u001b[0;34m[\u001b[0m\u001b[0;34m]\u001b[0m\u001b[0;34m\u001b[0m\u001b[0;34m\u001b[0m\u001b[0m\n",
      "\u001b[0;31mAssertionError\u001b[0m: "
     ]
    }
   ],
   "source": [
    "ts = msprime.sim_ancestry(3, population_size=2000, sequence_length=1e5, recombination_rate=1e-8, random_seed=1379)\n",
    "ts = forward_extend(ts, verbose=False)\n",
    "ts = mirror_coordinates(ts)\n",
    "ts = forward_extend(ts, verbose=False)\n",
    "ts = mirror_coordinates(ts)\n",
    "t = forward_extend(ts, verbose=True, return_tables=True)"
   ]
  },
  {
   "cell_type": "code",
   "execution_count": 33,
   "id": "300aa2d4",
   "metadata": {},
   "outputs": [
    {
     "name": "stdout",
     "output_type": "stream",
     "text": [
      "TableCollection\n",
      "\n",
      "Sequence Length: 100000.0\n",
      "Time units: generations\n",
      "Metadata: b''\n",
      "\n",
      "Individuals\n",
      "╔══╤═════╤════════╤═══════╤════════╗\n",
      "║id│flags│location│parents│metadata║\n",
      "╠══╪═════╪════════╪═══════╪════════╣\n",
      "║0 │    0│        │       │     b''║\n",
      "║1 │    0│        │       │     b''║\n",
      "║2 │    0│        │       │     b''║\n",
      "╚══╧═════╧════════╧═══════╧════════╝\n",
      "\n",
      "Nodes\n",
      "╔══╤═════╤══════════╤══════════╤═════════════╤════════╗\n",
      "║id│flags│population│individual│time         │metadata║\n",
      "╠══╪═════╪══════════╪══════════╪═════════════╪════════╣\n",
      "║0 │    1│         0│         0│   0.00000000│     b''║\n",
      "║1 │    1│         0│         0│   0.00000000│     b''║\n",
      "║2 │    1│         0│         1│   0.00000000│     b''║\n",
      "║3 │    1│         0│         1│   0.00000000│     b''║\n",
      "║4 │    1│         0│         2│   0.00000000│     b''║\n",
      "║5 │    1│         0│         2│   0.00000000│     b''║\n",
      "║6 │    0│         0│        -1│  55.66920767│     b''║\n",
      "║7 │    0│         0│        -1│ 832.63424893│     b''║\n",
      "║8 │    0│         0│        -1│1469.77864348│     b''║\n",
      "║9 │    0│         0│        -1│1546.93541107│     b''║\n",
      "║10│    0│         0│        -1│1919.57676140│     b''║\n",
      "║11│    0│         0│        -1│2287.25970128│     b''║\n",
      "║12│    0│         0│        -1│3055.74257466│     b''║\n",
      "║13│    0│         0│        -1│6844.68554496│     b''║\n",
      "╚══╧═════╧══════════╧══════════╧═════════════╧════════╝\n",
      "\n",
      "Edges\n",
      "╔══╤══════════════╤═══════════════╤══════╤═════╤════════╗\n",
      "║id│left          │right          │parent│child│metadata║\n",
      "╠══╪══════════════╪═══════════════╪══════╪═════╪════════╣\n",
      "║0 │    0.00000000│100000.00000000│     6│    1│     b''║\n",
      "║1 │    0.00000000│100000.00000000│     6│    5│     b''║\n",
      "║2 │48394.00000000│100000.00000000│     7│    3│     b''║\n",
      "║3 │    0.00000000│100000.00000000│     7│    4│     b''║\n",
      "║4 │    0.00000000│ 54016.00000000│     8│    0│     b''║\n",
      "║5 │78307.00000000│100000.00000000│     8│    0│     b''║\n",
      "║6 │80927.00000000│100000.00000000│     8│    2│     b''║\n",
      "║7 │    0.00000000│ 82305.00000000│     8│    6│     b''║\n",
      "║8 │    0.00000000│ 80927.00000000│     9│    2│     b''║\n",
      "║9 │    0.00000000│ 82305.00000000│     9│    7│     b''║\n",
      "║10│54016.00000000│ 78307.00000000│    10│    0│     b''║\n",
      "║11│    0.00000000│ 48394.00000000│    10│    3│     b''║\n",
      "║12│82305.00000000│100000.00000000│    10│    6│     b''║\n",
      "║13│    0.00000000│ 82305.00000000│    10│    8│     b''║\n",
      "║14│    0.00000000│ 82305.00000000│    11│    9│     b''║\n",
      "║15│    0.00000000│ 54016.00000000│    11│   10│     b''║\n",
      "║16│54016.00000000│100000.00000000│    11│   10│     b''║\n",
      "║17│78307.00000000│100000.00000000│    12│    8│     b''║\n",
      "║18│78307.00000000│100000.00000000│    12│   11│     b''║\n",
      "║19│82305.00000000│100000.00000000│    13│    7│     b''║\n",
      "║20│82305.00000000│100000.00000000│    13│   12│     b''║\n",
      "╚══╧══════════════╧═══════════════╧══════╧═════╧════════╝\n",
      "\n",
      "Sites\n",
      "╔══╤════════╤═══════════════╤════════╗\n",
      "║id│position│ancestral_state│metadata║\n",
      "╠══╪════════╪═══════════════╪════════╣\n",
      "╚══╧════════╧═══════════════╧════════╝\n",
      "\n",
      "Mutations\n",
      "╔══╤════╤════╤════╤═════════════╤══════╤════════╗\n",
      "║id│site│node│time│derived_state│parent│metadata║\n",
      "╠══╪════╪════╪════╪═════════════╪══════╪════════╣\n",
      "╚══╧════╧════╧════╧═════════════╧══════╧════════╝\n",
      "\n",
      "Migrations\n",
      "╔══╤════╤═════╤════╤══════╤════╤════╤════════╗\n",
      "║id│left│right│node│source│dest│time│metadata║\n",
      "╠══╪════╪═════╪════╪══════╪════╪════╪════════╣\n",
      "╚══╧════╧═════╧════╧══════╧════╧════╧════════╝\n",
      "\n",
      "Populations\n",
      "╔══╤════════════════════════════════════╗\n",
      "║id│metadata                            ║\n",
      "╠══╪════════════════════════════════════╣\n",
      "║0 │{'description': '', 'name': 'pop_0'}║\n",
      "╚══╧════════════════════════════════════╝\n",
      "\n",
      "Provenances\n",
      "╔══╤══════════════════════════╤════════════════════════════════════════════════════════════╗\n",
      "║id│timestamp                 │record                                                      ║\n",
      "╠══╪══════════════════════════╪════════════════════════════════════════════════════════════╣\n",
      "║0 │2022-05-23T12:40:12.664025│{\"schema_version\": \"1.0.0\", \"software\": {\"name\": \"msprime...║\n",
      "╚══╧══════════════════════════╧════════════════════════════════════════════════════════════╝\n",
      "\n"
     ]
    }
   ],
   "source": [
    "print(t)"
   ]
  },
  {
   "cell_type": "code",
   "execution_count": 38,
   "id": "8ccc577c",
   "metadata": {},
   "outputs": [
    {
     "data": {
      "image/svg+xml": [
       "<svg xmlns=\"http://www.w3.org/2000/svg\" xmlns:ev=\"http://www.w3.org/2001/xml-events\" xmlns:xlink=\"http://www.w3.org/1999/xlink\" baseProfile=\"full\" height=\"200\" version=\"1.1\" width=\"800\"><defs><style type=\"text/css\"><![CDATA[.background path {fill: #808080; fill-opacity: 0}.background path:nth-child(odd) {fill-opacity: .1}.axes {font-size: 14px}.x-axis .tick .lab {font-weight: bold; dominant-baseline: hanging}.axes, .tree {font-size: 14px; text-anchor: middle}.axes line, .edge {stroke: black; fill: none}.y-axis .grid {stroke: #FAFAFA}.node > .sym {fill: black; stroke: none}.site > .sym {stroke: black}.mut text {fill: red; font-style: italic}.mut.extra text {fill: hotpink}.mut line {fill: none; stroke: none}.mut .sym {fill: none; stroke: red}.mut.extra .sym {stroke: hotpink}.node .mut .sym {stroke-width: 1.5px}.tree text, .tree-sequence text {dominant-baseline: central}.plotbox .lab.lft {text-anchor: end}.plotbox .lab.rgt {text-anchor: start}]]></style></defs><g class=\"tree-sequence\"><g class=\"background\"><path d=\"M20,0 l190,0 l0,138.2 l230.888,25 l0,5 l-420.888,0 l0,-5 l0,-25 l0,-138.2z\"/><path d=\"M210,0 l190,0 l0,138.2 l173.635,25 l0,5 l-132.747,0 l0,-5 l-230.888,-25 l0,-138.2z\"/><path d=\"M400,0 l190,0 l0,138.2 l53.4533,25 l0,5 l-69.8187,0 l0,-5 l-173.635,-25 l0,-138.2z\"/><path d=\"M590,0 l190,0 l0,138.2 l0,25 l0,5 l-136.547,0 l0,-5 l-53.4533,-25 l0,-138.2z\"/></g><g class=\"axes\"><g class=\"x-axis\"><g transform=\"translate(400 200)\"><text class=\"lab\" text-anchor=\"middle\" transform=\"translate(0 -11)\">Genome position</text></g><line x1=\"20\" x2=\"780\" y1=\"163.2\" y2=\"163.2\"/><g class=\"ticks\"><g class=\"tick\" transform=\"translate(440.888 163.2)\"><line x1=\"0\" x2=\"0\" y1=\"0\" y2=\"5\"/><g transform=\"translate(0 6)\"><text class=\"lab\">78307</text></g></g><g class=\"tick\" transform=\"translate(573.635 163.2)\"><line x1=\"0\" x2=\"0\" y1=\"0\" y2=\"5\"/><g transform=\"translate(0 6)\"><text class=\"lab\">80927</text></g></g><g class=\"tick\" transform=\"translate(643.453 163.2)\"><line x1=\"0\" x2=\"0\" y1=\"0\" y2=\"5\"/><g transform=\"translate(0 6)\"><text class=\"lab\">82305</text></g></g></g></g></g><g class=\"plotbox trees\"><g class=\"tree t2\" transform=\"translate(20 0)\"><g class=\"plotbox\"><g class=\"c2 node n11 p0 root\" transform=\"translate(88.75 89.7879)\"><g class=\"a11 c2 node n9 p0\" transform=\"translate(37.5 10.232)\"><g class=\"a9 i1 leaf node n2 p0 sample\" transform=\"translate(-18.75 21.3801)\"><path class=\"edge\" d=\"M 0 0 V -21.3801 H 18.75\"/><rect class=\"sym\" height=\"6\" width=\"6\" x=\"-3\" y=\"-3\"/><text class=\"lab\" transform=\"translate(0 11)\">2</text></g><g class=\"a9 c2 node n7 p0\" transform=\"translate(18.75 9.87231)\"><g class=\"a7 i1 leaf node n3 p0 sample\" transform=\"translate(-12.5 11.5078)\"><path class=\"edge\" d=\"M 0 0 V -11.5078 H 12.5\"/><rect class=\"sym\" height=\"6\" width=\"6\" x=\"-3\" y=\"-3\"/><text class=\"lab\" transform=\"translate(0 11)\">3</text></g><g class=\"a7 i2 leaf node n4 p0 sample\" transform=\"translate(12.5 11.5078)\"><path class=\"edge\" d=\"M 0 0 V -11.5078 H -12.5\"/><rect class=\"sym\" height=\"6\" width=\"6\" x=\"-3\" y=\"-3\"/><text class=\"lab\" transform=\"translate(0 11)\">4</text></g><path class=\"edge\" d=\"M 0 0 V -9.87231 H -18.75\"/><circle class=\"sym\" cx=\"0\" cy=\"0\" r=\"3\"/><text class=\"lab rgt\" transform=\"translate(3 -7.0)\">7</text></g><path class=\"edge\" d=\"M 0 0 V -10.232 H -37.5\"/><circle class=\"sym\" cx=\"0\" cy=\"0\" r=\"3\"/><text class=\"lab rgt\" transform=\"translate(3 -7.0)\">9</text></g><g class=\"a11 c2 node n10 p0\" transform=\"translate(-37.5 5.08172)\"><g class=\"a10 i0 leaf node n0 p0 sample\" transform=\"translate(-18.75 26.5304)\"><path class=\"edge\" d=\"M 0 0 V -26.5304 H 18.75\"/><rect class=\"sym\" height=\"6\" width=\"6\" x=\"-3\" y=\"-3\"/><text class=\"lab\" transform=\"translate(0 11)\">0</text></g><g class=\"a10 c1 node n8 p0\" transform=\"translate(18.75 6.21663)\"><g class=\"a8 c2 node n6 p0\" transform=\"translate(0.0 19.5443)\"><g class=\"a6 i0 leaf node n1 p0 sample\" transform=\"translate(-12.5 0.769401)\"><path class=\"edge\" d=\"M 0 0 V -0.769401 H 12.5\"/><rect class=\"sym\" height=\"6\" width=\"6\" x=\"-3\" y=\"-3\"/><text class=\"lab\" transform=\"translate(0 11)\">1</text></g><g class=\"a6 i2 leaf node n5 p0 sample\" transform=\"translate(12.5 0.769401)\"><path class=\"edge\" d=\"M 0 0 V -0.769401 H -12.5\"/><rect class=\"sym\" height=\"6\" width=\"6\" x=\"-3\" y=\"-3\"/><text class=\"lab\" transform=\"translate(0 11)\">5</text></g><path class=\"edge\" d=\"M 0 0 V -19.5443 H 0.0\"/><circle class=\"sym\" cx=\"0\" cy=\"0\" r=\"3\"/><text class=\"lab lft\" transform=\"translate(-3 -7.0)\">6</text></g><path class=\"edge\" d=\"M 0 0 V -6.21663 H -18.75\"/><circle class=\"sym\" cx=\"0\" cy=\"0\" r=\"3\"/><text class=\"lab rgt\" transform=\"translate(3 -7.0)\">8</text></g><path class=\"edge\" d=\"M 0 0 V -5.08172 H 37.5\"/><circle class=\"sym\" cx=\"0\" cy=\"0\" r=\"3\"/><text class=\"lab lft\" transform=\"translate(-3 -7.0)\">10</text></g><circle class=\"sym\" cx=\"0\" cy=\"0\" r=\"3\"/><text class=\"lab\" transform=\"translate(0 -11)\">11</text></g></g></g><g class=\"tree t3\" transform=\"translate(210 0)\"><g class=\"plotbox\"><g class=\"c2 node n12 p0 root\" transform=\"translate(65.3125 79.1668)\"><g class=\"a12 c1 node n8 p0\" transform=\"translate(-32.8125 21.9195)\"><g class=\"a8 i0 leaf node n0 p0 sample\" transform=\"translate(0.0 20.3137)\"><path class=\"edge\" d=\"M 0 0 V -20.3137 H 0.0\"/><rect class=\"sym\" height=\"6\" width=\"6\" x=\"-3\" y=\"-3\"/><text class=\"lab\" transform=\"translate(0 11)\">0</text></g><path class=\"edge\" d=\"M 0 0 V -21.9195 H 32.8125\"/><circle class=\"sym\" cx=\"0\" cy=\"0\" r=\"3\"/><text class=\"lab lft\" transform=\"translate(-3 -7.0)\">8</text></g><g class=\"a12 c2 node n11 p0\" transform=\"translate(32.8125 10.6212)\"><g class=\"a11 c2 node n9 p0\" transform=\"translate(28.125 10.232)\"><g class=\"a9 i1 leaf node n2 p0 sample\" transform=\"translate(-18.75 21.3801)\"><path class=\"edge\" d=\"M 0 0 V -21.3801 H 18.75\"/><rect class=\"sym\" height=\"6\" width=\"6\" x=\"-3\" y=\"-3\"/><text class=\"lab\" transform=\"translate(0 11)\">2</text></g><g class=\"a9 c2 node n7 p0\" transform=\"translate(18.75 9.87231)\"><g class=\"a7 i1 leaf node n3 p0 sample\" transform=\"translate(-12.5 11.5078)\"><path class=\"edge\" d=\"M 0 0 V -11.5078 H 12.5\"/><rect class=\"sym\" height=\"6\" width=\"6\" x=\"-3\" y=\"-3\"/><text class=\"lab\" transform=\"translate(0 11)\">3</text></g><g class=\"a7 i2 leaf node n4 p0 sample\" transform=\"translate(12.5 11.5078)\"><path class=\"edge\" d=\"M 0 0 V -11.5078 H -12.5\"/><rect class=\"sym\" height=\"6\" width=\"6\" x=\"-3\" y=\"-3\"/><text class=\"lab\" transform=\"translate(0 11)\">4</text></g><path class=\"edge\" d=\"M 0 0 V -9.87231 H -18.75\"/><circle class=\"sym\" cx=\"0\" cy=\"0\" r=\"3\"/><text class=\"lab rgt\" transform=\"translate(3 -7.0)\">7</text></g><path class=\"edge\" d=\"M 0 0 V -10.232 H -28.125\"/><circle class=\"sym\" cx=\"0\" cy=\"0\" r=\"3\"/><text class=\"lab rgt\" transform=\"translate(3 -7.0)\">9</text></g><g class=\"a11 c1 node n10 p0\" transform=\"translate(-28.125 5.08172)\"><g class=\"a10 c2 node n6 p0\" transform=\"translate(0.0 25.761)\"><g class=\"a6 i0 leaf node n1 p0 sample\" transform=\"translate(-12.5 0.769401)\"><path class=\"edge\" d=\"M 0 0 V -0.769401 H 12.5\"/><rect class=\"sym\" height=\"6\" width=\"6\" x=\"-3\" y=\"-3\"/><text class=\"lab\" transform=\"translate(0 11)\">1</text></g><g class=\"a6 i2 leaf node n5 p0 sample\" transform=\"translate(12.5 0.769401)\"><path class=\"edge\" d=\"M 0 0 V -0.769401 H -12.5\"/><rect class=\"sym\" height=\"6\" width=\"6\" x=\"-3\" y=\"-3\"/><text class=\"lab\" transform=\"translate(0 11)\">5</text></g><path class=\"edge\" d=\"M 0 0 V -25.761 H 0.0\"/><circle class=\"sym\" cx=\"0\" cy=\"0\" r=\"3\"/><text class=\"lab lft\" transform=\"translate(-3 -7.0)\">6</text></g><path class=\"edge\" d=\"M 0 0 V -5.08172 H 28.125\"/><circle class=\"sym\" cx=\"0\" cy=\"0\" r=\"3\"/><text class=\"lab lft\" transform=\"translate(-3 -7.0)\">10</text></g><path class=\"edge\" d=\"M 0 0 V -10.6212 H -32.8125\"/><circle class=\"sym\" cx=\"0\" cy=\"0\" r=\"3\"/><text class=\"lab rgt\" transform=\"translate(3 -7.0)\">11</text></g><circle class=\"sym\" cx=\"0\" cy=\"0\" r=\"3\"/><text class=\"lab\" transform=\"translate(0 -11)\">12</text></g></g></g><g class=\"tree t4\" transform=\"translate(400 0)\"><g class=\"plotbox\"><g class=\"c2 node n12 p0 root\" transform=\"translate(82.5 79.1668)\"><g class=\"a12 c2 node n8 p0\" transform=\"translate(-37.5 21.9195)\"><g class=\"a8 i0 leaf node n0 p0 sample\" transform=\"translate(-12.5 20.3137)\"><path class=\"edge\" d=\"M 0 0 V -20.3137 H 12.5\"/><rect class=\"sym\" height=\"6\" width=\"6\" x=\"-3\" y=\"-3\"/><text class=\"lab\" transform=\"translate(0 11)\">0</text></g><g class=\"a8 i1 leaf node n2 p0 sample\" transform=\"translate(12.5 20.3137)\"><path class=\"edge\" d=\"M 0 0 V -20.3137 H -12.5\"/><rect class=\"sym\" height=\"6\" width=\"6\" x=\"-3\" y=\"-3\"/><text class=\"lab\" transform=\"translate(0 11)\">2</text></g><path class=\"edge\" d=\"M 0 0 V -21.9195 H 37.5\"/><circle class=\"sym\" cx=\"0\" cy=\"0\" r=\"3\"/><text class=\"lab lft\" transform=\"translate(-3 -7.0)\">8</text></g><g class=\"a12 c2 node n11 p0\" transform=\"translate(37.5 10.6212)\"><g class=\"a11 c1 node n9 p0\" transform=\"translate(25 10.232)\"><g class=\"a9 c2 node n7 p0\" transform=\"translate(0.0 9.87231)\"><g class=\"a7 i1 leaf node n3 p0 sample\" transform=\"translate(-12.5 11.5078)\"><path class=\"edge\" d=\"M 0 0 V -11.5078 H 12.5\"/><rect class=\"sym\" height=\"6\" width=\"6\" x=\"-3\" y=\"-3\"/><text class=\"lab\" transform=\"translate(0 11)\">3</text></g><g class=\"a7 i2 leaf node n4 p0 sample\" transform=\"translate(12.5 11.5078)\"><path class=\"edge\" d=\"M 0 0 V -11.5078 H -12.5\"/><rect class=\"sym\" height=\"6\" width=\"6\" x=\"-3\" y=\"-3\"/><text class=\"lab\" transform=\"translate(0 11)\">4</text></g><path class=\"edge\" d=\"M 0 0 V -9.87231 H 0.0\"/><circle class=\"sym\" cx=\"0\" cy=\"0\" r=\"3\"/><text class=\"lab lft\" transform=\"translate(-3 -7.0)\">7</text></g><path class=\"edge\" d=\"M 0 0 V -10.232 H -25\"/><circle class=\"sym\" cx=\"0\" cy=\"0\" r=\"3\"/><text class=\"lab rgt\" transform=\"translate(3 -7.0)\">9</text></g><g class=\"a11 c1 node n10 p0\" transform=\"translate(-25 5.08172)\"><g class=\"a10 c2 node n6 p0\" transform=\"translate(0.0 25.761)\"><g class=\"a6 i0 leaf node n1 p0 sample\" transform=\"translate(-12.5 0.769401)\"><path class=\"edge\" d=\"M 0 0 V -0.769401 H 12.5\"/><rect class=\"sym\" height=\"6\" width=\"6\" x=\"-3\" y=\"-3\"/><text class=\"lab\" transform=\"translate(0 11)\">1</text></g><g class=\"a6 i2 leaf node n5 p0 sample\" transform=\"translate(12.5 0.769401)\"><path class=\"edge\" d=\"M 0 0 V -0.769401 H -12.5\"/><rect class=\"sym\" height=\"6\" width=\"6\" x=\"-3\" y=\"-3\"/><text class=\"lab\" transform=\"translate(0 11)\">5</text></g><path class=\"edge\" d=\"M 0 0 V -25.761 H 0.0\"/><circle class=\"sym\" cx=\"0\" cy=\"0\" r=\"3\"/><text class=\"lab lft\" transform=\"translate(-3 -7.0)\">6</text></g><path class=\"edge\" d=\"M 0 0 V -5.08172 H 25\"/><circle class=\"sym\" cx=\"0\" cy=\"0\" r=\"3\"/><text class=\"lab lft\" transform=\"translate(-3 -7.0)\">10</text></g><path class=\"edge\" d=\"M 0 0 V -10.6212 H -37.5\"/><circle class=\"sym\" cx=\"0\" cy=\"0\" r=\"3\"/><text class=\"lab rgt\" transform=\"translate(3 -7.0)\">11</text></g><circle class=\"sym\" cx=\"0\" cy=\"0\" r=\"3\"/><text class=\"lab\" transform=\"translate(0 -11)\">12</text></g></g></g><g class=\"tree t5\" transform=\"translate(590 0)\"><g class=\"plotbox\"><g class=\"c2 node n13 p0 root\" transform=\"translate(107.5 26.8)\"><g class=\"a13 c2 node n7 p0\" transform=\"translate(37.5 83.0922)\"><g class=\"a7 i1 leaf node n3 p0 sample\" transform=\"translate(-12.5 11.5078)\"><path class=\"edge\" d=\"M 0 0 V -11.5078 H 12.5\"/><rect class=\"sym\" height=\"6\" width=\"6\" x=\"-3\" y=\"-3\"/><text class=\"lab\" transform=\"translate(0 11)\">3</text></g><g class=\"a7 i2 leaf node n4 p0 sample\" transform=\"translate(12.5 11.5078)\"><path class=\"edge\" d=\"M 0 0 V -11.5078 H -12.5\"/><rect class=\"sym\" height=\"6\" width=\"6\" x=\"-3\" y=\"-3\"/><text class=\"lab\" transform=\"translate(0 11)\">4</text></g><path class=\"edge\" d=\"M 0 0 V -83.0922 H -37.5\"/><circle class=\"sym\" cx=\"0\" cy=\"0\" r=\"3\"/><text class=\"lab rgt\" transform=\"translate(3 -7.0)\">7</text></g><g class=\"a13 c2 node n12 p0\" transform=\"translate(-37.5 52.3668)\"><g class=\"a12 c2 node n8 p0\" transform=\"translate(-25 21.9195)\"><g class=\"a8 i0 leaf node n0 p0 sample\" transform=\"translate(-12.5 20.3137)\"><path class=\"edge\" d=\"M 0 0 V -20.3137 H 12.5\"/><rect class=\"sym\" height=\"6\" width=\"6\" x=\"-3\" y=\"-3\"/><text class=\"lab\" transform=\"translate(0 11)\">0</text></g><g class=\"a8 i1 leaf node n2 p0 sample\" transform=\"translate(12.5 20.3137)\"><path class=\"edge\" d=\"M 0 0 V -20.3137 H -12.5\"/><rect class=\"sym\" height=\"6\" width=\"6\" x=\"-3\" y=\"-3\"/><text class=\"lab\" transform=\"translate(0 11)\">2</text></g><path class=\"edge\" d=\"M 0 0 V -21.9195 H 25\"/><circle class=\"sym\" cx=\"0\" cy=\"0\" r=\"3\"/><text class=\"lab lft\" transform=\"translate(-3 -7.0)\">8</text></g><g class=\"a12 c1 node n11 p0\" transform=\"translate(25 10.6212)\"><g class=\"a11 c2 node n6 p0\" transform=\"translate(0.0 30.8427)\"><g class=\"a6 i0 leaf node n1 p0 sample\" transform=\"translate(-12.5 0.769401)\"><path class=\"edge\" d=\"M 0 0 V -0.769401 H 12.5\"/><rect class=\"sym\" height=\"6\" width=\"6\" x=\"-3\" y=\"-3\"/><text class=\"lab\" transform=\"translate(0 11)\">1</text></g><g class=\"a6 i2 leaf node n5 p0 sample\" transform=\"translate(12.5 0.769401)\"><path class=\"edge\" d=\"M 0 0 V -0.769401 H -12.5\"/><rect class=\"sym\" height=\"6\" width=\"6\" x=\"-3\" y=\"-3\"/><text class=\"lab\" transform=\"translate(0 11)\">5</text></g><path class=\"edge\" d=\"M 0 0 V -30.8427 H 0.0\"/><circle class=\"sym\" cx=\"0\" cy=\"0\" r=\"3\"/><text class=\"lab lft\" transform=\"translate(-3 -7.0)\">6</text></g><path class=\"edge\" d=\"M 0 0 V -10.6212 H -25\"/><circle class=\"sym\" cx=\"0\" cy=\"0\" r=\"3\"/><text class=\"lab rgt\" transform=\"translate(3 -7.0)\">11</text></g><path class=\"edge\" d=\"M 0 0 V -52.3668 H 37.5\"/><circle class=\"sym\" cx=\"0\" cy=\"0\" r=\"3\"/><text class=\"lab lft\" transform=\"translate(-3 -7.0)\">12</text></g><circle class=\"sym\" cx=\"0\" cy=\"0\" r=\"3\"/><text class=\"lab\" transform=\"translate(0 -11)\">13</text></g></g></g></g></g></svg>"
      ],
      "text/plain": [
       "<IPython.core.display.SVG object>"
      ]
     },
     "execution_count": 38,
     "metadata": {},
     "output_type": "execute_result"
    }
   ],
   "source": [
    "SVG(ts.draw_svg(x_lim=(7e4, 8.5e4)))"
   ]
  },
  {
   "cell_type": "code",
   "execution_count": 36,
   "id": "f161eaed",
   "metadata": {},
   "outputs": [
    {
     "name": "stdout",
     "output_type": "stream",
     "text": [
      "Help on method draw_svg in module tskit.trees:\n",
      "\n",
      "draw_svg(path=None, *, size=None, x_scale=None, time_scale=None, tree_height_scale=None, node_labels=None, mutation_labels=None, root_svg_attributes=None, style=None, order=None, force_root_branch=None, symbol_size=None, x_axis=None, x_label=None, x_lim=None, y_axis=None, y_label=None, y_ticks=None, y_gridlines=None, **kwargs) method of tskit.trees.TreeSequence instance\n",
      "    Return an SVG representation of a tree sequence. See the\n",
      "    :ref:`visualization tutorial<tutorials:sec_tskit_viz>` for more details.\n",
      "    \n",
      "    :param str path: The path to the file to write the output. If None, do not write\n",
      "        to file.\n",
      "    :param size: A tuple of (width, height) giving the width and height of the\n",
      "        produced SVG drawing in abstract user units (usually interpreted as pixels on\n",
      "        display).\n",
      "    :type size: tuple(int, int)\n",
      "    :param str x_scale: Control how the X axis is drawn. If \"physical\" (the default)\n",
      "        the axis scales linearly with physical distance along the sequence,\n",
      "        background shading is used to indicate the position of the trees along the\n",
      "        X axis, and sites (with associated mutations) are marked at the\n",
      "        appropriate physical position on axis line. If \"treewise\", each axis tick\n",
      "        corresponds to a tree boundary, which are positioned evenly along the axis,\n",
      "        so that the X axis is of variable scale, no background scaling is required,\n",
      "        and site positions are not marked on the axis.\n",
      "    :param str time_scale: Control how height values for nodes are computed.\n",
      "        If this is equal to ``\"time\"``, node heights are proportional to their time\n",
      "        values (this is the default). If this is equal to ``\"log_time\"``, node\n",
      "        heights are proportional to their log(time) values. If it is equal to\n",
      "        ``\"rank\"``, node heights are spaced equally according to their ranked times.\n",
      "    :param str tree_height_scale: Deprecated alias for time_scale. (Deprecated in\n",
      "        0.3.6)\n",
      "    :param node_labels: If specified, show custom labels for the nodes\n",
      "        (specified by ID) that are present in this map; any nodes not present will\n",
      "        not have a label.\n",
      "    :type node_labels: dict(int, str)\n",
      "    :param mutation_labels: If specified, show custom labels for the\n",
      "        mutations (specified by ID) that are present in the map; any mutations\n",
      "        not present will not have a label.\n",
      "    :type mutation_labels: dict(int, str)\n",
      "    :param dict root_svg_attributes: Additional attributes, such as an id, that will\n",
      "        be embedded in the root ``<svg>`` tag of the generated drawing.\n",
      "    :param str style: A `css string <https://www.w3.org/TR/CSS21/syndata.htm>`_\n",
      "        that will be included in the ``<style>`` tag of the generated svg.\n",
      "    :param str order: The left-to-right ordering of child nodes in each drawn tree.\n",
      "        This can be either: ``\"minlex\"``, which minimises the differences\n",
      "        between adjacent trees (see also the ``\"minlex_postorder\"`` traversal\n",
      "        order for the :meth:`.Tree.nodes` method); or ``\"tree\"`` which draws trees\n",
      "        in the left-to-right order defined by the\n",
      "        :ref:`quintuply linked tree structure <sec_data_model_tree_structure>`.\n",
      "        If not specified or None, this defaults to ``\"minlex\"``.\n",
      "    :param bool force_root_branch: If ``True`` plot a branch (edge) above every tree\n",
      "        root in the tree sequence. If ``None`` (default) then only plot such\n",
      "        root branches if any root in the tree sequence has a mutation above it.\n",
      "    :param float symbol_size: Change the default size of the node and mutation\n",
      "        plotting symbols. If ``None`` (default) use a standard size.\n",
      "    :param bool x_axis: Should the plot have an X axis line, showing the positions\n",
      "        of trees along the genome. The scale used is determined by the ``x_scale``\n",
      "        parameter. If ``None`` (default) plot an X axis.\n",
      "    :param str x_label: Place a label under the plot. If ``None`` (default) and\n",
      "        there is an X axis, create and place an appropriate label.\n",
      "    :param list x_lim: A list of size two giving the genomic positions between which\n",
      "        trees should be plotted. If the first is ``None``, then plot from the first\n",
      "        non-empty region of the tree sequence. If the second is ``None``, then plot\n",
      "        up to the end of the last non-empty region of the tree sequence. The default\n",
      "        value ``x_lim=None`` is shorthand for the list [``None``, ``None``]. If\n",
      "        numerical values are given, then regions outside the interval have all\n",
      "        information discarded: this means that mutations outside the interval will\n",
      "        not be shown. To force display of the entire tree sequence, including empty\n",
      "        flanking regions, specify ``x_lim=[0, ts.sequence_length]``.\n",
      "    :param bool y_axis: Should the plot have an Y axis line, showing time (or\n",
      "        ranked node time if ``time_scale=\"rank\"``. If ``None`` (default)\n",
      "        do not plot a Y axis.\n",
      "    :param str y_label: Place a label to the left of the plot. If ``None`` (default)\n",
      "        and there is a Y axis, create and place an appropriate label.\n",
      "    :param list y_ticks: A list of Y values at which to plot tickmarks (``[]``\n",
      "        gives no tickmarks). If ``None``, plot one tickmark for each unique\n",
      "        node value.\n",
      "    :param bool y_gridlines: Whether to plot horizontal lines behind the tree\n",
      "        at each y tickmark.\n",
      "    \n",
      "    :return: An SVG representation of a tree sequence.\n",
      "    :rtype: str\n",
      "    \n",
      "    .. note::\n",
      "        Technically, x_lim[0] specifies a *minimum* value for the start of the X\n",
      "        axis, and x_lim[1] specifies a *maximum* value for the end. This is only\n",
      "        relevant if the tree sequence contains \"empty\" regions with no edges or\n",
      "        mutations. In this case if x_lim[0] lies strictly within an empty region\n",
      "        (i.e., ``empty_tree.interval.left < x_lim[0] < empty_tree.interval.right``)\n",
      "        then that tree will not be plotted on the left hand side, and the X axis\n",
      "        will start at ``empty_tree.interval.right``. Similarly, if x_lim[1] lies\n",
      "        strictly within an empty region then that tree will not be plotted on the\n",
      "        right hand side, and the X axis will end at ``empty_tree.interval.left``\n",
      "\n"
     ]
    }
   ],
   "source": [
    "help(ts.draw_svg)"
   ]
  },
  {
   "cell_type": "code",
   "execution_count": null,
   "id": "8f280938",
   "metadata": {},
   "outputs": [],
   "source": [
    "Svals = [100, 1000, 10000]\n",
    "Lvals = np.linspace(1e4, 3e6, 31)\n",
    "num_edge_lists = {}\n",
    "for S in Svals:\n",
    "    nel = []\n",
    "    for L in Lvals:\n",
    "        ts = msprime.sim_ancestry(\n",
    "            1000, \n",
    "            population_size=1000,\n",
    "            sequence_length=int(L),\n",
    "            recombination_rate=1e-8,\n",
    "        )\n",
    "        ets, num_edges = extend_edges(ts)\n",
    "        nel.append(num_edges)\n",
    "    num_edge_lists[S] = nel"
   ]
  },
  {
   "cell_type": "code",
   "execution_count": null,
   "id": "6a5cc605",
   "metadata": {},
   "outputs": [],
   "source": [
    "fig, ax = plt.subplots(figsize=(15, 6))\n",
    "\n",
    "for S in Svals:\n",
    "    reduction = [x[-1] / x[0] for x in num_edge_lists[S]]\n",
    "    ax.plot(Lvals, reduction, label=f\"num samples = {S}\")\n",
    "ax.set_xlabel(\"sequence length\")\n",
    "ax.set_ylabel(\"percent of edges left\")\n",
    "ax.legend();"
   ]
  },
  {
   "cell_type": "code",
   "execution_count": 82,
   "id": "d76d5371",
   "metadata": {},
   "outputs": [
    {
     "name": "stdout",
     "output_type": "stream",
     "text": [
      "Before: 0.0006997585296630859, after: 0.0005362033843994141\n"
     ]
    }
   ],
   "source": [
    "import time\n",
    "ts = msprime.sim_ancestry(\n",
    "        1000, \n",
    "        population_size=1000,\n",
    "        sequence_length=1e6,\n",
    "        recombination_rate=1e-8,\n",
    "    )\n",
    "ets, _ = extend_edges(ts)\n",
    "\n",
    "before_time = time.time()\n",
    "a = ts.Tajimas_D()\n",
    "next_time = time.time()\n",
    "b = ets.Tajimas_D()\n",
    "after_time = time.time()\n",
    "\n",
    "print(f\"Before: {next_time - before_time}, after: {after_time - next_time}\")"
   ]
  }
 ],
 "metadata": {
  "kernelspec": {
   "display_name": "Python 3 (ipykernel)",
   "language": "python",
   "name": "python3"
  },
  "language_info": {
   "codemirror_mode": {
    "name": "ipython",
    "version": 3
   },
   "file_extension": ".py",
   "mimetype": "text/x-python",
   "name": "python",
   "nbconvert_exporter": "python",
   "pygments_lexer": "ipython3",
   "version": "3.9.9"
  }
 },
 "nbformat": 4,
 "nbformat_minor": 5
}
