{
 "cells": [
  {
   "cell_type": "code",
   "execution_count": 2,
   "id": "e73285df",
   "metadata": {},
   "outputs": [],
   "source": [
    "import msprime, tskit\n",
    "from IPython.display import SVG\n",
    "import numpy as np\n",
    "import matplotlib.pyplot as plt\n",
    "from algorithm import *"
   ]
  },
  {
   "cell_type": "code",
   "execution_count": 3,
   "id": "5e20039d",
   "metadata": {},
   "outputs": [],
   "source": [
    "ts2 = msprime.sim_ancestry(3, population_size=100, sequence_length=1e5, recombination_rate=1e-8,\n",
    "                         record_full_arg=True)"
   ]
  },
  {
   "cell_type": "code",
   "execution_count": 4,
   "id": "cdc9461b",
   "metadata": {},
   "outputs": [
    {
     "data": {
      "image/svg+xml": "<svg xmlns=\"http://www.w3.org/2000/svg\" xmlns:ev=\"http://www.w3.org/2001/xml-events\" xmlns:xlink=\"http://www.w3.org/1999/xlink\" baseProfile=\"full\" height=\"300\" version=\"1.1\" width=\"1000\"><defs><style type=\"text/css\"><![CDATA[.background path {fill: #808080; fill-opacity: 0}.background path:nth-child(odd) {fill-opacity: .1}.axes {font-size: 14px}.x-axis .tick .lab {font-weight: bold; dominant-baseline: hanging}.axes, .tree {font-size: 14px; text-anchor: middle}.axes line, .edge {stroke: black; fill: none}.y-axis .grid {stroke: #FAFAFA}.node > .sym {fill: black; stroke: none}.site > .sym {stroke: black}.mut text {fill: red; font-style: italic}.mut.extra text {fill: hotpink}.mut line {fill: none; stroke: none}.mut .sym {fill: none; stroke: red}.mut.extra .sym {stroke: hotpink}.node .mut .sym {stroke-width: 1.5px}.tree text, .tree-sequence text {dominant-baseline: central}.plotbox .lab.lft {text-anchor: end}.plotbox .lab.rgt {text-anchor: start}]]></style></defs><g class=\"tree-sequence\"><g class=\"background\"><path d=\"M20,0 l240,0 l0,238.2 l-123.437,25 l0,5 l-116.563,0 l0,-5 l0,-25 l0,-238.2z\"/><path d=\"M260,0 l240,0 l0,238.2 l123.254,25 l0,5 l-486.691,0 l0,-5 l123.437,-25 l0,-238.2z\"/><path d=\"M500,0 l240,0 l0,238.2 l135.523,25 l0,5 l-252.269,0 l0,-5 l-123.254,-25 l0,-238.2z\"/><path d=\"M740,0 l240,0 l0,238.2 l0,25 l0,5 l-104.477,0 l0,-5 l-135.523,-25 l0,-238.2z\"/></g><g class=\"axes\"><g class=\"x-axis\"><g transform=\"translate(500 300)\"><text class=\"lab\" text-anchor=\"middle\" transform=\"translate(0 -11)\">Genome position</text></g><line x1=\"20\" x2=\"980\" y1=\"263.2\" y2=\"263.2\"/><g class=\"ticks\"><g class=\"tick\" transform=\"translate(20 263.2)\"><line x1=\"0\" x2=\"0\" y1=\"0\" y2=\"5\"/><g transform=\"translate(0 6)\"><text class=\"lab\">0</text></g></g><g class=\"tick\" transform=\"translate(136.563 263.2)\"><line x1=\"0\" x2=\"0\" y1=\"0\" y2=\"5\"/><g transform=\"translate(0 6)\"><text class=\"lab\">12142</text></g></g><g class=\"tick\" transform=\"translate(623.254 263.2)\"><line x1=\"0\" x2=\"0\" y1=\"0\" y2=\"5\"/><g transform=\"translate(0 6)\"><text class=\"lab\">62839</text></g></g><g class=\"tick\" transform=\"translate(875.523 263.2)\"><line x1=\"0\" x2=\"0\" y1=\"0\" y2=\"5\"/><g transform=\"translate(0 6)\"><text class=\"lab\">89117</text></g></g><g class=\"tick\" transform=\"translate(980 263.2)\"><line x1=\"0\" x2=\"0\" y1=\"0\" y2=\"5\"/><g transform=\"translate(0 6)\"><text class=\"lab\">100000</text></g></g></g></g></g><g class=\"plotbox trees\"><g class=\"tree t0\" transform=\"translate(20 0)\"><g class=\"plotbox\"><g class=\"c2 node n19 p0 root\" transform=\"translate(111.667 26.8)\"><g class=\"a19 c2 node n14 p0\" transform=\"translate(50 150.145)\"><g class=\"a14 i1 leaf node n2 p0 sample\" transform=\"translate(-25 44.4555)\"><path class=\"edge\" d=\"M 0 0 V -44.4555 H 25\"/><rect class=\"sym\" height=\"6\" width=\"6\" x=\"-3\" y=\"-3\"/><text class=\"lab\" transform=\"translate(0 11)\">2</text></g><g class=\"a14 c1 node n10 p0\" transform=\"translate(25 25.4441)\"><g class=\"a10 c2 node n8 p0\" transform=\"translate(0.0 9.67831)\"><g class=\"a8 i1 leaf node n3 p0 sample\" transform=\"translate(-16.6667 9.33309)\"><path class=\"edge\" d=\"M 0 0 V -9.33309 H 16.6667\"/><rect class=\"sym\" height=\"6\" width=\"6\" x=\"-3\" y=\"-3\"/><text class=\"lab\" transform=\"translate(0 11)\">3</text></g><g class=\"a8 i2 leaf node n4 p0 sample\" transform=\"translate(16.6667 9.33309)\"><path class=\"edge\" d=\"M 0 0 V -9.33309 H -16.6667\"/><rect class=\"sym\" height=\"6\" width=\"6\" x=\"-3\" y=\"-3\"/><text class=\"lab\" transform=\"translate(0 11)\">4</text></g><path class=\"edge\" d=\"M 0 0 V -9.67831 H 0.0\"/><circle class=\"sym\" cx=\"0\" cy=\"0\" r=\"3\"/><text class=\"lab lft\" transform=\"translate(-3 -7.0)\">8</text></g><path class=\"edge\" d=\"M 0 0 V -25.4441 H -25\"/><circle class=\"sym\" cx=\"0\" cy=\"0\" r=\"3\"/><text class=\"lab rgt\" transform=\"translate(3 -7.0)\">10</text></g><path class=\"edge\" d=\"M 0 0 V -150.145 H -50\"/><circle class=\"sym\" cx=\"0\" cy=\"0\" r=\"3\"/><text class=\"lab rgt\" transform=\"translate(3 -7.0)\">14</text></g><g class=\"a19 c1 node n18 p0\" transform=\"translate(-50 51.9743)\"><g class=\"a18 c1 node n16 p0\" transform=\"translate(0.0 10.1578)\"><g class=\"a16 c2 node n15 p0\" transform=\"translate(0.0 62.2994)\"><g class=\"a15 c2 node n9 p0\" transform=\"translate(25 55.6377)\"><g class=\"a9 i2 leaf node n5 p0 sample\" transform=\"translate(16.6667 14.5307)\"><path class=\"edge\" d=\"M 0 0 V -14.5307 H -16.6667\"/><rect class=\"sym\" height=\"6\" width=\"6\" x=\"-3\" y=\"-3\"/><text class=\"lab\" transform=\"translate(0 11)\">5</text></g><g class=\"a9 c1 node n6 p0\" transform=\"translate(-16.6667 6.73042)\"><g class=\"a6 i0 leaf node n1 p0 sample\" transform=\"translate(0.0 7.8003)\"><path class=\"edge\" d=\"M 0 0 V -7.8003 H 0.0\"/><rect class=\"sym\" height=\"6\" width=\"6\" x=\"-3\" y=\"-3\"/><text class=\"lab\" transform=\"translate(0 11)\">1</text></g><path class=\"edge\" d=\"M 0 0 V -6.73042 H 16.6667\"/><circle class=\"sym\" cx=\"0\" cy=\"0\" r=\"3\"/><text class=\"lab lft\" transform=\"translate(-3 -7.0)\">6</text></g><path class=\"edge\" d=\"M 0 0 V -55.6377 H -25\"/><circle class=\"sym\" cx=\"0\" cy=\"0\" r=\"3\"/><text class=\"lab rgt\" transform=\"translate(3 -7.0)\">9</text></g><g class=\"a15 c1 node n13 p0\" transform=\"translate(-25 48.8081)\"><g class=\"a13 c1 node n11 p0\" transform=\"translate(0.0 1.63821)\"><g class=\"a11 i0 leaf node n0 p0 sample\" transform=\"translate(0.0 19.7221)\"><path class=\"edge\" d=\"M 0 0 V -19.7221 H 0.0\"/><rect class=\"sym\" height=\"6\" width=\"6\" x=\"-3\" y=\"-3\"/><text class=\"lab\" transform=\"translate(0 11)\">0</text></g><path class=\"edge\" d=\"M 0 0 V -1.63821 H 0.0\"/><circle class=\"sym\" cx=\"0\" cy=\"0\" r=\"3\"/><text class=\"lab lft\" transform=\"translate(-3 -7.0)\">11</text></g><path class=\"edge\" d=\"M 0 0 V -48.8081 H 25\"/><circle class=\"sym\" cx=\"0\" cy=\"0\" r=\"3\"/><text class=\"lab lft\" transform=\"translate(-3 -7.0)\">13</text></g><path class=\"edge\" d=\"M 0 0 V -62.2994 H 0.0\"/><circle class=\"sym\" cx=\"0\" cy=\"0\" r=\"3\"/><text class=\"lab lft\" transform=\"translate(-3 -7.0)\">15</text></g><path class=\"edge\" d=\"M 0 0 V -10.1578 H 0.0\"/><circle class=\"sym\" cx=\"0\" cy=\"0\" r=\"3\"/><text class=\"lab lft\" transform=\"translate(-3 -7.0)\">16</text></g><path class=\"edge\" d=\"M 0 0 V -51.9743 H 50\"/><circle class=\"sym\" cx=\"0\" cy=\"0\" r=\"3\"/><text class=\"lab lft\" transform=\"translate(-3 -7.0)\">18</text></g><circle class=\"sym\" cx=\"0\" cy=\"0\" r=\"3\"/><text class=\"lab\" transform=\"translate(0 -11)\">19</text></g></g></g><g class=\"tree t1\" transform=\"translate(260 0)\"><g class=\"plotbox\"><g class=\"c2 node n19 p0 root\" transform=\"translate(111.667 26.8)\"><g class=\"a19 c2 node n14 p0\" transform=\"translate(50 150.145)\"><g class=\"a14 i1 leaf node n2 p0 sample\" transform=\"translate(-25 44.4555)\"><path class=\"edge\" d=\"M 0 0 V -44.4555 H 25\"/><rect class=\"sym\" height=\"6\" width=\"6\" x=\"-3\" y=\"-3\"/><text class=\"lab\" transform=\"translate(0 11)\">2</text></g><g class=\"a14 c1 node n10 p0\" transform=\"translate(25 25.4441)\"><g class=\"a10 c2 node n8 p0\" transform=\"translate(0.0 9.67831)\"><g class=\"a8 i1 leaf node n3 p0 sample\" transform=\"translate(-16.6667 9.33309)\"><path class=\"edge\" d=\"M 0 0 V -9.33309 H 16.6667\"/><rect class=\"sym\" height=\"6\" width=\"6\" x=\"-3\" y=\"-3\"/><text class=\"lab\" transform=\"translate(0 11)\">3</text></g><g class=\"a8 i2 leaf node n4 p0 sample\" transform=\"translate(16.6667 9.33309)\"><path class=\"edge\" d=\"M 0 0 V -9.33309 H -16.6667\"/><rect class=\"sym\" height=\"6\" width=\"6\" x=\"-3\" y=\"-3\"/><text class=\"lab\" transform=\"translate(0 11)\">4</text></g><path class=\"edge\" d=\"M 0 0 V -9.67831 H 0.0\"/><circle class=\"sym\" cx=\"0\" cy=\"0\" r=\"3\"/><text class=\"lab lft\" transform=\"translate(-3 -7.0)\">8</text></g><path class=\"edge\" d=\"M 0 0 V -25.4441 H -25\"/><circle class=\"sym\" cx=\"0\" cy=\"0\" r=\"3\"/><text class=\"lab rgt\" transform=\"translate(3 -7.0)\">10</text></g><path class=\"edge\" d=\"M 0 0 V -150.145 H -50\"/><circle class=\"sym\" cx=\"0\" cy=\"0\" r=\"3\"/><text class=\"lab rgt\" transform=\"translate(3 -7.0)\">14</text></g><g class=\"a19 c1 node n18 p0\" transform=\"translate(-50 51.9743)\"><g class=\"a18 c1 node n17 p0\" transform=\"translate(0.0 10.1578)\"><g class=\"a17 c2 node n15 p0\" transform=\"translate(0.0 62.2994)\"><g class=\"a15 c2 node n9 p0\" transform=\"translate(25 55.6377)\"><g class=\"a9 i2 leaf node n5 p0 sample\" transform=\"translate(16.6667 14.5307)\"><path class=\"edge\" d=\"M 0 0 V -14.5307 H -16.6667\"/><rect class=\"sym\" height=\"6\" width=\"6\" x=\"-3\" y=\"-3\"/><text class=\"lab\" transform=\"translate(0 11)\">5</text></g><g class=\"a9 c1 node n6 p0\" transform=\"translate(-16.6667 6.73042)\"><g class=\"a6 i0 leaf node n1 p0 sample\" transform=\"translate(0.0 7.8003)\"><path class=\"edge\" d=\"M 0 0 V -7.8003 H 0.0\"/><rect class=\"sym\" height=\"6\" width=\"6\" x=\"-3\" y=\"-3\"/><text class=\"lab\" transform=\"translate(0 11)\">1</text></g><path class=\"edge\" d=\"M 0 0 V -6.73042 H 16.6667\"/><circle class=\"sym\" cx=\"0\" cy=\"0\" r=\"3\"/><text class=\"lab lft\" transform=\"translate(-3 -7.0)\">6</text></g><path class=\"edge\" d=\"M 0 0 V -55.6377 H -25\"/><circle class=\"sym\" cx=\"0\" cy=\"0\" r=\"3\"/><text class=\"lab rgt\" transform=\"translate(3 -7.0)\">9</text></g><g class=\"a15 c1 node n13 p0\" transform=\"translate(-25 48.8081)\"><g class=\"a13 c1 node n11 p0\" transform=\"translate(0.0 1.63821)\"><g class=\"a11 i0 leaf node n0 p0 sample\" transform=\"translate(0.0 19.7221)\"><path class=\"edge\" d=\"M 0 0 V -19.7221 H 0.0\"/><rect class=\"sym\" height=\"6\" width=\"6\" x=\"-3\" y=\"-3\"/><text class=\"lab\" transform=\"translate(0 11)\">0</text></g><path class=\"edge\" d=\"M 0 0 V -1.63821 H 0.0\"/><circle class=\"sym\" cx=\"0\" cy=\"0\" r=\"3\"/><text class=\"lab lft\" transform=\"translate(-3 -7.0)\">11</text></g><path class=\"edge\" d=\"M 0 0 V -48.8081 H 25\"/><circle class=\"sym\" cx=\"0\" cy=\"0\" r=\"3\"/><text class=\"lab lft\" transform=\"translate(-3 -7.0)\">13</text></g><path class=\"edge\" d=\"M 0 0 V -62.2994 H 0.0\"/><circle class=\"sym\" cx=\"0\" cy=\"0\" r=\"3\"/><text class=\"lab lft\" transform=\"translate(-3 -7.0)\">15</text></g><path class=\"edge\" d=\"M 0 0 V -10.1578 H 0.0\"/><circle class=\"sym\" cx=\"0\" cy=\"0\" r=\"3\"/><text class=\"lab lft\" transform=\"translate(-3 -7.0)\">17</text></g><path class=\"edge\" d=\"M 0 0 V -51.9743 H 50\"/><circle class=\"sym\" cx=\"0\" cy=\"0\" r=\"3\"/><text class=\"lab lft\" transform=\"translate(-3 -7.0)\">18</text></g><circle class=\"sym\" cx=\"0\" cy=\"0\" r=\"3\"/><text class=\"lab\" transform=\"translate(0 -11)\">19</text></g></g></g><g class=\"tree t2\" transform=\"translate(500 0)\"><g class=\"plotbox\"><g class=\"c2 node n19 p0 root\" transform=\"translate(109.583 26.8)\"><g class=\"a19 c2 node n14 p0\" transform=\"translate(56.25 150.145)\"><g class=\"a14 i1 leaf node n2 p0 sample\" transform=\"translate(37.5 44.4555)\"><path class=\"edge\" d=\"M 0 0 V -44.4555 H -37.5\"/><rect class=\"sym\" height=\"6\" width=\"6\" x=\"-3\" y=\"-3\"/><text class=\"lab\" transform=\"translate(0 11)\">2</text></g><g class=\"a14 c2 node n10 p0\" transform=\"translate(-37.5 25.4441)\"><g class=\"a10 c2 node n8 p0\" transform=\"translate(25 9.67831)\"><g class=\"a8 i1 leaf node n3 p0 sample\" transform=\"translate(-16.6667 9.33309)\"><path class=\"edge\" d=\"M 0 0 V -9.33309 H 16.6667\"/><rect class=\"sym\" height=\"6\" width=\"6\" x=\"-3\" y=\"-3\"/><text class=\"lab\" transform=\"translate(0 11)\">3</text></g><g class=\"a8 i2 leaf node n4 p0 sample\" transform=\"translate(16.6667 9.33309)\"><path class=\"edge\" d=\"M 0 0 V -9.33309 H -16.6667\"/><rect class=\"sym\" height=\"6\" width=\"6\" x=\"-3\" y=\"-3\"/><text class=\"lab\" transform=\"translate(0 11)\">4</text></g><path class=\"edge\" d=\"M 0 0 V -9.67831 H -25\"/><circle class=\"sym\" cx=\"0\" cy=\"0\" r=\"3\"/><text class=\"lab rgt\" transform=\"translate(3 -7.0)\">8</text></g><g class=\"a10 c1 node n7 p0\" transform=\"translate(-25 11.2111)\"><g class=\"a7 i0 leaf node n1 p0 sample\" transform=\"translate(0.0 7.8003)\"><path class=\"edge\" d=\"M 0 0 V -7.8003 H 0.0\"/><rect class=\"sym\" height=\"6\" width=\"6\" x=\"-3\" y=\"-3\"/><text class=\"lab\" transform=\"translate(0 11)\">1</text></g><path class=\"edge\" d=\"M 0 0 V -11.2111 H 25\"/><circle class=\"sym\" cx=\"0\" cy=\"0\" r=\"3\"/><text class=\"lab lft\" transform=\"translate(-3 -7.0)\">7</text></g><path class=\"edge\" d=\"M 0 0 V -25.4441 H 37.5\"/><circle class=\"sym\" cx=\"0\" cy=\"0\" r=\"3\"/><text class=\"lab lft\" transform=\"translate(-3 -7.0)\">10</text></g><path class=\"edge\" d=\"M 0 0 V -150.145 H -56.25\"/><circle class=\"sym\" cx=\"0\" cy=\"0\" r=\"3\"/><text class=\"lab rgt\" transform=\"translate(3 -7.0)\">14</text></g><g class=\"a19 c1 node n18 p0\" transform=\"translate(-56.25 51.9743)\"><g class=\"a18 c1 node n17 p0\" transform=\"translate(0.0 10.1578)\"><g class=\"a17 c2 node n15 p0\" transform=\"translate(0.0 62.2994)\"><g class=\"a15 c1 node n9 p0\" transform=\"translate(16.6667 55.6377)\"><g class=\"a9 i2 leaf node n5 p0 sample\" transform=\"translate(0.0 14.5307)\"><path class=\"edge\" d=\"M 0 0 V -14.5307 H 0.0\"/><rect class=\"sym\" height=\"6\" width=\"6\" x=\"-3\" y=\"-3\"/><text class=\"lab\" transform=\"translate(0 11)\">5</text></g><path class=\"edge\" d=\"M 0 0 V -55.6377 H -16.6667\"/><circle class=\"sym\" cx=\"0\" cy=\"0\" r=\"3\"/><text class=\"lab rgt\" transform=\"translate(3 -7.0)\">9</text></g><g class=\"a15 c1 node n13 p0\" transform=\"translate(-16.6667 48.8081)\"><g class=\"a13 c1 node n11 p0\" transform=\"translate(0.0 1.63821)\"><g class=\"a11 i0 leaf node n0 p0 sample\" transform=\"translate(0.0 19.7221)\"><path class=\"edge\" d=\"M 0 0 V -19.7221 H 0.0\"/><rect class=\"sym\" height=\"6\" width=\"6\" x=\"-3\" y=\"-3\"/><text class=\"lab\" transform=\"translate(0 11)\">0</text></g><path class=\"edge\" d=\"M 0 0 V -1.63821 H 0.0\"/><circle class=\"sym\" cx=\"0\" cy=\"0\" r=\"3\"/><text class=\"lab lft\" transform=\"translate(-3 -7.0)\">11</text></g><path class=\"edge\" d=\"M 0 0 V -48.8081 H 16.6667\"/><circle class=\"sym\" cx=\"0\" cy=\"0\" r=\"3\"/><text class=\"lab lft\" transform=\"translate(-3 -7.0)\">13</text></g><path class=\"edge\" d=\"M 0 0 V -62.2994 H 0.0\"/><circle class=\"sym\" cx=\"0\" cy=\"0\" r=\"3\"/><text class=\"lab lft\" transform=\"translate(-3 -7.0)\">15</text></g><path class=\"edge\" d=\"M 0 0 V -10.1578 H 0.0\"/><circle class=\"sym\" cx=\"0\" cy=\"0\" r=\"3\"/><text class=\"lab lft\" transform=\"translate(-3 -7.0)\">17</text></g><path class=\"edge\" d=\"M 0 0 V -51.9743 H 56.25\"/><circle class=\"sym\" cx=\"0\" cy=\"0\" r=\"3\"/><text class=\"lab lft\" transform=\"translate(-3 -7.0)\">18</text></g><circle class=\"sym\" cx=\"0\" cy=\"0\" r=\"3\"/><text class=\"lab\" transform=\"translate(0 -11)\">19</text></g></g></g><g class=\"tree t3\" transform=\"translate(740 0)\"><g class=\"plotbox\"><g class=\"c2 node n19 p0 root\" transform=\"translate(109.583 26.8)\"><g class=\"a19 c2 node n14 p0\" transform=\"translate(56.25 150.145)\"><g class=\"a14 i1 leaf node n2 p0 sample\" transform=\"translate(37.5 44.4555)\"><path class=\"edge\" d=\"M 0 0 V -44.4555 H -37.5\"/><rect class=\"sym\" height=\"6\" width=\"6\" x=\"-3\" y=\"-3\"/><text class=\"lab\" transform=\"translate(0 11)\">2</text></g><g class=\"a14 c2 node n10 p0\" transform=\"translate(-37.5 25.4441)\"><g class=\"a10 c2 node n8 p0\" transform=\"translate(25 9.67831)\"><g class=\"a8 i1 leaf node n3 p0 sample\" transform=\"translate(-16.6667 9.33309)\"><path class=\"edge\" d=\"M 0 0 V -9.33309 H 16.6667\"/><rect class=\"sym\" height=\"6\" width=\"6\" x=\"-3\" y=\"-3\"/><text class=\"lab\" transform=\"translate(0 11)\">3</text></g><g class=\"a8 i2 leaf node n4 p0 sample\" transform=\"translate(16.6667 9.33309)\"><path class=\"edge\" d=\"M 0 0 V -9.33309 H -16.6667\"/><rect class=\"sym\" height=\"6\" width=\"6\" x=\"-3\" y=\"-3\"/><text class=\"lab\" transform=\"translate(0 11)\">4</text></g><path class=\"edge\" d=\"M 0 0 V -9.67831 H -25\"/><circle class=\"sym\" cx=\"0\" cy=\"0\" r=\"3\"/><text class=\"lab rgt\" transform=\"translate(3 -7.0)\">8</text></g><g class=\"a10 c1 node n7 p0\" transform=\"translate(-25 11.2111)\"><g class=\"a7 i0 leaf node n1 p0 sample\" transform=\"translate(0.0 7.8003)\"><path class=\"edge\" d=\"M 0 0 V -7.8003 H 0.0\"/><rect class=\"sym\" height=\"6\" width=\"6\" x=\"-3\" y=\"-3\"/><text class=\"lab\" transform=\"translate(0 11)\">1</text></g><path class=\"edge\" d=\"M 0 0 V -11.2111 H 25\"/><circle class=\"sym\" cx=\"0\" cy=\"0\" r=\"3\"/><text class=\"lab lft\" transform=\"translate(-3 -7.0)\">7</text></g><path class=\"edge\" d=\"M 0 0 V -25.4441 H 37.5\"/><circle class=\"sym\" cx=\"0\" cy=\"0\" r=\"3\"/><text class=\"lab lft\" transform=\"translate(-3 -7.0)\">10</text></g><path class=\"edge\" d=\"M 0 0 V -150.145 H -56.25\"/><circle class=\"sym\" cx=\"0\" cy=\"0\" r=\"3\"/><text class=\"lab rgt\" transform=\"translate(3 -7.0)\">14</text></g><g class=\"a19 c1 node n18 p0\" transform=\"translate(-56.25 51.9743)\"><g class=\"a18 c1 node n17 p0\" transform=\"translate(0.0 10.1578)\"><g class=\"a17 c2 node n15 p0\" transform=\"translate(0.0 62.2994)\"><g class=\"a15 c1 node n9 p0\" transform=\"translate(16.6667 55.6377)\"><g class=\"a9 i2 leaf node n5 p0 sample\" transform=\"translate(0.0 14.5307)\"><path class=\"edge\" d=\"M 0 0 V -14.5307 H 0.0\"/><rect class=\"sym\" height=\"6\" width=\"6\" x=\"-3\" y=\"-3\"/><text class=\"lab\" transform=\"translate(0 11)\">5</text></g><path class=\"edge\" d=\"M 0 0 V -55.6377 H -16.6667\"/><circle class=\"sym\" cx=\"0\" cy=\"0\" r=\"3\"/><text class=\"lab rgt\" transform=\"translate(3 -7.0)\">9</text></g><g class=\"a15 c1 node n13 p0\" transform=\"translate(-16.6667 48.8081)\"><g class=\"a13 c1 node n12 p0\" transform=\"translate(0.0 1.63821)\"><g class=\"a12 i0 leaf node n0 p0 sample\" transform=\"translate(0.0 19.7221)\"><path class=\"edge\" d=\"M 0 0 V -19.7221 H 0.0\"/><rect class=\"sym\" height=\"6\" width=\"6\" x=\"-3\" y=\"-3\"/><text class=\"lab\" transform=\"translate(0 11)\">0</text></g><path class=\"edge\" d=\"M 0 0 V -1.63821 H 0.0\"/><circle class=\"sym\" cx=\"0\" cy=\"0\" r=\"3\"/><text class=\"lab lft\" transform=\"translate(-3 -7.0)\">12</text></g><path class=\"edge\" d=\"M 0 0 V -48.8081 H 16.6667\"/><circle class=\"sym\" cx=\"0\" cy=\"0\" r=\"3\"/><text class=\"lab lft\" transform=\"translate(-3 -7.0)\">13</text></g><path class=\"edge\" d=\"M 0 0 V -62.2994 H 0.0\"/><circle class=\"sym\" cx=\"0\" cy=\"0\" r=\"3\"/><text class=\"lab lft\" transform=\"translate(-3 -7.0)\">15</text></g><path class=\"edge\" d=\"M 0 0 V -10.1578 H 0.0\"/><circle class=\"sym\" cx=\"0\" cy=\"0\" r=\"3\"/><text class=\"lab lft\" transform=\"translate(-3 -7.0)\">17</text></g><path class=\"edge\" d=\"M 0 0 V -51.9743 H 56.25\"/><circle class=\"sym\" cx=\"0\" cy=\"0\" r=\"3\"/><text class=\"lab lft\" transform=\"translate(-3 -7.0)\">18</text></g><circle class=\"sym\" cx=\"0\" cy=\"0\" r=\"3\"/><text class=\"lab\" transform=\"translate(0 -11)\">19</text></g></g></g></g></g></svg>",
      "text/plain": [
       "<IPython.core.display.SVG object>"
      ]
     },
     "execution_count": 4,
     "metadata": {},
     "output_type": "execute_result"
    }
   ],
   "source": [
    "SVG(ts2.draw_svg(size=(1000, 300), x_lim=[0, 1e5]))"
   ]
  },
  {
   "cell_type": "code",
   "execution_count": 5,
   "id": "269ee0e6",
   "metadata": {},
   "outputs": [
    {
     "data": {
      "image/svg+xml": "<svg xmlns=\"http://www.w3.org/2000/svg\" xmlns:ev=\"http://www.w3.org/2001/xml-events\" xmlns:xlink=\"http://www.w3.org/1999/xlink\" baseProfile=\"full\" height=\"300\" version=\"1.1\" width=\"1000\"><defs><style type=\"text/css\"><![CDATA[.background path {fill: #808080; fill-opacity: 0}.background path:nth-child(odd) {fill-opacity: .1}.axes {font-size: 14px}.x-axis .tick .lab {font-weight: bold; dominant-baseline: hanging}.axes, .tree {font-size: 14px; text-anchor: middle}.axes line, .edge {stroke: black; fill: none}.y-axis .grid {stroke: #FAFAFA}.node > .sym {fill: black; stroke: none}.site > .sym {stroke: black}.mut text {fill: red; font-style: italic}.mut.extra text {fill: hotpink}.mut line {fill: none; stroke: none}.mut .sym {fill: none; stroke: red}.mut.extra .sym {stroke: hotpink}.node .mut .sym {stroke-width: 1.5px}.tree text, .tree-sequence text {dominant-baseline: central}.plotbox .lab.lft {text-anchor: end}.plotbox .lab.rgt {text-anchor: start}]]></style></defs><g class=\"tree-sequence\"><g class=\"background\"><path d=\"M20,0 l480,0 l0,238.2 l123.254,25 l0,5 l-603.254,0 l0,-5 l0,-25 l0,-238.2z\"/><path d=\"M500,0 l480,0 l0,238.2 l0,25 l0,5 l-356.746,0 l0,-5 l-123.254,-25 l0,-238.2z\"/></g><g class=\"axes\"><g class=\"x-axis\"><g transform=\"translate(500 300)\"><text class=\"lab\" text-anchor=\"middle\" transform=\"translate(0 -11)\">Genome position</text></g><line x1=\"20\" x2=\"980\" y1=\"263.2\" y2=\"263.2\"/><g class=\"ticks\"><g class=\"tick\" transform=\"translate(20 263.2)\"><line x1=\"0\" x2=\"0\" y1=\"0\" y2=\"5\"/><g transform=\"translate(0 6)\"><text class=\"lab\">0</text></g></g><g class=\"tick\" transform=\"translate(623.254 263.2)\"><line x1=\"0\" x2=\"0\" y1=\"0\" y2=\"5\"/><g transform=\"translate(0 6)\"><text class=\"lab\">62839</text></g></g><g class=\"tick\" transform=\"translate(980 263.2)\"><line x1=\"0\" x2=\"0\" y1=\"0\" y2=\"5\"/><g transform=\"translate(0 6)\"><text class=\"lab\">100000</text></g></g></g></g></g><g class=\"plotbox trees\"><g class=\"tree t0\" transform=\"translate(20 0)\"><g class=\"plotbox\"><g class=\"c2 node n11 p0 root\" transform=\"translate(221.667 26.8)\"><g class=\"a11 c2 node n9 p0\" transform=\"translate(110 150.145)\"><g class=\"a9 i1 leaf node n2 p0 sample\" transform=\"translate(-55 44.4555)\"><path class=\"edge\" d=\"M 0 0 V -44.4555 H 55\"/><rect class=\"sym\" height=\"6\" width=\"6\" x=\"-3\" y=\"-3\"/><text class=\"lab\" transform=\"translate(0 11)\">2</text></g><g class=\"a9 c2 node n6 p0\" transform=\"translate(55 35.1224)\"><g class=\"a6 i1 leaf node n3 p0 sample\" transform=\"translate(-36.6667 9.33309)\"><path class=\"edge\" d=\"M 0 0 V -9.33309 H 36.6667\"/><rect class=\"sym\" height=\"6\" width=\"6\" x=\"-3\" y=\"-3\"/><text class=\"lab\" transform=\"translate(0 11)\">3</text></g><g class=\"a6 i2 leaf node n4 p0 sample\" transform=\"translate(36.6667 9.33309)\"><path class=\"edge\" d=\"M 0 0 V -9.33309 H -36.6667\"/><rect class=\"sym\" height=\"6\" width=\"6\" x=\"-3\" y=\"-3\"/><text class=\"lab\" transform=\"translate(0 11)\">4</text></g><path class=\"edge\" d=\"M 0 0 V -35.1224 H -55\"/><circle class=\"sym\" cx=\"0\" cy=\"0\" r=\"3\"/><text class=\"lab rgt\" transform=\"translate(3 -7.0)\">6</text></g><path class=\"edge\" d=\"M 0 0 V -150.145 H -110\"/><circle class=\"sym\" cx=\"0\" cy=\"0\" r=\"3\"/><text class=\"lab rgt\" transform=\"translate(3 -7.0)\">9</text></g><g class=\"a11 c2 node n10 p0\" transform=\"translate(-110 124.432)\"><g class=\"a10 i0 leaf node n0 p0 sample\" transform=\"translate(-55 70.1684)\"><path class=\"edge\" d=\"M 0 0 V -70.1684 H 55\"/><rect class=\"sym\" height=\"6\" width=\"6\" x=\"-3\" y=\"-3\"/><text class=\"lab\" transform=\"translate(0 11)\">0</text></g><g class=\"a10 c2 node n7 p0\" transform=\"translate(55 55.6377)\"><g class=\"a7 i0 leaf node n1 p0 sample\" transform=\"translate(-36.6667 14.5307)\"><path class=\"edge\" d=\"M 0 0 V -14.5307 H 36.6667\"/><rect class=\"sym\" height=\"6\" width=\"6\" x=\"-3\" y=\"-3\"/><text class=\"lab\" transform=\"translate(0 11)\">1</text></g><g class=\"a7 i2 leaf node n5 p0 sample\" transform=\"translate(36.6667 14.5307)\"><path class=\"edge\" d=\"M 0 0 V -14.5307 H -36.6667\"/><rect class=\"sym\" height=\"6\" width=\"6\" x=\"-3\" y=\"-3\"/><text class=\"lab\" transform=\"translate(0 11)\">5</text></g><path class=\"edge\" d=\"M 0 0 V -55.6377 H -55\"/><circle class=\"sym\" cx=\"0\" cy=\"0\" r=\"3\"/><text class=\"lab rgt\" transform=\"translate(3 -7.0)\">7</text></g><path class=\"edge\" d=\"M 0 0 V -124.432 H 110\"/><circle class=\"sym\" cx=\"0\" cy=\"0\" r=\"3\"/><text class=\"lab lft\" transform=\"translate(-3 -7.0)\">10</text></g><circle class=\"sym\" cx=\"0\" cy=\"0\" r=\"3\"/><text class=\"lab\" transform=\"translate(0 -11)\">11</text></g></g></g><g class=\"tree t1\" transform=\"translate(500 0)\"><g class=\"plotbox\"><g class=\"c2 node n11 p0 root\" transform=\"translate(217.083 26.8)\"><g class=\"a11 c2 node n9 p0\" transform=\"translate(123.75 150.145)\"><g class=\"a9 i1 leaf node n2 p0 sample\" transform=\"translate(82.5 44.4555)\"><path class=\"edge\" d=\"M 0 0 V -44.4555 H -82.5\"/><rect class=\"sym\" height=\"6\" width=\"6\" x=\"-3\" y=\"-3\"/><text class=\"lab\" transform=\"translate(0 11)\">2</text></g><g class=\"a9 c2 node n8 p0\" transform=\"translate(-82.5 25.4441)\"><g class=\"a8 i0 leaf node n1 p0 sample\" transform=\"translate(-55 19.0114)\"><path class=\"edge\" d=\"M 0 0 V -19.0114 H 55\"/><rect class=\"sym\" height=\"6\" width=\"6\" x=\"-3\" y=\"-3\"/><text class=\"lab\" transform=\"translate(0 11)\">1</text></g><g class=\"a8 c2 node n6 p0\" transform=\"translate(55 9.67831)\"><g class=\"a6 i1 leaf node n3 p0 sample\" transform=\"translate(-36.6667 9.33309)\"><path class=\"edge\" d=\"M 0 0 V -9.33309 H 36.6667\"/><rect class=\"sym\" height=\"6\" width=\"6\" x=\"-3\" y=\"-3\"/><text class=\"lab\" transform=\"translate(0 11)\">3</text></g><g class=\"a6 i2 leaf node n4 p0 sample\" transform=\"translate(36.6667 9.33309)\"><path class=\"edge\" d=\"M 0 0 V -9.33309 H -36.6667\"/><rect class=\"sym\" height=\"6\" width=\"6\" x=\"-3\" y=\"-3\"/><text class=\"lab\" transform=\"translate(0 11)\">4</text></g><path class=\"edge\" d=\"M 0 0 V -9.67831 H -55\"/><circle class=\"sym\" cx=\"0\" cy=\"0\" r=\"3\"/><text class=\"lab rgt\" transform=\"translate(3 -7.0)\">6</text></g><path class=\"edge\" d=\"M 0 0 V -25.4441 H 82.5\"/><circle class=\"sym\" cx=\"0\" cy=\"0\" r=\"3\"/><text class=\"lab lft\" transform=\"translate(-3 -7.0)\">8</text></g><path class=\"edge\" d=\"M 0 0 V -150.145 H -123.75\"/><circle class=\"sym\" cx=\"0\" cy=\"0\" r=\"3\"/><text class=\"lab rgt\" transform=\"translate(3 -7.0)\">9</text></g><g class=\"a11 c2 node n10 p0\" transform=\"translate(-123.75 124.432)\"><g class=\"a10 i0 leaf node n0 p0 sample\" transform=\"translate(-36.6667 70.1684)\"><path class=\"edge\" d=\"M 0 0 V -70.1684 H 36.6667\"/><rect class=\"sym\" height=\"6\" width=\"6\" x=\"-3\" y=\"-3\"/><text class=\"lab\" transform=\"translate(0 11)\">0</text></g><g class=\"a10 i2 leaf node n5 p0 sample\" transform=\"translate(36.6667 70.1684)\"><path class=\"edge\" d=\"M 0 0 V -70.1684 H -36.6667\"/><rect class=\"sym\" height=\"6\" width=\"6\" x=\"-3\" y=\"-3\"/><text class=\"lab\" transform=\"translate(0 11)\">5</text></g><path class=\"edge\" d=\"M 0 0 V -124.432 H 123.75\"/><circle class=\"sym\" cx=\"0\" cy=\"0\" r=\"3\"/><text class=\"lab lft\" transform=\"translate(-3 -7.0)\">10</text></g><circle class=\"sym\" cx=\"0\" cy=\"0\" r=\"3\"/><text class=\"lab\" transform=\"translate(0 -11)\">11</text></g></g></g></g></g></svg>",
      "text/plain": [
       "<IPython.core.display.SVG object>"
      ]
     },
     "execution_count": 5,
     "metadata": {},
     "output_type": "execute_result"
    }
   ],
   "source": [
    "sts = ts2.simplify()\n",
    "SVG(sts.draw_svg(size=(1000, 300), x_lim=[0, 1e5]))"
   ]
  },
  {
   "cell_type": "code",
   "execution_count": 6,
   "id": "7dcbcf5d",
   "metadata": {},
   "outputs": [
    {
     "name": "stdout",
     "output_type": "stream",
     "text": [
      "[14, 12]\n"
     ]
    },
    {
     "data": {
      "image/svg+xml": "<svg xmlns=\"http://www.w3.org/2000/svg\" xmlns:ev=\"http://www.w3.org/2001/xml-events\" xmlns:xlink=\"http://www.w3.org/1999/xlink\" baseProfile=\"full\" height=\"300\" version=\"1.1\" width=\"1000\"><defs><style type=\"text/css\"><![CDATA[.background path {fill: #808080; fill-opacity: 0}.background path:nth-child(odd) {fill-opacity: .1}.axes {font-size: 14px}.x-axis .tick .lab {font-weight: bold; dominant-baseline: hanging}.axes, .tree {font-size: 14px; text-anchor: middle}.axes line, .edge {stroke: black; fill: none}.y-axis .grid {stroke: #FAFAFA}.node > .sym {fill: black; stroke: none}.site > .sym {stroke: black}.mut text {fill: red; font-style: italic}.mut.extra text {fill: hotpink}.mut line {fill: none; stroke: none}.mut .sym {fill: none; stroke: red}.mut.extra .sym {stroke: hotpink}.node .mut .sym {stroke-width: 1.5px}.tree text, .tree-sequence text {dominant-baseline: central}.plotbox .lab.lft {text-anchor: end}.plotbox .lab.rgt {text-anchor: start}]]></style></defs><g class=\"tree-sequence\"><g class=\"background\"><path d=\"M20,0 l480,0 l0,238.2 l123.254,25 l0,5 l-603.254,0 l0,-5 l0,-25 l0,-238.2z\"/><path d=\"M500,0 l480,0 l0,238.2 l0,25 l0,5 l-356.746,0 l0,-5 l-123.254,-25 l0,-238.2z\"/></g><g class=\"axes\"><g class=\"x-axis\"><g transform=\"translate(500 300)\"><text class=\"lab\" text-anchor=\"middle\" transform=\"translate(0 -11)\">Genome position</text></g><line x1=\"20\" x2=\"980\" y1=\"263.2\" y2=\"263.2\"/><g class=\"ticks\"><g class=\"tick\" transform=\"translate(20 263.2)\"><line x1=\"0\" x2=\"0\" y1=\"0\" y2=\"5\"/><g transform=\"translate(0 6)\"><text class=\"lab\">0</text></g></g><g class=\"tick\" transform=\"translate(623.254 263.2)\"><line x1=\"0\" x2=\"0\" y1=\"0\" y2=\"5\"/><g transform=\"translate(0 6)\"><text class=\"lab\">62839</text></g></g><g class=\"tick\" transform=\"translate(980 263.2)\"><line x1=\"0\" x2=\"0\" y1=\"0\" y2=\"5\"/><g transform=\"translate(0 6)\"><text class=\"lab\">100000</text></g></g></g></g></g><g class=\"plotbox trees\"><g class=\"tree t0\" transform=\"translate(20 0)\"><g class=\"plotbox\"><g class=\"c2 node n11 p0 root\" transform=\"translate(221.667 26.8)\"><g class=\"a11 c2 node n9 p0\" transform=\"translate(110 150.145)\"><g class=\"a9 i1 leaf node n2 p0 sample\" transform=\"translate(-55 44.4555)\"><path class=\"edge\" d=\"M 0 0 V -44.4555 H 55\"/><rect class=\"sym\" height=\"6\" width=\"6\" x=\"-3\" y=\"-3\"/><text class=\"lab\" transform=\"translate(0 11)\">2</text></g><g class=\"a9 c1 node n8 p0\" transform=\"translate(55 25.4441)\"><g class=\"a8 c2 node n6 p0\" transform=\"translate(0.0 9.67831)\"><g class=\"a6 i1 leaf node n3 p0 sample\" transform=\"translate(-36.6667 9.33309)\"><path class=\"edge\" d=\"M 0 0 V -9.33309 H 36.6667\"/><rect class=\"sym\" height=\"6\" width=\"6\" x=\"-3\" y=\"-3\"/><text class=\"lab\" transform=\"translate(0 11)\">3</text></g><g class=\"a6 i2 leaf node n4 p0 sample\" transform=\"translate(36.6667 9.33309)\"><path class=\"edge\" d=\"M 0 0 V -9.33309 H -36.6667\"/><rect class=\"sym\" height=\"6\" width=\"6\" x=\"-3\" y=\"-3\"/><text class=\"lab\" transform=\"translate(0 11)\">4</text></g><path class=\"edge\" d=\"M 0 0 V -9.67831 H 0.0\"/><circle class=\"sym\" cx=\"0\" cy=\"0\" r=\"3\"/><text class=\"lab lft\" transform=\"translate(-3 -7.0)\">6</text></g><path class=\"edge\" d=\"M 0 0 V -25.4441 H -55\"/><circle class=\"sym\" cx=\"0\" cy=\"0\" r=\"3\"/><text class=\"lab rgt\" transform=\"translate(3 -7.0)\">8</text></g><path class=\"edge\" d=\"M 0 0 V -150.145 H -110\"/><circle class=\"sym\" cx=\"0\" cy=\"0\" r=\"3\"/><text class=\"lab rgt\" transform=\"translate(3 -7.0)\">9</text></g><g class=\"a11 c2 node n10 p0\" transform=\"translate(-110 124.432)\"><g class=\"a10 i0 leaf node n0 p0 sample\" transform=\"translate(-55 70.1684)\"><path class=\"edge\" d=\"M 0 0 V -70.1684 H 55\"/><rect class=\"sym\" height=\"6\" width=\"6\" x=\"-3\" y=\"-3\"/><text class=\"lab\" transform=\"translate(0 11)\">0</text></g><g class=\"a10 c2 node n7 p0\" transform=\"translate(55 55.6377)\"><g class=\"a7 i0 leaf node n1 p0 sample\" transform=\"translate(-36.6667 14.5307)\"><path class=\"edge\" d=\"M 0 0 V -14.5307 H 36.6667\"/><rect class=\"sym\" height=\"6\" width=\"6\" x=\"-3\" y=\"-3\"/><text class=\"lab\" transform=\"translate(0 11)\">1</text></g><g class=\"a7 i2 leaf node n5 p0 sample\" transform=\"translate(36.6667 14.5307)\"><path class=\"edge\" d=\"M 0 0 V -14.5307 H -36.6667\"/><rect class=\"sym\" height=\"6\" width=\"6\" x=\"-3\" y=\"-3\"/><text class=\"lab\" transform=\"translate(0 11)\">5</text></g><path class=\"edge\" d=\"M 0 0 V -55.6377 H -55\"/><circle class=\"sym\" cx=\"0\" cy=\"0\" r=\"3\"/><text class=\"lab rgt\" transform=\"translate(3 -7.0)\">7</text></g><path class=\"edge\" d=\"M 0 0 V -124.432 H 110\"/><circle class=\"sym\" cx=\"0\" cy=\"0\" r=\"3\"/><text class=\"lab lft\" transform=\"translate(-3 -7.0)\">10</text></g><circle class=\"sym\" cx=\"0\" cy=\"0\" r=\"3\"/><text class=\"lab\" transform=\"translate(0 -11)\">11</text></g></g></g><g class=\"tree t1\" transform=\"translate(500 0)\"><g class=\"plotbox\"><g class=\"c2 node n11 p0 root\" transform=\"translate(217.083 26.8)\"><g class=\"a11 c2 node n9 p0\" transform=\"translate(123.75 150.145)\"><g class=\"a9 i1 leaf node n2 p0 sample\" transform=\"translate(82.5 44.4555)\"><path class=\"edge\" d=\"M 0 0 V -44.4555 H -82.5\"/><rect class=\"sym\" height=\"6\" width=\"6\" x=\"-3\" y=\"-3\"/><text class=\"lab\" transform=\"translate(0 11)\">2</text></g><g class=\"a9 c2 node n8 p0\" transform=\"translate(-82.5 25.4441)\"><g class=\"a8 c2 node n6 p0\" transform=\"translate(55 9.67831)\"><g class=\"a6 i1 leaf node n3 p0 sample\" transform=\"translate(-36.6667 9.33309)\"><path class=\"edge\" d=\"M 0 0 V -9.33309 H 36.6667\"/><rect class=\"sym\" height=\"6\" width=\"6\" x=\"-3\" y=\"-3\"/><text class=\"lab\" transform=\"translate(0 11)\">3</text></g><g class=\"a6 i2 leaf node n4 p0 sample\" transform=\"translate(36.6667 9.33309)\"><path class=\"edge\" d=\"M 0 0 V -9.33309 H -36.6667\"/><rect class=\"sym\" height=\"6\" width=\"6\" x=\"-3\" y=\"-3\"/><text class=\"lab\" transform=\"translate(0 11)\">4</text></g><path class=\"edge\" d=\"M 0 0 V -9.67831 H -55\"/><circle class=\"sym\" cx=\"0\" cy=\"0\" r=\"3\"/><text class=\"lab rgt\" transform=\"translate(3 -7.0)\">6</text></g><g class=\"a8 i0 leaf node n1 p0 sample\" transform=\"translate(-55 19.0114)\"><path class=\"edge\" d=\"M 0 0 V -19.0114 H 55\"/><rect class=\"sym\" height=\"6\" width=\"6\" x=\"-3\" y=\"-3\"/><text class=\"lab\" transform=\"translate(0 11)\">1</text></g><path class=\"edge\" d=\"M 0 0 V -25.4441 H 82.5\"/><circle class=\"sym\" cx=\"0\" cy=\"0\" r=\"3\"/><text class=\"lab lft\" transform=\"translate(-3 -7.0)\">8</text></g><path class=\"edge\" d=\"M 0 0 V -150.145 H -123.75\"/><circle class=\"sym\" cx=\"0\" cy=\"0\" r=\"3\"/><text class=\"lab rgt\" transform=\"translate(3 -7.0)\">9</text></g><g class=\"a11 c2 node n10 p0\" transform=\"translate(-123.75 124.432)\"><g class=\"a10 i0 leaf node n0 p0 sample\" transform=\"translate(-36.6667 70.1684)\"><path class=\"edge\" d=\"M 0 0 V -70.1684 H 36.6667\"/><rect class=\"sym\" height=\"6\" width=\"6\" x=\"-3\" y=\"-3\"/><text class=\"lab\" transform=\"translate(0 11)\">0</text></g><g class=\"a10 c1 node n7 p0\" transform=\"translate(36.6667 55.6377)\"><g class=\"a7 i2 leaf node n5 p0 sample\" transform=\"translate(0.0 14.5307)\"><path class=\"edge\" d=\"M 0 0 V -14.5307 H 0.0\"/><rect class=\"sym\" height=\"6\" width=\"6\" x=\"-3\" y=\"-3\"/><text class=\"lab\" transform=\"translate(0 11)\">5</text></g><path class=\"edge\" d=\"M 0 0 V -55.6377 H -36.6667\"/><circle class=\"sym\" cx=\"0\" cy=\"0\" r=\"3\"/><text class=\"lab rgt\" transform=\"translate(3 -7.0)\">7</text></g><path class=\"edge\" d=\"M 0 0 V -124.432 H 123.75\"/><circle class=\"sym\" cx=\"0\" cy=\"0\" r=\"3\"/><text class=\"lab lft\" transform=\"translate(-3 -7.0)\">10</text></g><circle class=\"sym\" cx=\"0\" cy=\"0\" r=\"3\"/><text class=\"lab\" transform=\"translate(0 -11)\">11</text></g></g></g></g></g></svg>",
      "text/plain": [
       "<IPython.core.display.SVG object>"
      ]
     },
     "execution_count": 6,
     "metadata": {},
     "output_type": "execute_result"
    }
   ],
   "source": [
    "ts1, n = extend_edges(sts)\n",
    "print(n)\n",
    "SVG(ts1.draw_svg(size=(1000, 300), x_lim=[0, 1e5]))"
   ]
  },
  {
   "cell_type": "markdown",
   "id": "ec5a1228",
   "metadata": {},
   "source": [
    "## Original Discrepancy Function\n",
    "Our goal is to construct a function to measure the number of discrepancies between our inferred tree sequence $TS_1$ and the ground truth $TS_2$. For tree sequences $TS_1$ and $TS_2$ both of sequence length $L$, each have nodes at position $i$ in the genome, $x$ and $y$ respectively. From these nodes we count the number of samples which stem from them. We define these sets as $D_1(i,x)$ and $D_2(i,y)$. We count the number of descrepancies between the nodes $x$ and $y$ as their set difference, $|D_1(i,x)\\vartriangle D_2(i,y)|$. We define the $\\textbf{discrepancy number}$ between nodes $x$ and $y$ as \n",
    "$$ d(x,y) = \\sum_{i=0}^{L-1} |D_1(i,x)\\vartriangle D_2(i,y)|. $$\n",
    "Using this we generalize to find the number of discrepancies between a node $x$ and the ground truth $TS_2$,\n",
    "$$ d(x,TS_2) = \\inf_{y\\in TS_2.nodes()} d(x,y).$$\n",
    "Finally, to compute the number of discrepancies between tree sequences we use the function\n",
    "$$d(TS_1,TS_2) = \\sum_{x\\in TS_1.nodes()} d(x,TS_2)=\\sum_{x\\in TS_1.nodes()} \\inf_{y\\in TS_2.nodes()} d(x,y) = \\sum_{x\\in TS_1.nodes()} \\inf_{y\\in TS_2.nodes()} \\sum_{i=0}^{L-1} |D_1(i,x)\\vartriangle D_2(i,y)|,$$\n",
    "and call this the $\\textbf{discrepancy number}$ between $TS_1$ and $TS_2$."
   ]
  },
  {
   "cell_type": "code",
   "execution_count": 10,
   "id": "82aaea04",
   "metadata": {},
   "outputs": [],
   "source": [
    "def orig_node_discrepancy(x, ts1, y, ts2):\n",
    "    # function to return the discrepancy number between two nodes, d(x,y)\n",
    "    dis = 0\n",
    "    for interval, t1, t2 in ts1.coiterate(ts2):\n",
    "        s = interval.span\n",
    "        Dx = set(t1.samples(x))\n",
    "        for z in t2.samples(y):\n",
    "            if z not in Dx:\n",
    "                dis += s\n",
    "    return dis\n",
    "\n",
    "def orig_node_tree_discrepancy(x, ts1, ts2): # I tried to make the function faster, I am not sure if it does though\n",
    "    # function to return the discrepancy number between a node and tree sequence d(x,TS2)\n",
    "    dis = ts2.sequence_length\n",
    "    for y in range(ts2.num_nodes):\n",
    "        xydis = orig_node_discrepancy(x, ts1, y, ts2)\n",
    "        if xydis < dis:\n",
    "            dis = xydis\n",
    "    \n",
    "    return dis # Perhaps we could also have this function also return a list of the nodes which give us the minimal discrepancy number\n",
    "\n",
    "def orig_node_tree_discrepancy2(x, ts1, ts2):\n",
    "    dis = np.zeros(ts2.num_nodes)\n",
    "    for interval, t1, t2 in ts1.coiterate(ts2):\n",
    "        s = interval.span\n",
    "        Dx = set(t1.samples(x))\n",
    "        for y in t2.nodes():\n",
    "            n = len(set(t2.samples(y)) - Dx)\n",
    "            dis[y] += n * s\n",
    "    return np.min(dis)"
   ]
  },
  {
   "cell_type": "code",
   "execution_count": 11,
   "id": "c26959e7",
   "metadata": {},
   "outputs": [],
   "source": [
    "num_samples = 10\n",
    "tsA = msprime.sim_ancestry(num_samples, population_size=1000, sequence_length=1e5,\n",
    "                           recombination_rate=1e-8, record_full_arg=True)\n",
    "tsB = msprime.sim_ancestry(num_samples, population_size=1000, sequence_length=1e5,\n",
    "                           recombination_rate=1e-8, record_full_arg=True)\n",
    "for j in range(10):\n",
    "    assert np.all(orig_node_tree_discrepancy(j, tsA, tsA) == 0)\n",
    "    assert np.all(orig_node_tree_discrepancy2(j, tsA, tsA) == 0)\n",
    "    assert np.allclose(\n",
    "        orig_node_tree_discrepancy(j, tsA, tsB),\n",
    "        orig_node_tree_discrepancy2(j, tsA, tsB)\n",
    "    )"
   ]
  },
  {
   "cell_type": "code",
   "execution_count": 12,
   "id": "ae39e156",
   "metadata": {},
   "outputs": [],
   "source": [
    "def orig_discrepancy(ts1, ts2):\n",
    "    dis = 0\n",
    "    \n",
    "    for n in range(ts1.num_nodes):\n",
    "        dis += orig_node_tree_discrepancy2(n,ts1,ts2)\n",
    "    return dis"
   ]
  },
  {
   "cell_type": "code",
   "execution_count": 13,
   "id": "12d65a47",
   "metadata": {},
   "outputs": [
    {
     "data": {
      "text/plain": [
       "0.0"
      ]
     },
     "execution_count": 13,
     "metadata": {},
     "output_type": "execute_result"
    }
   ],
   "source": [
    "orig_discrepancy(ts1, ts2)"
   ]
  },
  {
   "cell_type": "markdown",
   "id": "dcff6936",
   "metadata": {},
   "source": [
    "Now we should run an experiment to see with our new metric the varying distribution of the disscrepancy number between the simulated tree sequence and its edge extended version."
   ]
  },
  {
   "cell_type": "code",
   "execution_count": 15,
   "id": "4c9ab304",
   "metadata": {},
   "outputs": [
    {
     "name": "stdout",
     "output_type": "stream",
     "text": [
      "number of samples = 3, length = 10000.0\n",
      " original discrepancy number = 0.0\n",
      "number of samples = 3, length = 100000.0\n",
      " original discrepancy number = 0.0\n",
      "number of samples = 5, length = 10000.0\n",
      " original discrepancy number = 0.0\n",
      "number of samples = 5, length = 100000.0\n",
      " original discrepancy number = 0.0\n",
      "number of samples = 7, length = 10000.0\n",
      " original discrepancy number = 0.0\n",
      "number of samples = 7, length = 100000.0\n",
      " original discrepancy number = 0.0\n",
      "number of samples = 9, length = 10000.0\n",
      " original discrepancy number = 0.0\n",
      "number of samples = 9, length = 100000.0\n",
      " original discrepancy number = 3512.0\n"
     ]
    }
   ],
   "source": [
    "for num_samples in [3, 5,7,9]:\n",
    "    for L in [1e4, 1e5]: #, 1e6,1e7]:\n",
    "        ts = msprime.sim_ancestry(num_samples, population_size=1000, sequence_length=L,\n",
    "                                  recombination_rate=1e-8, record_full_arg=True)\n",
    "        sts = ts.simplify()\n",
    "        \n",
    "        ext_sts, _ = extend_edges(sts)\n",
    "        #dd = orig_discrepancy(ext_sts, ts)\n",
    "        d = orig_discrepancy(ext_sts, ts)\n",
    "        print(f'number of samples = {num_samples}, length = {L}\\n original discrepancy number = {d}')"
   ]
  },
  {
   "cell_type": "markdown",
   "id": "39906b87",
   "metadata": {},
   "source": [
    "We see from the above we do not exactly achieve desired metric. The metric is also quite slow computationally, as computing the symmetric difference between pairwise sets of nodes slows us down significantly once we increase the length of the tree sequences to $L=10^7$. The computation time is roughly $n_1n_2$, where $n_i$ is the number of nodes in tree sequence $T_i$. To reduce computation time we define a new discrepancy function below."
   ]
  },
  {
   "cell_type": "markdown",
   "id": "71d96540",
   "metadata": {},
   "source": [
    "# Discrepancy Function (Take 2)\n",
    "\n",
    "For a tree sequence $T$ and a node $x$ and position $i$, let $D_T(x, i)$ be the set of descendant\n",
    "samples of $x$ in $T$ at position $i$, and for node $x$ in $T_1$ and node $y$ in $T_2$, where both $T_j$\n",
    "are tree sequences of length $L$, let\n",
    "$$\n",
    "   \\rho_{T_1, T_2}(x, y)\n",
    "   =\n",
    "   \\frac{1}{L} \\sum_i \\left[ D_{T_1}(x, i) == D_{T_2}(y, i) \\right],\n",
    "$$\n",
    "where the thing in the $[ ]$'s means that it should be 1 if True, 0 if False.\n",
    "This is the fraction of the sequence along which $x$ and $y$ have exactly the same descendant set\n",
    "(and so is a similiarity).\n",
    "Then, let\n",
    "$$\n",
    "  d(x, T_1, T_2) = \\min_y \\left\\{ 1 - \\rho_{T_1, T_2}(x, y) \\right\\} ,\n",
    "$$\n",
    "which is the proportion of the genome over which the descendant set of $x$ *does not* match\n",
    "that of $y$, where $y$ is it's (global) best matching node.\n",
    "\n",
    "Note that this is *different* than\n",
    "$$\n",
    "   \\frac{1}{L} \\sum_i \\min_y \\left(1 - \\left[ D_{T_1}(x, i) == D_{T_2}(y, i) \\right]\\right),\n",
    "$$\n",
    "which would tell us the proportion of the genome over which $x$ does not have a perfectly matching node,\n",
    "i.e., a node which has exactly the same descendant set.\n",
    "\n",
    "We are doing this because want to find the node $y$ that is the best match over the whole genome,\n",
    "since this tells us how well nodes are identified across trees.\n",
    "\n",
    "We then define the *discrepancy* between $T_1$ and $T_2$ to be \n",
    "$$\n",
    "d(T_1,T_2) = \\sum_{x\\in T_1} d(x, T_1, T_2)\n",
    "$$"
   ]
  },
  {
   "cell_type": "code",
   "execution_count": 16,
   "id": "c208dbe5",
   "metadata": {},
   "outputs": [],
   "source": [
    "def node_tree_discrepancy(x, ts1, ts2):\n",
    "    # here sim[y] is the span so far over which y has the same set of descendants as x\n",
    "    sim = np.zeros(ts2.num_nodes)\n",
    "    for interval, t1, t2 in ts1.coiterate(ts2):\n",
    "        s = interval.span\n",
    "        Dx = set(t1.samples(x))\n",
    "        if len(Dx) > 0:\n",
    "            if len(Dx) == 1:\n",
    "                y = list(Dx)[0]\n",
    "            else:\n",
    "                y = t2.mrca(*list(Dx))\n",
    "            if set(t2.samples(y)) == Dx:\n",
    "                while y != tskit.NULL and set(t2.samples(y)) == Dx:\n",
    "                    sim[y] += s\n",
    "                    y = t2.parent(y)\n",
    "    return ts1.sequence_length - np.max(sim)"
   ]
  },
  {
   "cell_type": "code",
   "execution_count": 17,
   "id": "ad44a39a",
   "metadata": {},
   "outputs": [],
   "source": [
    "def discrepancy(ts1, ts2):\n",
    "    dis = 0\n",
    "    for n in range(ts1.num_nodes):\n",
    "        dis += node_tree_discrepancy(n, ts1, ts2)\n",
    "    return dis"
   ]
  },
  {
   "cell_type": "markdown",
   "id": "6c18532e",
   "metadata": {},
   "source": [
    "## Thoughts:\n",
    "\n",
    "Here are some properties we'd like our dissimiarity to satisfy:\n",
    "\n",
    "1. interpretable\n",
    "2. computable\n",
    "3. measuring what we want\n",
    "\n",
    "More concretely,\n",
    "\n",
    "- smaller changes to the trees should not have larger effects on dissimiliarity\n",
    "\n",
    "Note that in the definition above, moving a bigger subtree actually has a larger effect on dissimiliarty\n",
    "than moving a smaller subtree, because all nodes on the path from the old place the subtree was attached\n",
    "to the new place are affected.\n",
    "\n",
    "*Question:* What is a notion of monotonicity that we could use here (ie what's \"smaller\")?\n",
    "\n",
    "Another observation:\n",
    "\n",
    "- what if a node has an exact match to different other nodes on two halves of the genome;\n",
    "   shouldn't this be better than if it just doesn't match anyone on half the genome?\n",
    "\n",
    "*Note:* there are two dimensions here: sequence length; and how much descendant sets differ;\n",
    "and there is some interplay between the two.\n",
    "\n",
    "*Observation:* we could modify the definition above to be\n",
    "$$\n",
    "   \\rho_{T_1, T_2}(x, y)\n",
    "   =\n",
    "   \\frac{1}{L} \\sum_i f(|D_{T_1}(x, i)|) \\left[ D_{T_1}(x, i) == D_{T_2}(y, i) \\right],\n",
    "$$\n",
    "for some function $f$ of the size of the set\n",
    "(e.g., if $f(w) = 1/w$ then we'd be downweighting mismatches on large descendant sets,\n",
    "which might make sense because if a node doesn't match then probably their descedant nodes don't match either).\n",
    "\n",
    "*Note:* if you move a subtree, the discrepancy is monotone in the distance you move it."
   ]
  },
  {
   "cell_type": "markdown",
   "id": "46f42cc1",
   "metadata": {},
   "source": [
    "### 3. Check $d(TS_1,TS_2) = d(TS_2,TS_1) = 0 \\Longrightarrow TS_1=TS_2$, or \n",
    "### $d(TS_1,TS_2)=0 \\Longrightarrow TS_1\\subset TS_2$.\n",
    "Suppose that $d(TS_1,TS_2)=d(TS_2,TS_1)=0$. Then we eventually do the math to make this check.\n"
   ]
  },
  {
   "cell_type": "markdown",
   "id": "42a3c836",
   "metadata": {},
   "source": [
    "### 4. Make a plot of runtime of $d(TS_1,TS_2)$ as a function of number of nodes/trees/both.\n",
    "We run some computations of our new discrepancy function below. "
   ]
  },
  {
   "cell_type": "code",
   "execution_count": 19,
   "id": "9834c740",
   "metadata": {},
   "outputs": [
    {
     "name": "stdout",
     "output_type": "stream",
     "text": [
      "number of samples = 3, length = 10000.0\n",
      " original discrepancy number = 10000.0\n",
      "number of samples = 3, length = 100000.0\n",
      " original discrepancy number = 432773.0\n",
      "number of samples = 3, length = 1000000.0\n",
      " original discrepancy number = 42061380.0\n",
      "number of samples = 3, length = 10000000.0\n",
      " original discrepancy number = 4695258781.0\n",
      "number of samples = 5, length = 10000.0\n",
      " original discrepancy number = 0.0\n",
      "number of samples = 5, length = 100000.0\n",
      " original discrepancy number = 698169.0\n",
      "number of samples = 5, length = 1000000.0\n",
      " original discrepancy number = 62373028.0\n",
      "number of samples = 5, length = 10000000.0\n",
      " original discrepancy number = 6641796970.0\n",
      "number of samples = 7, length = 10000.0\n",
      " original discrepancy number = 0.0\n",
      "number of samples = 7, length = 100000.0\n",
      " original discrepancy number = 434550.0\n",
      "number of samples = 7, length = 1000000.0\n",
      " original discrepancy number = 78733700.0\n",
      "number of samples = 7, length = 10000000.0\n",
      " original discrepancy number = 6961683318.0\n",
      "number of samples = 9, length = 10000.0\n",
      " original discrepancy number = 0.0\n",
      "number of samples = 9, length = 100000.0\n",
      " original discrepancy number = 679246.0\n",
      "number of samples = 9, length = 1000000.0\n",
      " original discrepancy number = 82263346.0\n",
      "number of samples = 9, length = 10000000.0\n",
      " original discrepancy number = 7475199155.0\n"
     ]
    }
   ],
   "source": [
    "for num_samples in [3, 5, 7, 9]:\n",
    "    for L in [1e4, 1e5, 1e6,1e7]:\n",
    "        ts = msprime.sim_ancestry(num_samples, population_size=1000, sequence_length=L,\n",
    "                                  recombination_rate=1e-8, record_full_arg=True)\n",
    "        sts = ts.simplify()\n",
    "        \n",
    "        ext_sts, _ = extend_edges(sts)\n",
    "        d = discrepancy(ext_sts, ts)\n",
    "        print(f'number of samples = {num_samples}, length = {L}\\n original discrepancy number = {d}')"
   ]
  },
  {
   "cell_type": "code",
   "execution_count": null,
   "id": "1dac40a0",
   "metadata": {},
   "outputs": [],
   "source": []
  }
 ],
 "metadata": {
  "kernelspec": {
   "display_name": "Python 3.8.10 64-bit",
   "language": "python",
   "name": "python3"
  },
  "language_info": {
   "codemirror_mode": {
    "name": "ipython",
    "version": 3
   },
   "file_extension": ".py",
   "mimetype": "text/x-python",
   "name": "python",
   "nbconvert_exporter": "python",
   "pygments_lexer": "ipython3",
   "version": "3.8.10"
  },
  "vscode": {
   "interpreter": {
    "hash": "916dbcbb3f70747c44a77c7bcd40155683ae19c65e1c03b4aa3499c5328201f1"
   }
  }
 },
 "nbformat": 4,
 "nbformat_minor": 5
}
