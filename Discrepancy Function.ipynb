{
 "cells": [
  {
   "cell_type": "code",
   "execution_count": 1,
   "id": "e73285df",
   "metadata": {},
   "outputs": [],
   "source": [
    "import msprime, tskit\n",
    "from IPython.display import SVG\n",
    "import numpy as np\n",
    "import matplotlib.pyplot as plt\n",
    "from algorithm import *"
   ]
  },
  {
   "cell_type": "code",
   "execution_count": 2,
   "id": "5e20039d",
   "metadata": {},
   "outputs": [],
   "source": [
    "ts2 = msprime.sim_ancestry(3, population_size=100, sequence_length=1e5, recombination_rate=1e-8,\n",
    "                         record_full_arg=True)"
   ]
  },
  {
   "cell_type": "code",
   "execution_count": 3,
   "id": "cdc9461b",
   "metadata": {},
   "outputs": [
    {
     "data": {
      "image/svg+xml": [
       "<svg xmlns=\"http://www.w3.org/2000/svg\" xmlns:ev=\"http://www.w3.org/2001/xml-events\" xmlns:xlink=\"http://www.w3.org/1999/xlink\" baseProfile=\"full\" height=\"300\" version=\"1.1\" width=\"1000\"><defs><style type=\"text/css\"><![CDATA[.background path {fill: #808080; fill-opacity: 0}.background path:nth-child(odd) {fill-opacity: .1}.axes {font-size: 14px}.x-axis .tick .lab {font-weight: bold; dominant-baseline: hanging}.axes, .tree {font-size: 14px; text-anchor: middle}.axes line, .edge {stroke: black; fill: none}.y-axis .grid {stroke: #FAFAFA}.node > .sym {fill: black; stroke: none}.site > .sym {stroke: black}.mut text {fill: red; font-style: italic}.mut.extra text {fill: hotpink}.mut line {fill: none; stroke: none}.mut .sym {fill: none; stroke: red}.mut.extra .sym {stroke: hotpink}.node .mut .sym {stroke-width: 1.5px}.tree text, .tree-sequence text {dominant-baseline: central}.plotbox .lab.lft {text-anchor: end}.plotbox .lab.rgt {text-anchor: start}]]></style></defs><g class=\"tree-sequence\"><g class=\"background\"><path d=\"M20,0 l320,0 l0,238.2 l-187.405,25 l0,5 l-132.595,0 l0,-5 l0,-25 l0,-238.2z\"/><path d=\"M340,0 l320,0 l0,238.2 l-381.021,25 l0,5 l-126.384,0 l0,-5 l187.405,-25 l0,-238.2z\"/><path d=\"M660,0 l320,0 l0,238.2 l0,25 l0,5 l-701.021,0 l0,-5 l381.021,-25 l0,-238.2z\"/></g><g class=\"axes\"><g class=\"x-axis\"><g transform=\"translate(500 300)\"><text class=\"lab\" text-anchor=\"middle\" transform=\"translate(0 -11)\">Genome position</text></g><line x1=\"20\" x2=\"980\" y1=\"263.2\" y2=\"263.2\"/><g class=\"ticks\"><g class=\"tick\" transform=\"translate(20 263.2)\"><line x1=\"0\" x2=\"0\" y1=\"0\" y2=\"5\"/><g transform=\"translate(0 6)\"><text class=\"lab\">0</text></g></g><g class=\"tick\" transform=\"translate(152.595 263.2)\"><line x1=\"0\" x2=\"0\" y1=\"0\" y2=\"5\"/><g transform=\"translate(0 6)\"><text class=\"lab\">13812</text></g></g><g class=\"tick\" transform=\"translate(278.979 263.2)\"><line x1=\"0\" x2=\"0\" y1=\"0\" y2=\"5\"/><g transform=\"translate(0 6)\"><text class=\"lab\">26977</text></g></g><g class=\"tick\" transform=\"translate(980 263.2)\"><line x1=\"0\" x2=\"0\" y1=\"0\" y2=\"5\"/><g transform=\"translate(0 6)\"><text class=\"lab\">100000</text></g></g></g></g></g><g class=\"plotbox trees\"><g class=\"tree t0\" transform=\"translate(20 0)\"><g class=\"plotbox\"><g class=\"c2 node n16 p0 root\" transform=\"translate(203.75 26.8)\"><g class=\"a16 c1 node n8 p0\" transform=\"translate(72.9167 184.151)\"><g class=\"a8 i1 leaf node n3 p0 sample\" transform=\"translate(0.0 10.4487)\"><path class=\"edge\" d=\"M 0 0 V -10.4487 H 0.0\"/><rect class=\"sym\" height=\"6\" width=\"6\" x=\"-3\" y=\"-3\"/><text class=\"lab\" transform=\"translate(0 11)\">3</text></g><path class=\"edge\" d=\"M 0 0 V -184.151 H -72.9167\"/><circle class=\"sym\" cx=\"0\" cy=\"0\" r=\"3\"/><text class=\"lab rgt\" transform=\"translate(3 -7.0)\">8</text></g><g class=\"a16 c2 node n15 p0\" transform=\"translate(-72.9167 163.227)\"><g class=\"a15 c2 node n7 p0\" transform=\"translate(-64.1667 22.1249)\"><g class=\"a7 i0 leaf node n0 p0 sample\" transform=\"translate(-23.3333 9.24796)\"><path class=\"edge\" d=\"M 0 0 V -9.24796 H 23.3333\"/><rect class=\"sym\" height=\"6\" width=\"6\" x=\"-3\" y=\"-3\"/><text class=\"lab\" transform=\"translate(0 11)\">0</text></g><g class=\"a7 i1 leaf node n2 p0 sample\" transform=\"translate(23.3333 9.24796)\"><path class=\"edge\" d=\"M 0 0 V -9.24796 H -23.3333\"/><rect class=\"sym\" height=\"6\" width=\"6\" x=\"-3\" y=\"-3\"/><text class=\"lab\" transform=\"translate(0 11)\">2</text></g><path class=\"edge\" d=\"M 0 0 V -22.1249 H 64.1667\"/><circle class=\"sym\" cx=\"0\" cy=\"0\" r=\"3\"/><text class=\"lab lft\" transform=\"translate(-3 -7.0)\">7</text></g><g class=\"a15 c2 node n14 p0\" transform=\"translate(64.1667 2.43058)\"><g class=\"a14 i2 leaf node n4 p0 sample\" transform=\"translate(35 28.9423)\"><path class=\"edge\" d=\"M 0 0 V -28.9423 H -35\"/><rect class=\"sym\" height=\"6\" width=\"6\" x=\"-3\" y=\"-3\"/><text class=\"lab\" transform=\"translate(0 11)\">4</text></g><g class=\"a14 c1 node n13 p0\" transform=\"translate(-35 2.49617)\"><g class=\"a13 c1 node n12 p0\" transform=\"translate(0.0 3.02853)\"><g class=\"a12 c1 node n10 p0\" transform=\"translate(0.0 1.38256)\"><g class=\"a10 c2 node n6 p0\" transform=\"translate(0.0 22.0154)\"><g class=\"a6 i0 leaf node n1 p0 sample\" transform=\"translate(-23.3333 0.019618)\"><path class=\"edge\" d=\"M 0 0 V -0.019618 H 23.3333\"/><rect class=\"sym\" height=\"6\" width=\"6\" x=\"-3\" y=\"-3\"/><text class=\"lab\" transform=\"translate(0 11)\">1</text></g><g class=\"a6 i2 leaf node n5 p0 sample\" transform=\"translate(23.3333 0.019618)\"><path class=\"edge\" d=\"M 0 0 V -0.019618 H -23.3333\"/><rect class=\"sym\" height=\"6\" width=\"6\" x=\"-3\" y=\"-3\"/><text class=\"lab\" transform=\"translate(0 11)\">5</text></g><path class=\"edge\" d=\"M 0 0 V -22.0154 H 0.0\"/><circle class=\"sym\" cx=\"0\" cy=\"0\" r=\"3\"/><text class=\"lab lft\" transform=\"translate(-3 -7.0)\">6</text></g><path class=\"edge\" d=\"M 0 0 V -1.38256 H 0.0\"/><circle class=\"sym\" cx=\"0\" cy=\"0\" r=\"3\"/><text class=\"lab lft\" transform=\"translate(-3 -7.0)\">10</text></g><path class=\"edge\" d=\"M 0 0 V -3.02853 H 0.0\"/><circle class=\"sym\" cx=\"0\" cy=\"0\" r=\"3\"/><text class=\"lab lft\" transform=\"translate(-3 -7.0)\">12</text></g><path class=\"edge\" d=\"M 0 0 V -2.49617 H 35\"/><circle class=\"sym\" cx=\"0\" cy=\"0\" r=\"3\"/><text class=\"lab lft\" transform=\"translate(-3 -7.0)\">13</text></g><path class=\"edge\" d=\"M 0 0 V -2.43058 H -64.1667\"/><circle class=\"sym\" cx=\"0\" cy=\"0\" r=\"3\"/><text class=\"lab rgt\" transform=\"translate(3 -7.0)\">14</text></g><path class=\"edge\" d=\"M 0 0 V -163.227 H 72.9167\"/><circle class=\"sym\" cx=\"0\" cy=\"0\" r=\"3\"/><text class=\"lab lft\" transform=\"translate(-3 -7.0)\">15</text></g><circle class=\"sym\" cx=\"0\" cy=\"0\" r=\"3\"/><text class=\"lab\" transform=\"translate(0 -11)\">16</text></g></g></g><g class=\"tree t1\" transform=\"translate(340 0)\"><g class=\"plotbox\"><g class=\"c2 node n15 p0 root\" transform=\"translate(151.25 190.027)\"><g class=\"a15 c2 node n7 p0\" transform=\"translate(-84.5833 22.1249)\"><g class=\"a7 i0 leaf node n0 p0 sample\" transform=\"translate(-23.3333 9.24796)\"><path class=\"edge\" d=\"M 0 0 V -9.24796 H 23.3333\"/><rect class=\"sym\" height=\"6\" width=\"6\" x=\"-3\" y=\"-3\"/><text class=\"lab\" transform=\"translate(0 11)\">0</text></g><g class=\"a7 i1 leaf node n2 p0 sample\" transform=\"translate(23.3333 9.24796)\"><path class=\"edge\" d=\"M 0 0 V -9.24796 H -23.3333\"/><rect class=\"sym\" height=\"6\" width=\"6\" x=\"-3\" y=\"-3\"/><text class=\"lab\" transform=\"translate(0 11)\">2</text></g><path class=\"edge\" d=\"M 0 0 V -22.1249 H 84.5833\"/><circle class=\"sym\" cx=\"0\" cy=\"0\" r=\"3\"/><text class=\"lab lft\" transform=\"translate(-3 -7.0)\">7</text></g><g class=\"a15 c2 node n14 p0\" transform=\"translate(84.5833 2.43058)\"><g class=\"a14 i2 leaf node n4 p0 sample\" transform=\"translate(40.8333 28.9423)\"><path class=\"edge\" d=\"M 0 0 V -28.9423 H -40.8333\"/><rect class=\"sym\" height=\"6\" width=\"6\" x=\"-3\" y=\"-3\"/><text class=\"lab\" transform=\"translate(0 11)\">4</text></g><g class=\"a14 c1 node n13 p0\" transform=\"translate(-40.8333 2.49617)\"><g class=\"a13 c2 node n12 p0\" transform=\"translate(0.0 3.02853)\"><g class=\"a12 c1 node n10 p0\" transform=\"translate(-35 1.38256)\"><g class=\"a10 c2 node n6 p0\" transform=\"translate(0.0 22.0154)\"><g class=\"a6 i0 leaf node n1 p0 sample\" transform=\"translate(-23.3333 0.019618)\"><path class=\"edge\" d=\"M 0 0 V -0.019618 H 23.3333\"/><rect class=\"sym\" height=\"6\" width=\"6\" x=\"-3\" y=\"-3\"/><text class=\"lab\" transform=\"translate(0 11)\">1</text></g><g class=\"a6 i2 leaf node n5 p0 sample\" transform=\"translate(23.3333 0.019618)\"><path class=\"edge\" d=\"M 0 0 V -0.019618 H -23.3333\"/><rect class=\"sym\" height=\"6\" width=\"6\" x=\"-3\" y=\"-3\"/><text class=\"lab\" transform=\"translate(0 11)\">5</text></g><path class=\"edge\" d=\"M 0 0 V -22.0154 H 0.0\"/><circle class=\"sym\" cx=\"0\" cy=\"0\" r=\"3\"/><text class=\"lab lft\" transform=\"translate(-3 -7.0)\">6</text></g><path class=\"edge\" d=\"M 0 0 V -1.38256 H 35\"/><circle class=\"sym\" cx=\"0\" cy=\"0\" r=\"3\"/><text class=\"lab lft\" transform=\"translate(-3 -7.0)\">10</text></g><g class=\"a12 c1 node n9 p0\" transform=\"translate(35 12.9688)\"><g class=\"a9 i1 leaf node n3 p0 sample\" transform=\"translate(0.0 10.4487)\"><path class=\"edge\" d=\"M 0 0 V -10.4487 H 0.0\"/><rect class=\"sym\" height=\"6\" width=\"6\" x=\"-3\" y=\"-3\"/><text class=\"lab\" transform=\"translate(0 11)\">3</text></g><path class=\"edge\" d=\"M 0 0 V -12.9688 H -35\"/><circle class=\"sym\" cx=\"0\" cy=\"0\" r=\"3\"/><text class=\"lab rgt\" transform=\"translate(3 -7.0)\">9</text></g><path class=\"edge\" d=\"M 0 0 V -3.02853 H 0.0\"/><circle class=\"sym\" cx=\"0\" cy=\"0\" r=\"3\"/><text class=\"lab lft\" transform=\"translate(-3 -7.0)\">12</text></g><path class=\"edge\" d=\"M 0 0 V -2.49617 H 40.8333\"/><circle class=\"sym\" cx=\"0\" cy=\"0\" r=\"3\"/><text class=\"lab lft\" transform=\"translate(-3 -7.0)\">13</text></g><path class=\"edge\" d=\"M 0 0 V -2.43058 H -84.5833\"/><circle class=\"sym\" cx=\"0\" cy=\"0\" r=\"3\"/><text class=\"lab rgt\" transform=\"translate(3 -7.0)\">14</text></g><circle class=\"sym\" cx=\"0\" cy=\"0\" r=\"3\"/><text class=\"lab\" transform=\"translate(0 -11)\">15</text></g></g></g><g class=\"tree t2\" transform=\"translate(660 0)\"><g class=\"plotbox\"><g class=\"c2 node n15 p0 root\" transform=\"translate(151.25 190.027)\"><g class=\"a15 c2 node n7 p0\" transform=\"translate(-84.5833 22.1249)\"><g class=\"a7 i0 leaf node n0 p0 sample\" transform=\"translate(-23.3333 9.24796)\"><path class=\"edge\" d=\"M 0 0 V -9.24796 H 23.3333\"/><rect class=\"sym\" height=\"6\" width=\"6\" x=\"-3\" y=\"-3\"/><text class=\"lab\" transform=\"translate(0 11)\">0</text></g><g class=\"a7 i1 leaf node n2 p0 sample\" transform=\"translate(23.3333 9.24796)\"><path class=\"edge\" d=\"M 0 0 V -9.24796 H -23.3333\"/><rect class=\"sym\" height=\"6\" width=\"6\" x=\"-3\" y=\"-3\"/><text class=\"lab\" transform=\"translate(0 11)\">2</text></g><path class=\"edge\" d=\"M 0 0 V -22.1249 H 84.5833\"/><circle class=\"sym\" cx=\"0\" cy=\"0\" r=\"3\"/><text class=\"lab lft\" transform=\"translate(-3 -7.0)\">7</text></g><g class=\"a15 c2 node n14 p0\" transform=\"translate(84.5833 2.43058)\"><g class=\"a14 i2 leaf node n4 p0 sample\" transform=\"translate(40.8333 28.9423)\"><path class=\"edge\" d=\"M 0 0 V -28.9423 H -40.8333\"/><rect class=\"sym\" height=\"6\" width=\"6\" x=\"-3\" y=\"-3\"/><text class=\"lab\" transform=\"translate(0 11)\">4</text></g><g class=\"a14 c2 node n13 p0\" transform=\"translate(-40.8333 2.49617)\"><g class=\"a13 c1 node n12 p0\" transform=\"translate(35 3.02853)\"><g class=\"a12 c1 node n9 p0\" transform=\"translate(0.0 12.9688)\"><g class=\"a9 i1 leaf node n3 p0 sample\" transform=\"translate(0.0 10.4487)\"><path class=\"edge\" d=\"M 0 0 V -10.4487 H 0.0\"/><rect class=\"sym\" height=\"6\" width=\"6\" x=\"-3\" y=\"-3\"/><text class=\"lab\" transform=\"translate(0 11)\">3</text></g><path class=\"edge\" d=\"M 0 0 V -12.9688 H 0.0\"/><circle class=\"sym\" cx=\"0\" cy=\"0\" r=\"3\"/><text class=\"lab lft\" transform=\"translate(-3 -7.0)\">9</text></g><path class=\"edge\" d=\"M 0 0 V -3.02853 H -35\"/><circle class=\"sym\" cx=\"0\" cy=\"0\" r=\"3\"/><text class=\"lab rgt\" transform=\"translate(3 -7.0)\">12</text></g><g class=\"a13 c1 node n11 p0\" transform=\"translate(-35 4.41109)\"><g class=\"a11 c2 node n6 p0\" transform=\"translate(0.0 22.0154)\"><g class=\"a6 i0 leaf node n1 p0 sample\" transform=\"translate(-23.3333 0.019618)\"><path class=\"edge\" d=\"M 0 0 V -0.019618 H 23.3333\"/><rect class=\"sym\" height=\"6\" width=\"6\" x=\"-3\" y=\"-3\"/><text class=\"lab\" transform=\"translate(0 11)\">1</text></g><g class=\"a6 i2 leaf node n5 p0 sample\" transform=\"translate(23.3333 0.019618)\"><path class=\"edge\" d=\"M 0 0 V -0.019618 H -23.3333\"/><rect class=\"sym\" height=\"6\" width=\"6\" x=\"-3\" y=\"-3\"/><text class=\"lab\" transform=\"translate(0 11)\">5</text></g><path class=\"edge\" d=\"M 0 0 V -22.0154 H 0.0\"/><circle class=\"sym\" cx=\"0\" cy=\"0\" r=\"3\"/><text class=\"lab lft\" transform=\"translate(-3 -7.0)\">6</text></g><path class=\"edge\" d=\"M 0 0 V -4.41109 H 35\"/><circle class=\"sym\" cx=\"0\" cy=\"0\" r=\"3\"/><text class=\"lab lft\" transform=\"translate(-3 -7.0)\">11</text></g><path class=\"edge\" d=\"M 0 0 V -2.49617 H 40.8333\"/><circle class=\"sym\" cx=\"0\" cy=\"0\" r=\"3\"/><text class=\"lab lft\" transform=\"translate(-3 -7.0)\">13</text></g><path class=\"edge\" d=\"M 0 0 V -2.43058 H -84.5833\"/><circle class=\"sym\" cx=\"0\" cy=\"0\" r=\"3\"/><text class=\"lab rgt\" transform=\"translate(3 -7.0)\">14</text></g><circle class=\"sym\" cx=\"0\" cy=\"0\" r=\"3\"/><text class=\"lab\" transform=\"translate(0 -11)\">15</text></g></g></g></g></g></svg>"
      ],
      "text/plain": [
       "<IPython.core.display.SVG object>"
      ]
     },
     "execution_count": 3,
     "metadata": {},
     "output_type": "execute_result"
    }
   ],
   "source": [
    "SVG(ts2.draw_svg(size=(1000, 300), x_lim=[0, 1e5]))"
   ]
  },
  {
   "cell_type": "code",
   "execution_count": 4,
   "id": "269ee0e6",
   "metadata": {},
   "outputs": [
    {
     "data": {
      "image/svg+xml": [
       "<svg xmlns=\"http://www.w3.org/2000/svg\" xmlns:ev=\"http://www.w3.org/2001/xml-events\" xmlns:xlink=\"http://www.w3.org/1999/xlink\" baseProfile=\"full\" height=\"300\" version=\"1.1\" width=\"1000\"><defs><style type=\"text/css\"><![CDATA[.background path {fill: #808080; fill-opacity: 0}.background path:nth-child(odd) {fill-opacity: .1}.axes {font-size: 14px}.x-axis .tick .lab {font-weight: bold; dominant-baseline: hanging}.axes, .tree {font-size: 14px; text-anchor: middle}.axes line, .edge {stroke: black; fill: none}.y-axis .grid {stroke: #FAFAFA}.node > .sym {fill: black; stroke: none}.site > .sym {stroke: black}.mut text {fill: red; font-style: italic}.mut.extra text {fill: hotpink}.mut line {fill: none; stroke: none}.mut .sym {fill: none; stroke: red}.mut.extra .sym {stroke: hotpink}.node .mut .sym {stroke-width: 1.5px}.tree text, .tree-sequence text {dominant-baseline: central}.plotbox .lab.lft {text-anchor: end}.plotbox .lab.rgt {text-anchor: start}]]></style></defs><g class=\"tree-sequence\"><g class=\"background\"><path d=\"M20,0 l320,0 l0,238.2 l-187.405,25 l0,5 l-132.595,0 l0,-5 l0,-25 l0,-238.2z\"/><path d=\"M340,0 l320,0 l0,238.2 l-381.021,25 l0,5 l-126.384,0 l0,-5 l187.405,-25 l0,-238.2z\"/><path d=\"M660,0 l320,0 l0,238.2 l0,25 l0,5 l-701.021,0 l0,-5 l381.021,-25 l0,-238.2z\"/></g><g class=\"axes\"><g class=\"x-axis\"><g transform=\"translate(500 300)\"><text class=\"lab\" text-anchor=\"middle\" transform=\"translate(0 -11)\">Genome position</text></g><line x1=\"20\" x2=\"980\" y1=\"263.2\" y2=\"263.2\"/><g class=\"ticks\"><g class=\"tick\" transform=\"translate(20 263.2)\"><line x1=\"0\" x2=\"0\" y1=\"0\" y2=\"5\"/><g transform=\"translate(0 6)\"><text class=\"lab\">0</text></g></g><g class=\"tick\" transform=\"translate(152.595 263.2)\"><line x1=\"0\" x2=\"0\" y1=\"0\" y2=\"5\"/><g transform=\"translate(0 6)\"><text class=\"lab\">13812</text></g></g><g class=\"tick\" transform=\"translate(278.979 263.2)\"><line x1=\"0\" x2=\"0\" y1=\"0\" y2=\"5\"/><g transform=\"translate(0 6)\"><text class=\"lab\">26977</text></g></g><g class=\"tick\" transform=\"translate(980 263.2)\"><line x1=\"0\" x2=\"0\" y1=\"0\" y2=\"5\"/><g transform=\"translate(0 6)\"><text class=\"lab\">100000</text></g></g></g></g></g><g class=\"plotbox trees\"><g class=\"tree t0\" transform=\"translate(20 0)\"><g class=\"plotbox\"><g class=\"c2 node n12 p0 root\" transform=\"translate(203.75 26.8)\"><g class=\"a12 i1 leaf node n3 p0 sample\" transform=\"translate(72.9167 194.6)\"><path class=\"edge\" d=\"M 0 0 V -194.6 H -72.9167\"/><rect class=\"sym\" height=\"6\" width=\"6\" x=\"-3\" y=\"-3\"/><text class=\"lab\" transform=\"translate(0 11)\">3</text></g><g class=\"a12 c2 node n11 p0\" transform=\"translate(-72.9167 163.227)\"><g class=\"a11 c2 node n7 p0\" transform=\"translate(-64.1667 22.1249)\"><g class=\"a7 i0 leaf node n0 p0 sample\" transform=\"translate(-23.3333 9.24796)\"><path class=\"edge\" d=\"M 0 0 V -9.24796 H 23.3333\"/><rect class=\"sym\" height=\"6\" width=\"6\" x=\"-3\" y=\"-3\"/><text class=\"lab\" transform=\"translate(0 11)\">0</text></g><g class=\"a7 i1 leaf node n2 p0 sample\" transform=\"translate(23.3333 9.24796)\"><path class=\"edge\" d=\"M 0 0 V -9.24796 H -23.3333\"/><rect class=\"sym\" height=\"6\" width=\"6\" x=\"-3\" y=\"-3\"/><text class=\"lab\" transform=\"translate(0 11)\">2</text></g><path class=\"edge\" d=\"M 0 0 V -22.1249 H 64.1667\"/><circle class=\"sym\" cx=\"0\" cy=\"0\" r=\"3\"/><text class=\"lab lft\" transform=\"translate(-3 -7.0)\">7</text></g><g class=\"a11 c2 node n10 p0\" transform=\"translate(64.1667 2.43058)\"><g class=\"a10 i2 leaf node n4 p0 sample\" transform=\"translate(35 28.9423)\"><path class=\"edge\" d=\"M 0 0 V -28.9423 H -35\"/><rect class=\"sym\" height=\"6\" width=\"6\" x=\"-3\" y=\"-3\"/><text class=\"lab\" transform=\"translate(0 11)\">4</text></g><g class=\"a10 c2 node n6 p0\" transform=\"translate(-35 28.9227)\"><g class=\"a6 i0 leaf node n1 p0 sample\" transform=\"translate(-23.3333 0.019618)\"><path class=\"edge\" d=\"M 0 0 V -0.019618 H 23.3333\"/><rect class=\"sym\" height=\"6\" width=\"6\" x=\"-3\" y=\"-3\"/><text class=\"lab\" transform=\"translate(0 11)\">1</text></g><g class=\"a6 i2 leaf node n5 p0 sample\" transform=\"translate(23.3333 0.019618)\"><path class=\"edge\" d=\"M 0 0 V -0.019618 H -23.3333\"/><rect class=\"sym\" height=\"6\" width=\"6\" x=\"-3\" y=\"-3\"/><text class=\"lab\" transform=\"translate(0 11)\">5</text></g><path class=\"edge\" d=\"M 0 0 V -28.9227 H 35\"/><circle class=\"sym\" cx=\"0\" cy=\"0\" r=\"3\"/><text class=\"lab lft\" transform=\"translate(-3 -7.0)\">6</text></g><path class=\"edge\" d=\"M 0 0 V -2.43058 H -64.1667\"/><circle class=\"sym\" cx=\"0\" cy=\"0\" r=\"3\"/><text class=\"lab rgt\" transform=\"translate(3 -7.0)\">10</text></g><path class=\"edge\" d=\"M 0 0 V -163.227 H 72.9167\"/><circle class=\"sym\" cx=\"0\" cy=\"0\" r=\"3\"/><text class=\"lab lft\" transform=\"translate(-3 -7.0)\">11</text></g><circle class=\"sym\" cx=\"0\" cy=\"0\" r=\"3\"/><text class=\"lab\" transform=\"translate(0 -11)\">12</text></g></g></g><g class=\"tree t1\" transform=\"translate(340 0)\"><g class=\"plotbox\"><g class=\"c2 node n11 p0 root\" transform=\"translate(151.25 190.027)\"><g class=\"a11 c2 node n7 p0\" transform=\"translate(-84.5833 22.1249)\"><g class=\"a7 i0 leaf node n0 p0 sample\" transform=\"translate(-23.3333 9.24796)\"><path class=\"edge\" d=\"M 0 0 V -9.24796 H 23.3333\"/><rect class=\"sym\" height=\"6\" width=\"6\" x=\"-3\" y=\"-3\"/><text class=\"lab\" transform=\"translate(0 11)\">0</text></g><g class=\"a7 i1 leaf node n2 p0 sample\" transform=\"translate(23.3333 9.24796)\"><path class=\"edge\" d=\"M 0 0 V -9.24796 H -23.3333\"/><rect class=\"sym\" height=\"6\" width=\"6\" x=\"-3\" y=\"-3\"/><text class=\"lab\" transform=\"translate(0 11)\">2</text></g><path class=\"edge\" d=\"M 0 0 V -22.1249 H 84.5833\"/><circle class=\"sym\" cx=\"0\" cy=\"0\" r=\"3\"/><text class=\"lab lft\" transform=\"translate(-3 -7.0)\">7</text></g><g class=\"a11 c2 node n10 p0\" transform=\"translate(84.5833 2.43058)\"><g class=\"a10 i2 leaf node n4 p0 sample\" transform=\"translate(40.8333 28.9423)\"><path class=\"edge\" d=\"M 0 0 V -28.9423 H -40.8333\"/><rect class=\"sym\" height=\"6\" width=\"6\" x=\"-3\" y=\"-3\"/><text class=\"lab\" transform=\"translate(0 11)\">4</text></g><g class=\"a10 c2 node n8 p0\" transform=\"translate(-40.8333 5.5247)\"><g class=\"a8 i1 leaf node n3 p0 sample\" transform=\"translate(35 23.4176)\"><path class=\"edge\" d=\"M 0 0 V -23.4176 H -35\"/><rect class=\"sym\" height=\"6\" width=\"6\" x=\"-3\" y=\"-3\"/><text class=\"lab\" transform=\"translate(0 11)\">3</text></g><g class=\"a8 c2 node n6 p0\" transform=\"translate(-35 23.398)\"><g class=\"a6 i0 leaf node n1 p0 sample\" transform=\"translate(-23.3333 0.019618)\"><path class=\"edge\" d=\"M 0 0 V -0.019618 H 23.3333\"/><rect class=\"sym\" height=\"6\" width=\"6\" x=\"-3\" y=\"-3\"/><text class=\"lab\" transform=\"translate(0 11)\">1</text></g><g class=\"a6 i2 leaf node n5 p0 sample\" transform=\"translate(23.3333 0.019618)\"><path class=\"edge\" d=\"M 0 0 V -0.019618 H -23.3333\"/><rect class=\"sym\" height=\"6\" width=\"6\" x=\"-3\" y=\"-3\"/><text class=\"lab\" transform=\"translate(0 11)\">5</text></g><path class=\"edge\" d=\"M 0 0 V -23.398 H 35\"/><circle class=\"sym\" cx=\"0\" cy=\"0\" r=\"3\"/><text class=\"lab lft\" transform=\"translate(-3 -7.0)\">6</text></g><path class=\"edge\" d=\"M 0 0 V -5.5247 H 40.8333\"/><circle class=\"sym\" cx=\"0\" cy=\"0\" r=\"3\"/><text class=\"lab lft\" transform=\"translate(-3 -7.0)\">8</text></g><path class=\"edge\" d=\"M 0 0 V -2.43058 H -84.5833\"/><circle class=\"sym\" cx=\"0\" cy=\"0\" r=\"3\"/><text class=\"lab rgt\" transform=\"translate(3 -7.0)\">10</text></g><circle class=\"sym\" cx=\"0\" cy=\"0\" r=\"3\"/><text class=\"lab\" transform=\"translate(0 -11)\">11</text></g></g></g><g class=\"tree t2\" transform=\"translate(660 0)\"><g class=\"plotbox\"><g class=\"c2 node n11 p0 root\" transform=\"translate(151.25 190.027)\"><g class=\"a11 c2 node n7 p0\" transform=\"translate(-84.5833 22.1249)\"><g class=\"a7 i0 leaf node n0 p0 sample\" transform=\"translate(-23.3333 9.24796)\"><path class=\"edge\" d=\"M 0 0 V -9.24796 H 23.3333\"/><rect class=\"sym\" height=\"6\" width=\"6\" x=\"-3\" y=\"-3\"/><text class=\"lab\" transform=\"translate(0 11)\">0</text></g><g class=\"a7 i1 leaf node n2 p0 sample\" transform=\"translate(23.3333 9.24796)\"><path class=\"edge\" d=\"M 0 0 V -9.24796 H -23.3333\"/><rect class=\"sym\" height=\"6\" width=\"6\" x=\"-3\" y=\"-3\"/><text class=\"lab\" transform=\"translate(0 11)\">2</text></g><path class=\"edge\" d=\"M 0 0 V -22.1249 H 84.5833\"/><circle class=\"sym\" cx=\"0\" cy=\"0\" r=\"3\"/><text class=\"lab lft\" transform=\"translate(-3 -7.0)\">7</text></g><g class=\"a11 c2 node n10 p0\" transform=\"translate(84.5833 2.43058)\"><g class=\"a10 i2 leaf node n4 p0 sample\" transform=\"translate(40.8333 28.9423)\"><path class=\"edge\" d=\"M 0 0 V -28.9423 H -40.8333\"/><rect class=\"sym\" height=\"6\" width=\"6\" x=\"-3\" y=\"-3\"/><text class=\"lab\" transform=\"translate(0 11)\">4</text></g><g class=\"a10 c2 node n9 p0\" transform=\"translate(-40.8333 2.49617)\"><g class=\"a9 i1 leaf node n3 p0 sample\" transform=\"translate(35 26.4461)\"><path class=\"edge\" d=\"M 0 0 V -26.4461 H -35\"/><rect class=\"sym\" height=\"6\" width=\"6\" x=\"-3\" y=\"-3\"/><text class=\"lab\" transform=\"translate(0 11)\">3</text></g><g class=\"a9 c2 node n6 p0\" transform=\"translate(-35 26.4265)\"><g class=\"a6 i0 leaf node n1 p0 sample\" transform=\"translate(-23.3333 0.019618)\"><path class=\"edge\" d=\"M 0 0 V -0.019618 H 23.3333\"/><rect class=\"sym\" height=\"6\" width=\"6\" x=\"-3\" y=\"-3\"/><text class=\"lab\" transform=\"translate(0 11)\">1</text></g><g class=\"a6 i2 leaf node n5 p0 sample\" transform=\"translate(23.3333 0.019618)\"><path class=\"edge\" d=\"M 0 0 V -0.019618 H -23.3333\"/><rect class=\"sym\" height=\"6\" width=\"6\" x=\"-3\" y=\"-3\"/><text class=\"lab\" transform=\"translate(0 11)\">5</text></g><path class=\"edge\" d=\"M 0 0 V -26.4265 H 35\"/><circle class=\"sym\" cx=\"0\" cy=\"0\" r=\"3\"/><text class=\"lab lft\" transform=\"translate(-3 -7.0)\">6</text></g><path class=\"edge\" d=\"M 0 0 V -2.49617 H 40.8333\"/><circle class=\"sym\" cx=\"0\" cy=\"0\" r=\"3\"/><text class=\"lab lft\" transform=\"translate(-3 -7.0)\">9</text></g><path class=\"edge\" d=\"M 0 0 V -2.43058 H -84.5833\"/><circle class=\"sym\" cx=\"0\" cy=\"0\" r=\"3\"/><text class=\"lab rgt\" transform=\"translate(3 -7.0)\">10</text></g><circle class=\"sym\" cx=\"0\" cy=\"0\" r=\"3\"/><text class=\"lab\" transform=\"translate(0 -11)\">11</text></g></g></g></g></g></svg>"
      ],
      "text/plain": [
       "<IPython.core.display.SVG object>"
      ]
     },
     "execution_count": 4,
     "metadata": {},
     "output_type": "execute_result"
    }
   ],
   "source": [
    "sts = ts2.simplify()\n",
    "SVG(sts.draw_svg(size=(1000, 300), x_lim=[0, 1e5]))"
   ]
  },
  {
   "cell_type": "code",
   "execution_count": 5,
   "id": "7dcbcf5d",
   "metadata": {},
   "outputs": [
    {
     "name": "stdout",
     "output_type": "stream",
     "text": [
      "[16, 15]\n"
     ]
    },
    {
     "data": {
      "image/svg+xml": [
       "<svg xmlns=\"http://www.w3.org/2000/svg\" xmlns:ev=\"http://www.w3.org/2001/xml-events\" xmlns:xlink=\"http://www.w3.org/1999/xlink\" baseProfile=\"full\" height=\"300\" version=\"1.1\" width=\"1000\"><defs><style type=\"text/css\"><![CDATA[.background path {fill: #808080; fill-opacity: 0}.background path:nth-child(odd) {fill-opacity: .1}.axes {font-size: 14px}.x-axis .tick .lab {font-weight: bold; dominant-baseline: hanging}.axes, .tree {font-size: 14px; text-anchor: middle}.axes line, .edge {stroke: black; fill: none}.y-axis .grid {stroke: #FAFAFA}.node > .sym {fill: black; stroke: none}.site > .sym {stroke: black}.mut text {fill: red; font-style: italic}.mut.extra text {fill: hotpink}.mut line {fill: none; stroke: none}.mut .sym {fill: none; stroke: red}.mut.extra .sym {stroke: hotpink}.node .mut .sym {stroke-width: 1.5px}.tree text, .tree-sequence text {dominant-baseline: central}.plotbox .lab.lft {text-anchor: end}.plotbox .lab.rgt {text-anchor: start}]]></style></defs><g class=\"tree-sequence\"><g class=\"background\"><path d=\"M20,0 l320,0 l0,238.2 l-187.405,25 l0,5 l-132.595,0 l0,-5 l0,-25 l0,-238.2z\"/><path d=\"M340,0 l320,0 l0,238.2 l-381.021,25 l0,5 l-126.384,0 l0,-5 l187.405,-25 l0,-238.2z\"/><path d=\"M660,0 l320,0 l0,238.2 l0,25 l0,5 l-701.021,0 l0,-5 l381.021,-25 l0,-238.2z\"/></g><g class=\"axes\"><g class=\"x-axis\"><g transform=\"translate(500 300)\"><text class=\"lab\" text-anchor=\"middle\" transform=\"translate(0 -11)\">Genome position</text></g><line x1=\"20\" x2=\"980\" y1=\"263.2\" y2=\"263.2\"/><g class=\"ticks\"><g class=\"tick\" transform=\"translate(20 263.2)\"><line x1=\"0\" x2=\"0\" y1=\"0\" y2=\"5\"/><g transform=\"translate(0 6)\"><text class=\"lab\">0</text></g></g><g class=\"tick\" transform=\"translate(152.595 263.2)\"><line x1=\"0\" x2=\"0\" y1=\"0\" y2=\"5\"/><g transform=\"translate(0 6)\"><text class=\"lab\">13812</text></g></g><g class=\"tick\" transform=\"translate(278.979 263.2)\"><line x1=\"0\" x2=\"0\" y1=\"0\" y2=\"5\"/><g transform=\"translate(0 6)\"><text class=\"lab\">26977</text></g></g><g class=\"tick\" transform=\"translate(980 263.2)\"><line x1=\"0\" x2=\"0\" y1=\"0\" y2=\"5\"/><g transform=\"translate(0 6)\"><text class=\"lab\">100000</text></g></g></g></g></g><g class=\"plotbox trees\"><g class=\"tree t0\" transform=\"translate(20 0)\"><g class=\"plotbox\"><g class=\"c2 node n12 p0 root\" transform=\"translate(203.75 26.8)\"><g class=\"a12 i1 leaf node n3 p0 sample\" transform=\"translate(72.9167 194.6)\"><path class=\"edge\" d=\"M 0 0 V -194.6 H -72.9167\"/><rect class=\"sym\" height=\"6\" width=\"6\" x=\"-3\" y=\"-3\"/><text class=\"lab\" transform=\"translate(0 11)\">3</text></g><g class=\"a12 c2 node n11 p0\" transform=\"translate(-72.9167 163.227)\"><g class=\"a11 c2 node n7 p0\" transform=\"translate(-64.1667 22.1249)\"><g class=\"a7 i0 leaf node n0 p0 sample\" transform=\"translate(-23.3333 9.24796)\"><path class=\"edge\" d=\"M 0 0 V -9.24796 H 23.3333\"/><rect class=\"sym\" height=\"6\" width=\"6\" x=\"-3\" y=\"-3\"/><text class=\"lab\" transform=\"translate(0 11)\">0</text></g><g class=\"a7 i1 leaf node n2 p0 sample\" transform=\"translate(23.3333 9.24796)\"><path class=\"edge\" d=\"M 0 0 V -9.24796 H -23.3333\"/><rect class=\"sym\" height=\"6\" width=\"6\" x=\"-3\" y=\"-3\"/><text class=\"lab\" transform=\"translate(0 11)\">2</text></g><path class=\"edge\" d=\"M 0 0 V -22.1249 H 64.1667\"/><circle class=\"sym\" cx=\"0\" cy=\"0\" r=\"3\"/><text class=\"lab lft\" transform=\"translate(-3 -7.0)\">7</text></g><g class=\"a11 c2 node n10 p0\" transform=\"translate(64.1667 2.43058)\"><g class=\"a10 i2 leaf node n4 p0 sample\" transform=\"translate(35 28.9423)\"><path class=\"edge\" d=\"M 0 0 V -28.9423 H -35\"/><rect class=\"sym\" height=\"6\" width=\"6\" x=\"-3\" y=\"-3\"/><text class=\"lab\" transform=\"translate(0 11)\">4</text></g><g class=\"a10 c1 node n8 p0\" transform=\"translate(-35 5.5247)\"><g class=\"a8 c2 node n6 p0\" transform=\"translate(0.0 23.398)\"><g class=\"a6 i0 leaf node n1 p0 sample\" transform=\"translate(-23.3333 0.019618)\"><path class=\"edge\" d=\"M 0 0 V -0.019618 H 23.3333\"/><rect class=\"sym\" height=\"6\" width=\"6\" x=\"-3\" y=\"-3\"/><text class=\"lab\" transform=\"translate(0 11)\">1</text></g><g class=\"a6 i2 leaf node n5 p0 sample\" transform=\"translate(23.3333 0.019618)\"><path class=\"edge\" d=\"M 0 0 V -0.019618 H -23.3333\"/><rect class=\"sym\" height=\"6\" width=\"6\" x=\"-3\" y=\"-3\"/><text class=\"lab\" transform=\"translate(0 11)\">5</text></g><path class=\"edge\" d=\"M 0 0 V -23.398 H 0.0\"/><circle class=\"sym\" cx=\"0\" cy=\"0\" r=\"3\"/><text class=\"lab lft\" transform=\"translate(-3 -7.0)\">6</text></g><path class=\"edge\" d=\"M 0 0 V -5.5247 H 35\"/><circle class=\"sym\" cx=\"0\" cy=\"0\" r=\"3\"/><text class=\"lab lft\" transform=\"translate(-3 -7.0)\">8</text></g><path class=\"edge\" d=\"M 0 0 V -2.43058 H -64.1667\"/><circle class=\"sym\" cx=\"0\" cy=\"0\" r=\"3\"/><text class=\"lab rgt\" transform=\"translate(3 -7.0)\">10</text></g><path class=\"edge\" d=\"M 0 0 V -163.227 H 72.9167\"/><circle class=\"sym\" cx=\"0\" cy=\"0\" r=\"3\"/><text class=\"lab lft\" transform=\"translate(-3 -7.0)\">11</text></g><circle class=\"sym\" cx=\"0\" cy=\"0\" r=\"3\"/><text class=\"lab\" transform=\"translate(0 -11)\">12</text></g></g></g><g class=\"tree t1\" transform=\"translate(340 0)\"><g class=\"plotbox\"><g class=\"c2 node n11 p0 root\" transform=\"translate(151.25 190.027)\"><g class=\"a11 c2 node n7 p0\" transform=\"translate(-84.5833 22.1249)\"><g class=\"a7 i0 leaf node n0 p0 sample\" transform=\"translate(-23.3333 9.24796)\"><path class=\"edge\" d=\"M 0 0 V -9.24796 H 23.3333\"/><rect class=\"sym\" height=\"6\" width=\"6\" x=\"-3\" y=\"-3\"/><text class=\"lab\" transform=\"translate(0 11)\">0</text></g><g class=\"a7 i1 leaf node n2 p0 sample\" transform=\"translate(23.3333 9.24796)\"><path class=\"edge\" d=\"M 0 0 V -9.24796 H -23.3333\"/><rect class=\"sym\" height=\"6\" width=\"6\" x=\"-3\" y=\"-3\"/><text class=\"lab\" transform=\"translate(0 11)\">2</text></g><path class=\"edge\" d=\"M 0 0 V -22.1249 H 84.5833\"/><circle class=\"sym\" cx=\"0\" cy=\"0\" r=\"3\"/><text class=\"lab lft\" transform=\"translate(-3 -7.0)\">7</text></g><g class=\"a11 c2 node n10 p0\" transform=\"translate(84.5833 2.43058)\"><g class=\"a10 i2 leaf node n4 p0 sample\" transform=\"translate(40.8333 28.9423)\"><path class=\"edge\" d=\"M 0 0 V -28.9423 H -40.8333\"/><rect class=\"sym\" height=\"6\" width=\"6\" x=\"-3\" y=\"-3\"/><text class=\"lab\" transform=\"translate(0 11)\">4</text></g><g class=\"a10 c2 node n8 p0\" transform=\"translate(-40.8333 5.5247)\"><g class=\"a8 c2 node n6 p0\" transform=\"translate(-35 23.398)\"><g class=\"a6 i0 leaf node n1 p0 sample\" transform=\"translate(-23.3333 0.019618)\"><path class=\"edge\" d=\"M 0 0 V -0.019618 H 23.3333\"/><rect class=\"sym\" height=\"6\" width=\"6\" x=\"-3\" y=\"-3\"/><text class=\"lab\" transform=\"translate(0 11)\">1</text></g><g class=\"a6 i2 leaf node n5 p0 sample\" transform=\"translate(23.3333 0.019618)\"><path class=\"edge\" d=\"M 0 0 V -0.019618 H -23.3333\"/><rect class=\"sym\" height=\"6\" width=\"6\" x=\"-3\" y=\"-3\"/><text class=\"lab\" transform=\"translate(0 11)\">5</text></g><path class=\"edge\" d=\"M 0 0 V -23.398 H 35\"/><circle class=\"sym\" cx=\"0\" cy=\"0\" r=\"3\"/><text class=\"lab lft\" transform=\"translate(-3 -7.0)\">6</text></g><g class=\"a8 i1 leaf node n3 p0 sample\" transform=\"translate(35 23.4176)\"><path class=\"edge\" d=\"M 0 0 V -23.4176 H -35\"/><rect class=\"sym\" height=\"6\" width=\"6\" x=\"-3\" y=\"-3\"/><text class=\"lab\" transform=\"translate(0 11)\">3</text></g><path class=\"edge\" d=\"M 0 0 V -5.5247 H 40.8333\"/><circle class=\"sym\" cx=\"0\" cy=\"0\" r=\"3\"/><text class=\"lab lft\" transform=\"translate(-3 -7.0)\">8</text></g><path class=\"edge\" d=\"M 0 0 V -2.43058 H -84.5833\"/><circle class=\"sym\" cx=\"0\" cy=\"0\" r=\"3\"/><text class=\"lab rgt\" transform=\"translate(3 -7.0)\">10</text></g><circle class=\"sym\" cx=\"0\" cy=\"0\" r=\"3\"/><text class=\"lab\" transform=\"translate(0 -11)\">11</text></g></g></g><g class=\"tree t2\" transform=\"translate(660 0)\"><g class=\"plotbox\"><g class=\"c2 node n11 p0 root\" transform=\"translate(151.25 190.027)\"><g class=\"a11 c2 node n7 p0\" transform=\"translate(-84.5833 22.1249)\"><g class=\"a7 i0 leaf node n0 p0 sample\" transform=\"translate(-23.3333 9.24796)\"><path class=\"edge\" d=\"M 0 0 V -9.24796 H 23.3333\"/><rect class=\"sym\" height=\"6\" width=\"6\" x=\"-3\" y=\"-3\"/><text class=\"lab\" transform=\"translate(0 11)\">0</text></g><g class=\"a7 i1 leaf node n2 p0 sample\" transform=\"translate(23.3333 9.24796)\"><path class=\"edge\" d=\"M 0 0 V -9.24796 H -23.3333\"/><rect class=\"sym\" height=\"6\" width=\"6\" x=\"-3\" y=\"-3\"/><text class=\"lab\" transform=\"translate(0 11)\">2</text></g><path class=\"edge\" d=\"M 0 0 V -22.1249 H 84.5833\"/><circle class=\"sym\" cx=\"0\" cy=\"0\" r=\"3\"/><text class=\"lab lft\" transform=\"translate(-3 -7.0)\">7</text></g><g class=\"a11 c2 node n10 p0\" transform=\"translate(84.5833 2.43058)\"><g class=\"a10 i2 leaf node n4 p0 sample\" transform=\"translate(40.8333 28.9423)\"><path class=\"edge\" d=\"M 0 0 V -28.9423 H -40.8333\"/><rect class=\"sym\" height=\"6\" width=\"6\" x=\"-3\" y=\"-3\"/><text class=\"lab\" transform=\"translate(0 11)\">4</text></g><g class=\"a10 c2 node n9 p0\" transform=\"translate(-40.8333 2.49617)\"><g class=\"a9 i1 leaf node n3 p0 sample\" transform=\"translate(35 26.4461)\"><path class=\"edge\" d=\"M 0 0 V -26.4461 H -35\"/><rect class=\"sym\" height=\"6\" width=\"6\" x=\"-3\" y=\"-3\"/><text class=\"lab\" transform=\"translate(0 11)\">3</text></g><g class=\"a9 c2 node n6 p0\" transform=\"translate(-35 26.4265)\"><g class=\"a6 i0 leaf node n1 p0 sample\" transform=\"translate(-23.3333 0.019618)\"><path class=\"edge\" d=\"M 0 0 V -0.019618 H 23.3333\"/><rect class=\"sym\" height=\"6\" width=\"6\" x=\"-3\" y=\"-3\"/><text class=\"lab\" transform=\"translate(0 11)\">1</text></g><g class=\"a6 i2 leaf node n5 p0 sample\" transform=\"translate(23.3333 0.019618)\"><path class=\"edge\" d=\"M 0 0 V -0.019618 H -23.3333\"/><rect class=\"sym\" height=\"6\" width=\"6\" x=\"-3\" y=\"-3\"/><text class=\"lab\" transform=\"translate(0 11)\">5</text></g><path class=\"edge\" d=\"M 0 0 V -26.4265 H 35\"/><circle class=\"sym\" cx=\"0\" cy=\"0\" r=\"3\"/><text class=\"lab lft\" transform=\"translate(-3 -7.0)\">6</text></g><path class=\"edge\" d=\"M 0 0 V -2.49617 H 40.8333\"/><circle class=\"sym\" cx=\"0\" cy=\"0\" r=\"3\"/><text class=\"lab lft\" transform=\"translate(-3 -7.0)\">9</text></g><path class=\"edge\" d=\"M 0 0 V -2.43058 H -84.5833\"/><circle class=\"sym\" cx=\"0\" cy=\"0\" r=\"3\"/><text class=\"lab rgt\" transform=\"translate(3 -7.0)\">10</text></g><circle class=\"sym\" cx=\"0\" cy=\"0\" r=\"3\"/><text class=\"lab\" transform=\"translate(0 -11)\">11</text></g></g></g></g></g></svg>"
      ],
      "text/plain": [
       "<IPython.core.display.SVG object>"
      ]
     },
     "execution_count": 5,
     "metadata": {},
     "output_type": "execute_result"
    }
   ],
   "source": [
    "ts1, n = extend_edges(sts)\n",
    "print(n)\n",
    "SVG(ts1.draw_svg(size=(1000, 300), x_lim=[0, 1e5]))"
   ]
  },
  {
   "cell_type": "markdown",
   "id": "ec5a1228",
   "metadata": {},
   "source": [
    "Our goal is to construct a function to measure the number of discrepancies between our inferred tree sequence $TS_1$ and the ground truth $TS_2$. For tree sequences $TS_1$ and $TS_2$ both of sequence length $L$, each have nodes at position $i$ in the genome, $x$ and $y$ respectively. From these nodes we count the number of samples which stem from them. We define these sets as $D_1(i,x)$ and $D_2(i,y)$. We count the number of descrepancies between the nodes $x$ and $y$ as their set difference, $|D_1(i,x)\\vartriangle D_2(i,y)|$. We define the $\\textbf{discrepancy number}$ between nodes $x$ and $y$ as \n",
    "$$ d(x,y) = \\sum_{i=0}^{L-1} |D_1(i,x)\\vartriangle D_2(i,y)|. $$\n",
    "Using this we generalize to find the number of discrepancies between a node $x$ and the ground truth $TS_2$,\n",
    "$$ d(x,TS_2) = \\inf_{y\\in TS_2.nodes()} d(x,y).$$\n",
    "Finally, to compute the number of discrepancies between tree sequences we use the function\n",
    "$$d(TS_1,TS_2) = \\sum_{x\\in TS_1.nodes()} d(x,TS_2)=\\sum_{x\\in TS_1.nodes()} \\inf_{y\\in TS_2.nodes()} d(x,y) = \\sum_{x\\in TS_1.nodes()} \\inf_{y\\in TS_2.nodes()} \\sum_{i=0}^{L-1} |D_1(i,x)\\vartriangle D_2(i,y)|,$$\n",
    "and call this the $\\textbf{discrepancy number}$ between $TS_1$ and $TS_2$."
   ]
  },
  {
   "cell_type": "code",
   "execution_count": 6,
   "id": "82aaea04",
   "metadata": {},
   "outputs": [],
   "source": [
    "def node_discrepancy(x, ts1, y, ts2):\n",
    "    # function to return the discrepancy number between two nodes, d(x,y)\n",
    "    dis = 0\n",
    "    for interval, t1, t2 in ts1.coiterate(ts2):\n",
    "        s = interval.span\n",
    "        Dx = set(t1.samples(x))\n",
    "        for z in t2.samples(y):\n",
    "            if z not in Dx:\n",
    "                dis += s\n",
    "    return dis\n",
    "\n",
    "def node_tree_discrepancy(x, ts1, ts2): # I tried to make the function faster, I am not sure if it does though\n",
    "    # function to return the discrepancy number between a node and tree sequence d(x,TS2)\n",
    "    dis = ts2.sequence_length\n",
    "    for y in range(ts2.num_nodes):\n",
    "        xydis = node_discrepancy(x, ts1, y, ts2)\n",
    "        if xydis < dis:\n",
    "            dis = xydis\n",
    "    \n",
    "    return dis # Perhaps we could also have this function also return a list of the nodes which give us the minimal discrepancy number\n",
    "\n",
    "def node_tree_discrepancy2(x, ts1, ts2):\n",
    "    dis = np.zeros(ts2.num_nodes)\n",
    "    for interval, t1, t2 in ts1.coiterate(ts2):\n",
    "        s = interval.span\n",
    "        Dx = set(t1.samples(x))\n",
    "        for y in t2.nodes():\n",
    "            n = len(set(t2.samples(y)) - Dx)\n",
    "            dis[y] += n * s\n",
    "    return np.min(dis)"
   ]
  },
  {
   "cell_type": "code",
   "execution_count": 8,
   "id": "c26959e7",
   "metadata": {},
   "outputs": [],
   "source": [
    "num_samples = 10\n",
    "tsA = msprime.sim_ancestry(num_samples, population_size=1000, sequence_length=1e5,\n",
    "                           recombination_rate=1e-8, record_full_arg=True)\n",
    "tsB = msprime.sim_ancestry(num_samples, population_size=1000, sequence_length=1e5,\n",
    "                           recombination_rate=1e-8, record_full_arg=True)\n",
    "for j in range(10):\n",
    "    assert np.all(node_tree_discrepancy(j, tsA, tsA) == 0)\n",
    "    assert np.all(node_tree_discrepancy2(j, tsA, tsA) == 0)\n",
    "    assert np.allclose(\n",
    "        node_tree_discrepancy(j, tsA, tsB),\n",
    "        node_tree_discrepancy2(j, tsA, tsB)\n",
    "    )"
   ]
  },
  {
   "cell_type": "code",
   "execution_count": 9,
   "id": "ae39e156",
   "metadata": {},
   "outputs": [],
   "source": [
    "def discrepancy(ts1, ts2):\n",
    "    dis = 0\n",
    "    \n",
    "    for n in range(ts1.num_nodes):\n",
    "        dis += node_tree_discrepancy2(n,ts1,ts2)\n",
    "    return dis"
   ]
  },
  {
   "cell_type": "code",
   "execution_count": 10,
   "id": "12d65a47",
   "metadata": {},
   "outputs": [
    {
     "data": {
      "text/plain": [
       "0.0"
      ]
     },
     "execution_count": 10,
     "metadata": {},
     "output_type": "execute_result"
    }
   ],
   "source": [
    "discrepancy(ts1, ts2)"
   ]
  },
  {
   "cell_type": "markdown",
   "id": "dcff6936",
   "metadata": {},
   "source": [
    "Now we should run an experiment to see with our new metric the varying distribution of the disscrepancy number between the simulated tree sequence and its edge extended version."
   ]
  },
  {
   "cell_type": "code",
   "execution_count": 13,
   "id": "4c9ab304",
   "metadata": {},
   "outputs": [
    {
     "name": "stdout",
     "output_type": "stream",
     "text": [
      "number of samples = 3, length = 10000.0\n",
      " original discrepancy number = 0.0\n",
      "number of samples = 3, length = 100000.0\n",
      " original discrepancy number = 158.0\n",
      "number of samples = 5, length = 10000.0\n",
      " original discrepancy number = 0.0\n",
      "number of samples = 5, length = 100000.0\n",
      " original discrepancy number = 0.0\n",
      "number of samples = 7, length = 10000.0\n",
      " original discrepancy number = 0.0\n",
      "number of samples = 7, length = 100000.0\n",
      " original discrepancy number = 0.0\n",
      "number of samples = 9, length = 10000.0\n",
      " original discrepancy number = 0.0\n",
      "number of samples = 9, length = 100000.0\n",
      " original discrepancy number = 0.0\n"
     ]
    }
   ],
   "source": [
    "for num_samples in [3, 5,7,9]:\n",
    "    for L in [1e4, 1e5]: #, 1e6,1e7]:\n",
    "        ts = msprime.sim_ancestry(num_samples, population_size=1000, sequence_length=L,\n",
    "                                  recombination_rate=1e-8, record_full_arg=True)\n",
    "        sts = ts.simplify()\n",
    "        \n",
    "        ext_sts, _ = extend_edges(sts)\n",
    "        #dd = orig_discrepancy(ext_sts, ts)\n",
    "        d = discrepancy(ext_sts, ts)\n",
    "        print(f'number of samples = {num_samples}, length = {L}\\n original discrepancy number = {d}')"
   ]
  },
  {
   "cell_type": "markdown",
   "id": "39906b87",
   "metadata": {},
   "source": [
    "# TODO: explain what happens here"
   ]
  },
  {
   "cell_type": "code",
   "execution_count": 14,
   "id": "c208dbe5",
   "metadata": {},
   "outputs": [],
   "source": [
    "def node_tree_discrepancy3(x, ts1, ts2):\n",
    "    sim = np.zeros(ts2.num_nodes)\n",
    "    for interval, t1, t2 in ts1.coiterate(ts2):\n",
    "        s = interval.span\n",
    "        # note that Dx might not have changed since the last tree\n",
    "        Dx = set(t1.samples(x))\n",
    "        if len(Dx) > 1:\n",
    "            y = t2.mrca(*list(Dx))\n",
    "            sim[y] += (set(t2.samples(y)) == Dx) * s\n",
    "    return ts1.sequence_length - np.max(sim)"
   ]
  },
  {
   "cell_type": "code",
   "execution_count": 15,
   "id": "ad44a39a",
   "metadata": {},
   "outputs": [],
   "source": [
    "def discrepancy3(ts1, ts2):\n",
    "    dis = 0\n",
    "    for n in range(ts1.num_nodes):\n",
    "        dis += node_tree_discrepancy3(n, ts1, ts2)\n",
    "    return dis"
   ]
  },
  {
   "cell_type": "markdown",
   "id": "244446fa",
   "metadata": {},
   "source": [
    "\n",
    "TODO:\n",
    "\n",
    "1. write down the math for this new definition\n",
    "2. IS THIS RIGHT, EVEN?\n",
    "3. check whether dis(ts1, ts2) = dis(ts2, ts1) = 0 then ts1 == ts2?\n",
    "4. make a plot of runtime of dis( ) as a function of number of nodes? of trees?\n"
   ]
  },
  {
   "cell_type": "markdown",
   "id": "71d96540",
   "metadata": {},
   "source": [
    "# new definition, take 2\n",
    "\n",
    "For a tree sequence $T$ and a node $x$ and position $i$, let $D_T(x, i)$ be the set of descendant\n",
    "samples of $x$ in $T$ at position $i$, and for node $x$ in $T_1$ and node $y$ in $T_2$, where both $T_j$\n",
    "are tree sequences of length $L$, let\n",
    "$$\n",
    "   \\rho_{T_1, T_2}(x, y)\n",
    "   =\n",
    "   \\frac{1}{L} \\sum_i \\left[ D_{T_1}(x, i) == D_{T_2}(y, i) \\right],\n",
    "$$\n",
    "where the thing in the $[ ]$'s means that it should be 1 if True, 0 if False.\n",
    "This is the fraction of the sequence along which $x$ and $y$ have exactly the same descendant set\n",
    "(and so is a similiarity).\n",
    "Then, let\n",
    "$$\n",
    "  d(x, T_1, T_2) = \\min_y \\left\\{ 1 - \\rho_{T_1, T_2}(x, y) \\right\\} ,\n",
    "$$\n",
    "which is the proportion of the genome over which the descendant set of $x$ *does not* match\n",
    "that of $y$, where $y$ is it's (global) best matching node.\n",
    "\n",
    "Note that this is *different* than\n",
    "$$\n",
    "   \\frac{1}{L} \\sum_i \\min_y \\left(1 - \\left[ D_{T_1}(x, i) == D_{T_2}(y, i) \\right]\\right),\n",
    "$$\n",
    "which would tell us the proportion of the genome over which $x$ does not have a perfectly matching node,\n",
    "i.e., a node which has exactly the same descendant set.\n",
    "\n",
    "We are doing this because want to find the node $y$ that is the best match over the whole genome,\n",
    "since this tells us how well nodes are identified across trees."
   ]
  },
  {
   "cell_type": "markdown",
   "id": "6c18532e",
   "metadata": {},
   "source": [
    "## Thoughts:\n",
    "\n",
    "Here are some properties we'd like our dissimiarity to satisfy:\n",
    "\n",
    "1. interpretable\n",
    "2. computable\n",
    "3. measuring what we want\n",
    "\n",
    "More concretely,\n",
    "\n",
    "- smaller changes to the trees should not have larger effects on dissimiliarity\n",
    "\n",
    "Note that in the definition above, moving a bigger subtree actually has a larger effect on dissimiliarty\n",
    "than moving a smaller subtree, because all nodes on the path from the old place the subtree was attached\n",
    "to the new place are affected.\n",
    "\n",
    "*Question:* What is a notion of monotonicity that we could use here (ie what's \"smaller\")?\n",
    "\n",
    "Another observation:\n",
    "\n",
    "- what if a node has an exact match to different other nodes on two halves of the genome;\n",
    "   shouldn't this be better than if it just doesn't match anyone on half the genome?\n",
    "\n",
    "*Note:* there are two dimensions here: sequence length; and how much descendant sets differ;\n",
    "and there is some interplay between the two.\n",
    "\n",
    "*Observation:* we could modify the definition above to be\n",
    "$$\n",
    "   \\rho_{T_1, T_2}(x, y)\n",
    "   =\n",
    "   \\frac{1}{L} \\sum_i f(|D_{T_1}(x, i)|) \\left[ D_{T_1}(x, i) == D_{T_2}(y, i) \\right],\n",
    "$$\n",
    "for some function $f$ of the size of the set\n",
    "(e.g., if $f(w) = 1/w$ then we'd be downweighting mismatches on large descendant sets,\n",
    "which might make sense because if a node doesn't match then probably their descedant nodes don't match either)."
   ]
  },
  {
   "cell_type": "markdown",
   "id": "71ca9c57",
   "metadata": {},
   "source": [
    "### 1. New Definition\n",
    "The computation time to compute our previous metric scales with $n^2$ where $n$ is the number of nodes in $TS_2$. This drags runtime even with tree sequences with length $10^7$. To mitigate this we are tweaking our definition of our metric to try and minimize computation time. We rewrite our function representing the discrepancy between a node $x\\in TS_1$ and $TS_2$, and do so by trying to find similarities between the tree sequences. For a node $x$ we compute $D_1(i,x)$ which is the set of descendent samples of $x$. If $|D_1(i,x)|>1$ we then look for the most recent common anscestors (mrca) of $D_1(i,x)$ in $TS_2$ and we call this node $y$. We then check if $D_1(i,x) = D_2(i,y)$ as sets and if this is true then we set $d(x,y)=1$. This helps us define our node-tree discrepancy function as\n",
    "$$d(x,TS_2) = \\min_y \\{L_2 - d(x,y)\\cdot l_i\\},$$\n",
    "where $L_2$ is the length of $TS_2$, and $l_i$ is the length of the interval between the coiteration of trees between $TS_1$ and $TS_2$ where $y\\in t_2$ and $x\\in t_1$. (This could be written better). $\\newline$ \n",
    "Additionally I think there should be some scaling involved, however we have not fully thought of any good options for this."
   ]
  },
  {
   "cell_type": "markdown",
   "id": "cf059448",
   "metadata": {},
   "source": [
    "### 2. Is this even right? \n",
    "I am not fully sure that `node_tree_discrepancy3` is entirely correct. I think we want to find similarities between $x$ and $y$ where `y=t2.mrca(*Dx)` and $Dx = D_1(treeindex, x)$. Were running a for loop over the coiteration between TS1 and TS2 and so each tuple we compute `Dx` and we find $y$ if `len(Dx)>1`. I think we should be summing over all nonzero elements in `dis` and then subtract it from the length of TS2. I think this would better track the dissimilarity between the tree sequences as we would be tracking similarities of node $x$ over all of the trees it is in instead of just one tree in a particular part of the coiteration (granted I could be really misinterpretting what this coiteration function does). Additionally, if the approach I am suggesting is given we would also have to account for is `len(Dx)=1`. This could be done by checking in `t2` if there exists a node with just that sample as is only descendant. I will attempt to write the function below."
   ]
  },
  {
   "cell_type": "code",
   "execution_count": 16,
   "id": "7f05361f",
   "metadata": {},
   "outputs": [],
   "source": [
    "def node_tree_discrepancy4(x, ts1, ts2):\n",
    "    dis = np.zeros(ts2.num_nodes)\n",
    "    \n",
    "    for interval, t1, t2 in ts1.coiterate(ts2):\n",
    "        s = interval.span\n",
    "        \n",
    "        Dx = set(t1.samples(x))\n",
    "        if len(Dx) > 1:\n",
    "            y = t2.mrca(*list(Dx))\n",
    "            Dy = set(t2.samples(y))\n",
    "            dis[y] = (Dy == Dx)*s\n",
    "        if len(Dx) == 1:\n",
    "            y = t2.parent(list(Dx)[0])\n",
    "            Dy = set(t2.samples(y))\n",
    "            dis[y] = (Dy == Dx)*s\n",
    "    return ts2.sequence_length - np.sum(dis)"
   ]
  },
  {
   "cell_type": "code",
   "execution_count": 17,
   "id": "cf0f6ce5",
   "metadata": {},
   "outputs": [],
   "source": [
    "def discrepancy4(ts1, ts2):\n",
    "    dis = 0\n",
    "    \n",
    "    for n in range(ts1.num_nodes):\n",
    "        dis += node_tree_discrepancy4(n,ts1,ts2)\n",
    "    return dis"
   ]
  },
  {
   "cell_type": "markdown",
   "id": "46f42cc1",
   "metadata": {},
   "source": [
    "### 3. Check $d(TS_1,TS_2) = d(TS_2,TS_1) = 0 \\Longrightarrow TS_1=TS_2$, or even $d(TS_1,TS_2)=0 \\Longrightarrow TS_1\\subset TS_2$.\n",
    "Suppose that $d(TS_1,TS_2)=d(TS_2,TS_1)=0$. Then we eventually do the math to make this check."
   ]
  },
  {
   "cell_type": "markdown",
   "id": "42a3c836",
   "metadata": {},
   "source": [
    "### 4. Make a plot of runtime of $d(TS_1,TS_2)$ as a function of number of nodes/trees/both.\n",
    "TBD"
   ]
  },
  {
   "cell_type": "code",
   "execution_count": 18,
   "id": "9834c740",
   "metadata": {},
   "outputs": [
    {
     "name": "stdout",
     "output_type": "stream",
     "text": [
      "number of samples = 3, length = 10000.0\n",
      " original discrepancy number = 85020.0\n",
      "number of samples = 3, length = 100000.0\n",
      " original discrepancy number = 1199380.0\n",
      "number of samples = 3, length = 1000000.0\n",
      " original discrepancy number = 52796845.0\n",
      "number of samples = 3, length = 10000000.0\n",
      " original discrepancy number = 4938857703.0\n",
      "number of samples = 5, length = 10000.0\n",
      " original discrepancy number = 156314.0\n",
      "number of samples = 5, length = 100000.0\n",
      " original discrepancy number = 2117768.0\n",
      "number of samples = 5, length = 1000000.0\n",
      " original discrepancy number = 94367962.0\n",
      "number of samples = 5, length = 10000000.0\n",
      " original discrepancy number = 6537954547.0\n",
      "number of samples = 7, length = 10000.0\n",
      " original discrepancy number = 241836.0\n",
      "number of samples = 7, length = 100000.0\n",
      " original discrepancy number = 3241297.0\n",
      "number of samples = 7, length = 1000000.0\n",
      " original discrepancy number = 112534589.0\n",
      "number of samples = 7, length = 10000000.0\n",
      " original discrepancy number = 6885308899.0\n",
      "number of samples = 9, length = 10000.0\n",
      " original discrepancy number = 180000.0\n",
      "number of samples = 9, length = 100000.0\n",
      " original discrepancy number = 3811935.0\n",
      "number of samples = 9, length = 1000000.0\n",
      " original discrepancy number = 106517582.0\n",
      "number of samples = 9, length = 10000000.0\n",
      " original discrepancy number = 7436234079.0\n"
     ]
    }
   ],
   "source": [
    "# I am very confused why this wont run for me. mrca should be able to take more than 3 arguments correct?\n",
    "for num_samples in [3, 5,7,9]:\n",
    "    for L in [1e4, 1e5, 1e6,1e7]:\n",
    "        ts = msprime.sim_ancestry(num_samples, population_size=1000, sequence_length=L,\n",
    "                                  recombination_rate=1e-8, record_full_arg=True)\n",
    "        sts = ts.simplify()\n",
    "        \n",
    "        ext_sts, _ = extend_edges(sts)\n",
    "        d = discrepancy4(ext_sts, ts)\n",
    "        print(f'number of samples = {num_samples}, length = {L}\\n original discrepancy number = {d}')"
   ]
  },
  {
   "cell_type": "code",
   "execution_count": null,
   "id": "1dac40a0",
   "metadata": {},
   "outputs": [],
   "source": []
  }
 ],
 "metadata": {
  "kernelspec": {
   "display_name": "Python 3 (ipykernel)",
   "language": "python",
   "name": "python3"
  },
  "language_info": {
   "codemirror_mode": {
    "name": "ipython",
    "version": 3
   },
   "file_extension": ".py",
   "mimetype": "text/x-python",
   "name": "python",
   "nbconvert_exporter": "python",
   "pygments_lexer": "ipython3",
   "version": "3.9.9"
  }
 },
 "nbformat": 4,
 "nbformat_minor": 5
}
