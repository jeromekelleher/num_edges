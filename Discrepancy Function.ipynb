{
 "cells": [
  {
   "cell_type": "code",
   "execution_count": 1,
   "id": "e73285df",
   "metadata": {},
   "outputs": [],
   "source": [
    "import msprime, tskit\n",
    "from IPython.display import SVG\n",
    "import numpy as np\n",
    "import matplotlib.pyplot as plt\n",
    "from algorithm import *"
   ]
  },
  {
   "cell_type": "code",
   "execution_count": 34,
   "id": "5e20039d",
   "metadata": {},
   "outputs": [],
   "source": [
    "ts2 = msprime.sim_ancestry(3, population_size=100, sequence_length=1e5, recombination_rate=1e-8,\n",
    "                         record_full_arg=True)"
   ]
  },
  {
   "cell_type": "code",
   "execution_count": 35,
   "id": "cdc9461b",
   "metadata": {},
   "outputs": [
    {
     "data": {
      "image/svg+xml": [
       "<svg xmlns=\"http://www.w3.org/2000/svg\" xmlns:ev=\"http://www.w3.org/2001/xml-events\" xmlns:xlink=\"http://www.w3.org/1999/xlink\" baseProfile=\"full\" height=\"300\" version=\"1.1\" width=\"1000\"><defs><style type=\"text/css\"><![CDATA[.background path {fill: #808080; fill-opacity: 0}.background path:nth-child(odd) {fill-opacity: .1}.axes {font-size: 14px}.x-axis .tick .lab {font-weight: bold; dominant-baseline: hanging}.axes, .tree {font-size: 14px; text-anchor: middle}.axes line, .edge {stroke: black; fill: none}.y-axis .grid {stroke: #FAFAFA}.node > .sym {fill: black; stroke: none}.site > .sym {stroke: black}.mut text {fill: red; font-style: italic}.mut.extra text {fill: hotpink}.mut line {fill: none; stroke: none}.mut .sym {fill: none; stroke: red}.mut.extra .sym {stroke: hotpink}.node .mut .sym {stroke-width: 1.5px}.tree text, .tree-sequence text {dominant-baseline: central}.plotbox .lab.lft {text-anchor: end}.plotbox .lab.rgt {text-anchor: start}]]></style></defs><g class=\"tree-sequence\"><g class=\"background\"><path d=\"M20,0 l480,0 l0,238.2 l120.125,25 l0,5 l-600.125,0 l0,-5 l0,-25 l0,-238.2z\"/><path d=\"M500,0 l480,0 l0,238.2 l0,25 l0,5 l-359.875,0 l0,-5 l-120.125,-25 l0,-238.2z\"/></g><g class=\"axes\"><g class=\"x-axis\"><g transform=\"translate(500 300)\"><text class=\"lab\" text-anchor=\"middle\" transform=\"translate(0 -11)\">Genome position</text></g><line x1=\"20\" x2=\"980\" y1=\"263.2\" y2=\"263.2\"/><g class=\"ticks\"><g class=\"tick\" transform=\"translate(20 263.2)\"><line x1=\"0\" x2=\"0\" y1=\"0\" y2=\"5\"/><g transform=\"translate(0 6)\"><text class=\"lab\">0</text></g></g><g class=\"tick\" transform=\"translate(620.125 263.2)\"><line x1=\"0\" x2=\"0\" y1=\"0\" y2=\"5\"/><g transform=\"translate(0 6)\"><text class=\"lab\">62513</text></g></g><g class=\"tick\" transform=\"translate(980 263.2)\"><line x1=\"0\" x2=\"0\" y1=\"0\" y2=\"5\"/><g transform=\"translate(0 6)\"><text class=\"lab\">100000</text></g></g></g></g></g><g class=\"plotbox trees\"><g class=\"tree t0\" transform=\"translate(20 0)\"><g class=\"plotbox\"><g class=\"c2 node n13 p0 root\" transform=\"translate(152.917 26.8)\"><g class=\"a13 c1 node n10 p0\" transform=\"translate(96.25 154.751)\"><g class=\"a10 c2 node n9 p0\" transform=\"translate(0.0 20.563)\"><g class=\"a9 c2 node n6 p0\" transform=\"translate(-82.5 14.5702)\"><g class=\"a6 i0 leaf node n1 p0 sample\" transform=\"translate(-36.6667 4.71553)\"><path class=\"edge\" d=\"M 0 0 V -4.71553 H 36.6667\"/><rect class=\"sym\" height=\"6\" width=\"6\" x=\"-3\" y=\"-3\"/><text class=\"lab\" transform=\"translate(0 11)\">1</text></g><g class=\"a6 i1 leaf node n3 p0 sample\" transform=\"translate(36.6667 4.71553)\"><path class=\"edge\" d=\"M 0 0 V -4.71553 H -36.6667\"/><rect class=\"sym\" height=\"6\" width=\"6\" x=\"-3\" y=\"-3\"/><text class=\"lab\" transform=\"translate(0 11)\">3</text></g><path class=\"edge\" d=\"M 0 0 V -14.5702 H 82.5\"/><circle class=\"sym\" cx=\"0\" cy=\"0\" r=\"3\"/><text class=\"lab lft\" transform=\"translate(-3 -7.0)\">6</text></g><g class=\"a9 c2 node n8 p0\" transform=\"translate(82.5 4.93954)\"><g class=\"a8 i1 leaf node n2 p0 sample\" transform=\"translate(-55 14.3462)\"><path class=\"edge\" d=\"M 0 0 V -14.3462 H 55\"/><rect class=\"sym\" height=\"6\" width=\"6\" x=\"-3\" y=\"-3\"/><text class=\"lab\" transform=\"translate(0 11)\">2</text></g><g class=\"a8 c2 node n7 p0\" transform=\"translate(55 4.9812)\"><g class=\"a7 i2 leaf node n4 p0 sample\" transform=\"translate(-36.6667 9.36501)\"><path class=\"edge\" d=\"M 0 0 V -9.36501 H 36.6667\"/><rect class=\"sym\" height=\"6\" width=\"6\" x=\"-3\" y=\"-3\"/><text class=\"lab\" transform=\"translate(0 11)\">4</text></g><g class=\"a7 i2 leaf node n5 p0 sample\" transform=\"translate(36.6667 9.36501)\"><path class=\"edge\" d=\"M 0 0 V -9.36501 H -36.6667\"/><rect class=\"sym\" height=\"6\" width=\"6\" x=\"-3\" y=\"-3\"/><text class=\"lab\" transform=\"translate(0 11)\">5</text></g><path class=\"edge\" d=\"M 0 0 V -4.9812 H -55\"/><circle class=\"sym\" cx=\"0\" cy=\"0\" r=\"3\"/><text class=\"lab rgt\" transform=\"translate(3 -7.0)\">7</text></g><path class=\"edge\" d=\"M 0 0 V -4.93954 H -82.5\"/><circle class=\"sym\" cx=\"0\" cy=\"0\" r=\"3\"/><text class=\"lab rgt\" transform=\"translate(3 -7.0)\">8</text></g><path class=\"edge\" d=\"M 0 0 V -20.563 H 0.0\"/><circle class=\"sym\" cx=\"0\" cy=\"0\" r=\"3\"/><text class=\"lab lft\" transform=\"translate(-3 -7.0)\">9</text></g><path class=\"edge\" d=\"M 0 0 V -154.751 H -96.25\"/><circle class=\"sym\" cx=\"0\" cy=\"0\" r=\"3\"/><text class=\"lab rgt\" transform=\"translate(3 -7.0)\">10</text></g><g class=\"a13 c1 node n12 p0\" transform=\"translate(-96.25 110.871)\"><g class=\"a12 i0 leaf node n0 p0 sample\" transform=\"translate(0.0 83.7288)\"><path class=\"edge\" d=\"M 0 0 V -83.7288 H 0.0\"/><rect class=\"sym\" height=\"6\" width=\"6\" x=\"-3\" y=\"-3\"/><text class=\"lab\" transform=\"translate(0 11)\">0</text></g><path class=\"edge\" d=\"M 0 0 V -110.871 H 96.25\"/><circle class=\"sym\" cx=\"0\" cy=\"0\" r=\"3\"/><text class=\"lab lft\" transform=\"translate(-3 -7.0)\">12</text></g><circle class=\"sym\" cx=\"0\" cy=\"0\" r=\"3\"/><text class=\"lab\" transform=\"translate(0 -11)\">13</text></g></g></g><g class=\"tree t1\" transform=\"translate(500 0)\"><g class=\"plotbox\"><g class=\"c2 node n12 p0 root\" transform=\"translate(152.917 137.671)\"><g class=\"a12 i0 leaf node n0 p0 sample\" transform=\"translate(-96.25 83.7288)\"><path class=\"edge\" d=\"M 0 0 V -83.7288 H 96.25\"/><rect class=\"sym\" height=\"6\" width=\"6\" x=\"-3\" y=\"-3\"/><text class=\"lab\" transform=\"translate(0 11)\">0</text></g><g class=\"a12 c1 node n11 p0\" transform=\"translate(96.25 43.8801)\"><g class=\"a11 c2 node n9 p0\" transform=\"translate(0.0 20.563)\"><g class=\"a9 c2 node n6 p0\" transform=\"translate(-82.5 14.5702)\"><g class=\"a6 i0 leaf node n1 p0 sample\" transform=\"translate(-36.6667 4.71553)\"><path class=\"edge\" d=\"M 0 0 V -4.71553 H 36.6667\"/><rect class=\"sym\" height=\"6\" width=\"6\" x=\"-3\" y=\"-3\"/><text class=\"lab\" transform=\"translate(0 11)\">1</text></g><g class=\"a6 i1 leaf node n3 p0 sample\" transform=\"translate(36.6667 4.71553)\"><path class=\"edge\" d=\"M 0 0 V -4.71553 H -36.6667\"/><rect class=\"sym\" height=\"6\" width=\"6\" x=\"-3\" y=\"-3\"/><text class=\"lab\" transform=\"translate(0 11)\">3</text></g><path class=\"edge\" d=\"M 0 0 V -14.5702 H 82.5\"/><circle class=\"sym\" cx=\"0\" cy=\"0\" r=\"3\"/><text class=\"lab lft\" transform=\"translate(-3 -7.0)\">6</text></g><g class=\"a9 c2 node n8 p0\" transform=\"translate(82.5 4.93954)\"><g class=\"a8 i1 leaf node n2 p0 sample\" transform=\"translate(-55 14.3462)\"><path class=\"edge\" d=\"M 0 0 V -14.3462 H 55\"/><rect class=\"sym\" height=\"6\" width=\"6\" x=\"-3\" y=\"-3\"/><text class=\"lab\" transform=\"translate(0 11)\">2</text></g><g class=\"a8 c2 node n7 p0\" transform=\"translate(55 4.9812)\"><g class=\"a7 i2 leaf node n4 p0 sample\" transform=\"translate(-36.6667 9.36501)\"><path class=\"edge\" d=\"M 0 0 V -9.36501 H 36.6667\"/><rect class=\"sym\" height=\"6\" width=\"6\" x=\"-3\" y=\"-3\"/><text class=\"lab\" transform=\"translate(0 11)\">4</text></g><g class=\"a7 i2 leaf node n5 p0 sample\" transform=\"translate(36.6667 9.36501)\"><path class=\"edge\" d=\"M 0 0 V -9.36501 H -36.6667\"/><rect class=\"sym\" height=\"6\" width=\"6\" x=\"-3\" y=\"-3\"/><text class=\"lab\" transform=\"translate(0 11)\">5</text></g><path class=\"edge\" d=\"M 0 0 V -4.9812 H -55\"/><circle class=\"sym\" cx=\"0\" cy=\"0\" r=\"3\"/><text class=\"lab rgt\" transform=\"translate(3 -7.0)\">7</text></g><path class=\"edge\" d=\"M 0 0 V -4.93954 H -82.5\"/><circle class=\"sym\" cx=\"0\" cy=\"0\" r=\"3\"/><text class=\"lab rgt\" transform=\"translate(3 -7.0)\">8</text></g><path class=\"edge\" d=\"M 0 0 V -20.563 H 0.0\"/><circle class=\"sym\" cx=\"0\" cy=\"0\" r=\"3\"/><text class=\"lab lft\" transform=\"translate(-3 -7.0)\">9</text></g><path class=\"edge\" d=\"M 0 0 V -43.8801 H -96.25\"/><circle class=\"sym\" cx=\"0\" cy=\"0\" r=\"3\"/><text class=\"lab rgt\" transform=\"translate(3 -7.0)\">11</text></g><circle class=\"sym\" cx=\"0\" cy=\"0\" r=\"3\"/><text class=\"lab\" transform=\"translate(0 -11)\">12</text></g></g></g></g></g></svg>"
      ],
      "text/plain": [
       "<IPython.core.display.SVG object>"
      ]
     },
     "execution_count": 35,
     "metadata": {},
     "output_type": "execute_result"
    }
   ],
   "source": [
    "SVG(ts2.draw_svg(size=(1000, 300), x_lim=[0, 1e5]))"
   ]
  },
  {
   "cell_type": "code",
   "execution_count": 4,
   "id": "269ee0e6",
   "metadata": {},
   "outputs": [
    {
     "data": {
      "image/svg+xml": [
       "<svg xmlns=\"http://www.w3.org/2000/svg\" xmlns:ev=\"http://www.w3.org/2001/xml-events\" xmlns:xlink=\"http://www.w3.org/1999/xlink\" baseProfile=\"full\" height=\"300\" version=\"1.1\" width=\"1000\"><defs><style type=\"text/css\"><![CDATA[.background path {fill: #808080; fill-opacity: 0}.background path:nth-child(odd) {fill-opacity: .1}.axes {font-size: 14px}.x-axis .tick .lab {font-weight: bold; dominant-baseline: hanging}.axes, .tree {font-size: 14px; text-anchor: middle}.axes line, .edge {stroke: black; fill: none}.y-axis .grid {stroke: #FAFAFA}.node > .sym {fill: black; stroke: none}.site > .sym {stroke: black}.mut text {fill: red; font-style: italic}.mut.extra text {fill: hotpink}.mut line {fill: none; stroke: none}.mut .sym {fill: none; stroke: red}.mut.extra .sym {stroke: hotpink}.node .mut .sym {stroke-width: 1.5px}.tree text, .tree-sequence text {dominant-baseline: central}.plotbox .lab.lft {text-anchor: end}.plotbox .lab.rgt {text-anchor: start}]]></style></defs><g class=\"tree-sequence\"><g class=\"background\"><path d=\"M20,0 l960,0 l0,238.2 l0,25 l0,5 l-960,0 l0,-5 l0,-25 l0,-238.2z\"/></g><g class=\"axes\"><g class=\"x-axis\"><g transform=\"translate(500 300)\"><text class=\"lab\" text-anchor=\"middle\" transform=\"translate(0 -11)\">Genome position</text></g><line x1=\"20\" x2=\"980\" y1=\"263.2\" y2=\"263.2\"/><g class=\"ticks\"><g class=\"tick\" transform=\"translate(20 263.2)\"><line x1=\"0\" x2=\"0\" y1=\"0\" y2=\"5\"/><g transform=\"translate(0 6)\"><text class=\"lab\">0</text></g></g><g class=\"tick\" transform=\"translate(980 263.2)\"><line x1=\"0\" x2=\"0\" y1=\"0\" y2=\"5\"/><g transform=\"translate(0 6)\"><text class=\"lab\">100000</text></g></g></g></g></g><g class=\"plotbox trees\"><g class=\"tree t0\" transform=\"translate(20 0)\"><g class=\"plotbox\"><g class=\"c2 node n10 p0 root\" transform=\"translate(599.792 26.8)\"><g class=\"a10 i0 leaf node n1 p0 sample\" transform=\"translate(263.542 194.6)\"><path class=\"edge\" d=\"M 0 0 V -194.6 H -263.542\"/><rect class=\"sym\" height=\"6\" width=\"6\" x=\"-3\" y=\"-3\"/><text class=\"lab\" transform=\"translate(0 11)\">1</text></g><g class=\"a10 c2 node n9 p0\" transform=\"translate(-263.542 116.871)\"><g class=\"a9 i0 leaf node n0 p0 sample\" transform=\"translate(-239.583 77.7294)\"><path class=\"edge\" d=\"M 0 0 V -77.7294 H 239.583\"/><rect class=\"sym\" height=\"6\" width=\"6\" x=\"-3\" y=\"-3\"/><text class=\"lab\" transform=\"translate(0 11)\">0</text></g><g class=\"a9 c2 node n8 p0\" transform=\"translate(239.583 36.5166)\"><g class=\"a8 i1 leaf node n3 p0 sample\" transform=\"translate(134.167 41.2128)\"><path class=\"edge\" d=\"M 0 0 V -41.2128 H -134.167\"/><rect class=\"sym\" height=\"6\" width=\"6\" x=\"-3\" y=\"-3\"/><text class=\"lab\" transform=\"translate(0 11)\">3</text></g><g class=\"a8 c2 node n7 p0\" transform=\"translate(-134.167 3.31176)\"><g class=\"a7 i2 leaf node n5 p0 sample\" transform=\"translate(115 37.901)\"><path class=\"edge\" d=\"M 0 0 V -37.901 H -115\"/><rect class=\"sym\" height=\"6\" width=\"6\" x=\"-3\" y=\"-3\"/><text class=\"lab\" transform=\"translate(0 11)\">5</text></g><g class=\"a7 c2 node n6 p0\" transform=\"translate(-115 10.9658)\"><g class=\"a6 i1 leaf node n2 p0 sample\" transform=\"translate(-76.6667 26.9352)\"><path class=\"edge\" d=\"M 0 0 V -26.9352 H 76.6667\"/><rect class=\"sym\" height=\"6\" width=\"6\" x=\"-3\" y=\"-3\"/><text class=\"lab\" transform=\"translate(0 11)\">2</text></g><g class=\"a6 i2 leaf node n4 p0 sample\" transform=\"translate(76.6667 26.9352)\"><path class=\"edge\" d=\"M 0 0 V -26.9352 H -76.6667\"/><rect class=\"sym\" height=\"6\" width=\"6\" x=\"-3\" y=\"-3\"/><text class=\"lab\" transform=\"translate(0 11)\">4</text></g><path class=\"edge\" d=\"M 0 0 V -10.9658 H 115\"/><circle class=\"sym\" cx=\"0\" cy=\"0\" r=\"3\"/><text class=\"lab lft\" transform=\"translate(-3 -7.0)\">6</text></g><path class=\"edge\" d=\"M 0 0 V -3.31176 H 134.167\"/><circle class=\"sym\" cx=\"0\" cy=\"0\" r=\"3\"/><text class=\"lab lft\" transform=\"translate(-3 -7.0)\">7</text></g><path class=\"edge\" d=\"M 0 0 V -36.5166 H -239.583\"/><circle class=\"sym\" cx=\"0\" cy=\"0\" r=\"3\"/><text class=\"lab rgt\" transform=\"translate(3 -7.0)\">8</text></g><path class=\"edge\" d=\"M 0 0 V -116.871 H 263.542\"/><circle class=\"sym\" cx=\"0\" cy=\"0\" r=\"3\"/><text class=\"lab lft\" transform=\"translate(-3 -7.0)\">9</text></g><circle class=\"sym\" cx=\"0\" cy=\"0\" r=\"3\"/><text class=\"lab\" transform=\"translate(0 -11)\">10</text></g></g></g></g></g></svg>"
      ],
      "text/plain": [
       "<IPython.core.display.SVG object>"
      ]
     },
     "execution_count": 4,
     "metadata": {},
     "output_type": "execute_result"
    }
   ],
   "source": [
    "sts = ts2.simplify()\n",
    "SVG(sts.draw_svg(size=(1000, 300), x_lim=[0, 1e5]))"
   ]
  },
  {
   "cell_type": "code",
   "execution_count": 5,
   "id": "7dcbcf5d",
   "metadata": {},
   "outputs": [
    {
     "name": "stdout",
     "output_type": "stream",
     "text": [
      "[10]\n"
     ]
    },
    {
     "data": {
      "image/svg+xml": [
       "<svg xmlns=\"http://www.w3.org/2000/svg\" xmlns:ev=\"http://www.w3.org/2001/xml-events\" xmlns:xlink=\"http://www.w3.org/1999/xlink\" baseProfile=\"full\" height=\"300\" version=\"1.1\" width=\"1000\"><defs><style type=\"text/css\"><![CDATA[.background path {fill: #808080; fill-opacity: 0}.background path:nth-child(odd) {fill-opacity: .1}.axes {font-size: 14px}.x-axis .tick .lab {font-weight: bold; dominant-baseline: hanging}.axes, .tree {font-size: 14px; text-anchor: middle}.axes line, .edge {stroke: black; fill: none}.y-axis .grid {stroke: #FAFAFA}.node > .sym {fill: black; stroke: none}.site > .sym {stroke: black}.mut text {fill: red; font-style: italic}.mut.extra text {fill: hotpink}.mut line {fill: none; stroke: none}.mut .sym {fill: none; stroke: red}.mut.extra .sym {stroke: hotpink}.node .mut .sym {stroke-width: 1.5px}.tree text, .tree-sequence text {dominant-baseline: central}.plotbox .lab.lft {text-anchor: end}.plotbox .lab.rgt {text-anchor: start}]]></style></defs><g class=\"tree-sequence\"><g class=\"background\"><path d=\"M20,0 l960,0 l0,238.2 l0,25 l0,5 l-960,0 l0,-5 l0,-25 l0,-238.2z\"/></g><g class=\"axes\"><g class=\"x-axis\"><g transform=\"translate(500 300)\"><text class=\"lab\" text-anchor=\"middle\" transform=\"translate(0 -11)\">Genome position</text></g><line x1=\"20\" x2=\"980\" y1=\"263.2\" y2=\"263.2\"/><g class=\"ticks\"><g class=\"tick\" transform=\"translate(20 263.2)\"><line x1=\"0\" x2=\"0\" y1=\"0\" y2=\"5\"/><g transform=\"translate(0 6)\"><text class=\"lab\">0</text></g></g><g class=\"tick\" transform=\"translate(980 263.2)\"><line x1=\"0\" x2=\"0\" y1=\"0\" y2=\"5\"/><g transform=\"translate(0 6)\"><text class=\"lab\">100000</text></g></g></g></g></g><g class=\"plotbox trees\"><g class=\"tree t0\" transform=\"translate(20 0)\"><g class=\"plotbox\"><g class=\"c2 node n10 p0 root\" transform=\"translate(599.792 26.8)\"><g class=\"a10 i0 leaf node n1 p0 sample\" transform=\"translate(263.542 194.6)\"><path class=\"edge\" d=\"M 0 0 V -194.6 H -263.542\"/><rect class=\"sym\" height=\"6\" width=\"6\" x=\"-3\" y=\"-3\"/><text class=\"lab\" transform=\"translate(0 11)\">1</text></g><g class=\"a10 c2 node n9 p0\" transform=\"translate(-263.542 116.871)\"><g class=\"a9 i0 leaf node n0 p0 sample\" transform=\"translate(-239.583 77.7294)\"><path class=\"edge\" d=\"M 0 0 V -77.7294 H 239.583\"/><rect class=\"sym\" height=\"6\" width=\"6\" x=\"-3\" y=\"-3\"/><text class=\"lab\" transform=\"translate(0 11)\">0</text></g><g class=\"a9 c2 node n8 p0\" transform=\"translate(239.583 36.5166)\"><g class=\"a8 i1 leaf node n3 p0 sample\" transform=\"translate(134.167 41.2128)\"><path class=\"edge\" d=\"M 0 0 V -41.2128 H -134.167\"/><rect class=\"sym\" height=\"6\" width=\"6\" x=\"-3\" y=\"-3\"/><text class=\"lab\" transform=\"translate(0 11)\">3</text></g><g class=\"a8 c2 node n7 p0\" transform=\"translate(-134.167 3.31176)\"><g class=\"a7 i2 leaf node n5 p0 sample\" transform=\"translate(115 37.901)\"><path class=\"edge\" d=\"M 0 0 V -37.901 H -115\"/><rect class=\"sym\" height=\"6\" width=\"6\" x=\"-3\" y=\"-3\"/><text class=\"lab\" transform=\"translate(0 11)\">5</text></g><g class=\"a7 c2 node n6 p0\" transform=\"translate(-115 10.9658)\"><g class=\"a6 i1 leaf node n2 p0 sample\" transform=\"translate(-76.6667 26.9352)\"><path class=\"edge\" d=\"M 0 0 V -26.9352 H 76.6667\"/><rect class=\"sym\" height=\"6\" width=\"6\" x=\"-3\" y=\"-3\"/><text class=\"lab\" transform=\"translate(0 11)\">2</text></g><g class=\"a6 i2 leaf node n4 p0 sample\" transform=\"translate(76.6667 26.9352)\"><path class=\"edge\" d=\"M 0 0 V -26.9352 H -76.6667\"/><rect class=\"sym\" height=\"6\" width=\"6\" x=\"-3\" y=\"-3\"/><text class=\"lab\" transform=\"translate(0 11)\">4</text></g><path class=\"edge\" d=\"M 0 0 V -10.9658 H 115\"/><circle class=\"sym\" cx=\"0\" cy=\"0\" r=\"3\"/><text class=\"lab lft\" transform=\"translate(-3 -7.0)\">6</text></g><path class=\"edge\" d=\"M 0 0 V -3.31176 H 134.167\"/><circle class=\"sym\" cx=\"0\" cy=\"0\" r=\"3\"/><text class=\"lab lft\" transform=\"translate(-3 -7.0)\">7</text></g><path class=\"edge\" d=\"M 0 0 V -36.5166 H -239.583\"/><circle class=\"sym\" cx=\"0\" cy=\"0\" r=\"3\"/><text class=\"lab rgt\" transform=\"translate(3 -7.0)\">8</text></g><path class=\"edge\" d=\"M 0 0 V -116.871 H 263.542\"/><circle class=\"sym\" cx=\"0\" cy=\"0\" r=\"3\"/><text class=\"lab lft\" transform=\"translate(-3 -7.0)\">9</text></g><circle class=\"sym\" cx=\"0\" cy=\"0\" r=\"3\"/><text class=\"lab\" transform=\"translate(0 -11)\">10</text></g></g></g></g></g></svg>"
      ],
      "text/plain": [
       "<IPython.core.display.SVG object>"
      ]
     },
     "execution_count": 5,
     "metadata": {},
     "output_type": "execute_result"
    }
   ],
   "source": [
    "ts1, n = extend_edges(sts)\n",
    "print(n)\n",
    "SVG(ts1.draw_svg(size=(1000, 300), x_lim=[0, 1e5]))"
   ]
  },
  {
   "cell_type": "markdown",
   "id": "ec5a1228",
   "metadata": {},
   "source": [
    "Our goal is to construct a function to measure the number of discrepancies between our inferred tree sequence $TS_1$ and the ground truth $TS_2$. For tree sequences $TS_1$ and $TS_2$ both of sequence length $L$, each have nodes at position $i$ in the genome, $x$ and $y$ respectively. From these nodes we count the number of samples which stem from them. We define these sets as $D_1(i,x)$ and $D_2(i,y)$. We count the number of descrepancies between the nodes $x$ and $y$ as their set difference, $|D_1(i,x)\\vartriangle D_2(i,y)|$. We define the $\\textbf{discrepancy number}$ between nodes $x$ and $y$ as \n",
    "$$ d(x,y) = \\sum_{i=0}^{L-1} |D_1(i,x)\\vartriangle D_2(i,y)|. $$\n",
    "Using this we generalize to find the number of discrepancies between a node $x$ and the ground truth $TS_2$,\n",
    "$$ d(x,TS_2) = \\inf_{y\\in TS_2.nodes()} d(x,y).$$\n",
    "Finally, to compute the number of discrepancies between tree sequences we use the function\n",
    "$$d(TS_1,TS_2) = \\sum_{x\\in TS_1.nodes()} d(x,TS_2)=\\sum_{x\\in TS_1.nodes()} \\inf_{y\\in TS_2.nodes()} d(x,y) = \\sum_{x\\in TS_1.nodes()} \\inf_{y\\in TS_2.nodes()} \\sum_{i=0}^{L-1} |D_1(i,x)\\vartriangle D_2(i,y)|,$$\n",
    "and call this the $\\textbf{discrepancy number}$ between $TS_1$ and $TS_2$."
   ]
  },
  {
   "cell_type": "code",
   "execution_count": 26,
   "id": "82aaea04",
   "metadata": {},
   "outputs": [],
   "source": [
    "def node_discrepancy(x, ts1, y, ts2):\n",
    "    # function to return the discrepancy number between two nodes, d(x,y)\n",
    "    dis = 0\n",
    "    for interval, t1, t2 in ts1.coiterate(ts2):\n",
    "        s = interval.span\n",
    "        Dx = set(t1.samples(x))\n",
    "        for z in t2.samples(y):\n",
    "            if z not in Dx:\n",
    "                dis += s\n",
    "    return dis\n",
    "\n",
    "def node_tree_discrepancy(x, ts1, ts2): # I tried to make the function faster, I am not sure if it does though\n",
    "    # function to return the discrepancy number between a node and tree sequence d(x,TS2)\n",
    "    dis = ts2.sequence_length\n",
    "    for y in range(ts2.num_nodes):\n",
    "        xydis = node_discrepancy(x, ts1, y, ts2)\n",
    "        if xydis < dis:\n",
    "            dis = xydis\n",
    "    \n",
    "    return dis # Perhaps we could also have this function also return a list of the nodes which give us the minimal discrepancy number\n",
    "\n",
    "def node_tree_discrepancy2(x, ts1, ts2):\n",
    "    dis = np.zeros(ts2.num_nodes)\n",
    "    for interval, t1, t2 in ts1.coiterate(ts2):\n",
    "        s = interval.span\n",
    "        Dx = set(t1.samples(x))\n",
    "        for y in t2.nodes():\n",
    "            n = len(set(t2.samples(y)) - Dx)\n",
    "            dis[y] += n * s\n",
    "    return np.min(dis)"
   ]
  },
  {
   "cell_type": "code",
   "execution_count": 28,
   "id": "c26959e7",
   "metadata": {},
   "outputs": [],
   "source": [
    "tsA = msprime.sim_ancestry(num_samples, population_size=1000, sequence_length=1e5,\n",
    "                           recombination_rate=1e-8, record_full_arg=True)\n",
    "tsB = msprime.sim_ancestry(num_samples, population_size=1000, sequence_length=1e5,\n",
    "                           recombination_rate=1e-8, record_full_arg=True)\n",
    "for j in range(10):\n",
    "    assert np.all(node_tree_discrepancy(j, tsA, tsA) == 0)\n",
    "    assert np.all(node_tree_discrepancy2(j, tsA, tsA) == 0)\n",
    "    assert np.allclose(\n",
    "        node_tree_discrepancy(j, tsA, tsB),\n",
    "        node_tree_discrepancy2(j, tsA, tsB)\n",
    "    )"
   ]
  },
  {
   "cell_type": "code",
   "execution_count": 29,
   "id": "ae39e156",
   "metadata": {},
   "outputs": [],
   "source": [
    "def discrepancy(ts1, ts2):\n",
    "    dis = 0\n",
    "    \n",
    "    for n in range(ts1.num_nodes):\n",
    "        dis += node_tree_discrepancy2(n,ts1,ts2)\n",
    "    return dis"
   ]
  },
  {
   "cell_type": "code",
   "execution_count": 10,
   "id": "12d65a47",
   "metadata": {},
   "outputs": [
    {
     "data": {
      "text/plain": [
       "0"
      ]
     },
     "execution_count": 10,
     "metadata": {},
     "output_type": "execute_result"
    }
   ],
   "source": [
    "discrepancy(ts1, ts2)"
   ]
  },
  {
   "cell_type": "markdown",
   "id": "dcff6936",
   "metadata": {},
   "source": [
    "Now we should run an experiment to see with our new metric the varying distribution of the disscrepancy number between the simulated tree sequence and its edge extended version."
   ]
  },
  {
   "cell_type": "code",
   "execution_count": 11,
   "id": "4c9ab304",
   "metadata": {},
   "outputs": [
    {
     "name": "stdout",
     "output_type": "stream",
     "text": [
      "number of samples = 3, length = 10000.0\n",
      " original discrepancy number = 0\n",
      "number of samples = 3, length = 100000.0\n",
      " original discrepancy number = 7494.0\n",
      "number of samples = 3, length = 1000000.0\n",
      " original discrepancy number = 1736.0\n"
     ]
    },
    {
     "ename": "KeyboardInterrupt",
     "evalue": "",
     "output_type": "error",
     "traceback": [
      "\u001b[0;31m---------------------------------------------------------------------------\u001b[0m",
      "\u001b[0;31mKeyboardInterrupt\u001b[0m                         Traceback (most recent call last)",
      "\u001b[0;32m/tmp/ipykernel_26399/1752222113.py\u001b[0m in \u001b[0;36m<module>\u001b[0;34m\u001b[0m\n\u001b[1;32m      7\u001b[0m         \u001b[0mext_sts\u001b[0m\u001b[0;34m,\u001b[0m \u001b[0m_\u001b[0m \u001b[0;34m=\u001b[0m \u001b[0mextend_edges\u001b[0m\u001b[0;34m(\u001b[0m\u001b[0msts\u001b[0m\u001b[0;34m)\u001b[0m\u001b[0;34m\u001b[0m\u001b[0;34m\u001b[0m\u001b[0m\n\u001b[1;32m      8\u001b[0m         \u001b[0;31m#dd = orig_discrepancy(ext_sts, ts)\u001b[0m\u001b[0;34m\u001b[0m\u001b[0;34m\u001b[0m\u001b[0m\n\u001b[0;32m----> 9\u001b[0;31m         \u001b[0md\u001b[0m \u001b[0;34m=\u001b[0m \u001b[0mdiscrepancy\u001b[0m\u001b[0;34m(\u001b[0m\u001b[0mext_sts\u001b[0m\u001b[0;34m,\u001b[0m \u001b[0mts\u001b[0m\u001b[0;34m)\u001b[0m\u001b[0;34m\u001b[0m\u001b[0;34m\u001b[0m\u001b[0m\n\u001b[0m\u001b[1;32m     10\u001b[0m         \u001b[0mprint\u001b[0m\u001b[0;34m(\u001b[0m\u001b[0;34mf'number of samples = {num_samples}, length = {L}\\n original discrepancy number = {d}'\u001b[0m\u001b[0;34m)\u001b[0m\u001b[0;34m\u001b[0m\u001b[0;34m\u001b[0m\u001b[0m\n",
      "\u001b[0;32m/tmp/ipykernel_26399/4261423183.py\u001b[0m in \u001b[0;36mdiscrepancy\u001b[0;34m(ts1, ts2)\u001b[0m\n\u001b[1;32m      3\u001b[0m \u001b[0;34m\u001b[0m\u001b[0m\n\u001b[1;32m      4\u001b[0m     \u001b[0;32mfor\u001b[0m \u001b[0mn\u001b[0m \u001b[0;32min\u001b[0m \u001b[0mrange\u001b[0m\u001b[0;34m(\u001b[0m\u001b[0mts1\u001b[0m\u001b[0;34m.\u001b[0m\u001b[0mnum_nodes\u001b[0m\u001b[0;34m)\u001b[0m\u001b[0;34m:\u001b[0m\u001b[0;34m\u001b[0m\u001b[0;34m\u001b[0m\u001b[0m\n\u001b[0;32m----> 5\u001b[0;31m         \u001b[0mdis\u001b[0m \u001b[0;34m+=\u001b[0m \u001b[0mnode_tree_discrepancy\u001b[0m\u001b[0;34m(\u001b[0m\u001b[0mn\u001b[0m\u001b[0;34m,\u001b[0m\u001b[0mts1\u001b[0m\u001b[0;34m,\u001b[0m\u001b[0mts2\u001b[0m\u001b[0;34m)\u001b[0m\u001b[0;34m\u001b[0m\u001b[0;34m\u001b[0m\u001b[0m\n\u001b[0m\u001b[1;32m      6\u001b[0m     \u001b[0;32mreturn\u001b[0m \u001b[0mdis\u001b[0m\u001b[0;34m\u001b[0m\u001b[0;34m\u001b[0m\u001b[0m\n",
      "\u001b[0;32m/tmp/ipykernel_26399/3153102206.py\u001b[0m in \u001b[0;36mnode_tree_discrepancy\u001b[0;34m(x, ts1, ts2)\u001b[0m\n\u001b[1;32m     14\u001b[0m     \u001b[0mdis\u001b[0m \u001b[0;34m=\u001b[0m \u001b[0mts2\u001b[0m\u001b[0;34m.\u001b[0m\u001b[0msequence_length\u001b[0m \u001b[0;31m# I need some large number here\u001b[0m\u001b[0;34m\u001b[0m\u001b[0;34m\u001b[0m\u001b[0m\n\u001b[1;32m     15\u001b[0m     \u001b[0;32mfor\u001b[0m \u001b[0my\u001b[0m \u001b[0;32min\u001b[0m \u001b[0mrange\u001b[0m\u001b[0;34m(\u001b[0m\u001b[0mts2\u001b[0m\u001b[0;34m.\u001b[0m\u001b[0mnum_nodes\u001b[0m\u001b[0;34m)\u001b[0m\u001b[0;34m:\u001b[0m\u001b[0;34m\u001b[0m\u001b[0;34m\u001b[0m\u001b[0m\n\u001b[0;32m---> 16\u001b[0;31m         \u001b[0mxydis\u001b[0m \u001b[0;34m=\u001b[0m \u001b[0mnode_discrepancy\u001b[0m\u001b[0;34m(\u001b[0m\u001b[0mx\u001b[0m\u001b[0;34m,\u001b[0m\u001b[0mts1\u001b[0m\u001b[0;34m,\u001b[0m\u001b[0my\u001b[0m\u001b[0;34m,\u001b[0m\u001b[0mts2\u001b[0m\u001b[0;34m)\u001b[0m\u001b[0;34m\u001b[0m\u001b[0;34m\u001b[0m\u001b[0m\n\u001b[0m\u001b[1;32m     17\u001b[0m         \u001b[0;32mif\u001b[0m \u001b[0mxydis\u001b[0m \u001b[0;34m<\u001b[0m \u001b[0mdis\u001b[0m\u001b[0;34m:\u001b[0m\u001b[0;34m\u001b[0m\u001b[0;34m\u001b[0m\u001b[0m\n\u001b[1;32m     18\u001b[0m             \u001b[0mdis\u001b[0m \u001b[0;34m=\u001b[0m \u001b[0mxydis\u001b[0m\u001b[0;34m\u001b[0m\u001b[0;34m\u001b[0m\u001b[0m\n",
      "\u001b[0;32m/tmp/ipykernel_26399/3153102206.py\u001b[0m in \u001b[0;36mnode_discrepancy\u001b[0;34m(x, ts1, y, ts2)\u001b[0m\n\u001b[1;32m      2\u001b[0m     \u001b[0;31m# function to return the discrepancy number between two nodes, d(x,y)\u001b[0m\u001b[0;34m\u001b[0m\u001b[0;34m\u001b[0m\u001b[0m\n\u001b[1;32m      3\u001b[0m     \u001b[0mdis\u001b[0m \u001b[0;34m=\u001b[0m \u001b[0;36m0\u001b[0m\u001b[0;34m\u001b[0m\u001b[0;34m\u001b[0m\u001b[0m\n\u001b[0;32m----> 4\u001b[0;31m     \u001b[0;32mfor\u001b[0m \u001b[0minterval\u001b[0m\u001b[0;34m,\u001b[0m \u001b[0mt1\u001b[0m\u001b[0;34m,\u001b[0m \u001b[0mt2\u001b[0m \u001b[0;32min\u001b[0m \u001b[0mts1\u001b[0m\u001b[0;34m.\u001b[0m\u001b[0mcoiterate\u001b[0m\u001b[0;34m(\u001b[0m\u001b[0mts2\u001b[0m\u001b[0;34m)\u001b[0m\u001b[0;34m:\u001b[0m\u001b[0;34m\u001b[0m\u001b[0;34m\u001b[0m\u001b[0m\n\u001b[0m\u001b[1;32m      5\u001b[0m         \u001b[0ms\u001b[0m \u001b[0;34m=\u001b[0m \u001b[0minterval\u001b[0m\u001b[0;34m.\u001b[0m\u001b[0mspan\u001b[0m\u001b[0;34m\u001b[0m\u001b[0;34m\u001b[0m\u001b[0m\n\u001b[1;32m      6\u001b[0m         \u001b[0mDx\u001b[0m \u001b[0;34m=\u001b[0m \u001b[0mset\u001b[0m\u001b[0;34m(\u001b[0m\u001b[0mt1\u001b[0m\u001b[0;34m.\u001b[0m\u001b[0msamples\u001b[0m\u001b[0;34m(\u001b[0m\u001b[0mx\u001b[0m\u001b[0;34m)\u001b[0m\u001b[0;34m)\u001b[0m\u001b[0;34m\u001b[0m\u001b[0;34m\u001b[0m\u001b[0m\n",
      "\u001b[0;32m~/.local/lib/python3.9/site-packages/tskit-0.5.2.dev0-py3.9-linux-x86_64.egg/tskit/trees.py\u001b[0m in \u001b[0;36mcoiterate\u001b[0;34m(self, other, **kwargs)\u001b[0m\n\u001b[1;32m   4868\u001b[0m             \u001b[0mleft\u001b[0m \u001b[0;34m=\u001b[0m \u001b[0mright\u001b[0m\u001b[0;34m\u001b[0m\u001b[0;34m\u001b[0m\u001b[0m\n\u001b[1;32m   4869\u001b[0m             \u001b[0mright\u001b[0m \u001b[0;34m=\u001b[0m \u001b[0mmin\u001b[0m\u001b[0;34m(\u001b[0m\u001b[0mtree1\u001b[0m\u001b[0;34m.\u001b[0m\u001b[0minterval\u001b[0m\u001b[0;34m.\u001b[0m\u001b[0mright\u001b[0m\u001b[0;34m,\u001b[0m \u001b[0mtree2\u001b[0m\u001b[0;34m.\u001b[0m\u001b[0minterval\u001b[0m\u001b[0;34m.\u001b[0m\u001b[0mright\u001b[0m\u001b[0;34m)\u001b[0m\u001b[0;34m\u001b[0m\u001b[0;34m\u001b[0m\u001b[0m\n\u001b[0;32m-> 4870\u001b[0;31m             \u001b[0;32myield\u001b[0m \u001b[0mInterval\u001b[0m\u001b[0;34m(\u001b[0m\u001b[0mleft\u001b[0m\u001b[0;34m,\u001b[0m \u001b[0mright\u001b[0m\u001b[0;34m)\u001b[0m\u001b[0;34m,\u001b[0m \u001b[0mtree1\u001b[0m\u001b[0;34m,\u001b[0m \u001b[0mtree2\u001b[0m\u001b[0;34m\u001b[0m\u001b[0;34m\u001b[0m\u001b[0m\n\u001b[0m\u001b[1;32m   4871\u001b[0m             \u001b[0;31m# Advance\u001b[0m\u001b[0;34m\u001b[0m\u001b[0;34m\u001b[0m\u001b[0m\n\u001b[1;32m   4872\u001b[0m             \u001b[0;32mif\u001b[0m \u001b[0mtree1\u001b[0m\u001b[0;34m.\u001b[0m\u001b[0minterval\u001b[0m\u001b[0;34m.\u001b[0m\u001b[0mright\u001b[0m \u001b[0;34m==\u001b[0m \u001b[0mright\u001b[0m\u001b[0;34m:\u001b[0m\u001b[0;34m\u001b[0m\u001b[0;34m\u001b[0m\u001b[0m\n",
      "\u001b[0;32m<string>\u001b[0m in \u001b[0;36m<lambda>\u001b[0;34m(_cls, left, right)\u001b[0m\n",
      "\u001b[0;31mKeyboardInterrupt\u001b[0m: "
     ]
    }
   ],
   "source": [
    "for num_samples in [3, 5,7,9]:\n",
    "    for L in [1e4, 1e5, 1e6,1e7]:\n",
    "        ts = msprime.sim_ancestry(num_samples, population_size=1000, sequence_length=L,\n",
    "                                  recombination_rate=1e-8, record_full_arg=True)\n",
    "        sts = ts.simplify()\n",
    "        \n",
    "        ext_sts, _ = extend_edges(sts)\n",
    "        #dd = orig_discrepancy(ext_sts, ts)\n",
    "        d = discrepancy(ext_sts, ts)\n",
    "        print(f'number of samples = {num_samples}, length = {L}\\n original discrepancy number = {d}')"
   ]
  },
  {
   "cell_type": "markdown",
   "id": "39906b87",
   "metadata": {},
   "source": [
    "# TODO: explain what happens here"
   ]
  },
  {
   "cell_type": "code",
   "execution_count": 40,
   "id": "c208dbe5",
   "metadata": {},
   "outputs": [],
   "source": [
    "def node_tree_discrepancy3(x, ts1, ts2):\n",
    "    dis = np.zeros(ts2.num_nodes)\n",
    "    for interval, t1, t2 in ts1.coiterate(ts2):\n",
    "        s = interval.span\n",
    "        # note that Dx might not have changed since the last tree\n",
    "        Dx = set(t1.samples(x))\n",
    "        if len(Dx) > 1:\n",
    "            y = t2.mrca(*list(Dx))\n",
    "            dis[y] += (set(t2.samples(y)) == Dx) * s\n",
    "    return np.min(ts1.sequence_length - dis)"
   ]
  },
  {
   "cell_type": "code",
   "execution_count": 15,
   "id": "ad44a39a",
   "metadata": {},
   "outputs": [],
   "source": [
    "def discrepancy3(ts1, ts2):\n",
    "    dis = 0\n",
    "    \n",
    "    for n in range(ts1.num_nodes):\n",
    "        dis += node_tree_discrepancy3(n,ts1,ts2)\n",
    "    return dis"
   ]
  },
  {
   "cell_type": "markdown",
   "id": "244446fa",
   "metadata": {},
   "source": [
    "TODO:\n",
    "\n",
    "1. write down the math for this new definition\n",
    "2. IS THIS RIGHT, EVEN?\n",
    "3. check whether dis(ts1, ts2) = dis(ts2, ts1) = 0 then ts1 == ts2?\n",
    "4. make a plot of runtime of dis( ) as a function of number of nodes? of trees?\n"
   ]
  },
  {
   "cell_type": "markdown",
   "id": "71ca9c57",
   "metadata": {},
   "source": [
    "### 1. New Definition\n",
    "The computation time to compute our previous metric scales with $n^2$ where $n$ is the number of nodes in $TS_2$. This drags runtime even with tree sequences with length $10^7$. To mitigate this we are tweaking our definition of our metric to try and minimize computation time. We rewrite our function representing the discrepancy between a node $x\\in TS_1$ and $TS_2$, and do so by trying to find similarities between the tree sequences. For a node $x$ we compute $D_1(i,x)$ which is the set of descendent samples of $x$. If $|D_1(i,x)|>1$ we then look for the most recent common anscestors (mrca) of $D_1(i,x)$ in $TS_2$ and we call this node $y$. We then check if $D_1(i,x) = D_2(i,y)$ as sets and if this is true then we set $d(x,y)=1$. This helps us define our node-tree discrepancy function as\n",
    "$$d(x,TS_2) = \\min \\{L_2 - d(x,y)\\cdot l_i\\},$$\n",
    "where $L_2$ is the length of $TS_2$, and $l_i$ is the length of the interval between the coiteration of trees between $TS_1$ and $TS_2$ where $y\\in t2$ and $x\\in t1$. (This could be written better). $\\newline$ \n",
    "Additionally I think there should be some scaling involved, however we have not fully thought of any good options for this."
   ]
  },
  {
   "cell_type": "markdown",
   "id": "cf059448",
   "metadata": {},
   "source": [
    "### 2. Is this even right? \n",
    "I am not fully sure that `node_tree_discrepancy3` is entirely correct. I think we want to find similarities between $x$ and $y$ where `y=t2.mrca(*Dx)` and $Dx = D_1(treeindex, x)$. Were running a for loop over the coiteration between TS1 and TS2 and so each tuple we compute `Dx` and we find $y$ if `len(Dx)>1`. I think we should be summing over all nonzero elements in `dis` and then subtract it from the length of TS2. I think this would better track the dissimilarity between the tree sequences as we would be tracking similarities of node $x$ over all of the trees it is in instead of just one tree in a particular part of the coiteration (granted I could be really misinterpretting what this coiteration function does). Additionally, if the approach I am suggesting is given we would also have to account for is `len(Dx)=1`. This could be done by checking in `t2` if there exists a node with just that sample as is only descendant. I will attempt to write the function below."
   ]
  },
  {
   "cell_type": "code",
   "execution_count": 51,
   "id": "7f05361f",
   "metadata": {},
   "outputs": [],
   "source": [
    "def node_tree_discrepancy4(x, ts1, ts2):\n",
    "    dis = np.zeros(ts2.num_nodes)\n",
    "    \n",
    "    for interval, t1, t2 in ts1.coiterate(ts2):\n",
    "        s = interval.span\n",
    "        \n",
    "        Dx = set(t1.samples(x))\n",
    "        if len(Dx) > 1:\n",
    "            y = t2.mrca(*list(Dx))\n",
    "            Dy = set(t2.samples(y))\n",
    "            dis[y] = (Dy == Dx)*s\n",
    "        if len(Dx) == 1:\n",
    "            y = t2.parent(list(Dx)[0])\n",
    "            Dy = set(t2.samples(y))\n",
    "            dis[y] = (Dy == Dx)*s\n",
    "    return ts2.sequence_length - np.sum(dis)"
   ]
  },
  {
   "cell_type": "code",
   "execution_count": 45,
   "id": "cf0f6ce5",
   "metadata": {},
   "outputs": [],
   "source": [
    "def discrepancy4(ts1, ts2):\n",
    "    dis = 0\n",
    "    \n",
    "    for n in range(ts1.num_nodes):\n",
    "        dis += node_tree_discrepancy4(n,ts1,ts2)\n",
    "    return dis"
   ]
  },
  {
   "cell_type": "markdown",
   "id": "46f42cc1",
   "metadata": {},
   "source": [
    "### 3. Check $d(TS_1,TS_2) = d(TS_2,TS_1) = 0 \\Longrightarrow TS_1=TS_2$, or even $d(TS_1,TS_2)=0 \\Longrightarrow TS_1\\subset TS_2$.\n",
    "Suppose that $d(TS_1,TS_2)=d(TS_2,TS_1)=0$. Then we eventually do the math to make this check."
   ]
  },
  {
   "cell_type": "markdown",
   "id": "42a3c836",
   "metadata": {},
   "source": [
    "### 4. Make a plot of runtime of $d(TS_1,TS_2)$ as a function of number of nodes/trees/both.\n",
    "TBD"
   ]
  },
  {
   "cell_type": "code",
   "execution_count": 52,
   "id": "9834c740",
   "metadata": {},
   "outputs": [
    {
     "ename": "TypeError",
     "evalue": "mrca() takes 3 positional arguments but 4 were given",
     "output_type": "error",
     "traceback": [
      "\u001b[1;31m---------------------------------------------------------------------------\u001b[0m",
      "\u001b[1;31mTypeError\u001b[0m                                 Traceback (most recent call last)",
      "\u001b[1;32m~\\AppData\\Local\\Temp/ipykernel_19108/4098177053.py\u001b[0m in \u001b[0;36m<module>\u001b[1;34m\u001b[0m\n\u001b[0;32m      7\u001b[0m \u001b[1;33m\u001b[0m\u001b[0m\n\u001b[0;32m      8\u001b[0m         \u001b[0mext_sts\u001b[0m\u001b[1;33m,\u001b[0m \u001b[0m_\u001b[0m \u001b[1;33m=\u001b[0m \u001b[0mextend_edges\u001b[0m\u001b[1;33m(\u001b[0m\u001b[0msts\u001b[0m\u001b[1;33m)\u001b[0m\u001b[1;33m\u001b[0m\u001b[1;33m\u001b[0m\u001b[0m\n\u001b[1;32m----> 9\u001b[1;33m         \u001b[0md\u001b[0m \u001b[1;33m=\u001b[0m \u001b[0mdiscrepancy4\u001b[0m\u001b[1;33m(\u001b[0m\u001b[0mext_sts\u001b[0m\u001b[1;33m,\u001b[0m \u001b[0mts\u001b[0m\u001b[1;33m)\u001b[0m\u001b[1;33m\u001b[0m\u001b[1;33m\u001b[0m\u001b[0m\n\u001b[0m\u001b[0;32m     10\u001b[0m         \u001b[0mprint\u001b[0m\u001b[1;33m(\u001b[0m\u001b[1;34mf'number of samples = {num_samples}, length = {L}\\n original discrepancy number = {d}'\u001b[0m\u001b[1;33m)\u001b[0m\u001b[1;33m\u001b[0m\u001b[1;33m\u001b[0m\u001b[0m\n",
      "\u001b[1;32m~\\AppData\\Local\\Temp/ipykernel_19108/1885461483.py\u001b[0m in \u001b[0;36mdiscrepancy4\u001b[1;34m(ts1, ts2)\u001b[0m\n\u001b[0;32m      3\u001b[0m \u001b[1;33m\u001b[0m\u001b[0m\n\u001b[0;32m      4\u001b[0m     \u001b[1;32mfor\u001b[0m \u001b[0mn\u001b[0m \u001b[1;32min\u001b[0m \u001b[0mrange\u001b[0m\u001b[1;33m(\u001b[0m\u001b[0mts1\u001b[0m\u001b[1;33m.\u001b[0m\u001b[0mnum_nodes\u001b[0m\u001b[1;33m)\u001b[0m\u001b[1;33m:\u001b[0m\u001b[1;33m\u001b[0m\u001b[1;33m\u001b[0m\u001b[0m\n\u001b[1;32m----> 5\u001b[1;33m         \u001b[0mdis\u001b[0m \u001b[1;33m+=\u001b[0m \u001b[0mnode_tree_discrepancy4\u001b[0m\u001b[1;33m(\u001b[0m\u001b[0mn\u001b[0m\u001b[1;33m,\u001b[0m\u001b[0mts1\u001b[0m\u001b[1;33m,\u001b[0m\u001b[0mts2\u001b[0m\u001b[1;33m)\u001b[0m\u001b[1;33m\u001b[0m\u001b[1;33m\u001b[0m\u001b[0m\n\u001b[0m\u001b[0;32m      6\u001b[0m     \u001b[1;32mreturn\u001b[0m \u001b[0mdis\u001b[0m\u001b[1;33m\u001b[0m\u001b[1;33m\u001b[0m\u001b[0m\n",
      "\u001b[1;32m~\\AppData\\Local\\Temp/ipykernel_19108/926695842.py\u001b[0m in \u001b[0;36mnode_tree_discrepancy4\u001b[1;34m(x, ts1, ts2)\u001b[0m\n\u001b[0;32m      7\u001b[0m         \u001b[0mDx\u001b[0m \u001b[1;33m=\u001b[0m \u001b[0mset\u001b[0m\u001b[1;33m(\u001b[0m\u001b[0mt1\u001b[0m\u001b[1;33m.\u001b[0m\u001b[0msamples\u001b[0m\u001b[1;33m(\u001b[0m\u001b[0mx\u001b[0m\u001b[1;33m)\u001b[0m\u001b[1;33m)\u001b[0m\u001b[1;33m\u001b[0m\u001b[1;33m\u001b[0m\u001b[0m\n\u001b[0;32m      8\u001b[0m         \u001b[1;32mif\u001b[0m \u001b[0mlen\u001b[0m\u001b[1;33m(\u001b[0m\u001b[0mDx\u001b[0m\u001b[1;33m)\u001b[0m \u001b[1;33m>\u001b[0m \u001b[1;36m1\u001b[0m\u001b[1;33m:\u001b[0m\u001b[1;33m\u001b[0m\u001b[1;33m\u001b[0m\u001b[0m\n\u001b[1;32m----> 9\u001b[1;33m             \u001b[0my\u001b[0m \u001b[1;33m=\u001b[0m \u001b[0mt2\u001b[0m\u001b[1;33m.\u001b[0m\u001b[0mmrca\u001b[0m\u001b[1;33m(\u001b[0m\u001b[1;33m*\u001b[0m\u001b[0mlist\u001b[0m\u001b[1;33m(\u001b[0m\u001b[0mDx\u001b[0m\u001b[1;33m)\u001b[0m\u001b[1;33m)\u001b[0m\u001b[1;33m\u001b[0m\u001b[1;33m\u001b[0m\u001b[0m\n\u001b[0m\u001b[0;32m     10\u001b[0m             \u001b[0mDy\u001b[0m \u001b[1;33m=\u001b[0m \u001b[0mset\u001b[0m\u001b[1;33m(\u001b[0m\u001b[0mt2\u001b[0m\u001b[1;33m.\u001b[0m\u001b[0msamples\u001b[0m\u001b[1;33m(\u001b[0m\u001b[0my\u001b[0m\u001b[1;33m)\u001b[0m\u001b[1;33m)\u001b[0m\u001b[1;33m\u001b[0m\u001b[1;33m\u001b[0m\u001b[0m\n\u001b[0;32m     11\u001b[0m             \u001b[0mdis\u001b[0m\u001b[1;33m[\u001b[0m\u001b[0my\u001b[0m\u001b[1;33m]\u001b[0m \u001b[1;33m=\u001b[0m \u001b[1;33m(\u001b[0m\u001b[0mDy\u001b[0m \u001b[1;33m==\u001b[0m \u001b[0mDx\u001b[0m\u001b[1;33m)\u001b[0m\u001b[1;33m*\u001b[0m\u001b[0ms\u001b[0m\u001b[1;33m\u001b[0m\u001b[1;33m\u001b[0m\u001b[0m\n",
      "\u001b[1;31mTypeError\u001b[0m: mrca() takes 3 positional arguments but 4 were given"
     ]
    }
   ],
   "source": [
    "' I am very confused why this wont run for me. mrca should be able to take more than 3 arguments correct? '\n",
    "for num_samples in [3, 5,7,9]:\n",
    "    for L in [1e4, 1e5, 1e6,1e7]:\n",
    "        ts = msprime.sim_ancestry(num_samples, population_size=1000, sequence_length=L,\n",
    "                                  recombination_rate=1e-8, record_full_arg=True)\n",
    "        sts = ts.simplify()\n",
    "        \n",
    "        ext_sts, _ = extend_edges(sts)\n",
    "        d = discrepancy4(ext_sts, ts)\n",
    "        print(f'number of samples = {num_samples}, length = {L}\\n original discrepancy number = {d}')"
   ]
  },
  {
   "cell_type": "code",
   "execution_count": null,
   "id": "1dac40a0",
   "metadata": {},
   "outputs": [],
   "source": []
  }
 ],
 "metadata": {
  "kernelspec": {
   "display_name": "Python 3 (ipykernel)",
   "language": "python",
   "name": "python3"
  },
  "language_info": {
   "codemirror_mode": {
    "name": "ipython",
    "version": 3
   },
   "file_extension": ".py",
   "mimetype": "text/x-python",
   "name": "python",
   "nbconvert_exporter": "python",
   "pygments_lexer": "ipython3",
   "version": "3.9.7"
  }
 },
 "nbformat": 4,
 "nbformat_minor": 5
}
