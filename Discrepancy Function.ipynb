{
 "cells": [
  {
   "cell_type": "code",
   "execution_count": 4,
   "id": "e73285df",
   "metadata": {},
   "outputs": [],
   "source": [
    "import msprime, tskit\n",
    "from IPython.display import SVG\n",
    "import numpy as np\n",
    "import matplotlib.pyplot as plt\n",
    "from algorithm import *"
   ]
  },
  {
   "cell_type": "code",
   "execution_count": 5,
   "id": "5e20039d",
   "metadata": {},
   "outputs": [],
   "source": [
    "ts2 = msprime.sim_ancestry(3, population_size=100, sequence_length=1e5, recombination_rate=1e-8,\n",
    "                         record_full_arg=True)"
   ]
  },
  {
   "cell_type": "code",
   "execution_count": 6,
   "id": "cdc9461b",
   "metadata": {},
   "outputs": [
    {
     "data": {
      "image/svg+xml": [
       "<svg xmlns=\"http://www.w3.org/2000/svg\" xmlns:ev=\"http://www.w3.org/2001/xml-events\" xmlns:xlink=\"http://www.w3.org/1999/xlink\" baseProfile=\"full\" height=\"300\" version=\"1.1\" width=\"1000\"><defs><style type=\"text/css\"><![CDATA[.background path {fill: #808080; fill-opacity: 0}.background path:nth-child(odd) {fill-opacity: .1}.axes {font-size: 14px}.x-axis .tick .lab {font-weight: bold; dominant-baseline: hanging}.axes, .tree {font-size: 14px; text-anchor: middle}.axes line, .edge {stroke: black; fill: none}.y-axis .grid {stroke: #FAFAFA}.node > .sym {fill: black; stroke: none}.site > .sym {stroke: black}.mut text {fill: red; font-style: italic}.mut.extra text {fill: hotpink}.mut line {fill: none; stroke: none}.mut .sym {fill: none; stroke: red}.mut.extra .sym {stroke: hotpink}.node .mut .sym {stroke-width: 1.5px}.tree text, .tree-sequence text {dominant-baseline: central}.plotbox .lab.lft {text-anchor: end}.plotbox .lab.rgt {text-anchor: start}]]></style></defs><g class=\"tree-sequence\"><g class=\"background\"><path d=\"M20,0 l320,0 l0,238.2 l-255.651,25 l0,5 l-64.3488,0 l0,-5 l0,-25 l0,-238.2z\"/><path d=\"M340,0 l320,0 l0,238.2 l-145.514,25 l0,5 l-430.138,0 l0,-5 l255.651,-25 l0,-238.2z\"/><path d=\"M660,0 l320,0 l0,238.2 l0,25 l0,5 l-465.514,0 l0,-5 l145.514,-25 l0,-238.2z\"/></g><g class=\"axes\"><g class=\"x-axis\"><g transform=\"translate(500 300)\"><text class=\"lab\" text-anchor=\"middle\" transform=\"translate(0 -11)\">Genome position</text></g><line x1=\"20\" x2=\"980\" y1=\"263.2\" y2=\"263.2\"/><g class=\"ticks\"><g class=\"tick\" transform=\"translate(20 263.2)\"><line x1=\"0\" x2=\"0\" y1=\"0\" y2=\"5\"/><g transform=\"translate(0 6)\"><text class=\"lab\">0</text></g></g><g class=\"tick\" transform=\"translate(84.3488 263.2)\"><line x1=\"0\" x2=\"0\" y1=\"0\" y2=\"5\"/><g transform=\"translate(0 6)\"><text class=\"lab\">6703</text></g></g><g class=\"tick\" transform=\"translate(514.486 263.2)\"><line x1=\"0\" x2=\"0\" y1=\"0\" y2=\"5\"/><g transform=\"translate(0 6)\"><text class=\"lab\">51509</text></g></g><g class=\"tick\" transform=\"translate(980 263.2)\"><line x1=\"0\" x2=\"0\" y1=\"0\" y2=\"5\"/><g transform=\"translate(0 6)\"><text class=\"lab\">100000</text></g></g></g></g></g><g class=\"plotbox trees\"><g class=\"tree t0\" transform=\"translate(20 0)\"><g class=\"plotbox\"><g class=\"c2 node n16 p0 root\" transform=\"translate(203.75 26.8)\"><g class=\"a16 c1 node n14 p0\" transform=\"translate(72.9167 71.3607)\"><g class=\"a14 c1 node n8 p0\" transform=\"translate(0.0 83.9526)\"><g class=\"a8 i0 leaf node n1 p0 sample\" transform=\"translate(0.0 39.2867)\"><path class=\"edge\" d=\"M 0 0 V -39.2867 H 0.0\"/><rect class=\"sym\" height=\"6\" width=\"6\" x=\"-3\" y=\"-3\"/><text class=\"lab\" transform=\"translate(0 11)\">1</text></g><path class=\"edge\" d=\"M 0 0 V -83.9526 H 0.0\"/><circle class=\"sym\" cx=\"0\" cy=\"0\" r=\"3\"/><text class=\"lab lft\" transform=\"translate(-3 -7.0)\">8</text></g><path class=\"edge\" d=\"M 0 0 V -71.3607 H -72.9167\"/><circle class=\"sym\" cx=\"0\" cy=\"0\" r=\"3\"/><text class=\"lab rgt\" transform=\"translate(3 -7.0)\">14</text></g><g class=\"a16 c1 node n15 p0\" transform=\"translate(-72.9167 56.585)\"><g class=\"a15 c1 node n12 p0\" transform=\"translate(0.0 18.9584)\"><g class=\"a12 c2 node n11 p0\" transform=\"translate(0.0 34.2652)\"><g class=\"a11 c2 node n6 p0\" transform=\"translate(-64.1667 81.8168)\"><g class=\"a6 i0 leaf node n0 p0 sample\" transform=\"translate(-23.3333 2.97458)\"><path class=\"edge\" d=\"M 0 0 V -2.97458 H 23.3333\"/><rect class=\"sym\" height=\"6\" width=\"6\" x=\"-3\" y=\"-3\"/><text class=\"lab\" transform=\"translate(0 11)\">0</text></g><g class=\"a6 i2 leaf node n5 p0 sample\" transform=\"translate(23.3333 2.97458)\"><path class=\"edge\" d=\"M 0 0 V -2.97458 H -23.3333\"/><rect class=\"sym\" height=\"6\" width=\"6\" x=\"-3\" y=\"-3\"/><text class=\"lab\" transform=\"translate(0 11)\">5</text></g><path class=\"edge\" d=\"M 0 0 V -81.8168 H 64.1667\"/><circle class=\"sym\" cx=\"0\" cy=\"0\" r=\"3\"/><text class=\"lab lft\" transform=\"translate(-3 -7.0)\">6</text></g><g class=\"a11 c2 node n10 p0\" transform=\"translate(64.1667 14.9423)\"><g class=\"a10 i1 leaf node n3 p0 sample\" transform=\"translate(35 69.8491)\"><path class=\"edge\" d=\"M 0 0 V -69.8491 H -35\"/><rect class=\"sym\" height=\"6\" width=\"6\" x=\"-3\" y=\"-3\"/><text class=\"lab\" transform=\"translate(0 11)\">3</text></g><g class=\"a10 c2 node n7 p0\" transform=\"translate(-35 51.2844)\"><g class=\"a7 i1 leaf node n2 p0 sample\" transform=\"translate(-23.3333 18.5646)\"><path class=\"edge\" d=\"M 0 0 V -18.5646 H 23.3333\"/><rect class=\"sym\" height=\"6\" width=\"6\" x=\"-3\" y=\"-3\"/><text class=\"lab\" transform=\"translate(0 11)\">2</text></g><g class=\"a7 i2 leaf node n4 p0 sample\" transform=\"translate(23.3333 18.5646)\"><path class=\"edge\" d=\"M 0 0 V -18.5646 H -23.3333\"/><rect class=\"sym\" height=\"6\" width=\"6\" x=\"-3\" y=\"-3\"/><text class=\"lab\" transform=\"translate(0 11)\">4</text></g><path class=\"edge\" d=\"M 0 0 V -51.2844 H 35\"/><circle class=\"sym\" cx=\"0\" cy=\"0\" r=\"3\"/><text class=\"lab lft\" transform=\"translate(-3 -7.0)\">7</text></g><path class=\"edge\" d=\"M 0 0 V -14.9423 H -64.1667\"/><circle class=\"sym\" cx=\"0\" cy=\"0\" r=\"3\"/><text class=\"lab rgt\" transform=\"translate(3 -7.0)\">10</text></g><path class=\"edge\" d=\"M 0 0 V -34.2652 H 0.0\"/><circle class=\"sym\" cx=\"0\" cy=\"0\" r=\"3\"/><text class=\"lab lft\" transform=\"translate(-3 -7.0)\">11</text></g><path class=\"edge\" d=\"M 0 0 V -18.9584 H 0.0\"/><circle class=\"sym\" cx=\"0\" cy=\"0\" r=\"3\"/><text class=\"lab lft\" transform=\"translate(-3 -7.0)\">12</text></g><path class=\"edge\" d=\"M 0 0 V -56.585 H 72.9167\"/><circle class=\"sym\" cx=\"0\" cy=\"0\" r=\"3\"/><text class=\"lab lft\" transform=\"translate(-3 -7.0)\">15</text></g><circle class=\"sym\" cx=\"0\" cy=\"0\" r=\"3\"/><text class=\"lab\" transform=\"translate(0 -11)\">16</text></g></g></g><g class=\"tree t1\" transform=\"translate(340 0)\"><g class=\"plotbox\"><g class=\"c2 node n14 p0 root\" transform=\"translate(203.75 98.1607)\"><g class=\"a14 c1 node n8 p0\" transform=\"translate(72.9167 83.9526)\"><g class=\"a8 i0 leaf node n1 p0 sample\" transform=\"translate(0.0 39.2867)\"><path class=\"edge\" d=\"M 0 0 V -39.2867 H 0.0\"/><rect class=\"sym\" height=\"6\" width=\"6\" x=\"-3\" y=\"-3\"/><text class=\"lab\" transform=\"translate(0 11)\">1</text></g><path class=\"edge\" d=\"M 0 0 V -83.9526 H -72.9167\"/><circle class=\"sym\" cx=\"0\" cy=\"0\" r=\"3\"/><text class=\"lab rgt\" transform=\"translate(3 -7.0)\">8</text></g><g class=\"a14 c1 node n13 p0\" transform=\"translate(-72.9167 4.18269)\"><g class=\"a13 c2 node n11 p0\" transform=\"translate(0.0 34.2652)\"><g class=\"a11 c2 node n6 p0\" transform=\"translate(-64.1667 81.8168)\"><g class=\"a6 i0 leaf node n0 p0 sample\" transform=\"translate(-23.3333 2.97458)\"><path class=\"edge\" d=\"M 0 0 V -2.97458 H 23.3333\"/><rect class=\"sym\" height=\"6\" width=\"6\" x=\"-3\" y=\"-3\"/><text class=\"lab\" transform=\"translate(0 11)\">0</text></g><g class=\"a6 i2 leaf node n5 p0 sample\" transform=\"translate(23.3333 2.97458)\"><path class=\"edge\" d=\"M 0 0 V -2.97458 H -23.3333\"/><rect class=\"sym\" height=\"6\" width=\"6\" x=\"-3\" y=\"-3\"/><text class=\"lab\" transform=\"translate(0 11)\">5</text></g><path class=\"edge\" d=\"M 0 0 V -81.8168 H 64.1667\"/><circle class=\"sym\" cx=\"0\" cy=\"0\" r=\"3\"/><text class=\"lab lft\" transform=\"translate(-3 -7.0)\">6</text></g><g class=\"a11 c2 node n10 p0\" transform=\"translate(64.1667 14.9423)\"><g class=\"a10 i1 leaf node n3 p0 sample\" transform=\"translate(35 69.8491)\"><path class=\"edge\" d=\"M 0 0 V -69.8491 H -35\"/><rect class=\"sym\" height=\"6\" width=\"6\" x=\"-3\" y=\"-3\"/><text class=\"lab\" transform=\"translate(0 11)\">3</text></g><g class=\"a10 c2 node n7 p0\" transform=\"translate(-35 51.2844)\"><g class=\"a7 i1 leaf node n2 p0 sample\" transform=\"translate(-23.3333 18.5646)\"><path class=\"edge\" d=\"M 0 0 V -18.5646 H 23.3333\"/><rect class=\"sym\" height=\"6\" width=\"6\" x=\"-3\" y=\"-3\"/><text class=\"lab\" transform=\"translate(0 11)\">2</text></g><g class=\"a7 i2 leaf node n4 p0 sample\" transform=\"translate(23.3333 18.5646)\"><path class=\"edge\" d=\"M 0 0 V -18.5646 H -23.3333\"/><rect class=\"sym\" height=\"6\" width=\"6\" x=\"-3\" y=\"-3\"/><text class=\"lab\" transform=\"translate(0 11)\">4</text></g><path class=\"edge\" d=\"M 0 0 V -51.2844 H 35\"/><circle class=\"sym\" cx=\"0\" cy=\"0\" r=\"3\"/><text class=\"lab lft\" transform=\"translate(-3 -7.0)\">7</text></g><path class=\"edge\" d=\"M 0 0 V -14.9423 H -64.1667\"/><circle class=\"sym\" cx=\"0\" cy=\"0\" r=\"3\"/><text class=\"lab rgt\" transform=\"translate(3 -7.0)\">10</text></g><path class=\"edge\" d=\"M 0 0 V -34.2652 H 0.0\"/><circle class=\"sym\" cx=\"0\" cy=\"0\" r=\"3\"/><text class=\"lab lft\" transform=\"translate(-3 -7.0)\">11</text></g><path class=\"edge\" d=\"M 0 0 V -4.18269 H 72.9167\"/><circle class=\"sym\" cx=\"0\" cy=\"0\" r=\"3\"/><text class=\"lab lft\" transform=\"translate(-3 -7.0)\">13</text></g><circle class=\"sym\" cx=\"0\" cy=\"0\" r=\"3\"/><text class=\"lab\" transform=\"translate(0 -11)\">14</text></g></g></g><g class=\"tree t2\" transform=\"translate(660 0)\"><g class=\"plotbox\"><g class=\"c2 node n16 p0 root\" transform=\"translate(203.75 26.8)\"><g class=\"a16 c1 node n14 p0\" transform=\"translate(-72.9167 71.3607)\"><g class=\"a14 c1 node n13 p0\" transform=\"translate(0.0 4.18269)\"><g class=\"a13 c2 node n11 p0\" transform=\"translate(0.0 34.2652)\"><g class=\"a11 c2 node n6 p0\" transform=\"translate(-64.1667 81.8168)\"><g class=\"a6 i0 leaf node n0 p0 sample\" transform=\"translate(-23.3333 2.97458)\"><path class=\"edge\" d=\"M 0 0 V -2.97458 H 23.3333\"/><rect class=\"sym\" height=\"6\" width=\"6\" x=\"-3\" y=\"-3\"/><text class=\"lab\" transform=\"translate(0 11)\">0</text></g><g class=\"a6 i2 leaf node n5 p0 sample\" transform=\"translate(23.3333 2.97458)\"><path class=\"edge\" d=\"M 0 0 V -2.97458 H -23.3333\"/><rect class=\"sym\" height=\"6\" width=\"6\" x=\"-3\" y=\"-3\"/><text class=\"lab\" transform=\"translate(0 11)\">5</text></g><path class=\"edge\" d=\"M 0 0 V -81.8168 H 64.1667\"/><circle class=\"sym\" cx=\"0\" cy=\"0\" r=\"3\"/><text class=\"lab lft\" transform=\"translate(-3 -7.0)\">6</text></g><g class=\"a11 c2 node n10 p0\" transform=\"translate(64.1667 14.9423)\"><g class=\"a10 i1 leaf node n3 p0 sample\" transform=\"translate(35 69.8491)\"><path class=\"edge\" d=\"M 0 0 V -69.8491 H -35\"/><rect class=\"sym\" height=\"6\" width=\"6\" x=\"-3\" y=\"-3\"/><text class=\"lab\" transform=\"translate(0 11)\">3</text></g><g class=\"a10 c2 node n7 p0\" transform=\"translate(-35 51.2844)\"><g class=\"a7 i1 leaf node n2 p0 sample\" transform=\"translate(-23.3333 18.5646)\"><path class=\"edge\" d=\"M 0 0 V -18.5646 H 23.3333\"/><rect class=\"sym\" height=\"6\" width=\"6\" x=\"-3\" y=\"-3\"/><text class=\"lab\" transform=\"translate(0 11)\">2</text></g><g class=\"a7 i2 leaf node n4 p0 sample\" transform=\"translate(23.3333 18.5646)\"><path class=\"edge\" d=\"M 0 0 V -18.5646 H -23.3333\"/><rect class=\"sym\" height=\"6\" width=\"6\" x=\"-3\" y=\"-3\"/><text class=\"lab\" transform=\"translate(0 11)\">4</text></g><path class=\"edge\" d=\"M 0 0 V -51.2844 H 35\"/><circle class=\"sym\" cx=\"0\" cy=\"0\" r=\"3\"/><text class=\"lab lft\" transform=\"translate(-3 -7.0)\">7</text></g><path class=\"edge\" d=\"M 0 0 V -14.9423 H -64.1667\"/><circle class=\"sym\" cx=\"0\" cy=\"0\" r=\"3\"/><text class=\"lab rgt\" transform=\"translate(3 -7.0)\">10</text></g><path class=\"edge\" d=\"M 0 0 V -34.2652 H 0.0\"/><circle class=\"sym\" cx=\"0\" cy=\"0\" r=\"3\"/><text class=\"lab lft\" transform=\"translate(-3 -7.0)\">11</text></g><path class=\"edge\" d=\"M 0 0 V -4.18269 H 0.0\"/><circle class=\"sym\" cx=\"0\" cy=\"0\" r=\"3\"/><text class=\"lab lft\" transform=\"translate(-3 -7.0)\">13</text></g><path class=\"edge\" d=\"M 0 0 V -71.3607 H 72.9167\"/><circle class=\"sym\" cx=\"0\" cy=\"0\" r=\"3\"/><text class=\"lab lft\" transform=\"translate(-3 -7.0)\">14</text></g><g class=\"a16 c1 node n15 p0\" transform=\"translate(72.9167 56.585)\"><g class=\"a15 c1 node n9 p0\" transform=\"translate(0.0 98.7282)\"><g class=\"a9 i0 leaf node n1 p0 sample\" transform=\"translate(0.0 39.2867)\"><path class=\"edge\" d=\"M 0 0 V -39.2867 H 0.0\"/><rect class=\"sym\" height=\"6\" width=\"6\" x=\"-3\" y=\"-3\"/><text class=\"lab\" transform=\"translate(0 11)\">1</text></g><path class=\"edge\" d=\"M 0 0 V -98.7282 H 0.0\"/><circle class=\"sym\" cx=\"0\" cy=\"0\" r=\"3\"/><text class=\"lab lft\" transform=\"translate(-3 -7.0)\">9</text></g><path class=\"edge\" d=\"M 0 0 V -56.585 H -72.9167\"/><circle class=\"sym\" cx=\"0\" cy=\"0\" r=\"3\"/><text class=\"lab rgt\" transform=\"translate(3 -7.0)\">15</text></g><circle class=\"sym\" cx=\"0\" cy=\"0\" r=\"3\"/><text class=\"lab\" transform=\"translate(0 -11)\">16</text></g></g></g></g></g></svg>"
      ],
      "text/plain": [
       "<IPython.core.display.SVG object>"
      ]
     },
     "execution_count": 6,
     "metadata": {},
     "output_type": "execute_result"
    }
   ],
   "source": [
    "SVG(ts2.draw_svg(size=(1000, 300), x_lim=[0, 1e5]))"
   ]
  },
  {
   "cell_type": "code",
   "execution_count": 7,
   "id": "269ee0e6",
   "metadata": {},
   "outputs": [
    {
     "data": {
      "image/svg+xml": [
       "<svg xmlns=\"http://www.w3.org/2000/svg\" xmlns:ev=\"http://www.w3.org/2001/xml-events\" xmlns:xlink=\"http://www.w3.org/1999/xlink\" baseProfile=\"full\" height=\"300\" version=\"1.1\" width=\"1000\"><defs><style type=\"text/css\"><![CDATA[.background path {fill: #808080; fill-opacity: 0}.background path:nth-child(odd) {fill-opacity: .1}.axes {font-size: 14px}.x-axis .tick .lab {font-weight: bold; dominant-baseline: hanging}.axes, .tree {font-size: 14px; text-anchor: middle}.axes line, .edge {stroke: black; fill: none}.y-axis .grid {stroke: #FAFAFA}.node > .sym {fill: black; stroke: none}.site > .sym {stroke: black}.mut text {fill: red; font-style: italic}.mut.extra text {fill: hotpink}.mut line {fill: none; stroke: none}.mut .sym {fill: none; stroke: red}.mut.extra .sym {stroke: hotpink}.node .mut .sym {stroke-width: 1.5px}.tree text, .tree-sequence text {dominant-baseline: central}.plotbox .lab.lft {text-anchor: end}.plotbox .lab.rgt {text-anchor: start}]]></style></defs><g class=\"tree-sequence\"><g class=\"background\"><path d=\"M20,0 l320,0 l0,238.2 l-255.651,25 l0,5 l-64.3488,0 l0,-5 l0,-25 l0,-238.2z\"/><path d=\"M340,0 l320,0 l0,238.2 l-145.514,25 l0,5 l-430.138,0 l0,-5 l255.651,-25 l0,-238.2z\"/><path d=\"M660,0 l320,0 l0,238.2 l0,25 l0,5 l-465.514,0 l0,-5 l145.514,-25 l0,-238.2z\"/></g><g class=\"axes\"><g class=\"x-axis\"><g transform=\"translate(500 300)\"><text class=\"lab\" text-anchor=\"middle\" transform=\"translate(0 -11)\">Genome position</text></g><line x1=\"20\" x2=\"980\" y1=\"263.2\" y2=\"263.2\"/><g class=\"ticks\"><g class=\"tick\" transform=\"translate(20 263.2)\"><line x1=\"0\" x2=\"0\" y1=\"0\" y2=\"5\"/><g transform=\"translate(0 6)\"><text class=\"lab\">0</text></g></g><g class=\"tick\" transform=\"translate(84.3488 263.2)\"><line x1=\"0\" x2=\"0\" y1=\"0\" y2=\"5\"/><g transform=\"translate(0 6)\"><text class=\"lab\">6703</text></g></g><g class=\"tick\" transform=\"translate(514.486 263.2)\"><line x1=\"0\" x2=\"0\" y1=\"0\" y2=\"5\"/><g transform=\"translate(0 6)\"><text class=\"lab\">51509</text></g></g><g class=\"tick\" transform=\"translate(980 263.2)\"><line x1=\"0\" x2=\"0\" y1=\"0\" y2=\"5\"/><g transform=\"translate(0 6)\"><text class=\"lab\">100000</text></g></g></g></g></g><g class=\"plotbox trees\"><g class=\"tree t0\" transform=\"translate(20 0)\"><g class=\"plotbox\"><g class=\"c2 node n11 p0 root\" transform=\"translate(203.75 26.8)\"><g class=\"a11 i0 leaf node n1 p0 sample\" transform=\"translate(72.9167 194.6)\"><path class=\"edge\" d=\"M 0 0 V -194.6 H -72.9167\"/><rect class=\"sym\" height=\"6\" width=\"6\" x=\"-3\" y=\"-3\"/><text class=\"lab\" transform=\"translate(0 11)\">1</text></g><g class=\"a11 c2 node n9 p0\" transform=\"translate(-72.9167 109.809)\"><g class=\"a9 c2 node n6 p0\" transform=\"translate(-64.1667 81.8168)\"><g class=\"a6 i0 leaf node n0 p0 sample\" transform=\"translate(-23.3333 2.97458)\"><path class=\"edge\" d=\"M 0 0 V -2.97458 H 23.3333\"/><rect class=\"sym\" height=\"6\" width=\"6\" x=\"-3\" y=\"-3\"/><text class=\"lab\" transform=\"translate(0 11)\">0</text></g><g class=\"a6 i2 leaf node n5 p0 sample\" transform=\"translate(23.3333 2.97458)\"><path class=\"edge\" d=\"M 0 0 V -2.97458 H -23.3333\"/><rect class=\"sym\" height=\"6\" width=\"6\" x=\"-3\" y=\"-3\"/><text class=\"lab\" transform=\"translate(0 11)\">5</text></g><path class=\"edge\" d=\"M 0 0 V -81.8168 H 64.1667\"/><circle class=\"sym\" cx=\"0\" cy=\"0\" r=\"3\"/><text class=\"lab lft\" transform=\"translate(-3 -7.0)\">6</text></g><g class=\"a9 c2 node n8 p0\" transform=\"translate(64.1667 14.9423)\"><g class=\"a8 i1 leaf node n3 p0 sample\" transform=\"translate(35 69.8491)\"><path class=\"edge\" d=\"M 0 0 V -69.8491 H -35\"/><rect class=\"sym\" height=\"6\" width=\"6\" x=\"-3\" y=\"-3\"/><text class=\"lab\" transform=\"translate(0 11)\">3</text></g><g class=\"a8 c2 node n7 p0\" transform=\"translate(-35 51.2844)\"><g class=\"a7 i1 leaf node n2 p0 sample\" transform=\"translate(-23.3333 18.5646)\"><path class=\"edge\" d=\"M 0 0 V -18.5646 H 23.3333\"/><rect class=\"sym\" height=\"6\" width=\"6\" x=\"-3\" y=\"-3\"/><text class=\"lab\" transform=\"translate(0 11)\">2</text></g><g class=\"a7 i2 leaf node n4 p0 sample\" transform=\"translate(23.3333 18.5646)\"><path class=\"edge\" d=\"M 0 0 V -18.5646 H -23.3333\"/><rect class=\"sym\" height=\"6\" width=\"6\" x=\"-3\" y=\"-3\"/><text class=\"lab\" transform=\"translate(0 11)\">4</text></g><path class=\"edge\" d=\"M 0 0 V -51.2844 H 35\"/><circle class=\"sym\" cx=\"0\" cy=\"0\" r=\"3\"/><text class=\"lab lft\" transform=\"translate(-3 -7.0)\">7</text></g><path class=\"edge\" d=\"M 0 0 V -14.9423 H -64.1667\"/><circle class=\"sym\" cx=\"0\" cy=\"0\" r=\"3\"/><text class=\"lab rgt\" transform=\"translate(3 -7.0)\">8</text></g><path class=\"edge\" d=\"M 0 0 V -109.809 H 72.9167\"/><circle class=\"sym\" cx=\"0\" cy=\"0\" r=\"3\"/><text class=\"lab lft\" transform=\"translate(-3 -7.0)\">9</text></g><circle class=\"sym\" cx=\"0\" cy=\"0\" r=\"3\"/><text class=\"lab\" transform=\"translate(0 -11)\">11</text></g></g></g><g class=\"tree t1\" transform=\"translate(340 0)\"><g class=\"plotbox\"><g class=\"c2 node n10 p0 root\" transform=\"translate(203.75 98.1607)\"><g class=\"a10 i0 leaf node n1 p0 sample\" transform=\"translate(72.9167 123.239)\"><path class=\"edge\" d=\"M 0 0 V -123.239 H -72.9167\"/><rect class=\"sym\" height=\"6\" width=\"6\" x=\"-3\" y=\"-3\"/><text class=\"lab\" transform=\"translate(0 11)\">1</text></g><g class=\"a10 c2 node n9 p0\" transform=\"translate(-72.9167 38.4479)\"><g class=\"a9 c2 node n6 p0\" transform=\"translate(-64.1667 81.8168)\"><g class=\"a6 i0 leaf node n0 p0 sample\" transform=\"translate(-23.3333 2.97458)\"><path class=\"edge\" d=\"M 0 0 V -2.97458 H 23.3333\"/><rect class=\"sym\" height=\"6\" width=\"6\" x=\"-3\" y=\"-3\"/><text class=\"lab\" transform=\"translate(0 11)\">0</text></g><g class=\"a6 i2 leaf node n5 p0 sample\" transform=\"translate(23.3333 2.97458)\"><path class=\"edge\" d=\"M 0 0 V -2.97458 H -23.3333\"/><rect class=\"sym\" height=\"6\" width=\"6\" x=\"-3\" y=\"-3\"/><text class=\"lab\" transform=\"translate(0 11)\">5</text></g><path class=\"edge\" d=\"M 0 0 V -81.8168 H 64.1667\"/><circle class=\"sym\" cx=\"0\" cy=\"0\" r=\"3\"/><text class=\"lab lft\" transform=\"translate(-3 -7.0)\">6</text></g><g class=\"a9 c2 node n8 p0\" transform=\"translate(64.1667 14.9423)\"><g class=\"a8 i1 leaf node n3 p0 sample\" transform=\"translate(35 69.8491)\"><path class=\"edge\" d=\"M 0 0 V -69.8491 H -35\"/><rect class=\"sym\" height=\"6\" width=\"6\" x=\"-3\" y=\"-3\"/><text class=\"lab\" transform=\"translate(0 11)\">3</text></g><g class=\"a8 c2 node n7 p0\" transform=\"translate(-35 51.2844)\"><g class=\"a7 i1 leaf node n2 p0 sample\" transform=\"translate(-23.3333 18.5646)\"><path class=\"edge\" d=\"M 0 0 V -18.5646 H 23.3333\"/><rect class=\"sym\" height=\"6\" width=\"6\" x=\"-3\" y=\"-3\"/><text class=\"lab\" transform=\"translate(0 11)\">2</text></g><g class=\"a7 i2 leaf node n4 p0 sample\" transform=\"translate(23.3333 18.5646)\"><path class=\"edge\" d=\"M 0 0 V -18.5646 H -23.3333\"/><rect class=\"sym\" height=\"6\" width=\"6\" x=\"-3\" y=\"-3\"/><text class=\"lab\" transform=\"translate(0 11)\">4</text></g><path class=\"edge\" d=\"M 0 0 V -51.2844 H 35\"/><circle class=\"sym\" cx=\"0\" cy=\"0\" r=\"3\"/><text class=\"lab lft\" transform=\"translate(-3 -7.0)\">7</text></g><path class=\"edge\" d=\"M 0 0 V -14.9423 H -64.1667\"/><circle class=\"sym\" cx=\"0\" cy=\"0\" r=\"3\"/><text class=\"lab rgt\" transform=\"translate(3 -7.0)\">8</text></g><path class=\"edge\" d=\"M 0 0 V -38.4479 H 72.9167\"/><circle class=\"sym\" cx=\"0\" cy=\"0\" r=\"3\"/><text class=\"lab lft\" transform=\"translate(-3 -7.0)\">9</text></g><circle class=\"sym\" cx=\"0\" cy=\"0\" r=\"3\"/><text class=\"lab\" transform=\"translate(0 -11)\">10</text></g></g></g><g class=\"tree t2\" transform=\"translate(660 0)\"><g class=\"plotbox\"><g class=\"c2 node n11 p0 root\" transform=\"translate(203.75 26.8)\"><g class=\"a11 i0 leaf node n1 p0 sample\" transform=\"translate(72.9167 194.6)\"><path class=\"edge\" d=\"M 0 0 V -194.6 H -72.9167\"/><rect class=\"sym\" height=\"6\" width=\"6\" x=\"-3\" y=\"-3\"/><text class=\"lab\" transform=\"translate(0 11)\">1</text></g><g class=\"a11 c2 node n9 p0\" transform=\"translate(-72.9167 109.809)\"><g class=\"a9 c2 node n6 p0\" transform=\"translate(-64.1667 81.8168)\"><g class=\"a6 i0 leaf node n0 p0 sample\" transform=\"translate(-23.3333 2.97458)\"><path class=\"edge\" d=\"M 0 0 V -2.97458 H 23.3333\"/><rect class=\"sym\" height=\"6\" width=\"6\" x=\"-3\" y=\"-3\"/><text class=\"lab\" transform=\"translate(0 11)\">0</text></g><g class=\"a6 i2 leaf node n5 p0 sample\" transform=\"translate(23.3333 2.97458)\"><path class=\"edge\" d=\"M 0 0 V -2.97458 H -23.3333\"/><rect class=\"sym\" height=\"6\" width=\"6\" x=\"-3\" y=\"-3\"/><text class=\"lab\" transform=\"translate(0 11)\">5</text></g><path class=\"edge\" d=\"M 0 0 V -81.8168 H 64.1667\"/><circle class=\"sym\" cx=\"0\" cy=\"0\" r=\"3\"/><text class=\"lab lft\" transform=\"translate(-3 -7.0)\">6</text></g><g class=\"a9 c2 node n8 p0\" transform=\"translate(64.1667 14.9423)\"><g class=\"a8 i1 leaf node n3 p0 sample\" transform=\"translate(35 69.8491)\"><path class=\"edge\" d=\"M 0 0 V -69.8491 H -35\"/><rect class=\"sym\" height=\"6\" width=\"6\" x=\"-3\" y=\"-3\"/><text class=\"lab\" transform=\"translate(0 11)\">3</text></g><g class=\"a8 c2 node n7 p0\" transform=\"translate(-35 51.2844)\"><g class=\"a7 i1 leaf node n2 p0 sample\" transform=\"translate(-23.3333 18.5646)\"><path class=\"edge\" d=\"M 0 0 V -18.5646 H 23.3333\"/><rect class=\"sym\" height=\"6\" width=\"6\" x=\"-3\" y=\"-3\"/><text class=\"lab\" transform=\"translate(0 11)\">2</text></g><g class=\"a7 i2 leaf node n4 p0 sample\" transform=\"translate(23.3333 18.5646)\"><path class=\"edge\" d=\"M 0 0 V -18.5646 H -23.3333\"/><rect class=\"sym\" height=\"6\" width=\"6\" x=\"-3\" y=\"-3\"/><text class=\"lab\" transform=\"translate(0 11)\">4</text></g><path class=\"edge\" d=\"M 0 0 V -51.2844 H 35\"/><circle class=\"sym\" cx=\"0\" cy=\"0\" r=\"3\"/><text class=\"lab lft\" transform=\"translate(-3 -7.0)\">7</text></g><path class=\"edge\" d=\"M 0 0 V -14.9423 H -64.1667\"/><circle class=\"sym\" cx=\"0\" cy=\"0\" r=\"3\"/><text class=\"lab rgt\" transform=\"translate(3 -7.0)\">8</text></g><path class=\"edge\" d=\"M 0 0 V -109.809 H 72.9167\"/><circle class=\"sym\" cx=\"0\" cy=\"0\" r=\"3\"/><text class=\"lab lft\" transform=\"translate(-3 -7.0)\">9</text></g><circle class=\"sym\" cx=\"0\" cy=\"0\" r=\"3\"/><text class=\"lab\" transform=\"translate(0 -11)\">11</text></g></g></g></g></g></svg>"
      ],
      "text/plain": [
       "<IPython.core.display.SVG object>"
      ]
     },
     "execution_count": 7,
     "metadata": {},
     "output_type": "execute_result"
    }
   ],
   "source": [
    "sts = ts2.simplify()\n",
    "SVG(sts.draw_svg(size=(1000, 300), x_lim=[0, 1e5]))"
   ]
  },
  {
   "cell_type": "code",
   "execution_count": 8,
   "id": "7dcbcf5d",
   "metadata": {},
   "outputs": [
    {
     "name": "stdout",
     "output_type": "stream",
     "text": [
      "[14]\n"
     ]
    },
    {
     "data": {
      "image/svg+xml": [
       "<svg xmlns=\"http://www.w3.org/2000/svg\" xmlns:ev=\"http://www.w3.org/2001/xml-events\" xmlns:xlink=\"http://www.w3.org/1999/xlink\" baseProfile=\"full\" height=\"300\" version=\"1.1\" width=\"1000\"><defs><style type=\"text/css\"><![CDATA[.background path {fill: #808080; fill-opacity: 0}.background path:nth-child(odd) {fill-opacity: .1}.axes {font-size: 14px}.x-axis .tick .lab {font-weight: bold; dominant-baseline: hanging}.axes, .tree {font-size: 14px; text-anchor: middle}.axes line, .edge {stroke: black; fill: none}.y-axis .grid {stroke: #FAFAFA}.node > .sym {fill: black; stroke: none}.site > .sym {stroke: black}.mut text {fill: red; font-style: italic}.mut.extra text {fill: hotpink}.mut line {fill: none; stroke: none}.mut .sym {fill: none; stroke: red}.mut.extra .sym {stroke: hotpink}.node .mut .sym {stroke-width: 1.5px}.tree text, .tree-sequence text {dominant-baseline: central}.plotbox .lab.lft {text-anchor: end}.plotbox .lab.rgt {text-anchor: start}]]></style></defs><g class=\"tree-sequence\"><g class=\"background\"><path d=\"M20,0 l320,0 l0,238.2 l-255.651,25 l0,5 l-64.3488,0 l0,-5 l0,-25 l0,-238.2z\"/><path d=\"M340,0 l320,0 l0,238.2 l-145.514,25 l0,5 l-430.138,0 l0,-5 l255.651,-25 l0,-238.2z\"/><path d=\"M660,0 l320,0 l0,238.2 l0,25 l0,5 l-465.514,0 l0,-5 l145.514,-25 l0,-238.2z\"/></g><g class=\"axes\"><g class=\"x-axis\"><g transform=\"translate(500 300)\"><text class=\"lab\" text-anchor=\"middle\" transform=\"translate(0 -11)\">Genome position</text></g><line x1=\"20\" x2=\"980\" y1=\"263.2\" y2=\"263.2\"/><g class=\"ticks\"><g class=\"tick\" transform=\"translate(20 263.2)\"><line x1=\"0\" x2=\"0\" y1=\"0\" y2=\"5\"/><g transform=\"translate(0 6)\"><text class=\"lab\">0</text></g></g><g class=\"tick\" transform=\"translate(84.3488 263.2)\"><line x1=\"0\" x2=\"0\" y1=\"0\" y2=\"5\"/><g transform=\"translate(0 6)\"><text class=\"lab\">6703</text></g></g><g class=\"tick\" transform=\"translate(514.486 263.2)\"><line x1=\"0\" x2=\"0\" y1=\"0\" y2=\"5\"/><g transform=\"translate(0 6)\"><text class=\"lab\">51509</text></g></g><g class=\"tick\" transform=\"translate(980 263.2)\"><line x1=\"0\" x2=\"0\" y1=\"0\" y2=\"5\"/><g transform=\"translate(0 6)\"><text class=\"lab\">100000</text></g></g></g></g></g><g class=\"plotbox trees\"><g class=\"tree t0\" transform=\"translate(20 0)\"><g class=\"plotbox\"><g class=\"c2 node n11 p0 root\" transform=\"translate(203.75 26.8)\"><g class=\"a11 i0 leaf node n1 p0 sample\" transform=\"translate(72.9167 194.6)\"><path class=\"edge\" d=\"M 0 0 V -194.6 H -72.9167\"/><rect class=\"sym\" height=\"6\" width=\"6\" x=\"-3\" y=\"-3\"/><text class=\"lab\" transform=\"translate(0 11)\">1</text></g><g class=\"a11 c2 node n9 p0\" transform=\"translate(-72.9167 109.809)\"><g class=\"a9 c2 node n6 p0\" transform=\"translate(-64.1667 81.8168)\"><g class=\"a6 i0 leaf node n0 p0 sample\" transform=\"translate(-23.3333 2.97458)\"><path class=\"edge\" d=\"M 0 0 V -2.97458 H 23.3333\"/><rect class=\"sym\" height=\"6\" width=\"6\" x=\"-3\" y=\"-3\"/><text class=\"lab\" transform=\"translate(0 11)\">0</text></g><g class=\"a6 i2 leaf node n5 p0 sample\" transform=\"translate(23.3333 2.97458)\"><path class=\"edge\" d=\"M 0 0 V -2.97458 H -23.3333\"/><rect class=\"sym\" height=\"6\" width=\"6\" x=\"-3\" y=\"-3\"/><text class=\"lab\" transform=\"translate(0 11)\">5</text></g><path class=\"edge\" d=\"M 0 0 V -81.8168 H 64.1667\"/><circle class=\"sym\" cx=\"0\" cy=\"0\" r=\"3\"/><text class=\"lab lft\" transform=\"translate(-3 -7.0)\">6</text></g><g class=\"a9 c2 node n8 p0\" transform=\"translate(64.1667 14.9423)\"><g class=\"a8 i1 leaf node n3 p0 sample\" transform=\"translate(35 69.8491)\"><path class=\"edge\" d=\"M 0 0 V -69.8491 H -35\"/><rect class=\"sym\" height=\"6\" width=\"6\" x=\"-3\" y=\"-3\"/><text class=\"lab\" transform=\"translate(0 11)\">3</text></g><g class=\"a8 c2 node n7 p0\" transform=\"translate(-35 51.2844)\"><g class=\"a7 i1 leaf node n2 p0 sample\" transform=\"translate(-23.3333 18.5646)\"><path class=\"edge\" d=\"M 0 0 V -18.5646 H 23.3333\"/><rect class=\"sym\" height=\"6\" width=\"6\" x=\"-3\" y=\"-3\"/><text class=\"lab\" transform=\"translate(0 11)\">2</text></g><g class=\"a7 i2 leaf node n4 p0 sample\" transform=\"translate(23.3333 18.5646)\"><path class=\"edge\" d=\"M 0 0 V -18.5646 H -23.3333\"/><rect class=\"sym\" height=\"6\" width=\"6\" x=\"-3\" y=\"-3\"/><text class=\"lab\" transform=\"translate(0 11)\">4</text></g><path class=\"edge\" d=\"M 0 0 V -51.2844 H 35\"/><circle class=\"sym\" cx=\"0\" cy=\"0\" r=\"3\"/><text class=\"lab lft\" transform=\"translate(-3 -7.0)\">7</text></g><path class=\"edge\" d=\"M 0 0 V -14.9423 H -64.1667\"/><circle class=\"sym\" cx=\"0\" cy=\"0\" r=\"3\"/><text class=\"lab rgt\" transform=\"translate(3 -7.0)\">8</text></g><path class=\"edge\" d=\"M 0 0 V -109.809 H 72.9167\"/><circle class=\"sym\" cx=\"0\" cy=\"0\" r=\"3\"/><text class=\"lab lft\" transform=\"translate(-3 -7.0)\">9</text></g><circle class=\"sym\" cx=\"0\" cy=\"0\" r=\"3\"/><text class=\"lab\" transform=\"translate(0 -11)\">11</text></g></g></g><g class=\"tree t1\" transform=\"translate(340 0)\"><g class=\"plotbox\"><g class=\"c2 node n10 p0 root\" transform=\"translate(203.75 98.1607)\"><g class=\"a10 i0 leaf node n1 p0 sample\" transform=\"translate(72.9167 123.239)\"><path class=\"edge\" d=\"M 0 0 V -123.239 H -72.9167\"/><rect class=\"sym\" height=\"6\" width=\"6\" x=\"-3\" y=\"-3\"/><text class=\"lab\" transform=\"translate(0 11)\">1</text></g><g class=\"a10 c2 node n9 p0\" transform=\"translate(-72.9167 38.4479)\"><g class=\"a9 c2 node n6 p0\" transform=\"translate(-64.1667 81.8168)\"><g class=\"a6 i0 leaf node n0 p0 sample\" transform=\"translate(-23.3333 2.97458)\"><path class=\"edge\" d=\"M 0 0 V -2.97458 H 23.3333\"/><rect class=\"sym\" height=\"6\" width=\"6\" x=\"-3\" y=\"-3\"/><text class=\"lab\" transform=\"translate(0 11)\">0</text></g><g class=\"a6 i2 leaf node n5 p0 sample\" transform=\"translate(23.3333 2.97458)\"><path class=\"edge\" d=\"M 0 0 V -2.97458 H -23.3333\"/><rect class=\"sym\" height=\"6\" width=\"6\" x=\"-3\" y=\"-3\"/><text class=\"lab\" transform=\"translate(0 11)\">5</text></g><path class=\"edge\" d=\"M 0 0 V -81.8168 H 64.1667\"/><circle class=\"sym\" cx=\"0\" cy=\"0\" r=\"3\"/><text class=\"lab lft\" transform=\"translate(-3 -7.0)\">6</text></g><g class=\"a9 c2 node n8 p0\" transform=\"translate(64.1667 14.9423)\"><g class=\"a8 i1 leaf node n3 p0 sample\" transform=\"translate(35 69.8491)\"><path class=\"edge\" d=\"M 0 0 V -69.8491 H -35\"/><rect class=\"sym\" height=\"6\" width=\"6\" x=\"-3\" y=\"-3\"/><text class=\"lab\" transform=\"translate(0 11)\">3</text></g><g class=\"a8 c2 node n7 p0\" transform=\"translate(-35 51.2844)\"><g class=\"a7 i1 leaf node n2 p0 sample\" transform=\"translate(-23.3333 18.5646)\"><path class=\"edge\" d=\"M 0 0 V -18.5646 H 23.3333\"/><rect class=\"sym\" height=\"6\" width=\"6\" x=\"-3\" y=\"-3\"/><text class=\"lab\" transform=\"translate(0 11)\">2</text></g><g class=\"a7 i2 leaf node n4 p0 sample\" transform=\"translate(23.3333 18.5646)\"><path class=\"edge\" d=\"M 0 0 V -18.5646 H -23.3333\"/><rect class=\"sym\" height=\"6\" width=\"6\" x=\"-3\" y=\"-3\"/><text class=\"lab\" transform=\"translate(0 11)\">4</text></g><path class=\"edge\" d=\"M 0 0 V -51.2844 H 35\"/><circle class=\"sym\" cx=\"0\" cy=\"0\" r=\"3\"/><text class=\"lab lft\" transform=\"translate(-3 -7.0)\">7</text></g><path class=\"edge\" d=\"M 0 0 V -14.9423 H -64.1667\"/><circle class=\"sym\" cx=\"0\" cy=\"0\" r=\"3\"/><text class=\"lab rgt\" transform=\"translate(3 -7.0)\">8</text></g><path class=\"edge\" d=\"M 0 0 V -38.4479 H 72.9167\"/><circle class=\"sym\" cx=\"0\" cy=\"0\" r=\"3\"/><text class=\"lab lft\" transform=\"translate(-3 -7.0)\">9</text></g><circle class=\"sym\" cx=\"0\" cy=\"0\" r=\"3\"/><text class=\"lab\" transform=\"translate(0 -11)\">10</text></g></g></g><g class=\"tree t2\" transform=\"translate(660 0)\"><g class=\"plotbox\"><g class=\"c2 node n11 p0 root\" transform=\"translate(203.75 26.8)\"><g class=\"a11 i0 leaf node n1 p0 sample\" transform=\"translate(72.9167 194.6)\"><path class=\"edge\" d=\"M 0 0 V -194.6 H -72.9167\"/><rect class=\"sym\" height=\"6\" width=\"6\" x=\"-3\" y=\"-3\"/><text class=\"lab\" transform=\"translate(0 11)\">1</text></g><g class=\"a11 c2 node n9 p0\" transform=\"translate(-72.9167 109.809)\"><g class=\"a9 c2 node n6 p0\" transform=\"translate(-64.1667 81.8168)\"><g class=\"a6 i0 leaf node n0 p0 sample\" transform=\"translate(-23.3333 2.97458)\"><path class=\"edge\" d=\"M 0 0 V -2.97458 H 23.3333\"/><rect class=\"sym\" height=\"6\" width=\"6\" x=\"-3\" y=\"-3\"/><text class=\"lab\" transform=\"translate(0 11)\">0</text></g><g class=\"a6 i2 leaf node n5 p0 sample\" transform=\"translate(23.3333 2.97458)\"><path class=\"edge\" d=\"M 0 0 V -2.97458 H -23.3333\"/><rect class=\"sym\" height=\"6\" width=\"6\" x=\"-3\" y=\"-3\"/><text class=\"lab\" transform=\"translate(0 11)\">5</text></g><path class=\"edge\" d=\"M 0 0 V -81.8168 H 64.1667\"/><circle class=\"sym\" cx=\"0\" cy=\"0\" r=\"3\"/><text class=\"lab lft\" transform=\"translate(-3 -7.0)\">6</text></g><g class=\"a9 c2 node n8 p0\" transform=\"translate(64.1667 14.9423)\"><g class=\"a8 i1 leaf node n3 p0 sample\" transform=\"translate(35 69.8491)\"><path class=\"edge\" d=\"M 0 0 V -69.8491 H -35\"/><rect class=\"sym\" height=\"6\" width=\"6\" x=\"-3\" y=\"-3\"/><text class=\"lab\" transform=\"translate(0 11)\">3</text></g><g class=\"a8 c2 node n7 p0\" transform=\"translate(-35 51.2844)\"><g class=\"a7 i1 leaf node n2 p0 sample\" transform=\"translate(-23.3333 18.5646)\"><path class=\"edge\" d=\"M 0 0 V -18.5646 H 23.3333\"/><rect class=\"sym\" height=\"6\" width=\"6\" x=\"-3\" y=\"-3\"/><text class=\"lab\" transform=\"translate(0 11)\">2</text></g><g class=\"a7 i2 leaf node n4 p0 sample\" transform=\"translate(23.3333 18.5646)\"><path class=\"edge\" d=\"M 0 0 V -18.5646 H -23.3333\"/><rect class=\"sym\" height=\"6\" width=\"6\" x=\"-3\" y=\"-3\"/><text class=\"lab\" transform=\"translate(0 11)\">4</text></g><path class=\"edge\" d=\"M 0 0 V -51.2844 H 35\"/><circle class=\"sym\" cx=\"0\" cy=\"0\" r=\"3\"/><text class=\"lab lft\" transform=\"translate(-3 -7.0)\">7</text></g><path class=\"edge\" d=\"M 0 0 V -14.9423 H -64.1667\"/><circle class=\"sym\" cx=\"0\" cy=\"0\" r=\"3\"/><text class=\"lab rgt\" transform=\"translate(3 -7.0)\">8</text></g><path class=\"edge\" d=\"M 0 0 V -109.809 H 72.9167\"/><circle class=\"sym\" cx=\"0\" cy=\"0\" r=\"3\"/><text class=\"lab lft\" transform=\"translate(-3 -7.0)\">9</text></g><circle class=\"sym\" cx=\"0\" cy=\"0\" r=\"3\"/><text class=\"lab\" transform=\"translate(0 -11)\">11</text></g></g></g></g></g></svg>"
      ],
      "text/plain": [
       "<IPython.core.display.SVG object>"
      ]
     },
     "execution_count": 8,
     "metadata": {},
     "output_type": "execute_result"
    }
   ],
   "source": [
    "ts1, n = extend_edges(sts)\n",
    "print(n)\n",
    "SVG(ts1.draw_svg(size=(1000, 300), x_lim=[0, 1e5]))"
   ]
  },
  {
   "cell_type": "markdown",
   "id": "ec5a1228",
   "metadata": {},
   "source": [
    "## Original Discrepancy Function\n",
    "\n",
    "Our goal is to construct a function to measure the amount of discrepancy between our inferred tree sequence $TS_1$ and the ground truth $TS_2$. Suppose that tree sequences $TS_1$ and $TS_2$, which are both of sequence length $L$, have nodes $x$ and $y$ in their respective trees at position $i$ in the genome. From these nodes we count the number of samples which inherit from them. We define these sets as $D_1(i,x)$ and $D_2(i,y)$. We can measure the discrepancy between the nodes $x$ and $y$ as the size of their set difference, $|D_1(i,x)\\vartriangle D_2(i,y)|$. We define the $\\textbf{discrepancy}$ between nodes $x$ and $y$ as \n",
    "$$ d(x,y) = \\sum_{i=0}^{L-1} |D_1(i,x)\\vartriangle D_2(i,y)|. $$\n",
    "Using this we generalize to measure the discrepancy between a node $x$ and the ground truth $TS_2$,\n",
    "$$ d(x,TS_2) = \\min_{y} d(x,y) ,$$\n",
    "where where the minimum is over nodes $y$ in $TS_2$.\n",
    "Finally, to compute the number of discrepancies between tree sequences we use the function\n",
    "$$d(TS_1,TS_2) = \\sum_{x} d(x,TS_2)=\\sum_{x} \\inf_{y} d(x,y) = \\sum_{x} \\inf_{y} \\sum_{i=0}^{L-1} |D_1(i,x)\\vartriangle D_2(i,y)|,$$\n",
    "and call this the $\\textbf{discrepancy}$ between $TS_1$ and $TS_2$."
   ]
  },
  {
   "cell_type": "markdown",
   "id": "6577f7ed",
   "metadata": {},
   "source": [
    "Note that discrepancy is like a *subset* operation - if $TS_1$ is \"a subset\" (defined appropriately)\n",
    "of $TS_2$, then $d(TS_1, TS_2) = 0$."
   ]
  },
  {
   "cell_type": "code",
   "execution_count": 10,
   "id": "82aaea04",
   "metadata": {},
   "outputs": [],
   "source": [
    "def orig_node_discrepancy(x, ts1, y, ts2):\n",
    "    # function to return the discrepancy number between two nodes, d(x,y)\n",
    "    dis = 0\n",
    "    for interval, t1, t2 in ts1.coiterate(ts2):\n",
    "        s = interval.span\n",
    "        Dx = set(t1.samples(x))\n",
    "        for z in t2.samples(y):\n",
    "            if z not in Dx:\n",
    "                dis += s\n",
    "    return dis\n",
    "\n",
    "# Here are two implementations that should be the same thing and can be compared to each other\n",
    "\n",
    "def orig_node_tree_discrepancy(x, ts1, ts2):\n",
    "    dis = ts2.sequence_length\n",
    "    for y in range(ts2.num_nodes):\n",
    "        xydis = orig_node_discrepancy(x, ts1, y, ts2)\n",
    "        if xydis < dis:\n",
    "            dis = xydis\n",
    "    \n",
    "    return dis\n",
    "\n",
    "def orig_node_tree_discrepancy2(x, ts1, ts2):\n",
    "    dis = np.zeros(ts2.num_nodes)\n",
    "    for interval, t1, t2 in ts1.coiterate(ts2):\n",
    "        s = interval.span\n",
    "        Dx = set(t1.samples(x))\n",
    "        for y in t2.nodes():\n",
    "            n = len(set(t2.samples(y)) - Dx)\n",
    "            dis[y] += n * s\n",
    "    return np.min(dis)"
   ]
  },
  {
   "cell_type": "code",
   "execution_count": 11,
   "id": "c26959e7",
   "metadata": {},
   "outputs": [],
   "source": [
    "num_samples = 10\n",
    "tsA = msprime.sim_ancestry(num_samples, population_size=1000, sequence_length=1e5,\n",
    "                           recombination_rate=1e-8, record_full_arg=True)\n",
    "tsB = msprime.sim_ancestry(num_samples, population_size=1000, sequence_length=1e5,\n",
    "                           recombination_rate=1e-8, record_full_arg=True)\n",
    "for j in range(10):\n",
    "    assert np.all(orig_node_tree_discrepancy(j, tsA, tsA) == 0)\n",
    "    assert np.all(orig_node_tree_discrepancy2(j, tsA, tsA) == 0)\n",
    "    assert np.allclose(\n",
    "        orig_node_tree_discrepancy(j, tsA, tsB),\n",
    "        orig_node_tree_discrepancy2(j, tsA, tsB)\n",
    "    )"
   ]
  },
  {
   "cell_type": "code",
   "execution_count": 12,
   "id": "ae39e156",
   "metadata": {},
   "outputs": [],
   "source": [
    "def orig_discrepancy(ts1, ts2):\n",
    "    dis = 0\n",
    "    for n in range(ts1.num_nodes):\n",
    "        dis += orig_node_tree_discrepancy2(n,ts1,ts2)\n",
    "    return dis"
   ]
  },
  {
   "cell_type": "code",
   "execution_count": 13,
   "id": "12d65a47",
   "metadata": {},
   "outputs": [
    {
     "data": {
      "text/plain": [
       "0.0"
      ]
     },
     "execution_count": 13,
     "metadata": {},
     "output_type": "execute_result"
    }
   ],
   "source": [
    "orig_discrepancy(ts1, ts2)"
   ]
  },
  {
   "cell_type": "markdown",
   "id": "dcff6936",
   "metadata": {},
   "source": [
    "Now we should run an experiment to see with our new metric the varying distribution of the discrepancy between the simulated tree sequence and its edge extended version.\n",
    "If everything added in by extending edges was true,\n",
    "then the discrepancy between the simplified-edge-extended tree sequence\n",
    "and the original\n",
    "should be zero;\n",
    "any nonzero discrepancy indicates wrong guesses."
   ]
  },
  {
   "cell_type": "code",
   "execution_count": 15,
   "id": "4c9ab304",
   "metadata": {},
   "outputs": [
    {
     "name": "stdout",
     "output_type": "stream",
     "text": [
      "number of samples = 3, length = 10000.0\n",
      " original discrepancy number = 0.0\n",
      "number of samples = 3, length = 100000.0\n",
      " original discrepancy number = 0.0\n",
      "number of samples = 5, length = 10000.0\n",
      " original discrepancy number = 0.0\n",
      "number of samples = 5, length = 100000.0\n",
      " original discrepancy number = 0.0\n",
      "number of samples = 7, length = 10000.0\n",
      " original discrepancy number = 0.0\n",
      "number of samples = 7, length = 100000.0\n",
      " original discrepancy number = 0.0\n",
      "number of samples = 9, length = 10000.0\n",
      " original discrepancy number = 0.0\n",
      "number of samples = 9, length = 100000.0\n",
      " original discrepancy number = 3512.0\n"
     ]
    }
   ],
   "source": [
    "for num_samples in [3, 5,7,9]:\n",
    "    for L in [1e4, 1e5]: #, 1e6,1e7]:\n",
    "        ts = msprime.sim_ancestry(num_samples, population_size=1000, sequence_length=L,\n",
    "                                  recombination_rate=1e-8, record_full_arg=True)\n",
    "        sts = ts.simplify()\n",
    "        \n",
    "        ext_sts, _ = extend_edges(sts)\n",
    "        #dd = orig_discrepancy(ext_sts, ts)\n",
    "        d = orig_discrepancy(ext_sts, ts)\n",
    "        print(f'number of samples = {num_samples}, length = {L}\\n original discrepancy number = {d}')"
   ]
  },
  {
   "cell_type": "markdown",
   "id": "39906b87",
   "metadata": {},
   "source": [
    "We see from the above we do not always infer perfectly (as expected), but usually do. The metric is also quite slow computationally, as computing the symmetric difference between pairwise sets of nodes slows us down significantly once we increase the length of the tree sequences to $L=10^7$. The computation time is roughly $n_1 n_2 t$, where $n_i$ is the number of nodes in tree sequence $T_i$ and $t$ is the number of trees. To reduce computation time we define a new discrepancy function below."
   ]
  },
  {
   "cell_type": "markdown",
   "id": "71d96540",
   "metadata": {},
   "source": [
    "# Discrepancy Function (Take 2)\n",
    "\n",
    "For a tree sequence $T$ and a node $x$ and position $i$, let $D_T(x, i)$ be the set of descendant\n",
    "samples of $x$ in $T$ at position $i$, and for node $x$ in $T_1$ and node $y$ in $T_2$, where both $T_j$\n",
    "are tree sequences of length $L$, let\n",
    "$$\n",
    "   \\rho_{T_1, T_2}(x, y)\n",
    "   =\n",
    "   \\frac{1}{L} \\sum_i \\left[ D_{T_1}(x, i) == D_{T_2}(y, i) \\right],\n",
    "$$\n",
    "where the thing in the $[ ]$'s means that it should be 1 if True, 0 if False.\n",
    "This is the fraction of the sequence along which $x$ and $y$ have exactly the same descendant set\n",
    "(and so is a similiarity).\n",
    "Then, let\n",
    "$$\n",
    "  \\widehat{d}(x, T_1, T_2) = \\min_y \\left\\{ 1 - \\rho_{T_1, T_2}(x, y) \\right\\} ,\n",
    "$$\n",
    "which is the proportion of the genome over which the descendant set of $x$ *does not* match\n",
    "that of $y$, where $y$ is it's (global) best matching node.\n",
    "\n",
    "Note that this is *different* than\n",
    "$$\n",
    "   \\frac{1}{L} \\sum_i \\min_y \\left(1 - \\left[ D_{T_1}(x, i) == D_{T_2}(y, i) \\right]\\right),\n",
    "$$\n",
    "which would tell us the proportion of the genome over which $x$ does not have a perfectly matching node,\n",
    "i.e., a node which has exactly the same descendant set.\n",
    "\n",
    "We are doing this because want to find the node $y$ that is the best match over the whole genome,\n",
    "since this tells us how well nodes are identified across trees.\n",
    "\n",
    "We then define the *discrepancy* between $T_1$ and $T_2$ to be \n",
    "$$\n",
    "\\widehat{d}(T_1,T_2) = \\sum_{x\\in T_1} \\widehat{d}(x, T_1, T_2) .\n",
    "$$"
   ]
  },
  {
   "cell_type": "markdown",
   "id": "d013f297",
   "metadata": {},
   "source": [
    "Note that the algorithm to compute this\n",
    "is $n_1 t$, rather than $n_1 n_2 t$ as we had above,\n",
    "because on each tree, for each node $x$,\n",
    "we need only look at $O(1)$ nodes rather than all nodes."
   ]
  },
  {
   "cell_type": "code",
   "execution_count": 23,
   "id": "c208dbe5",
   "metadata": {},
   "outputs": [],
   "source": [
    "def node_tree_discrepancy(x, ts1, ts2):\n",
    "    # here sim[y] is the span so far over which y has the same set of descendants as x\n",
    "    sim = np.zeros(ts2.num_nodes)\n",
    "    #m = np.zeros(ts2.num_nodes)\n",
    "    for interval, t1, t2 in ts1.coiterate(ts2):\n",
    "        s = interval.span\n",
    "        Dx = set(t1.samples(x))\n",
    "        MRCA = t1.mrca(*list(Dx))\n",
    "        #if len(Dx) == 0:\n",
    "            #for y in t2.nodes():\n",
    "                #m[y] += s\n",
    "        if len(Dx) > 0:\n",
    "            if len(Dx) == 1:\n",
    "                y = list(Dx)[0]\n",
    "            else:\n",
    "                y = t2.mrca(*list(Dx))\n",
    "            if set(t2.samples(y)) == Dx:\n",
    "                sim[y] += s \n",
    "                y = t2.parent(y)\n",
    "                if x != MRCA:\n",
    "                    while y != tskit.NULL and set(t2.samples(y)) == Dx:\n",
    "                        sim[y] += s\n",
    "                        y = t2.parent(y)\n",
    "    return ts1.sequence_length - np.max(sim)"
   ]
  },
  {
   "cell_type": "code",
   "execution_count": 8,
   "id": "ad44a39a",
   "metadata": {},
   "outputs": [],
   "source": [
    "def discrepancy(ts1, ts2):\n",
    "    dis = 0\n",
    "    for n in range(ts1.num_nodes):\n",
    "        dis += node_tree_discrepancy(n, ts1, ts2)\n",
    "    return dis"
   ]
  },
  {
   "cell_type": "markdown",
   "id": "6c18532e",
   "metadata": {},
   "source": [
    "## Thoughts:\n",
    "\n",
    "Here are some properties we'd like our dissimiarity to satisfy:\n",
    "\n",
    "1. interpretable\n",
    "2. computable\n",
    "3. measuring what we want\n",
    "\n",
    "More concretely,\n",
    "\n",
    "- smaller changes to the trees should not have larger effects on dissimiliarity\n",
    "\n",
    "Note that in the definition above, moving a bigger subtree actually has a larger effect on dissimiliarty\n",
    "than moving a smaller subtree, because all nodes on the path from the old place the subtree was attached\n",
    "to the new place are affected.\n",
    "\n",
    "*Question:* What is a notion of monotonicity that we could use here (ie what's \"smaller\")?\n",
    "\n",
    "Another observation:\n",
    "\n",
    "- what if a node has an exact match to different other nodes on two halves of the genome;\n",
    "   shouldn't this be better than if it just doesn't match anyone on half the genome?\n",
    "\n",
    "*Note:* there are two dimensions here: sequence length; and how much descendant sets differ;\n",
    "and there is some interplay between the two.\n",
    "\n",
    "*Observation:* we could modify the definition above to be\n",
    "$$\n",
    "   \\rho_{T_1, T_2}(x, y)\n",
    "   =\n",
    "   \\frac{1}{L} \\sum_i f(|D_{T_1}(x, i)|) \\left[ D_{T_1}(x, i) == D_{T_2}(y, i) \\right],\n",
    "$$\n",
    "for some function $f$ of the size of the set\n",
    "(e.g., if $f(w) = 1/w$ then we'd be downweighting mismatches on large descendant sets,\n",
    "which might make sense because if a node doesn't match then probably their descedant nodes don't match either).\n",
    "\n",
    "*Note:* if you move a subtree, the discrepancy is monotone in the distance you move it."
   ]
  },
  {
   "cell_type": "markdown",
   "id": "46f42cc1",
   "metadata": {},
   "source": [
    "### 3. Check $d(TS_1,TS_2) = d(TS_2,TS_1) = 0 \\Longrightarrow TS_1=TS_2$, or \n",
    "### $d(TS_1,TS_2)=0 \\Longrightarrow TS_1\\subset TS_2$.\n",
    "Suppose that $d(TS_1,TS_2)=d(TS_2,TS_1)=0$. Then we eventually do the math to make this check.\n"
   ]
  },
  {
   "cell_type": "markdown",
   "id": "42a3c836",
   "metadata": {},
   "source": [
    "### 4. Make a plot of runtime of $d(TS_1,TS_2)$ as a function of number of nodes/trees/both.\n",
    "We run some computations of our new discrepancy function below. "
   ]
  },
  {
   "cell_type": "code",
   "execution_count": 22,
   "id": "9834c740",
   "metadata": {},
   "outputs": [
    {
     "name": "stdout",
     "output_type": "stream",
     "text": [
      "number of samples = 3, length = 10000.0\n",
      " original discrepancy number = 0.0\n",
      "number of samples = 3, length = 100000.0\n",
      " original discrepancy number = 290861.0\n",
      "number of samples = 3, length = 1000000.0\n",
      " original discrepancy number = 64965254.0\n",
      "number of samples = 3, length = 10000000.0\n",
      " original discrepancy number = 4345347301.0\n",
      "number of samples = 5, length = 10000.0\n",
      " original discrepancy number = 0.0\n",
      "number of samples = 5, length = 100000.0\n",
      " original discrepancy number = 1154010.0\n",
      "number of samples = 5, length = 1000000.0\n",
      " original discrepancy number = 78143011.0\n",
      "number of samples = 5, length = 10000000.0\n",
      " original discrepancy number = 5907279811.0\n",
      "number of samples = 7, length = 10000.0\n",
      " original discrepancy number = 0.0\n",
      "number of samples = 7, length = 100000.0\n",
      " original discrepancy number = 243524.0\n",
      "number of samples = 7, length = 1000000.0\n",
      " original discrepancy number = 67842228.0\n"
     ]
    },
    {
     "ename": "KeyboardInterrupt",
     "evalue": "",
     "output_type": "error",
     "traceback": [
      "\u001b[0;31m---------------------------------------------------------------------------\u001b[0m",
      "\u001b[0;31mKeyboardInterrupt\u001b[0m                         Traceback (most recent call last)",
      "\u001b[1;32m/home/hfriz/num_edges/num_edges/Discrepancy Function.ipynb Cell 20\u001b[0m in \u001b[0;36m<cell line: 1>\u001b[0;34m()\u001b[0m\n\u001b[1;32m      <a href='vscode-notebook-cell://wsl%2Bubuntu/home/hfriz/num_edges/num_edges/Discrepancy%20Function.ipynb#X25sdnNjb2RlLXJlbW90ZQ%3D%3D?line=4'>5</a>\u001b[0m sts \u001b[39m=\u001b[39m ts\u001b[39m.\u001b[39msimplify()\n\u001b[1;32m      <a href='vscode-notebook-cell://wsl%2Bubuntu/home/hfriz/num_edges/num_edges/Discrepancy%20Function.ipynb#X25sdnNjb2RlLXJlbW90ZQ%3D%3D?line=6'>7</a>\u001b[0m ext_sts, _ \u001b[39m=\u001b[39m extend_edges(sts)\n\u001b[0;32m----> <a href='vscode-notebook-cell://wsl%2Bubuntu/home/hfriz/num_edges/num_edges/Discrepancy%20Function.ipynb#X25sdnNjb2RlLXJlbW90ZQ%3D%3D?line=7'>8</a>\u001b[0m d \u001b[39m=\u001b[39m discrepancy(ext_sts, ts)\n\u001b[1;32m      <a href='vscode-notebook-cell://wsl%2Bubuntu/home/hfriz/num_edges/num_edges/Discrepancy%20Function.ipynb#X25sdnNjb2RlLXJlbW90ZQ%3D%3D?line=8'>9</a>\u001b[0m \u001b[39mprint\u001b[39m(\u001b[39mf\u001b[39m\u001b[39m'\u001b[39m\u001b[39mnumber of samples = \u001b[39m\u001b[39m{\u001b[39;00mnum_samples\u001b[39m}\u001b[39;00m\u001b[39m, length = \u001b[39m\u001b[39m{\u001b[39;00mL\u001b[39m}\u001b[39;00m\u001b[39m\\n\u001b[39;00m\u001b[39m original discrepancy number = \u001b[39m\u001b[39m{\u001b[39;00md\u001b[39m}\u001b[39;00m\u001b[39m'\u001b[39m)\n",
      "\u001b[1;32m/home/hfriz/num_edges/num_edges/Discrepancy Function.ipynb Cell 20\u001b[0m in \u001b[0;36mdiscrepancy\u001b[0;34m(ts1, ts2)\u001b[0m\n\u001b[1;32m      <a href='vscode-notebook-cell://wsl%2Bubuntu/home/hfriz/num_edges/num_edges/Discrepancy%20Function.ipynb#X25sdnNjb2RlLXJlbW90ZQ%3D%3D?line=1'>2</a>\u001b[0m dis \u001b[39m=\u001b[39m \u001b[39m0\u001b[39m\n\u001b[1;32m      <a href='vscode-notebook-cell://wsl%2Bubuntu/home/hfriz/num_edges/num_edges/Discrepancy%20Function.ipynb#X25sdnNjb2RlLXJlbW90ZQ%3D%3D?line=2'>3</a>\u001b[0m \u001b[39mfor\u001b[39;00m n \u001b[39min\u001b[39;00m \u001b[39mrange\u001b[39m(ts1\u001b[39m.\u001b[39mnum_nodes):\n\u001b[0;32m----> <a href='vscode-notebook-cell://wsl%2Bubuntu/home/hfriz/num_edges/num_edges/Discrepancy%20Function.ipynb#X25sdnNjb2RlLXJlbW90ZQ%3D%3D?line=3'>4</a>\u001b[0m     dis \u001b[39m+\u001b[39m\u001b[39m=\u001b[39m node_tree_discrepancy(n, ts1, ts2)\n\u001b[1;32m      <a href='vscode-notebook-cell://wsl%2Bubuntu/home/hfriz/num_edges/num_edges/Discrepancy%20Function.ipynb#X25sdnNjb2RlLXJlbW90ZQ%3D%3D?line=4'>5</a>\u001b[0m \u001b[39mreturn\u001b[39;00m dis\n",
      "\u001b[1;32m/home/hfriz/num_edges/num_edges/Discrepancy Function.ipynb Cell 20\u001b[0m in \u001b[0;36mnode_tree_discrepancy\u001b[0;34m(x, ts1, ts2)\u001b[0m\n\u001b[1;32m     <a href='vscode-notebook-cell://wsl%2Bubuntu/home/hfriz/num_edges/num_edges/Discrepancy%20Function.ipynb#X25sdnNjb2RlLXJlbW90ZQ%3D%3D?line=14'>15</a>\u001b[0m     y \u001b[39m=\u001b[39m t2\u001b[39m.\u001b[39mmrca(\u001b[39m*\u001b[39m\u001b[39mlist\u001b[39m(Dx))\n\u001b[1;32m     <a href='vscode-notebook-cell://wsl%2Bubuntu/home/hfriz/num_edges/num_edges/Discrepancy%20Function.ipynb#X25sdnNjb2RlLXJlbW90ZQ%3D%3D?line=15'>16</a>\u001b[0m \u001b[39mif\u001b[39;00m \u001b[39mset\u001b[39m(t2\u001b[39m.\u001b[39msamples(y)) \u001b[39m==\u001b[39m Dx:\n\u001b[0;32m---> <a href='vscode-notebook-cell://wsl%2Bubuntu/home/hfriz/num_edges/num_edges/Discrepancy%20Function.ipynb#X25sdnNjb2RlLXJlbW90ZQ%3D%3D?line=16'>17</a>\u001b[0m     \u001b[39mwhile\u001b[39;00m y \u001b[39m!=\u001b[39m tskit\u001b[39m.\u001b[39mNULL \u001b[39mand\u001b[39;00m \u001b[39mset\u001b[39;49m(t2\u001b[39m.\u001b[39;49msamples(y)) \u001b[39m==\u001b[39m Dx:\n\u001b[1;32m     <a href='vscode-notebook-cell://wsl%2Bubuntu/home/hfriz/num_edges/num_edges/Discrepancy%20Function.ipynb#X25sdnNjb2RlLXJlbW90ZQ%3D%3D?line=17'>18</a>\u001b[0m         sim[y] \u001b[39m+\u001b[39m\u001b[39m=\u001b[39m s\n\u001b[1;32m     <a href='vscode-notebook-cell://wsl%2Bubuntu/home/hfriz/num_edges/num_edges/Discrepancy%20Function.ipynb#X25sdnNjb2RlLXJlbW90ZQ%3D%3D?line=18'>19</a>\u001b[0m         y \u001b[39m=\u001b[39m t2\u001b[39m.\u001b[39mparent(y)\n",
      "File \u001b[0;32m~/.local/lib/python3.8/site-packages/tskit/trees.py:2129\u001b[0m, in \u001b[0;36mTree.samples\u001b[0;34m(self, u)\u001b[0m\n\u001b[1;32m   2127\u001b[0m     roots \u001b[39m=\u001b[39m \u001b[39mself\u001b[39m\u001b[39m.\u001b[39mroots\n\u001b[1;32m   2128\u001b[0m \u001b[39mfor\u001b[39;00m root \u001b[39min\u001b[39;00m roots:\n\u001b[0;32m-> 2129\u001b[0m     \u001b[39myield from\u001b[39;00m \u001b[39mself\u001b[39m\u001b[39m.\u001b[39m_sample_generator(root)\n",
      "File \u001b[0;32m~/.local/lib/python3.8/site-packages/tskit/trees.py:2102\u001b[0m, in \u001b[0;36mTree._sample_generator\u001b[0;34m(self, u)\u001b[0m\n\u001b[1;32m   2098\u001b[0m \u001b[39melse\u001b[39;00m:\n\u001b[1;32m   2099\u001b[0m     \u001b[39m# Fall back on iterating over all nodes in the tree, yielding\u001b[39;00m\n\u001b[1;32m   2100\u001b[0m     \u001b[39m# samples as we see them.\u001b[39;00m\n\u001b[1;32m   2101\u001b[0m     \u001b[39mfor\u001b[39;00m v \u001b[39min\u001b[39;00m \u001b[39mself\u001b[39m\u001b[39m.\u001b[39mnodes(u):\n\u001b[0;32m-> 2102\u001b[0m         \u001b[39mif\u001b[39;00m \u001b[39mself\u001b[39;49m\u001b[39m.\u001b[39;49mis_sample(v):\n\u001b[1;32m   2103\u001b[0m             \u001b[39myield\u001b[39;00m v\n",
      "\u001b[0;31mKeyboardInterrupt\u001b[0m: "
     ]
    }
   ],
   "source": [
    "for num_samples in [3, 5, 7, 9]:\n",
    "    for L in [1e4, 1e5, 1e6,1e7]:\n",
    "        ts = msprime.sim_ancestry(num_samples, population_size=1000, sequence_length=L,\n",
    "                                  recombination_rate=1e-8, record_full_arg=True)\n",
    "        sts = ts.simplify()\n",
    "        \n",
    "        ext_sts, _ = extend_edges(sts)\n",
    "        d = discrepancy(ext_sts, ts)\n",
    "        print(f'number of samples = {num_samples}, length = {L}\\n original discrepancy number = {d}')"
   ]
  },
  {
   "cell_type": "code",
   "execution_count": null,
   "id": "1dac40a0",
   "metadata": {},
   "outputs": [],
   "source": []
  }
 ],
 "metadata": {
  "kernelspec": {
   "display_name": "Python 3 (ipykernel)",
   "language": "python",
   "name": "python3"
  },
  "language_info": {
   "codemirror_mode": {
    "name": "ipython",
    "version": 3
   },
   "file_extension": ".py",
   "mimetype": "text/x-python",
   "name": "python",
   "nbconvert_exporter": "python",
   "pygments_lexer": "ipython3",
   "version": "3.9.9"
  },
  "vscode": {
   "interpreter": {
    "hash": "916dbcbb3f70747c44a77c7bcd40155683ae19c65e1c03b4aa3499c5328201f1"
   }
  }
 },
 "nbformat": 4,
 "nbformat_minor": 5
}
