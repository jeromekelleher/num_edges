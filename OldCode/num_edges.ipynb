{
 "cells": [
  {
   "cell_type": "code",
   "execution_count": 1,
   "id": "8464a3b8",
   "metadata": {},
   "outputs": [],
   "source": [
    "import msprime, tskit\n",
    "import numpy as np\n",
    "from IPython.display import display, SVG"
   ]
  },
  {
   "cell_type": "markdown",
   "id": "84fbc02c",
   "metadata": {},
   "source": [
    "# Questions:\n",
    "\n",
    "1. How can we reduce the number of edges in a tree sequence?\n",
    "2. Is the equivalent tree sequence with minimal edges unique?\n",
    "3. How can we be guaranteed to find a tree sequence with minimal edges?"
   ]
  },
  {
   "cell_type": "markdown",
   "id": "ae48d643",
   "metadata": {},
   "source": [
    "# Simulate a tree sequence\n",
    "\n",
    "We'll use `msprime` to simulate a very small example: the history of 3 diploids (six genomes)\n",
    "along a genome of 50bp in a population of size 100 (diploids).\n",
    "With this random seed we get four different trees; in general the expected number of trees\n",
    "is roughly four times the sequence length times the recombination rate times the population size."
   ]
  },
  {
   "cell_type": "code",
   "execution_count": 2,
   "id": "58ffd0e4",
   "metadata": {},
   "outputs": [
    {
     "data": {
      "text/html": [
       "\n",
       "            <div>\n",
       "              <style>\n",
       "                .tskit-table thead tr th {text-align: left;padding: 0.5em 0.5em;}\n",
       "                .tskit-table tbody tr td {padding: 0.5em 0.5em;}\n",
       "                .tskit-table tbody tr td:first-of-type {text-align: left;}\n",
       "                .tskit-details-label {vertical-align: top; padding-right:5px;}\n",
       "                .tskit-table-set {display: inline-flex;flex-wrap: wrap;margin: -12px 0 0 -12px;width: calc(100% + 12px);}\n",
       "                .tskit-table-set-table {margin: 12px 0 0 12px;}\n",
       "                details {display: inline-block;}\n",
       "                summary {cursor: pointer; outline: 0; display: list-item;}\n",
       "              </style>\n",
       "              <div class=\"tskit-table-set\">\n",
       "                <div class=\"tskit-table-set-table\">\n",
       "                  <table class=\"tskit-table\">\n",
       "                    <thead>\n",
       "                      <tr>\n",
       "                        <th style=\"padding:0;line-height:21px;\">\n",
       "                          <img style=\"height: 32px;display: inline-block;padding: 3px 5px 3px 0;\" src=\"https://raw.githubusercontent.com/tskit-dev/administrative/main/tskit_logo.svg\"/>\n",
       "                          <a target=\"_blank\" href=\"https://tskit.dev/tskit/docs/latest/python-api.html#the-treesequence-class\"> Tree Sequence </a>\n",
       "                        </th>\n",
       "                      </tr>\n",
       "                    </thead>\n",
       "                    <tbody>\n",
       "                      <tr><td>Trees</td><td>4</td></tr>\n",
       "                      <tr><td>Sequence Length</td><td>50.0</td></tr>\n",
       "                      <tr><td>Time Units</td><td>generations</td></tr>\n",
       "                      <tr><td>Sample Nodes</td><td>6</td></tr>\n",
       "                      <tr><td>Total Size</td><td>2.5 KiB</td></tr>\n",
       "                      <tr>\n",
       "                        <td>Metadata</td><td style=\"text-align: left;\">No Metadata</td></tr>\n",
       "                    </tbody>\n",
       "                  </table>\n",
       "                </div>\n",
       "                <div class=\"tskit-table-set-table\">\n",
       "                  <table class=\"tskit-table\">\n",
       "                    <thead>\n",
       "                      <tr>\n",
       "                        <th style=\"line-height:21px;\">Table</th>\n",
       "                        <th>Rows</th>\n",
       "                        <th>Size</th>\n",
       "                        <th>Has Metadata</th>\n",
       "                      </tr>\n",
       "                    </thead>\n",
       "                    <tbody>\n",
       "                    \n",
       "                  <tr>\n",
       "                    <td>Edges</td>\n",
       "                      <td>20</td>\n",
       "                      <td>648 Bytes</td>\n",
       "                      <td style=\"text-align: center;\">\n",
       "                        \n",
       "                      </td>\n",
       "                    </tr>\n",
       "                \n",
       "                  <tr>\n",
       "                    <td>Individuals</td>\n",
       "                      <td>3</td>\n",
       "                      <td>108 Bytes</td>\n",
       "                      <td style=\"text-align: center;\">\n",
       "                        \n",
       "                      </td>\n",
       "                    </tr>\n",
       "                \n",
       "                  <tr>\n",
       "                    <td>Migrations</td>\n",
       "                      <td>0</td>\n",
       "                      <td>8 Bytes</td>\n",
       "                      <td style=\"text-align: center;\">\n",
       "                        \n",
       "                      </td>\n",
       "                    </tr>\n",
       "                \n",
       "                  <tr>\n",
       "                    <td>Mutations</td>\n",
       "                      <td>0</td>\n",
       "                      <td>16 Bytes</td>\n",
       "                      <td style=\"text-align: center;\">\n",
       "                        \n",
       "                      </td>\n",
       "                    </tr>\n",
       "                \n",
       "                  <tr>\n",
       "                    <td>Nodes</td>\n",
       "                      <td>14</td>\n",
       "                      <td>400 Bytes</td>\n",
       "                      <td style=\"text-align: center;\">\n",
       "                        \n",
       "                      </td>\n",
       "                    </tr>\n",
       "                \n",
       "                  <tr>\n",
       "                    <td>Populations</td>\n",
       "                      <td>1</td>\n",
       "                      <td>224 Bytes</td>\n",
       "                      <td style=\"text-align: center;\">\n",
       "                        ✅\n",
       "                      </td>\n",
       "                    </tr>\n",
       "                \n",
       "                  <tr>\n",
       "                    <td>Provenances</td>\n",
       "                      <td>1</td>\n",
       "                      <td>916 Bytes</td>\n",
       "                      <td style=\"text-align: center;\">\n",
       "                        \n",
       "                      </td>\n",
       "                    </tr>\n",
       "                \n",
       "                  <tr>\n",
       "                    <td>Sites</td>\n",
       "                      <td>0</td>\n",
       "                      <td>16 Bytes</td>\n",
       "                      <td style=\"text-align: center;\">\n",
       "                        \n",
       "                      </td>\n",
       "                    </tr>\n",
       "                \n",
       "                    </tbody>\n",
       "                  </table>\n",
       "                </div>\n",
       "              </div>\n",
       "            </div>\n",
       "            "
      ],
      "text/plain": [
       "<tskit.trees.TreeSequence at 0x7f5e2d0c0700>"
      ]
     },
     "execution_count": 2,
     "metadata": {},
     "output_type": "execute_result"
    }
   ],
   "source": [
    "ts = msprime.sim_ancestry(3, sequence_length=50, recombination_rate=1e-4, random_seed=6, population_size=100)\n",
    "ts"
   ]
  },
  {
   "cell_type": "markdown",
   "id": "d805bc71",
   "metadata": {},
   "source": [
    "We can draw the trees:"
   ]
  },
  {
   "cell_type": "code",
   "execution_count": 3,
   "id": "0da70ac7",
   "metadata": {},
   "outputs": [
    {
     "data": {
      "image/svg+xml": [
       "<svg xmlns=\"http://www.w3.org/2000/svg\" xmlns:ev=\"http://www.w3.org/2001/xml-events\" xmlns:xlink=\"http://www.w3.org/1999/xlink\" baseProfile=\"full\" height=\"200\" version=\"1.1\" width=\"800\"><defs><style type=\"text/css\"><![CDATA[.background path {fill: #808080; fill-opacity: 0}.background path:nth-child(odd) {fill-opacity: .1}.axes {font-size: 14px}.x-axis .tick .lab {font-weight: bold; dominant-baseline: hanging}.axes, .tree {font-size: 14px; text-anchor: middle}.axes line, .edge {stroke: black; fill: none}.y-axis .grid {stroke: #FAFAFA}.node > .sym {fill: black; stroke: none}.site > .sym {stroke: black}.mut text {fill: red; font-style: italic}.mut.extra text {fill: hotpink}.mut line {fill: none; stroke: none}.mut .sym {fill: none; stroke: red}.mut.extra .sym {stroke: hotpink}.node .mut .sym {stroke-width: 1.5px}.tree text, .tree-sequence text {dominant-baseline: central}.plotbox .lab.lft {text-anchor: end}.plotbox .lab.rgt {text-anchor: start}]]></style></defs><g class=\"tree-sequence\"><g class=\"background\"><path d=\"M20,0 l190,0 l0,138.2 l98.8,25 l0,5 l-288.8,0 l0,-5 l0,-25 l0,-138.2z\"/><path d=\"M210,0 l190,0 l0,138.2 l-45.6,25 l0,5 l-45.6,0 l0,-5 l-98.8,-25 l0,-138.2z\"/><path d=\"M400,0 l190,0 l0,138.2 l38,25 l0,5 l-273.6,0 l0,-5 l45.6,-25 l0,-138.2z\"/><path d=\"M590,0 l190,0 l0,138.2 l0,25 l0,5 l-152,0 l0,-5 l-38,-25 l0,-138.2z\"/></g><g class=\"axes\"><g class=\"x-axis\"><g transform=\"translate(400 200)\"><text class=\"lab\" text-anchor=\"middle\" transform=\"translate(0 -11)\">Genome position</text></g><line x1=\"20\" x2=\"780\" y1=\"163.2\" y2=\"163.2\"/><g class=\"ticks\"><g class=\"tick\" transform=\"translate(20 163.2)\"><line x1=\"0\" x2=\"0\" y1=\"0\" y2=\"5\"/><g transform=\"translate(0 6)\"><text class=\"lab\">0</text></g></g><g class=\"tick\" transform=\"translate(308.8 163.2)\"><line x1=\"0\" x2=\"0\" y1=\"0\" y2=\"5\"/><g transform=\"translate(0 6)\"><text class=\"lab\">19</text></g></g><g class=\"tick\" transform=\"translate(354.4 163.2)\"><line x1=\"0\" x2=\"0\" y1=\"0\" y2=\"5\"/><g transform=\"translate(0 6)\"><text class=\"lab\">22</text></g></g><g class=\"tick\" transform=\"translate(628 163.2)\"><line x1=\"0\" x2=\"0\" y1=\"0\" y2=\"5\"/><g transform=\"translate(0 6)\"><text class=\"lab\">40</text></g></g><g class=\"tick\" transform=\"translate(780 163.2)\"><line x1=\"0\" x2=\"0\" y1=\"0\" y2=\"5\"/><g transform=\"translate(0 6)\"><text class=\"lab\">50</text></g></g></g></g></g><g class=\"plotbox trees\"><g class=\"tree t0\" transform=\"translate(20 0)\"><g class=\"plotbox\"><g class=\"c2 node n13 p0 root\" transform=\"translate(125.469 26.8)\"><g class=\"a13 i2 leaf node n5 p0 sample\" transform=\"translate(32.0312 94.6)\"><path class=\"edge\" d=\"M 0 0 V -94.6 H -32.0312\"/><rect class=\"sym\" height=\"6\" width=\"6\" x=\"-3\" y=\"-3\"/><text class=\"lab\" transform=\"translate(0 11)\">5</text></g><g class=\"a13 c2 node n11 p0\" transform=\"translate(-32.0312 82.5741)\"><g class=\"a11 i0 leaf node n1 p0 sample\" transform=\"translate(39.0625 12.0259)\"><path class=\"edge\" d=\"M 0 0 V -12.0259 H -39.0625\"/><rect class=\"sym\" height=\"6\" width=\"6\" x=\"-3\" y=\"-3\"/><text class=\"lab\" transform=\"translate(0 11)\">1</text></g><g class=\"a11 c2 node n9 p0\" transform=\"translate(-39.0625 2.68036)\"><g class=\"a9 i0 leaf node n0 p0 sample\" transform=\"translate(-21.875 9.34551)\"><path class=\"edge\" d=\"M 0 0 V -9.34551 H 21.875\"/><rect class=\"sym\" height=\"6\" width=\"6\" x=\"-3\" y=\"-3\"/><text class=\"lab\" transform=\"translate(0 11)\">0</text></g><g class=\"a9 c2 node n7 p0\" transform=\"translate(21.875 5.42279)\"><g class=\"a7 i1 leaf node n2 p0 sample\" transform=\"translate(-18.75 3.92272)\"><path class=\"edge\" d=\"M 0 0 V -3.92272 H 18.75\"/><rect class=\"sym\" height=\"6\" width=\"6\" x=\"-3\" y=\"-3\"/><text class=\"lab\" transform=\"translate(0 11)\">2</text></g><g class=\"a7 c2 node n6 p0\" transform=\"translate(18.75 0.128286)\"><g class=\"a6 i1 leaf node n3 p0 sample\" transform=\"translate(-12.5 3.79443)\"><path class=\"edge\" d=\"M 0 0 V -3.79443 H 12.5\"/><rect class=\"sym\" height=\"6\" width=\"6\" x=\"-3\" y=\"-3\"/><text class=\"lab\" transform=\"translate(0 11)\">3</text></g><g class=\"a6 i2 leaf node n4 p0 sample\" transform=\"translate(12.5 3.79443)\"><path class=\"edge\" d=\"M 0 0 V -3.79443 H -12.5\"/><rect class=\"sym\" height=\"6\" width=\"6\" x=\"-3\" y=\"-3\"/><text class=\"lab\" transform=\"translate(0 11)\">4</text></g><path class=\"edge\" d=\"M 0 0 V -0.128286 H -18.75\"/><circle class=\"sym\" cx=\"0\" cy=\"0\" r=\"3\"/><text class=\"lab rgt\" transform=\"translate(3 -7.0)\">6</text></g><path class=\"edge\" d=\"M 0 0 V -5.42279 H -21.875\"/><circle class=\"sym\" cx=\"0\" cy=\"0\" r=\"3\"/><text class=\"lab rgt\" transform=\"translate(3 -7.0)\">7</text></g><path class=\"edge\" d=\"M 0 0 V -2.68036 H 39.0625\"/><circle class=\"sym\" cx=\"0\" cy=\"0\" r=\"3\"/><text class=\"lab lft\" transform=\"translate(-3 -7.0)\">9</text></g><path class=\"edge\" d=\"M 0 0 V -82.5741 H 32.0312\"/><circle class=\"sym\" cx=\"0\" cy=\"0\" r=\"3\"/><text class=\"lab lft\" transform=\"translate(-3 -7.0)\">11</text></g><circle class=\"sym\" cx=\"0\" cy=\"0\" r=\"3\"/><text class=\"lab\" transform=\"translate(0 -11)\">13</text></g></g></g><g class=\"tree t1\" transform=\"translate(210 0)\"><g class=\"plotbox\"><g class=\"c2 node n13 p0 root\" transform=\"translate(106.719 26.8)\"><g class=\"a13 i2 leaf node n5 p0 sample\" transform=\"translate(50.7812 94.6)\"><path class=\"edge\" d=\"M 0 0 V -94.6 H -50.7812\"/><rect class=\"sym\" height=\"6\" width=\"6\" x=\"-3\" y=\"-3\"/><text class=\"lab\" transform=\"translate(0 11)\">5</text></g><g class=\"a13 c2 node n9 p0\" transform=\"translate(-50.7812 85.2545)\"><g class=\"a9 i0 leaf node n0 p0 sample\" transform=\"translate(-23.4375 9.34551)\"><path class=\"edge\" d=\"M 0 0 V -9.34551 H 23.4375\"/><rect class=\"sym\" height=\"6\" width=\"6\" x=\"-3\" y=\"-3\"/><text class=\"lab\" transform=\"translate(0 11)\">0</text></g><g class=\"a9 c2 node n8 p0\" transform=\"translate(23.4375 3.36916)\"><g class=\"a8 i0 leaf node n1 p0 sample\" transform=\"translate(-21.875 5.97635)\"><path class=\"edge\" d=\"M 0 0 V -5.97635 H 21.875\"/><rect class=\"sym\" height=\"6\" width=\"6\" x=\"-3\" y=\"-3\"/><text class=\"lab\" transform=\"translate(0 11)\">1</text></g><g class=\"a8 c2 node n7 p0\" transform=\"translate(21.875 2.05363)\"><g class=\"a7 i1 leaf node n2 p0 sample\" transform=\"translate(-18.75 3.92272)\"><path class=\"edge\" d=\"M 0 0 V -3.92272 H 18.75\"/><rect class=\"sym\" height=\"6\" width=\"6\" x=\"-3\" y=\"-3\"/><text class=\"lab\" transform=\"translate(0 11)\">2</text></g><g class=\"a7 c2 node n6 p0\" transform=\"translate(18.75 0.128286)\"><g class=\"a6 i1 leaf node n3 p0 sample\" transform=\"translate(-12.5 3.79443)\"><path class=\"edge\" d=\"M 0 0 V -3.79443 H 12.5\"/><rect class=\"sym\" height=\"6\" width=\"6\" x=\"-3\" y=\"-3\"/><text class=\"lab\" transform=\"translate(0 11)\">3</text></g><g class=\"a6 i2 leaf node n4 p0 sample\" transform=\"translate(12.5 3.79443)\"><path class=\"edge\" d=\"M 0 0 V -3.79443 H -12.5\"/><rect class=\"sym\" height=\"6\" width=\"6\" x=\"-3\" y=\"-3\"/><text class=\"lab\" transform=\"translate(0 11)\">4</text></g><path class=\"edge\" d=\"M 0 0 V -0.128286 H -18.75\"/><circle class=\"sym\" cx=\"0\" cy=\"0\" r=\"3\"/><text class=\"lab rgt\" transform=\"translate(3 -7.0)\">6</text></g><path class=\"edge\" d=\"M 0 0 V -2.05363 H -21.875\"/><circle class=\"sym\" cx=\"0\" cy=\"0\" r=\"3\"/><text class=\"lab rgt\" transform=\"translate(3 -7.0)\">7</text></g><path class=\"edge\" d=\"M 0 0 V -3.36916 H -23.4375\"/><circle class=\"sym\" cx=\"0\" cy=\"0\" r=\"3\"/><text class=\"lab rgt\" transform=\"translate(3 -7.0)\">8</text></g><path class=\"edge\" d=\"M 0 0 V -85.2545 H 50.7812\"/><circle class=\"sym\" cx=\"0\" cy=\"0\" r=\"3\"/><text class=\"lab lft\" transform=\"translate(-3 -7.0)\">9</text></g><circle class=\"sym\" cx=\"0\" cy=\"0\" r=\"3\"/><text class=\"lab\" transform=\"translate(0 -11)\">13</text></g></g></g><g class=\"tree t2\" transform=\"translate(400 0)\"><g class=\"plotbox\"><g class=\"c2 node n12 p0 root\" transform=\"translate(106.719 60.332)\"><g class=\"a12 i2 leaf node n5 p0 sample\" transform=\"translate(50.7812 61.068)\"><path class=\"edge\" d=\"M 0 0 V -61.068 H -50.7812\"/><rect class=\"sym\" height=\"6\" width=\"6\" x=\"-3\" y=\"-3\"/><text class=\"lab\" transform=\"translate(0 11)\">5</text></g><g class=\"a12 c2 node n9 p0\" transform=\"translate(-50.7812 51.7225)\"><g class=\"a9 i0 leaf node n0 p0 sample\" transform=\"translate(-23.4375 9.34551)\"><path class=\"edge\" d=\"M 0 0 V -9.34551 H 23.4375\"/><rect class=\"sym\" height=\"6\" width=\"6\" x=\"-3\" y=\"-3\"/><text class=\"lab\" transform=\"translate(0 11)\">0</text></g><g class=\"a9 c2 node n8 p0\" transform=\"translate(23.4375 3.36916)\"><g class=\"a8 i0 leaf node n1 p0 sample\" transform=\"translate(-21.875 5.97635)\"><path class=\"edge\" d=\"M 0 0 V -5.97635 H 21.875\"/><rect class=\"sym\" height=\"6\" width=\"6\" x=\"-3\" y=\"-3\"/><text class=\"lab\" transform=\"translate(0 11)\">1</text></g><g class=\"a8 c2 node n7 p0\" transform=\"translate(21.875 2.05363)\"><g class=\"a7 i1 leaf node n2 p0 sample\" transform=\"translate(-18.75 3.92272)\"><path class=\"edge\" d=\"M 0 0 V -3.92272 H 18.75\"/><rect class=\"sym\" height=\"6\" width=\"6\" x=\"-3\" y=\"-3\"/><text class=\"lab\" transform=\"translate(0 11)\">2</text></g><g class=\"a7 c2 node n6 p0\" transform=\"translate(18.75 0.128286)\"><g class=\"a6 i1 leaf node n3 p0 sample\" transform=\"translate(-12.5 3.79443)\"><path class=\"edge\" d=\"M 0 0 V -3.79443 H 12.5\"/><rect class=\"sym\" height=\"6\" width=\"6\" x=\"-3\" y=\"-3\"/><text class=\"lab\" transform=\"translate(0 11)\">3</text></g><g class=\"a6 i2 leaf node n4 p0 sample\" transform=\"translate(12.5 3.79443)\"><path class=\"edge\" d=\"M 0 0 V -3.79443 H -12.5\"/><rect class=\"sym\" height=\"6\" width=\"6\" x=\"-3\" y=\"-3\"/><text class=\"lab\" transform=\"translate(0 11)\">4</text></g><path class=\"edge\" d=\"M 0 0 V -0.128286 H -18.75\"/><circle class=\"sym\" cx=\"0\" cy=\"0\" r=\"3\"/><text class=\"lab rgt\" transform=\"translate(3 -7.0)\">6</text></g><path class=\"edge\" d=\"M 0 0 V -2.05363 H -21.875\"/><circle class=\"sym\" cx=\"0\" cy=\"0\" r=\"3\"/><text class=\"lab rgt\" transform=\"translate(3 -7.0)\">7</text></g><path class=\"edge\" d=\"M 0 0 V -3.36916 H -23.4375\"/><circle class=\"sym\" cx=\"0\" cy=\"0\" r=\"3\"/><text class=\"lab rgt\" transform=\"translate(3 -7.0)\">8</text></g><path class=\"edge\" d=\"M 0 0 V -51.7225 H 50.7812\"/><circle class=\"sym\" cx=\"0\" cy=\"0\" r=\"3\"/><text class=\"lab lft\" transform=\"translate(-3 -7.0)\">9</text></g><circle class=\"sym\" cx=\"0\" cy=\"0\" r=\"3\"/><text class=\"lab\" transform=\"translate(0 -11)\">12</text></g></g></g><g class=\"tree t3\" transform=\"translate(590 0)\"><g class=\"plotbox\"><g class=\"c2 node n12 p0 root\" transform=\"translate(125.469 60.332)\"><g class=\"a12 i2 leaf node n5 p0 sample\" transform=\"translate(32.0312 61.068)\"><path class=\"edge\" d=\"M 0 0 V -61.068 H -32.0312\"/><rect class=\"sym\" height=\"6\" width=\"6\" x=\"-3\" y=\"-3\"/><text class=\"lab\" transform=\"translate(0 11)\">5</text></g><g class=\"a12 c2 node n10 p0\" transform=\"translate(-32.0312 50.1312)\"><g class=\"a10 i0 leaf node n1 p0 sample\" transform=\"translate(39.0625 10.9367)\"><path class=\"edge\" d=\"M 0 0 V -10.9367 H -39.0625\"/><rect class=\"sym\" height=\"6\" width=\"6\" x=\"-3\" y=\"-3\"/><text class=\"lab\" transform=\"translate(0 11)\">1</text></g><g class=\"a10 c2 node n9 p0\" transform=\"translate(-39.0625 1.59124)\"><g class=\"a9 i0 leaf node n0 p0 sample\" transform=\"translate(-21.875 9.34551)\"><path class=\"edge\" d=\"M 0 0 V -9.34551 H 21.875\"/><rect class=\"sym\" height=\"6\" width=\"6\" x=\"-3\" y=\"-3\"/><text class=\"lab\" transform=\"translate(0 11)\">0</text></g><g class=\"a9 c2 node n7 p0\" transform=\"translate(21.875 5.42279)\"><g class=\"a7 i1 leaf node n2 p0 sample\" transform=\"translate(-18.75 3.92272)\"><path class=\"edge\" d=\"M 0 0 V -3.92272 H 18.75\"/><rect class=\"sym\" height=\"6\" width=\"6\" x=\"-3\" y=\"-3\"/><text class=\"lab\" transform=\"translate(0 11)\">2</text></g><g class=\"a7 c2 node n6 p0\" transform=\"translate(18.75 0.128286)\"><g class=\"a6 i1 leaf node n3 p0 sample\" transform=\"translate(-12.5 3.79443)\"><path class=\"edge\" d=\"M 0 0 V -3.79443 H 12.5\"/><rect class=\"sym\" height=\"6\" width=\"6\" x=\"-3\" y=\"-3\"/><text class=\"lab\" transform=\"translate(0 11)\">3</text></g><g class=\"a6 i2 leaf node n4 p0 sample\" transform=\"translate(12.5 3.79443)\"><path class=\"edge\" d=\"M 0 0 V -3.79443 H -12.5\"/><rect class=\"sym\" height=\"6\" width=\"6\" x=\"-3\" y=\"-3\"/><text class=\"lab\" transform=\"translate(0 11)\">4</text></g><path class=\"edge\" d=\"M 0 0 V -0.128286 H -18.75\"/><circle class=\"sym\" cx=\"0\" cy=\"0\" r=\"3\"/><text class=\"lab rgt\" transform=\"translate(3 -7.0)\">6</text></g><path class=\"edge\" d=\"M 0 0 V -5.42279 H -21.875\"/><circle class=\"sym\" cx=\"0\" cy=\"0\" r=\"3\"/><text class=\"lab rgt\" transform=\"translate(3 -7.0)\">7</text></g><path class=\"edge\" d=\"M 0 0 V -1.59124 H 39.0625\"/><circle class=\"sym\" cx=\"0\" cy=\"0\" r=\"3\"/><text class=\"lab lft\" transform=\"translate(-3 -7.0)\">9</text></g><path class=\"edge\" d=\"M 0 0 V -50.1312 H 32.0312\"/><circle class=\"sym\" cx=\"0\" cy=\"0\" r=\"3\"/><text class=\"lab lft\" transform=\"translate(-3 -7.0)\">10</text></g><circle class=\"sym\" cx=\"0\" cy=\"0\" r=\"3\"/><text class=\"lab\" transform=\"translate(0 -11)\">12</text></g></g></g></g></g></svg>"
      ],
      "text/plain": [
       "<IPython.core.display.SVG object>"
      ]
     },
     "execution_count": 3,
     "metadata": {},
     "output_type": "execute_result"
    }
   ],
   "source": [
    "SVG(ts.draw_svg())"
   ]
  },
  {
   "cell_type": "markdown",
   "id": "517535be",
   "metadata": {},
   "source": [
    "The tree sequence is immutable,\n",
    "so to change things we extract the underlying tables and edit them.\n",
    "There's a number of tables we won't worry about,\n",
    "we're only interested in the `node` and `edge` tables:"
   ]
  },
  {
   "cell_type": "code",
   "execution_count": 3,
   "id": "d5eea2b2",
   "metadata": {},
   "outputs": [
    {
     "name": "stdout",
     "output_type": "stream",
     "text": [
      "╔══╤═════╤══════════╤══════════╤════════════╤════════╗\n",
      "║id│flags│population│individual│time        │metadata║\n",
      "╠══╪═════╪══════════╪══════════╪════════════╪════════╣\n",
      "║0 │    1│         0│         0│  0.00000000│     b''║\n",
      "║1 │    1│         0│         0│  0.00000000│     b''║\n",
      "║2 │    1│         0│         1│  0.00000000│     b''║\n",
      "║3 │    1│         0│         1│  0.00000000│     b''║\n",
      "║4 │    1│         0│         2│  0.00000000│     b''║\n",
      "║5 │    1│         0│         2│  0.00000000│     b''║\n",
      "║6 │    0│         0│        -1│ 39.28648696│     b''║\n",
      "║7 │    0│         0│        -1│ 40.61472407│     b''║\n",
      "║8 │    0│         0│        -1│ 61.87739822│     b''║\n",
      "║9 │    0│         0│        -1│ 96.76071699│     b''║\n",
      "║10│    0│         0│        -1│113.23592655│     b''║\n",
      "║11│    0│         0│        -1│124.51238281│     b''║\n",
      "║12│    0│         0│        -1│632.28043141│     b''║\n",
      "║13│    0│         0│        -1│979.46150023│     b''║\n",
      "╚══╧═════╧══════════╧══════════╧════════════╧════════╝\n",
      "\n"
     ]
    }
   ],
   "source": [
    "t = ts.dump_tables()\n",
    "print(t.nodes)"
   ]
  },
  {
   "cell_type": "code",
   "execution_count": 5,
   "id": "a785a216",
   "metadata": {},
   "outputs": [
    {
     "name": "stdout",
     "output_type": "stream",
     "text": [
      "╔══╤═══════════╤═══════════╤══════╤═════╤════════╗\n",
      "║id│left       │right      │parent│child│metadata║\n",
      "╠══╪═══════════╪═══════════╪══════╪═════╪════════╣\n",
      "║0 │ 0.00000000│50.00000000│     6│    3│     b''║\n",
      "║1 │ 0.00000000│50.00000000│     6│    4│     b''║\n",
      "║2 │ 0.00000000│50.00000000│     7│    2│     b''║\n",
      "║3 │ 0.00000000│50.00000000│     7│    6│     b''║\n",
      "║4 │19.00000000│40.00000000│     8│    1│     b''║\n",
      "║5 │19.00000000│40.00000000│     8│    7│     b''║\n",
      "║6 │ 0.00000000│50.00000000│     9│    0│     b''║\n",
      "║7 │ 0.00000000│19.00000000│     9│    7│     b''║\n",
      "║8 │40.00000000│50.00000000│     9│    7│     b''║\n",
      "║9 │19.00000000│40.00000000│     9│    8│     b''║\n",
      "║10│40.00000000│50.00000000│    10│    1│     b''║\n",
      "║11│40.00000000│50.00000000│    10│    9│     b''║\n",
      "║12│ 0.00000000│19.00000000│    11│    1│     b''║\n",
      "║13│ 0.00000000│19.00000000│    11│    9│     b''║\n",
      "║14│22.00000000│50.00000000│    12│    5│     b''║\n",
      "║15│22.00000000│40.00000000│    12│    9│     b''║\n",
      "║16│40.00000000│50.00000000│    12│   10│     b''║\n",
      "║17│ 0.00000000│22.00000000│    13│    5│     b''║\n",
      "║18│19.00000000│22.00000000│    13│    9│     b''║\n",
      "║19│ 0.00000000│19.00000000│    13│   11│     b''║\n",
      "╚══╧═══════════╧═══════════╧══════╧═════╧════════╝\n",
      "\n"
     ]
    }
   ],
   "source": [
    "print(t.edges)"
   ]
  },
  {
   "cell_type": "markdown",
   "id": "a7fb1fc1",
   "metadata": {},
   "source": [
    "## Editing tables\n",
    "\n",
    "Suppose we wanted to add a new ancestor of nodes 12 and 13 at some long time ago.\n",
    "To do this we just need to add the node, and these two edges:"
   ]
  },
  {
   "cell_type": "code",
   "execution_count": 6,
   "id": "db35c8bf",
   "metadata": {},
   "outputs": [
    {
     "data": {
      "image/svg+xml": [
       "<svg xmlns=\"http://www.w3.org/2000/svg\" xmlns:ev=\"http://www.w3.org/2001/xml-events\" xmlns:xlink=\"http://www.w3.org/1999/xlink\" baseProfile=\"full\" height=\"200\" version=\"1.1\" width=\"800\"><defs><style type=\"text/css\"><![CDATA[.background path {fill: #808080; fill-opacity: 0}.background path:nth-child(odd) {fill-opacity: .1}.axes {font-size: 14px}.x-axis .tick .lab {font-weight: bold; dominant-baseline: hanging}.axes, .tree {font-size: 14px; text-anchor: middle}.axes line, .edge {stroke: black; fill: none}.y-axis .grid {stroke: #FAFAFA}.node > .sym {fill: black; stroke: none}.site > .sym {stroke: black}.mut text {fill: red; font-style: italic}.mut.extra text {fill: hotpink}.mut line {fill: none; stroke: none}.mut .sym {fill: none; stroke: red}.mut.extra .sym {stroke: hotpink}.node .mut .sym {stroke-width: 1.5px}.tree text, .tree-sequence text {dominant-baseline: central}.plotbox .lab.lft {text-anchor: end}.plotbox .lab.rgt {text-anchor: start}]]></style></defs><g class=\"tree-sequence\"><g class=\"background\"><path d=\"M20,0 l190,0 l0,138.2 l98.8,25 l0,5 l-288.8,0 l0,-5 l0,-25 l0,-138.2z\"/><path d=\"M210,0 l190,0 l0,138.2 l-45.6,25 l0,5 l-45.6,0 l0,-5 l-98.8,-25 l0,-138.2z\"/><path d=\"M400,0 l190,0 l0,138.2 l38,25 l0,5 l-273.6,0 l0,-5 l45.6,-25 l0,-138.2z\"/><path d=\"M590,0 l190,0 l0,138.2 l0,25 l0,5 l-152,0 l0,-5 l-38,-25 l0,-138.2z\"/></g><g class=\"axes\"><g class=\"x-axis\"><g transform=\"translate(400 200)\"><text class=\"lab\" text-anchor=\"middle\" transform=\"translate(0 -11)\">Genome position</text></g><line x1=\"20\" x2=\"780\" y1=\"163.2\" y2=\"163.2\"/><g class=\"ticks\"><g class=\"tick\" transform=\"translate(20 163.2)\"><line x1=\"0\" x2=\"0\" y1=\"0\" y2=\"5\"/><g transform=\"translate(0 6)\"><text class=\"lab\">0</text></g></g><g class=\"tick\" transform=\"translate(308.8 163.2)\"><line x1=\"0\" x2=\"0\" y1=\"0\" y2=\"5\"/><g transform=\"translate(0 6)\"><text class=\"lab\">19</text></g></g><g class=\"tick\" transform=\"translate(354.4 163.2)\"><line x1=\"0\" x2=\"0\" y1=\"0\" y2=\"5\"/><g transform=\"translate(0 6)\"><text class=\"lab\">22</text></g></g><g class=\"tick\" transform=\"translate(628 163.2)\"><line x1=\"0\" x2=\"0\" y1=\"0\" y2=\"5\"/><g transform=\"translate(0 6)\"><text class=\"lab\">40</text></g></g><g class=\"tick\" transform=\"translate(780 163.2)\"><line x1=\"0\" x2=\"0\" y1=\"0\" y2=\"5\"/><g transform=\"translate(0 6)\"><text class=\"lab\">50</text></g></g></g></g></g><g class=\"plotbox trees\"><g class=\"tree t0\" transform=\"translate(20 0)\"><g class=\"plotbox\"><g class=\"c2 node n14 root\" transform=\"translate(134.844 26.8)\"><g class=\"a14 leaf node n12 p0\" transform=\"translate(24.442 64.6931)\"><path class=\"edge\" d=\"M 0 0 V -64.6931 H -24.442\"/><circle class=\"sym\" cx=\"0\" cy=\"0\" r=\"3\"/><text class=\"lab\" transform=\"translate(0 11)\">12</text></g><g class=\"a14 c2 node n13 p0\" transform=\"translate(-24.442 48.2715)\"><g class=\"a13 i2 leaf node n5 p0 sample\" transform=\"translate(27.4554 46.3285)\"><path class=\"edge\" d=\"M 0 0 V -46.3285 H -27.4554\"/><rect class=\"sym\" height=\"6\" width=\"6\" x=\"-3\" y=\"-3\"/><text class=\"lab\" transform=\"translate(0 11)\">5</text></g><g class=\"a13 c2 node n11 p0\" transform=\"translate(-27.4554 40.4391)\"><g class=\"a11 i0 leaf node n1 p0 sample\" transform=\"translate(33.4821 5.88944)\"><path class=\"edge\" d=\"M 0 0 V -5.88944 H -33.4821\"/><rect class=\"sym\" height=\"6\" width=\"6\" x=\"-3\" y=\"-3\"/><text class=\"lab\" transform=\"translate(0 11)\">1</text></g><g class=\"a11 c2 node n9 p0\" transform=\"translate(-33.4821 1.31265)\"><g class=\"a9 i0 leaf node n0 p0 sample\" transform=\"translate(-18.75 4.57678)\"><path class=\"edge\" d=\"M 0 0 V -4.57678 H 18.75\"/><rect class=\"sym\" height=\"6\" width=\"6\" x=\"-3\" y=\"-3\"/><text class=\"lab\" transform=\"translate(0 11)\">0</text></g><g class=\"a9 c2 node n7 p0\" transform=\"translate(18.75 2.65571)\"><g class=\"a7 i1 leaf node n2 p0 sample\" transform=\"translate(-16.0714 1.92108)\"><path class=\"edge\" d=\"M 0 0 V -1.92108 H 16.0714\"/><rect class=\"sym\" height=\"6\" width=\"6\" x=\"-3\" y=\"-3\"/><text class=\"lab\" transform=\"translate(0 11)\">2</text></g><g class=\"a7 c2 node n6 p0\" transform=\"translate(16.0714 0.0628256)\"><g class=\"a6 i1 leaf node n3 p0 sample\" transform=\"translate(-10.7143 1.85825)\"><path class=\"edge\" d=\"M 0 0 V -1.85825 H 10.7143\"/><rect class=\"sym\" height=\"6\" width=\"6\" x=\"-3\" y=\"-3\"/><text class=\"lab\" transform=\"translate(0 11)\">3</text></g><g class=\"a6 i2 leaf node n4 p0 sample\" transform=\"translate(10.7143 1.85825)\"><path class=\"edge\" d=\"M 0 0 V -1.85825 H -10.7143\"/><rect class=\"sym\" height=\"6\" width=\"6\" x=\"-3\" y=\"-3\"/><text class=\"lab\" transform=\"translate(0 11)\">4</text></g><path class=\"edge\" d=\"M 0 0 V -0.0628256 H -16.0714\"/><circle class=\"sym\" cx=\"0\" cy=\"0\" r=\"3\"/><text class=\"lab rgt\" transform=\"translate(3 -7.0)\">6</text></g><path class=\"edge\" d=\"M 0 0 V -2.65571 H -18.75\"/><circle class=\"sym\" cx=\"0\" cy=\"0\" r=\"3\"/><text class=\"lab rgt\" transform=\"translate(3 -7.0)\">7</text></g><path class=\"edge\" d=\"M 0 0 V -1.31265 H 33.4821\"/><circle class=\"sym\" cx=\"0\" cy=\"0\" r=\"3\"/><text class=\"lab lft\" transform=\"translate(-3 -7.0)\">9</text></g><path class=\"edge\" d=\"M 0 0 V -40.4391 H 27.4554\"/><circle class=\"sym\" cx=\"0\" cy=\"0\" r=\"3\"/><text class=\"lab lft\" transform=\"translate(-3 -7.0)\">11</text></g><path class=\"edge\" d=\"M 0 0 V -48.2715 H 24.442\"/><circle class=\"sym\" cx=\"0\" cy=\"0\" r=\"3\"/><text class=\"lab lft\" transform=\"translate(-3 -7.0)\">13</text></g><circle class=\"sym\" cx=\"0\" cy=\"0\" r=\"3\"/><text class=\"lab\" transform=\"translate(0 -11)\">14</text></g></g></g><g class=\"tree t1\" transform=\"translate(210 0)\"><g class=\"plotbox\"><g class=\"c2 node n14 root\" transform=\"translate(126.808 26.8)\"><g class=\"a14 leaf node n12 p0\" transform=\"translate(32.4777 64.6931)\"><path class=\"edge\" d=\"M 0 0 V -64.6931 H -32.4777\"/><circle class=\"sym\" cx=\"0\" cy=\"0\" r=\"3\"/><text class=\"lab\" transform=\"translate(0 11)\">12</text></g><g class=\"a14 c2 node n13 p0\" transform=\"translate(-32.4777 48.2715)\"><g class=\"a13 i2 leaf node n5 p0 sample\" transform=\"translate(43.5268 46.3285)\"><path class=\"edge\" d=\"M 0 0 V -46.3285 H -43.5268\"/><rect class=\"sym\" height=\"6\" width=\"6\" x=\"-3\" y=\"-3\"/><text class=\"lab\" transform=\"translate(0 11)\">5</text></g><g class=\"a13 c2 node n9 p0\" transform=\"translate(-43.5268 41.7517)\"><g class=\"a9 i0 leaf node n0 p0 sample\" transform=\"translate(-20.0893 4.57678)\"><path class=\"edge\" d=\"M 0 0 V -4.57678 H 20.0893\"/><rect class=\"sym\" height=\"6\" width=\"6\" x=\"-3\" y=\"-3\"/><text class=\"lab\" transform=\"translate(0 11)\">0</text></g><g class=\"a9 c2 node n8 p0\" transform=\"translate(20.0893 1.64998)\"><g class=\"a8 i0 leaf node n1 p0 sample\" transform=\"translate(-18.75 2.9268)\"><path class=\"edge\" d=\"M 0 0 V -2.9268 H 18.75\"/><rect class=\"sym\" height=\"6\" width=\"6\" x=\"-3\" y=\"-3\"/><text class=\"lab\" transform=\"translate(0 11)\">1</text></g><g class=\"a8 c2 node n7 p0\" transform=\"translate(18.75 1.00572)\"><g class=\"a7 i1 leaf node n2 p0 sample\" transform=\"translate(-16.0714 1.92108)\"><path class=\"edge\" d=\"M 0 0 V -1.92108 H 16.0714\"/><rect class=\"sym\" height=\"6\" width=\"6\" x=\"-3\" y=\"-3\"/><text class=\"lab\" transform=\"translate(0 11)\">2</text></g><g class=\"a7 c2 node n6 p0\" transform=\"translate(16.0714 0.0628256)\"><g class=\"a6 i1 leaf node n3 p0 sample\" transform=\"translate(-10.7143 1.85825)\"><path class=\"edge\" d=\"M 0 0 V -1.85825 H 10.7143\"/><rect class=\"sym\" height=\"6\" width=\"6\" x=\"-3\" y=\"-3\"/><text class=\"lab\" transform=\"translate(0 11)\">3</text></g><g class=\"a6 i2 leaf node n4 p0 sample\" transform=\"translate(10.7143 1.85825)\"><path class=\"edge\" d=\"M 0 0 V -1.85825 H -10.7143\"/><rect class=\"sym\" height=\"6\" width=\"6\" x=\"-3\" y=\"-3\"/><text class=\"lab\" transform=\"translate(0 11)\">4</text></g><path class=\"edge\" d=\"M 0 0 V -0.0628256 H -16.0714\"/><circle class=\"sym\" cx=\"0\" cy=\"0\" r=\"3\"/><text class=\"lab rgt\" transform=\"translate(3 -7.0)\">6</text></g><path class=\"edge\" d=\"M 0 0 V -1.00572 H -18.75\"/><circle class=\"sym\" cx=\"0\" cy=\"0\" r=\"3\"/><text class=\"lab rgt\" transform=\"translate(3 -7.0)\">7</text></g><path class=\"edge\" d=\"M 0 0 V -1.64998 H -20.0893\"/><circle class=\"sym\" cx=\"0\" cy=\"0\" r=\"3\"/><text class=\"lab rgt\" transform=\"translate(3 -7.0)\">8</text></g><path class=\"edge\" d=\"M 0 0 V -41.7517 H 43.5268\"/><circle class=\"sym\" cx=\"0\" cy=\"0\" r=\"3\"/><text class=\"lab lft\" transform=\"translate(-3 -7.0)\">9</text></g><path class=\"edge\" d=\"M 0 0 V -48.2715 H 32.4777\"/><circle class=\"sym\" cx=\"0\" cy=\"0\" r=\"3\"/><text class=\"lab lft\" transform=\"translate(-3 -7.0)\">13</text></g><circle class=\"sym\" cx=\"0\" cy=\"0\" r=\"3\"/><text class=\"lab\" transform=\"translate(0 -11)\">14</text></g></g></g><g class=\"tree t2\" transform=\"translate(400 0)\"><g class=\"plotbox\"><g class=\"c2 node n14 root\" transform=\"translate(126.808 26.8)\"><g class=\"a14 c2 node n12 p0\" transform=\"translate(-32.4777 64.6931)\"><g class=\"a12 i2 leaf node n5 p0 sample\" transform=\"translate(43.5268 29.9069)\"><path class=\"edge\" d=\"M 0 0 V -29.9069 H -43.5268\"/><rect class=\"sym\" height=\"6\" width=\"6\" x=\"-3\" y=\"-3\"/><text class=\"lab\" transform=\"translate(0 11)\">5</text></g><g class=\"a12 c2 node n9 p0\" transform=\"translate(-43.5268 25.3301)\"><g class=\"a9 i0 leaf node n0 p0 sample\" transform=\"translate(-20.0893 4.57678)\"><path class=\"edge\" d=\"M 0 0 V -4.57678 H 20.0893\"/><rect class=\"sym\" height=\"6\" width=\"6\" x=\"-3\" y=\"-3\"/><text class=\"lab\" transform=\"translate(0 11)\">0</text></g><g class=\"a9 c2 node n8 p0\" transform=\"translate(20.0893 1.64998)\"><g class=\"a8 i0 leaf node n1 p0 sample\" transform=\"translate(-18.75 2.9268)\"><path class=\"edge\" d=\"M 0 0 V -2.9268 H 18.75\"/><rect class=\"sym\" height=\"6\" width=\"6\" x=\"-3\" y=\"-3\"/><text class=\"lab\" transform=\"translate(0 11)\">1</text></g><g class=\"a8 c2 node n7 p0\" transform=\"translate(18.75 1.00572)\"><g class=\"a7 i1 leaf node n2 p0 sample\" transform=\"translate(-16.0714 1.92108)\"><path class=\"edge\" d=\"M 0 0 V -1.92108 H 16.0714\"/><rect class=\"sym\" height=\"6\" width=\"6\" x=\"-3\" y=\"-3\"/><text class=\"lab\" transform=\"translate(0 11)\">2</text></g><g class=\"a7 c2 node n6 p0\" transform=\"translate(16.0714 0.0628256)\"><g class=\"a6 i1 leaf node n3 p0 sample\" transform=\"translate(-10.7143 1.85825)\"><path class=\"edge\" d=\"M 0 0 V -1.85825 H 10.7143\"/><rect class=\"sym\" height=\"6\" width=\"6\" x=\"-3\" y=\"-3\"/><text class=\"lab\" transform=\"translate(0 11)\">3</text></g><g class=\"a6 i2 leaf node n4 p0 sample\" transform=\"translate(10.7143 1.85825)\"><path class=\"edge\" d=\"M 0 0 V -1.85825 H -10.7143\"/><rect class=\"sym\" height=\"6\" width=\"6\" x=\"-3\" y=\"-3\"/><text class=\"lab\" transform=\"translate(0 11)\">4</text></g><path class=\"edge\" d=\"M 0 0 V -0.0628256 H -16.0714\"/><circle class=\"sym\" cx=\"0\" cy=\"0\" r=\"3\"/><text class=\"lab rgt\" transform=\"translate(3 -7.0)\">6</text></g><path class=\"edge\" d=\"M 0 0 V -1.00572 H -18.75\"/><circle class=\"sym\" cx=\"0\" cy=\"0\" r=\"3\"/><text class=\"lab rgt\" transform=\"translate(3 -7.0)\">7</text></g><path class=\"edge\" d=\"M 0 0 V -1.64998 H -20.0893\"/><circle class=\"sym\" cx=\"0\" cy=\"0\" r=\"3\"/><text class=\"lab rgt\" transform=\"translate(3 -7.0)\">8</text></g><path class=\"edge\" d=\"M 0 0 V -25.3301 H 43.5268\"/><circle class=\"sym\" cx=\"0\" cy=\"0\" r=\"3\"/><text class=\"lab lft\" transform=\"translate(-3 -7.0)\">9</text></g><path class=\"edge\" d=\"M 0 0 V -64.6931 H 32.4777\"/><circle class=\"sym\" cx=\"0\" cy=\"0\" r=\"3\"/><text class=\"lab lft\" transform=\"translate(-3 -7.0)\">12</text></g><g class=\"a14 leaf node n13 p0\" transform=\"translate(32.4777 48.2715)\"><path class=\"edge\" d=\"M 0 0 V -48.2715 H -32.4777\"/><circle class=\"sym\" cx=\"0\" cy=\"0\" r=\"3\"/><text class=\"lab\" transform=\"translate(0 11)\">13</text></g><circle class=\"sym\" cx=\"0\" cy=\"0\" r=\"3\"/><text class=\"lab\" transform=\"translate(0 -11)\">14</text></g></g></g><g class=\"tree t3\" transform=\"translate(590 0)\"><g class=\"plotbox\"><g class=\"c2 node n14 root\" transform=\"translate(134.844 26.8)\"><g class=\"a14 c2 node n12 p0\" transform=\"translate(-24.442 64.6931)\"><g class=\"a12 i2 leaf node n5 p0 sample\" transform=\"translate(27.4554 29.9069)\"><path class=\"edge\" d=\"M 0 0 V -29.9069 H -27.4554\"/><rect class=\"sym\" height=\"6\" width=\"6\" x=\"-3\" y=\"-3\"/><text class=\"lab\" transform=\"translate(0 11)\">5</text></g><g class=\"a12 c2 node n10 p0\" transform=\"translate(-27.4554 24.5508)\"><g class=\"a10 i0 leaf node n1 p0 sample\" transform=\"translate(33.4821 5.35606)\"><path class=\"edge\" d=\"M 0 0 V -5.35606 H -33.4821\"/><rect class=\"sym\" height=\"6\" width=\"6\" x=\"-3\" y=\"-3\"/><text class=\"lab\" transform=\"translate(0 11)\">1</text></g><g class=\"a10 c2 node n9 p0\" transform=\"translate(-33.4821 0.779277)\"><g class=\"a9 i0 leaf node n0 p0 sample\" transform=\"translate(-18.75 4.57678)\"><path class=\"edge\" d=\"M 0 0 V -4.57678 H 18.75\"/><rect class=\"sym\" height=\"6\" width=\"6\" x=\"-3\" y=\"-3\"/><text class=\"lab\" transform=\"translate(0 11)\">0</text></g><g class=\"a9 c2 node n7 p0\" transform=\"translate(18.75 2.65571)\"><g class=\"a7 i1 leaf node n2 p0 sample\" transform=\"translate(-16.0714 1.92108)\"><path class=\"edge\" d=\"M 0 0 V -1.92108 H 16.0714\"/><rect class=\"sym\" height=\"6\" width=\"6\" x=\"-3\" y=\"-3\"/><text class=\"lab\" transform=\"translate(0 11)\">2</text></g><g class=\"a7 c2 node n6 p0\" transform=\"translate(16.0714 0.0628256)\"><g class=\"a6 i1 leaf node n3 p0 sample\" transform=\"translate(-10.7143 1.85825)\"><path class=\"edge\" d=\"M 0 0 V -1.85825 H 10.7143\"/><rect class=\"sym\" height=\"6\" width=\"6\" x=\"-3\" y=\"-3\"/><text class=\"lab\" transform=\"translate(0 11)\">3</text></g><g class=\"a6 i2 leaf node n4 p0 sample\" transform=\"translate(10.7143 1.85825)\"><path class=\"edge\" d=\"M 0 0 V -1.85825 H -10.7143\"/><rect class=\"sym\" height=\"6\" width=\"6\" x=\"-3\" y=\"-3\"/><text class=\"lab\" transform=\"translate(0 11)\">4</text></g><path class=\"edge\" d=\"M 0 0 V -0.0628256 H -16.0714\"/><circle class=\"sym\" cx=\"0\" cy=\"0\" r=\"3\"/><text class=\"lab rgt\" transform=\"translate(3 -7.0)\">6</text></g><path class=\"edge\" d=\"M 0 0 V -2.65571 H -18.75\"/><circle class=\"sym\" cx=\"0\" cy=\"0\" r=\"3\"/><text class=\"lab rgt\" transform=\"translate(3 -7.0)\">7</text></g><path class=\"edge\" d=\"M 0 0 V -0.779277 H 33.4821\"/><circle class=\"sym\" cx=\"0\" cy=\"0\" r=\"3\"/><text class=\"lab lft\" transform=\"translate(-3 -7.0)\">9</text></g><path class=\"edge\" d=\"M 0 0 V -24.5508 H 27.4554\"/><circle class=\"sym\" cx=\"0\" cy=\"0\" r=\"3\"/><text class=\"lab lft\" transform=\"translate(-3 -7.0)\">10</text></g><path class=\"edge\" d=\"M 0 0 V -64.6931 H 24.442\"/><circle class=\"sym\" cx=\"0\" cy=\"0\" r=\"3\"/><text class=\"lab lft\" transform=\"translate(-3 -7.0)\">12</text></g><g class=\"a14 leaf node n13 p0\" transform=\"translate(24.442 48.2715)\"><path class=\"edge\" d=\"M 0 0 V -48.2715 H -24.442\"/><circle class=\"sym\" cx=\"0\" cy=\"0\" r=\"3\"/><text class=\"lab\" transform=\"translate(0 11)\">13</text></g><circle class=\"sym\" cx=\"0\" cy=\"0\" r=\"3\"/><text class=\"lab\" transform=\"translate(0 -11)\">14</text></g></g></g></g></g></svg>"
      ],
      "text/plain": [
       "<IPython.core.display.SVG object>"
      ]
     },
     "execution_count": 6,
     "metadata": {},
     "output_type": "execute_result"
    }
   ],
   "source": [
    "new_id = t.nodes.add_row(time=2000)\n",
    "for j in [12, 13]:\n",
    "    t.edges.add_row(parent=new_id, child=j, left=0, right=t.sequence_length)\n",
    "    \n",
    "new_ts = t.tree_sequence()\n",
    "SVG(new_ts.draw_svg())"
   ]
  },
  {
   "cell_type": "markdown",
   "id": "7d240eff",
   "metadata": {},
   "source": [
    "More often we edit tables by starting a brand-new set of tables and copying the information in.\n",
    "Suppose we wanted to remove node 5 entirely:"
   ]
  },
  {
   "cell_type": "code",
   "execution_count": 7,
   "id": "b7214c71",
   "metadata": {},
   "outputs": [
    {
     "data": {
      "image/svg+xml": [
       "<svg xmlns=\"http://www.w3.org/2000/svg\" xmlns:ev=\"http://www.w3.org/2001/xml-events\" xmlns:xlink=\"http://www.w3.org/1999/xlink\" baseProfile=\"full\" height=\"200\" version=\"1.1\" width=\"800\"><defs><style type=\"text/css\"><![CDATA[.background path {fill: #808080; fill-opacity: 0}.background path:nth-child(odd) {fill-opacity: .1}.axes {font-size: 14px}.x-axis .tick .lab {font-weight: bold; dominant-baseline: hanging}.axes, .tree {font-size: 14px; text-anchor: middle}.axes line, .edge {stroke: black; fill: none}.y-axis .grid {stroke: #FAFAFA}.node > .sym {fill: black; stroke: none}.site > .sym {stroke: black}.mut text {fill: red; font-style: italic}.mut.extra text {fill: hotpink}.mut line {fill: none; stroke: none}.mut .sym {fill: none; stroke: red}.mut.extra .sym {stroke: hotpink}.node .mut .sym {stroke-width: 1.5px}.tree text, .tree-sequence text {dominant-baseline: central}.plotbox .lab.lft {text-anchor: end}.plotbox .lab.rgt {text-anchor: start}]]></style></defs><g class=\"tree-sequence\"><g class=\"background\"><path d=\"M20,0 l190,0 l0,138.2 l98.8,25 l0,5 l-288.8,0 l0,-5 l0,-25 l0,-138.2z\"/><path d=\"M210,0 l190,0 l0,138.2 l-45.6,25 l0,5 l-45.6,0 l0,-5 l-98.8,-25 l0,-138.2z\"/><path d=\"M400,0 l190,0 l0,138.2 l38,25 l0,5 l-273.6,0 l0,-5 l45.6,-25 l0,-138.2z\"/><path d=\"M590,0 l190,0 l0,138.2 l0,25 l0,5 l-152,0 l0,-5 l-38,-25 l0,-138.2z\"/></g><g class=\"axes\"><g class=\"x-axis\"><g transform=\"translate(400 200)\"><text class=\"lab\" text-anchor=\"middle\" transform=\"translate(0 -11)\">Genome position</text></g><line x1=\"20\" x2=\"780\" y1=\"163.2\" y2=\"163.2\"/><g class=\"ticks\"><g class=\"tick\" transform=\"translate(20 163.2)\"><line x1=\"0\" x2=\"0\" y1=\"0\" y2=\"5\"/><g transform=\"translate(0 6)\"><text class=\"lab\">0</text></g></g><g class=\"tick\" transform=\"translate(308.8 163.2)\"><line x1=\"0\" x2=\"0\" y1=\"0\" y2=\"5\"/><g transform=\"translate(0 6)\"><text class=\"lab\">19</text></g></g><g class=\"tick\" transform=\"translate(354.4 163.2)\"><line x1=\"0\" x2=\"0\" y1=\"0\" y2=\"5\"/><g transform=\"translate(0 6)\"><text class=\"lab\">22</text></g></g><g class=\"tick\" transform=\"translate(628 163.2)\"><line x1=\"0\" x2=\"0\" y1=\"0\" y2=\"5\"/><g transform=\"translate(0 6)\"><text class=\"lab\">40</text></g></g><g class=\"tick\" transform=\"translate(780 163.2)\"><line x1=\"0\" x2=\"0\" y1=\"0\" y2=\"5\"/><g transform=\"translate(0 6)\"><text class=\"lab\">50</text></g></g></g></g></g><g class=\"plotbox trees\"><g class=\"tree t0\" transform=\"translate(20 0)\"><g class=\"plotbox\"><g class=\"c1 node n12 root\" transform=\"translate(108.125 26.8)\"><g class=\"a12 c2 node n10\" transform=\"translate(0.0 82.5741)\"><g class=\"a10 leaf node n1 sample\" transform=\"translate(46.875 12.0259)\"><path class=\"edge\" d=\"M 0 0 V -12.0259 H -46.875\"/><rect class=\"sym\" height=\"6\" width=\"6\" x=\"-3\" y=\"-3\"/><text class=\"lab\" transform=\"translate(0 11)\">1</text></g><g class=\"a10 c2 node n8\" transform=\"translate(-46.875 2.68036)\"><g class=\"a8 leaf node n0 sample\" transform=\"translate(-26.25 9.34551)\"><path class=\"edge\" d=\"M 0 0 V -9.34551 H 26.25\"/><rect class=\"sym\" height=\"6\" width=\"6\" x=\"-3\" y=\"-3\"/><text class=\"lab\" transform=\"translate(0 11)\">0</text></g><g class=\"a8 c2 node n6\" transform=\"translate(26.25 5.42279)\"><g class=\"a6 leaf node n2 sample\" transform=\"translate(-22.5 3.92272)\"><path class=\"edge\" d=\"M 0 0 V -3.92272 H 22.5\"/><rect class=\"sym\" height=\"6\" width=\"6\" x=\"-3\" y=\"-3\"/><text class=\"lab\" transform=\"translate(0 11)\">2</text></g><g class=\"a6 c2 node n5\" transform=\"translate(22.5 0.128286)\"><g class=\"a5 leaf node n3 sample\" transform=\"translate(-15 3.79443)\"><path class=\"edge\" d=\"M 0 0 V -3.79443 H 15\"/><rect class=\"sym\" height=\"6\" width=\"6\" x=\"-3\" y=\"-3\"/><text class=\"lab\" transform=\"translate(0 11)\">3</text></g><g class=\"a5 leaf node n4 sample\" transform=\"translate(15 3.79443)\"><path class=\"edge\" d=\"M 0 0 V -3.79443 H -15\"/><rect class=\"sym\" height=\"6\" width=\"6\" x=\"-3\" y=\"-3\"/><text class=\"lab\" transform=\"translate(0 11)\">4</text></g><path class=\"edge\" d=\"M 0 0 V -0.128286 H -22.5\"/><circle class=\"sym\" cx=\"0\" cy=\"0\" r=\"3\"/><text class=\"lab rgt\" transform=\"translate(3 -7.0)\">5</text></g><path class=\"edge\" d=\"M 0 0 V -5.42279 H -26.25\"/><circle class=\"sym\" cx=\"0\" cy=\"0\" r=\"3\"/><text class=\"lab rgt\" transform=\"translate(3 -7.0)\">6</text></g><path class=\"edge\" d=\"M 0 0 V -2.68036 H 46.875\"/><circle class=\"sym\" cx=\"0\" cy=\"0\" r=\"3\"/><text class=\"lab lft\" transform=\"translate(-3 -7.0)\">8</text></g><path class=\"edge\" d=\"M 0 0 V -82.5741 H 0.0\"/><circle class=\"sym\" cx=\"0\" cy=\"0\" r=\"3\"/><text class=\"lab lft\" transform=\"translate(-3 -7.0)\">10</text></g><circle class=\"sym\" cx=\"0\" cy=\"0\" r=\"3\"/><text class=\"lab\" transform=\"translate(0 -11)\">12</text></g></g></g><g class=\"tree t1\" transform=\"translate(210 0)\"><g class=\"plotbox\"><g class=\"c1 node n12 root\" transform=\"translate(63.125 26.8)\"><g class=\"a12 c2 node n8\" transform=\"translate(0.0 85.2545)\"><g class=\"a8 leaf node n0 sample\" transform=\"translate(-28.125 9.34551)\"><path class=\"edge\" d=\"M 0 0 V -9.34551 H 28.125\"/><rect class=\"sym\" height=\"6\" width=\"6\" x=\"-3\" y=\"-3\"/><text class=\"lab\" transform=\"translate(0 11)\">0</text></g><g class=\"a8 c2 node n7\" transform=\"translate(28.125 3.36916)\"><g class=\"a7 leaf node n1 sample\" transform=\"translate(-26.25 5.97635)\"><path class=\"edge\" d=\"M 0 0 V -5.97635 H 26.25\"/><rect class=\"sym\" height=\"6\" width=\"6\" x=\"-3\" y=\"-3\"/><text class=\"lab\" transform=\"translate(0 11)\">1</text></g><g class=\"a7 c2 node n6\" transform=\"translate(26.25 2.05363)\"><g class=\"a6 leaf node n2 sample\" transform=\"translate(-22.5 3.92272)\"><path class=\"edge\" d=\"M 0 0 V -3.92272 H 22.5\"/><rect class=\"sym\" height=\"6\" width=\"6\" x=\"-3\" y=\"-3\"/><text class=\"lab\" transform=\"translate(0 11)\">2</text></g><g class=\"a6 c2 node n5\" transform=\"translate(22.5 0.128286)\"><g class=\"a5 leaf node n3 sample\" transform=\"translate(-15 3.79443)\"><path class=\"edge\" d=\"M 0 0 V -3.79443 H 15\"/><rect class=\"sym\" height=\"6\" width=\"6\" x=\"-3\" y=\"-3\"/><text class=\"lab\" transform=\"translate(0 11)\">3</text></g><g class=\"a5 leaf node n4 sample\" transform=\"translate(15 3.79443)\"><path class=\"edge\" d=\"M 0 0 V -3.79443 H -15\"/><rect class=\"sym\" height=\"6\" width=\"6\" x=\"-3\" y=\"-3\"/><text class=\"lab\" transform=\"translate(0 11)\">4</text></g><path class=\"edge\" d=\"M 0 0 V -0.128286 H -22.5\"/><circle class=\"sym\" cx=\"0\" cy=\"0\" r=\"3\"/><text class=\"lab rgt\" transform=\"translate(3 -7.0)\">5</text></g><path class=\"edge\" d=\"M 0 0 V -2.05363 H -26.25\"/><circle class=\"sym\" cx=\"0\" cy=\"0\" r=\"3\"/><text class=\"lab rgt\" transform=\"translate(3 -7.0)\">6</text></g><path class=\"edge\" d=\"M 0 0 V -3.36916 H -28.125\"/><circle class=\"sym\" cx=\"0\" cy=\"0\" r=\"3\"/><text class=\"lab rgt\" transform=\"translate(3 -7.0)\">7</text></g><path class=\"edge\" d=\"M 0 0 V -85.2545 H 0.0\"/><circle class=\"sym\" cx=\"0\" cy=\"0\" r=\"3\"/><text class=\"lab lft\" transform=\"translate(-3 -7.0)\">8</text></g><circle class=\"sym\" cx=\"0\" cy=\"0\" r=\"3\"/><text class=\"lab\" transform=\"translate(0 -11)\">12</text></g></g></g><g class=\"tree t2\" transform=\"translate(400 0)\"><g class=\"plotbox\"><g class=\"c1 node n11 root\" transform=\"translate(63.125 60.332)\"><g class=\"a11 c2 node n8\" transform=\"translate(0.0 51.7225)\"><g class=\"a8 leaf node n0 sample\" transform=\"translate(-28.125 9.34551)\"><path class=\"edge\" d=\"M 0 0 V -9.34551 H 28.125\"/><rect class=\"sym\" height=\"6\" width=\"6\" x=\"-3\" y=\"-3\"/><text class=\"lab\" transform=\"translate(0 11)\">0</text></g><g class=\"a8 c2 node n7\" transform=\"translate(28.125 3.36916)\"><g class=\"a7 leaf node n1 sample\" transform=\"translate(-26.25 5.97635)\"><path class=\"edge\" d=\"M 0 0 V -5.97635 H 26.25\"/><rect class=\"sym\" height=\"6\" width=\"6\" x=\"-3\" y=\"-3\"/><text class=\"lab\" transform=\"translate(0 11)\">1</text></g><g class=\"a7 c2 node n6\" transform=\"translate(26.25 2.05363)\"><g class=\"a6 leaf node n2 sample\" transform=\"translate(-22.5 3.92272)\"><path class=\"edge\" d=\"M 0 0 V -3.92272 H 22.5\"/><rect class=\"sym\" height=\"6\" width=\"6\" x=\"-3\" y=\"-3\"/><text class=\"lab\" transform=\"translate(0 11)\">2</text></g><g class=\"a6 c2 node n5\" transform=\"translate(22.5 0.128286)\"><g class=\"a5 leaf node n3 sample\" transform=\"translate(-15 3.79443)\"><path class=\"edge\" d=\"M 0 0 V -3.79443 H 15\"/><rect class=\"sym\" height=\"6\" width=\"6\" x=\"-3\" y=\"-3\"/><text class=\"lab\" transform=\"translate(0 11)\">3</text></g><g class=\"a5 leaf node n4 sample\" transform=\"translate(15 3.79443)\"><path class=\"edge\" d=\"M 0 0 V -3.79443 H -15\"/><rect class=\"sym\" height=\"6\" width=\"6\" x=\"-3\" y=\"-3\"/><text class=\"lab\" transform=\"translate(0 11)\">4</text></g><path class=\"edge\" d=\"M 0 0 V -0.128286 H -22.5\"/><circle class=\"sym\" cx=\"0\" cy=\"0\" r=\"3\"/><text class=\"lab rgt\" transform=\"translate(3 -7.0)\">5</text></g><path class=\"edge\" d=\"M 0 0 V -2.05363 H -26.25\"/><circle class=\"sym\" cx=\"0\" cy=\"0\" r=\"3\"/><text class=\"lab rgt\" transform=\"translate(3 -7.0)\">6</text></g><path class=\"edge\" d=\"M 0 0 V -3.36916 H -28.125\"/><circle class=\"sym\" cx=\"0\" cy=\"0\" r=\"3\"/><text class=\"lab rgt\" transform=\"translate(3 -7.0)\">7</text></g><path class=\"edge\" d=\"M 0 0 V -51.7225 H 0.0\"/><circle class=\"sym\" cx=\"0\" cy=\"0\" r=\"3\"/><text class=\"lab lft\" transform=\"translate(-3 -7.0)\">8</text></g><circle class=\"sym\" cx=\"0\" cy=\"0\" r=\"3\"/><text class=\"lab\" transform=\"translate(0 -11)\">11</text></g></g></g><g class=\"tree t3\" transform=\"translate(590 0)\"><g class=\"plotbox\"><g class=\"c1 node n11 root\" transform=\"translate(108.125 60.332)\"><g class=\"a11 c2 node n9\" transform=\"translate(0.0 50.1312)\"><g class=\"a9 leaf node n1 sample\" transform=\"translate(46.875 10.9367)\"><path class=\"edge\" d=\"M 0 0 V -10.9367 H -46.875\"/><rect class=\"sym\" height=\"6\" width=\"6\" x=\"-3\" y=\"-3\"/><text class=\"lab\" transform=\"translate(0 11)\">1</text></g><g class=\"a9 c2 node n8\" transform=\"translate(-46.875 1.59124)\"><g class=\"a8 leaf node n0 sample\" transform=\"translate(-26.25 9.34551)\"><path class=\"edge\" d=\"M 0 0 V -9.34551 H 26.25\"/><rect class=\"sym\" height=\"6\" width=\"6\" x=\"-3\" y=\"-3\"/><text class=\"lab\" transform=\"translate(0 11)\">0</text></g><g class=\"a8 c2 node n6\" transform=\"translate(26.25 5.42279)\"><g class=\"a6 leaf node n2 sample\" transform=\"translate(-22.5 3.92272)\"><path class=\"edge\" d=\"M 0 0 V -3.92272 H 22.5\"/><rect class=\"sym\" height=\"6\" width=\"6\" x=\"-3\" y=\"-3\"/><text class=\"lab\" transform=\"translate(0 11)\">2</text></g><g class=\"a6 c2 node n5\" transform=\"translate(22.5 0.128286)\"><g class=\"a5 leaf node n3 sample\" transform=\"translate(-15 3.79443)\"><path class=\"edge\" d=\"M 0 0 V -3.79443 H 15\"/><rect class=\"sym\" height=\"6\" width=\"6\" x=\"-3\" y=\"-3\"/><text class=\"lab\" transform=\"translate(0 11)\">3</text></g><g class=\"a5 leaf node n4 sample\" transform=\"translate(15 3.79443)\"><path class=\"edge\" d=\"M 0 0 V -3.79443 H -15\"/><rect class=\"sym\" height=\"6\" width=\"6\" x=\"-3\" y=\"-3\"/><text class=\"lab\" transform=\"translate(0 11)\">4</text></g><path class=\"edge\" d=\"M 0 0 V -0.128286 H -22.5\"/><circle class=\"sym\" cx=\"0\" cy=\"0\" r=\"3\"/><text class=\"lab rgt\" transform=\"translate(3 -7.0)\">5</text></g><path class=\"edge\" d=\"M 0 0 V -5.42279 H -26.25\"/><circle class=\"sym\" cx=\"0\" cy=\"0\" r=\"3\"/><text class=\"lab rgt\" transform=\"translate(3 -7.0)\">6</text></g><path class=\"edge\" d=\"M 0 0 V -1.59124 H 46.875\"/><circle class=\"sym\" cx=\"0\" cy=\"0\" r=\"3\"/><text class=\"lab lft\" transform=\"translate(-3 -7.0)\">8</text></g><path class=\"edge\" d=\"M 0 0 V -50.1312 H 0.0\"/><circle class=\"sym\" cx=\"0\" cy=\"0\" r=\"3\"/><text class=\"lab lft\" transform=\"translate(-3 -7.0)\">9</text></g><circle class=\"sym\" cx=\"0\" cy=\"0\" r=\"3\"/><text class=\"lab\" transform=\"translate(0 -11)\">11</text></g></g></g></g></g></svg>"
      ],
      "text/plain": [
       "<IPython.core.display.SVG object>"
      ]
     },
     "execution_count": 7,
     "metadata": {},
     "output_type": "execute_result"
    }
   ],
   "source": [
    "t = tskit.TableCollection(sequence_length=t.sequence_length)\n",
    "for n in ts.nodes():\n",
    "    if n.id != 5:\n",
    "        t.nodes.add_row(time=n.time, flags=n.flags)\n",
    "        \n",
    "# must remap nodes\n",
    "def map_node(n):\n",
    "    return n if n < 5 else n-1\n",
    "        \n",
    "\n",
    "for e in ts.edges():\n",
    "    if e.child != 5 and e.parent != 5:\n",
    "        t.edges.add_row(\n",
    "            parent=map_node(e.parent),\n",
    "            child=map_node(e.child),\n",
    "            left=e.left,\n",
    "            right=e.right\n",
    "        )\n",
    "\n",
    "new_ts = t.tree_sequence()\n",
    "SVG(new_ts.draw_svg())"
   ]
  },
  {
   "cell_type": "markdown",
   "id": "115bec98",
   "metadata": {},
   "source": [
    "Note the the nodes have been re-numbered. (If we wanted to retain the old IDs,\n",
    "we could store them in metadata.)"
   ]
  },
  {
   "cell_type": "markdown",
   "id": "e14898b5",
   "metadata": {},
   "source": [
    "# Quick reference\n",
    "\n",
    "- general tutorials: https://tskit.dev/tutorials/intro.html\n",
    "- ways to modify the Node table: https://tskit.dev/tskit/docs/stable/python-api.html#tskit.NodeTable\n",
    "- ways to visualize trees: https://tskit.dev/tutorials/viz.html\n",
    "- msprime quickstart: https://tskit.dev/msprime/docs/stable/quickstart.html"
   ]
  },
  {
   "cell_type": "markdown",
   "id": "bd8d9752",
   "metadata": {},
   "source": [
    "# First pass\n",
    "\n",
    "This works, but doesn't find all possible reductions (consider if an edge is subdivided in more than two pieces)."
   ]
  },
  {
   "cell_type": "code",
   "execution_count": 10,
   "id": "7ccda5f0",
   "metadata": {},
   "outputs": [
    {
     "name": "stdout",
     "output_type": "stream",
     "text": [
      "Old number of edges: 20\n",
      "New number of edges: 16\n"
     ]
    }
   ],
   "source": [
    "new_left = t.edges.left\n",
    "new_right = t.edges.right\n",
    "keep = np.repeat(True, t.edges.num_rows)\n",
    "for i1, e1 in enumerate(t.edges):\n",
    "    for i2, e2 in enumerate(t.edges):\n",
    "        if i1 != i2:\n",
    "            if e1.parent == e2.parent:\n",
    "                for i3, e3 in enumerate(t.edges):\n",
    "                    if i1 != i3 and i2 != i3:\n",
    "                        if e1.child == e3.child and e2.child == e3.parent:\n",
    "                            if e1.right == e2.left and e2.left == e3.left:\n",
    "                                # extend to the left\n",
    "                                new_left[i2] = e1.left\n",
    "                                new_left[i3] = e1.left\n",
    "                                keep[i1] = False\n",
    "                            if e1.left == e2.right and e2.right == e3.right:\n",
    "                                # extend to the right\n",
    "                                new_right[i2] = e1.right\n",
    "                                new_right[i3] = e1.right\n",
    "                                keep[i1] = False\n",
    "\n",
    "new_t = t.copy()\n",
    "new_t.edges.clear()\n",
    "for j, (k, e) in enumerate(zip(keep, t.edges)):\n",
    "    if k:\n",
    "        new_t.edges.add_row(parent=e.parent, child=e.child, left=new_left[j], right=new_right[j])\n",
    "        \n",
    "new_ts = new_t.tree_sequence()\n",
    "print(f\"Old number of edges: {t.edges.num_rows}\")\n",
    "print(f\"New number of edges: {new_t.edges.num_rows}\")"
   ]
  },
  {
   "cell_type": "code",
   "execution_count": 12,
   "id": "6ff8f23c",
   "metadata": {},
   "outputs": [
    {
     "data": {
      "image/svg+xml": [
       "<svg xmlns=\"http://www.w3.org/2000/svg\" xmlns:ev=\"http://www.w3.org/2001/xml-events\" xmlns:xlink=\"http://www.w3.org/1999/xlink\" baseProfile=\"full\" height=\"200\" version=\"1.1\" width=\"800\"><defs><style type=\"text/css\"><![CDATA[.background path {fill: #808080; fill-opacity: 0}.background path:nth-child(odd) {fill-opacity: .1}.axes {font-size: 14px}.x-axis .tick .lab {font-weight: bold; dominant-baseline: hanging}.axes, .tree {font-size: 14px; text-anchor: middle}.axes line, .edge {stroke: black; fill: none}.y-axis .grid {stroke: #FAFAFA}.node > .sym {fill: black; stroke: none}.site > .sym {stroke: black}.mut text {fill: red; font-style: italic}.mut.extra text {fill: hotpink}.mut line {fill: none; stroke: none}.mut .sym {fill: none; stroke: red}.mut.extra .sym {stroke: hotpink}.node .mut .sym {stroke-width: 1.5px}.tree text, .tree-sequence text {dominant-baseline: central}.plotbox .lab.lft {text-anchor: end}.plotbox .lab.rgt {text-anchor: start}]]></style></defs><g class=\"tree-sequence\"><g class=\"background\"><path d=\"M20,0 l190,0 l0,138.2 l98.8,25 l0,5 l-288.8,0 l0,-5 l0,-25 l0,-138.2z\"/><path d=\"M210,0 l190,0 l0,138.2 l-45.6,25 l0,5 l-45.6,0 l0,-5 l-98.8,-25 l0,-138.2z\"/><path d=\"M400,0 l190,0 l0,138.2 l38,25 l0,5 l-273.6,0 l0,-5 l45.6,-25 l0,-138.2z\"/><path d=\"M590,0 l190,0 l0,138.2 l0,25 l0,5 l-152,0 l0,-5 l-38,-25 l0,-138.2z\"/></g><g class=\"axes\"><g class=\"x-axis\"><g transform=\"translate(400 200)\"><text class=\"lab\" text-anchor=\"middle\" transform=\"translate(0 -11)\">Genome position</text></g><line x1=\"20\" x2=\"780\" y1=\"163.2\" y2=\"163.2\"/><g class=\"ticks\"><g class=\"tick\" transform=\"translate(20 163.2)\"><line x1=\"0\" x2=\"0\" y1=\"0\" y2=\"5\"/><g transform=\"translate(0 6)\"><text class=\"lab\">0</text></g></g><g class=\"tick\" transform=\"translate(308.8 163.2)\"><line x1=\"0\" x2=\"0\" y1=\"0\" y2=\"5\"/><g transform=\"translate(0 6)\"><text class=\"lab\">19</text></g></g><g class=\"tick\" transform=\"translate(354.4 163.2)\"><line x1=\"0\" x2=\"0\" y1=\"0\" y2=\"5\"/><g transform=\"translate(0 6)\"><text class=\"lab\">22</text></g></g><g class=\"tick\" transform=\"translate(628 163.2)\"><line x1=\"0\" x2=\"0\" y1=\"0\" y2=\"5\"/><g transform=\"translate(0 6)\"><text class=\"lab\">40</text></g></g><g class=\"tick\" transform=\"translate(780 163.2)\"><line x1=\"0\" x2=\"0\" y1=\"0\" y2=\"5\"/><g transform=\"translate(0 6)\"><text class=\"lab\">50</text></g></g></g></g></g><g class=\"plotbox trees\"><g class=\"tree t0\" transform=\"translate(20 0)\"><g class=\"plotbox\"><g class=\"c2 node n13 p0 root\" transform=\"translate(125.469 26.8)\"><g class=\"a13 i2 leaf node n5 p0 sample\" transform=\"translate(32.0312 94.6)\"><path class=\"edge\" d=\"M 0 0 V -94.6 H -32.0312\"/><rect class=\"sym\" height=\"6\" width=\"6\" x=\"-3\" y=\"-3\"/><text class=\"lab\" transform=\"translate(0 11)\">5</text></g><g class=\"a13 c2 node n11 p0\" transform=\"translate(-32.0312 82.5741)\"><g class=\"a11 i0 leaf node n1 p0 sample\" transform=\"translate(39.0625 12.0259)\"><path class=\"edge\" d=\"M 0 0 V -12.0259 H -39.0625\"/><rect class=\"sym\" height=\"6\" width=\"6\" x=\"-3\" y=\"-3\"/><text class=\"lab\" transform=\"translate(0 11)\">1</text></g><g class=\"a11 c2 node n9 p0\" transform=\"translate(-39.0625 2.68036)\"><g class=\"a9 i0 leaf node n0 p0 sample\" transform=\"translate(-21.875 9.34551)\"><path class=\"edge\" d=\"M 0 0 V -9.34551 H 21.875\"/><rect class=\"sym\" height=\"6\" width=\"6\" x=\"-3\" y=\"-3\"/><text class=\"lab\" transform=\"translate(0 11)\">0</text></g><g class=\"a9 c2 node n7 p0\" transform=\"translate(21.875 5.42279)\"><g class=\"a7 i1 leaf node n2 p0 sample\" transform=\"translate(-18.75 3.92272)\"><path class=\"edge\" d=\"M 0 0 V -3.92272 H 18.75\"/><rect class=\"sym\" height=\"6\" width=\"6\" x=\"-3\" y=\"-3\"/><text class=\"lab\" transform=\"translate(0 11)\">2</text></g><g class=\"a7 c2 node n6 p0\" transform=\"translate(18.75 0.128286)\"><g class=\"a6 i1 leaf node n3 p0 sample\" transform=\"translate(-12.5 3.79443)\"><path class=\"edge\" d=\"M 0 0 V -3.79443 H 12.5\"/><rect class=\"sym\" height=\"6\" width=\"6\" x=\"-3\" y=\"-3\"/><text class=\"lab\" transform=\"translate(0 11)\">3</text></g><g class=\"a6 i2 leaf node n4 p0 sample\" transform=\"translate(12.5 3.79443)\"><path class=\"edge\" d=\"M 0 0 V -3.79443 H -12.5\"/><rect class=\"sym\" height=\"6\" width=\"6\" x=\"-3\" y=\"-3\"/><text class=\"lab\" transform=\"translate(0 11)\">4</text></g><path class=\"edge\" d=\"M 0 0 V -0.128286 H -18.75\"/><circle class=\"sym\" cx=\"0\" cy=\"0\" r=\"3\"/><text class=\"lab rgt\" transform=\"translate(3 -7.0)\">6</text></g><path class=\"edge\" d=\"M 0 0 V -5.42279 H -21.875\"/><circle class=\"sym\" cx=\"0\" cy=\"0\" r=\"3\"/><text class=\"lab rgt\" transform=\"translate(3 -7.0)\">7</text></g><path class=\"edge\" d=\"M 0 0 V -2.68036 H 39.0625\"/><circle class=\"sym\" cx=\"0\" cy=\"0\" r=\"3\"/><text class=\"lab lft\" transform=\"translate(-3 -7.0)\">9</text></g><path class=\"edge\" d=\"M 0 0 V -82.5741 H 32.0312\"/><circle class=\"sym\" cx=\"0\" cy=\"0\" r=\"3\"/><text class=\"lab lft\" transform=\"translate(-3 -7.0)\">11</text></g><circle class=\"sym\" cx=\"0\" cy=\"0\" r=\"3\"/><text class=\"lab\" transform=\"translate(0 -11)\">13</text></g></g></g><g class=\"tree t1\" transform=\"translate(210 0)\"><g class=\"plotbox\"><g class=\"c2 node n13 p0 root\" transform=\"translate(106.719 26.8)\"><g class=\"a13 i2 leaf node n5 p0 sample\" transform=\"translate(50.7812 94.6)\"><path class=\"edge\" d=\"M 0 0 V -94.6 H -50.7812\"/><rect class=\"sym\" height=\"6\" width=\"6\" x=\"-3\" y=\"-3\"/><text class=\"lab\" transform=\"translate(0 11)\">5</text></g><g class=\"a13 c2 node n9 p0\" transform=\"translate(-50.7812 85.2545)\"><g class=\"a9 i0 leaf node n0 p0 sample\" transform=\"translate(-23.4375 9.34551)\"><path class=\"edge\" d=\"M 0 0 V -9.34551 H 23.4375\"/><rect class=\"sym\" height=\"6\" width=\"6\" x=\"-3\" y=\"-3\"/><text class=\"lab\" transform=\"translate(0 11)\">0</text></g><g class=\"a9 c2 node n8 p0\" transform=\"translate(23.4375 3.36916)\"><g class=\"a8 i0 leaf node n1 p0 sample\" transform=\"translate(-21.875 5.97635)\"><path class=\"edge\" d=\"M 0 0 V -5.97635 H 21.875\"/><rect class=\"sym\" height=\"6\" width=\"6\" x=\"-3\" y=\"-3\"/><text class=\"lab\" transform=\"translate(0 11)\">1</text></g><g class=\"a8 c2 node n7 p0\" transform=\"translate(21.875 2.05363)\"><g class=\"a7 i1 leaf node n2 p0 sample\" transform=\"translate(-18.75 3.92272)\"><path class=\"edge\" d=\"M 0 0 V -3.92272 H 18.75\"/><rect class=\"sym\" height=\"6\" width=\"6\" x=\"-3\" y=\"-3\"/><text class=\"lab\" transform=\"translate(0 11)\">2</text></g><g class=\"a7 c2 node n6 p0\" transform=\"translate(18.75 0.128286)\"><g class=\"a6 i1 leaf node n3 p0 sample\" transform=\"translate(-12.5 3.79443)\"><path class=\"edge\" d=\"M 0 0 V -3.79443 H 12.5\"/><rect class=\"sym\" height=\"6\" width=\"6\" x=\"-3\" y=\"-3\"/><text class=\"lab\" transform=\"translate(0 11)\">3</text></g><g class=\"a6 i2 leaf node n4 p0 sample\" transform=\"translate(12.5 3.79443)\"><path class=\"edge\" d=\"M 0 0 V -3.79443 H -12.5\"/><rect class=\"sym\" height=\"6\" width=\"6\" x=\"-3\" y=\"-3\"/><text class=\"lab\" transform=\"translate(0 11)\">4</text></g><path class=\"edge\" d=\"M 0 0 V -0.128286 H -18.75\"/><circle class=\"sym\" cx=\"0\" cy=\"0\" r=\"3\"/><text class=\"lab rgt\" transform=\"translate(3 -7.0)\">6</text></g><path class=\"edge\" d=\"M 0 0 V -2.05363 H -21.875\"/><circle class=\"sym\" cx=\"0\" cy=\"0\" r=\"3\"/><text class=\"lab rgt\" transform=\"translate(3 -7.0)\">7</text></g><path class=\"edge\" d=\"M 0 0 V -3.36916 H -23.4375\"/><circle class=\"sym\" cx=\"0\" cy=\"0\" r=\"3\"/><text class=\"lab rgt\" transform=\"translate(3 -7.0)\">8</text></g><path class=\"edge\" d=\"M 0 0 V -85.2545 H 50.7812\"/><circle class=\"sym\" cx=\"0\" cy=\"0\" r=\"3\"/><text class=\"lab lft\" transform=\"translate(-3 -7.0)\">9</text></g><circle class=\"sym\" cx=\"0\" cy=\"0\" r=\"3\"/><text class=\"lab\" transform=\"translate(0 -11)\">13</text></g></g></g><g class=\"tree t2\" transform=\"translate(400 0)\"><g class=\"plotbox\"><g class=\"c2 node n12 p0 root\" transform=\"translate(106.719 60.332)\"><g class=\"a12 i2 leaf node n5 p0 sample\" transform=\"translate(50.7812 61.068)\"><path class=\"edge\" d=\"M 0 0 V -61.068 H -50.7812\"/><rect class=\"sym\" height=\"6\" width=\"6\" x=\"-3\" y=\"-3\"/><text class=\"lab\" transform=\"translate(0 11)\">5</text></g><g class=\"a12 c2 node n9 p0\" transform=\"translate(-50.7812 51.7225)\"><g class=\"a9 i0 leaf node n0 p0 sample\" transform=\"translate(-23.4375 9.34551)\"><path class=\"edge\" d=\"M 0 0 V -9.34551 H 23.4375\"/><rect class=\"sym\" height=\"6\" width=\"6\" x=\"-3\" y=\"-3\"/><text class=\"lab\" transform=\"translate(0 11)\">0</text></g><g class=\"a9 c2 node n8 p0\" transform=\"translate(23.4375 3.36916)\"><g class=\"a8 i0 leaf node n1 p0 sample\" transform=\"translate(-21.875 5.97635)\"><path class=\"edge\" d=\"M 0 0 V -5.97635 H 21.875\"/><rect class=\"sym\" height=\"6\" width=\"6\" x=\"-3\" y=\"-3\"/><text class=\"lab\" transform=\"translate(0 11)\">1</text></g><g class=\"a8 c2 node n7 p0\" transform=\"translate(21.875 2.05363)\"><g class=\"a7 i1 leaf node n2 p0 sample\" transform=\"translate(-18.75 3.92272)\"><path class=\"edge\" d=\"M 0 0 V -3.92272 H 18.75\"/><rect class=\"sym\" height=\"6\" width=\"6\" x=\"-3\" y=\"-3\"/><text class=\"lab\" transform=\"translate(0 11)\">2</text></g><g class=\"a7 c2 node n6 p0\" transform=\"translate(18.75 0.128286)\"><g class=\"a6 i1 leaf node n3 p0 sample\" transform=\"translate(-12.5 3.79443)\"><path class=\"edge\" d=\"M 0 0 V -3.79443 H 12.5\"/><rect class=\"sym\" height=\"6\" width=\"6\" x=\"-3\" y=\"-3\"/><text class=\"lab\" transform=\"translate(0 11)\">3</text></g><g class=\"a6 i2 leaf node n4 p0 sample\" transform=\"translate(12.5 3.79443)\"><path class=\"edge\" d=\"M 0 0 V -3.79443 H -12.5\"/><rect class=\"sym\" height=\"6\" width=\"6\" x=\"-3\" y=\"-3\"/><text class=\"lab\" transform=\"translate(0 11)\">4</text></g><path class=\"edge\" d=\"M 0 0 V -0.128286 H -18.75\"/><circle class=\"sym\" cx=\"0\" cy=\"0\" r=\"3\"/><text class=\"lab rgt\" transform=\"translate(3 -7.0)\">6</text></g><path class=\"edge\" d=\"M 0 0 V -2.05363 H -21.875\"/><circle class=\"sym\" cx=\"0\" cy=\"0\" r=\"3\"/><text class=\"lab rgt\" transform=\"translate(3 -7.0)\">7</text></g><path class=\"edge\" d=\"M 0 0 V -3.36916 H -23.4375\"/><circle class=\"sym\" cx=\"0\" cy=\"0\" r=\"3\"/><text class=\"lab rgt\" transform=\"translate(3 -7.0)\">8</text></g><path class=\"edge\" d=\"M 0 0 V -51.7225 H 50.7812\"/><circle class=\"sym\" cx=\"0\" cy=\"0\" r=\"3\"/><text class=\"lab lft\" transform=\"translate(-3 -7.0)\">9</text></g><circle class=\"sym\" cx=\"0\" cy=\"0\" r=\"3\"/><text class=\"lab\" transform=\"translate(0 -11)\">12</text></g></g></g><g class=\"tree t3\" transform=\"translate(590 0)\"><g class=\"plotbox\"><g class=\"c2 node n12 p0 root\" transform=\"translate(125.469 60.332)\"><g class=\"a12 i2 leaf node n5 p0 sample\" transform=\"translate(32.0312 61.068)\"><path class=\"edge\" d=\"M 0 0 V -61.068 H -32.0312\"/><rect class=\"sym\" height=\"6\" width=\"6\" x=\"-3\" y=\"-3\"/><text class=\"lab\" transform=\"translate(0 11)\">5</text></g><g class=\"a12 c2 node n10 p0\" transform=\"translate(-32.0312 50.1312)\"><g class=\"a10 i0 leaf node n1 p0 sample\" transform=\"translate(39.0625 10.9367)\"><path class=\"edge\" d=\"M 0 0 V -10.9367 H -39.0625\"/><rect class=\"sym\" height=\"6\" width=\"6\" x=\"-3\" y=\"-3\"/><text class=\"lab\" transform=\"translate(0 11)\">1</text></g><g class=\"a10 c2 node n9 p0\" transform=\"translate(-39.0625 1.59124)\"><g class=\"a9 i0 leaf node n0 p0 sample\" transform=\"translate(-21.875 9.34551)\"><path class=\"edge\" d=\"M 0 0 V -9.34551 H 21.875\"/><rect class=\"sym\" height=\"6\" width=\"6\" x=\"-3\" y=\"-3\"/><text class=\"lab\" transform=\"translate(0 11)\">0</text></g><g class=\"a9 c2 node n7 p0\" transform=\"translate(21.875 5.42279)\"><g class=\"a7 i1 leaf node n2 p0 sample\" transform=\"translate(-18.75 3.92272)\"><path class=\"edge\" d=\"M 0 0 V -3.92272 H 18.75\"/><rect class=\"sym\" height=\"6\" width=\"6\" x=\"-3\" y=\"-3\"/><text class=\"lab\" transform=\"translate(0 11)\">2</text></g><g class=\"a7 c2 node n6 p0\" transform=\"translate(18.75 0.128286)\"><g class=\"a6 i1 leaf node n3 p0 sample\" transform=\"translate(-12.5 3.79443)\"><path class=\"edge\" d=\"M 0 0 V -3.79443 H 12.5\"/><rect class=\"sym\" height=\"6\" width=\"6\" x=\"-3\" y=\"-3\"/><text class=\"lab\" transform=\"translate(0 11)\">3</text></g><g class=\"a6 i2 leaf node n4 p0 sample\" transform=\"translate(12.5 3.79443)\"><path class=\"edge\" d=\"M 0 0 V -3.79443 H -12.5\"/><rect class=\"sym\" height=\"6\" width=\"6\" x=\"-3\" y=\"-3\"/><text class=\"lab\" transform=\"translate(0 11)\">4</text></g><path class=\"edge\" d=\"M 0 0 V -0.128286 H -18.75\"/><circle class=\"sym\" cx=\"0\" cy=\"0\" r=\"3\"/><text class=\"lab rgt\" transform=\"translate(3 -7.0)\">6</text></g><path class=\"edge\" d=\"M 0 0 V -5.42279 H -21.875\"/><circle class=\"sym\" cx=\"0\" cy=\"0\" r=\"3\"/><text class=\"lab rgt\" transform=\"translate(3 -7.0)\">7</text></g><path class=\"edge\" d=\"M 0 0 V -1.59124 H 39.0625\"/><circle class=\"sym\" cx=\"0\" cy=\"0\" r=\"3\"/><text class=\"lab lft\" transform=\"translate(-3 -7.0)\">9</text></g><path class=\"edge\" d=\"M 0 0 V -50.1312 H 32.0312\"/><circle class=\"sym\" cx=\"0\" cy=\"0\" r=\"3\"/><text class=\"lab lft\" transform=\"translate(-3 -7.0)\">10</text></g><circle class=\"sym\" cx=\"0\" cy=\"0\" r=\"3\"/><text class=\"lab\" transform=\"translate(0 -11)\">12</text></g></g></g></g></g></svg>"
      ],
      "text/plain": [
       "<IPython.core.display.SVG object>"
      ]
     },
     "execution_count": 12,
     "metadata": {},
     "output_type": "execute_result"
    }
   ],
   "source": [
    "SVG(ts.draw_svg())"
   ]
  },
  {
   "cell_type": "code",
   "execution_count": 13,
   "id": "05e10cf9",
   "metadata": {},
   "outputs": [
    {
     "data": {
      "image/svg+xml": [
       "<svg xmlns=\"http://www.w3.org/2000/svg\" xmlns:ev=\"http://www.w3.org/2001/xml-events\" xmlns:xlink=\"http://www.w3.org/1999/xlink\" baseProfile=\"full\" height=\"200\" version=\"1.1\" width=\"800\"><defs><style type=\"text/css\"><![CDATA[.background path {fill: #808080; fill-opacity: 0}.background path:nth-child(odd) {fill-opacity: .1}.axes {font-size: 14px}.x-axis .tick .lab {font-weight: bold; dominant-baseline: hanging}.axes, .tree {font-size: 14px; text-anchor: middle}.axes line, .edge {stroke: black; fill: none}.y-axis .grid {stroke: #FAFAFA}.node > .sym {fill: black; stroke: none}.site > .sym {stroke: black}.mut text {fill: red; font-style: italic}.mut.extra text {fill: hotpink}.mut line {fill: none; stroke: none}.mut .sym {fill: none; stroke: red}.mut.extra .sym {stroke: hotpink}.node .mut .sym {stroke-width: 1.5px}.tree text, .tree-sequence text {dominant-baseline: central}.plotbox .lab.lft {text-anchor: end}.plotbox .lab.rgt {text-anchor: start}]]></style></defs><g class=\"tree-sequence\"><g class=\"background\"><path d=\"M20,0 l190,0 l0,138.2 l98.8,25 l0,5 l-288.8,0 l0,-5 l0,-25 l0,-138.2z\"/><path d=\"M210,0 l190,0 l0,138.2 l-45.6,25 l0,5 l-45.6,0 l0,-5 l-98.8,-25 l0,-138.2z\"/><path d=\"M400,0 l190,0 l0,138.2 l38,25 l0,5 l-273.6,0 l0,-5 l45.6,-25 l0,-138.2z\"/><path d=\"M590,0 l190,0 l0,138.2 l0,25 l0,5 l-152,0 l0,-5 l-38,-25 l0,-138.2z\"/></g><g class=\"axes\"><g class=\"x-axis\"><g transform=\"translate(400 200)\"><text class=\"lab\" text-anchor=\"middle\" transform=\"translate(0 -11)\">Genome position</text></g><line x1=\"20\" x2=\"780\" y1=\"163.2\" y2=\"163.2\"/><g class=\"ticks\"><g class=\"tick\" transform=\"translate(20 163.2)\"><line x1=\"0\" x2=\"0\" y1=\"0\" y2=\"5\"/><g transform=\"translate(0 6)\"><text class=\"lab\">0</text></g></g><g class=\"tick\" transform=\"translate(308.8 163.2)\"><line x1=\"0\" x2=\"0\" y1=\"0\" y2=\"5\"/><g transform=\"translate(0 6)\"><text class=\"lab\">19</text></g></g><g class=\"tick\" transform=\"translate(354.4 163.2)\"><line x1=\"0\" x2=\"0\" y1=\"0\" y2=\"5\"/><g transform=\"translate(0 6)\"><text class=\"lab\">22</text></g></g><g class=\"tick\" transform=\"translate(628 163.2)\"><line x1=\"0\" x2=\"0\" y1=\"0\" y2=\"5\"/><g transform=\"translate(0 6)\"><text class=\"lab\">40</text></g></g><g class=\"tick\" transform=\"translate(780 163.2)\"><line x1=\"0\" x2=\"0\" y1=\"0\" y2=\"5\"/><g transform=\"translate(0 6)\"><text class=\"lab\">50</text></g></g></g></g></g><g class=\"plotbox trees\"><g class=\"tree t0\" transform=\"translate(20 0)\"><g class=\"plotbox\"><g class=\"c2 node n13 p0 root\" transform=\"translate(125.469 26.8)\"><g class=\"a13 i2 leaf node n5 p0 sample\" transform=\"translate(32.0312 94.6)\"><path class=\"edge\" d=\"M 0 0 V -94.6 H -32.0312\"/><rect class=\"sym\" height=\"6\" width=\"6\" x=\"-3\" y=\"-3\"/><text class=\"lab\" transform=\"translate(0 11)\">5</text></g><g class=\"a13 c2 node n11 p0\" transform=\"translate(-32.0312 82.5741)\"><g class=\"a11 i0 leaf node n1 p0 sample\" transform=\"translate(39.0625 12.0259)\"><path class=\"edge\" d=\"M 0 0 V -12.0259 H -39.0625\"/><rect class=\"sym\" height=\"6\" width=\"6\" x=\"-3\" y=\"-3\"/><text class=\"lab\" transform=\"translate(0 11)\">1</text></g><g class=\"a11 c2 node n9 p0\" transform=\"translate(-39.0625 2.68036)\"><g class=\"a9 i0 leaf node n0 p0 sample\" transform=\"translate(-21.875 9.34551)\"><path class=\"edge\" d=\"M 0 0 V -9.34551 H 21.875\"/><rect class=\"sym\" height=\"6\" width=\"6\" x=\"-3\" y=\"-3\"/><text class=\"lab\" transform=\"translate(0 11)\">0</text></g><g class=\"a9 c1 node n8 p0\" transform=\"translate(21.875 3.36916)\"><g class=\"a8 c2 node n7 p0\" transform=\"translate(0.0 2.05363)\"><g class=\"a7 i1 leaf node n2 p0 sample\" transform=\"translate(-18.75 3.92272)\"><path class=\"edge\" d=\"M 0 0 V -3.92272 H 18.75\"/><rect class=\"sym\" height=\"6\" width=\"6\" x=\"-3\" y=\"-3\"/><text class=\"lab\" transform=\"translate(0 11)\">2</text></g><g class=\"a7 c2 node n6 p0\" transform=\"translate(18.75 0.128286)\"><g class=\"a6 i1 leaf node n3 p0 sample\" transform=\"translate(-12.5 3.79443)\"><path class=\"edge\" d=\"M 0 0 V -3.79443 H 12.5\"/><rect class=\"sym\" height=\"6\" width=\"6\" x=\"-3\" y=\"-3\"/><text class=\"lab\" transform=\"translate(0 11)\">3</text></g><g class=\"a6 i2 leaf node n4 p0 sample\" transform=\"translate(12.5 3.79443)\"><path class=\"edge\" d=\"M 0 0 V -3.79443 H -12.5\"/><rect class=\"sym\" height=\"6\" width=\"6\" x=\"-3\" y=\"-3\"/><text class=\"lab\" transform=\"translate(0 11)\">4</text></g><path class=\"edge\" d=\"M 0 0 V -0.128286 H -18.75\"/><circle class=\"sym\" cx=\"0\" cy=\"0\" r=\"3\"/><text class=\"lab rgt\" transform=\"translate(3 -7.0)\">6</text></g><path class=\"edge\" d=\"M 0 0 V -2.05363 H 0.0\"/><circle class=\"sym\" cx=\"0\" cy=\"0\" r=\"3\"/><text class=\"lab lft\" transform=\"translate(-3 -7.0)\">7</text></g><path class=\"edge\" d=\"M 0 0 V -3.36916 H -21.875\"/><circle class=\"sym\" cx=\"0\" cy=\"0\" r=\"3\"/><text class=\"lab rgt\" transform=\"translate(3 -7.0)\">8</text></g><path class=\"edge\" d=\"M 0 0 V -2.68036 H 39.0625\"/><circle class=\"sym\" cx=\"0\" cy=\"0\" r=\"3\"/><text class=\"lab lft\" transform=\"translate(-3 -7.0)\">9</text></g><path class=\"edge\" d=\"M 0 0 V -82.5741 H 32.0312\"/><circle class=\"sym\" cx=\"0\" cy=\"0\" r=\"3\"/><text class=\"lab lft\" transform=\"translate(-3 -7.0)\">11</text></g><circle class=\"sym\" cx=\"0\" cy=\"0\" r=\"3\"/><text class=\"lab\" transform=\"translate(0 -11)\">13</text></g></g></g><g class=\"tree t1\" transform=\"translate(210 0)\"><g class=\"plotbox\"><g class=\"c2 node n13 p0 root\" transform=\"translate(106.719 26.8)\"><g class=\"a13 i2 leaf node n5 p0 sample\" transform=\"translate(50.7812 94.6)\"><path class=\"edge\" d=\"M 0 0 V -94.6 H -50.7812\"/><rect class=\"sym\" height=\"6\" width=\"6\" x=\"-3\" y=\"-3\"/><text class=\"lab\" transform=\"translate(0 11)\">5</text></g><g class=\"a13 c1 node n11 p0\" transform=\"translate(-50.7812 82.5741)\"><g class=\"a11 c2 node n9 p0\" transform=\"translate(0.0 2.68036)\"><g class=\"a9 i0 leaf node n0 p0 sample\" transform=\"translate(-23.4375 9.34551)\"><path class=\"edge\" d=\"M 0 0 V -9.34551 H 23.4375\"/><rect class=\"sym\" height=\"6\" width=\"6\" x=\"-3\" y=\"-3\"/><text class=\"lab\" transform=\"translate(0 11)\">0</text></g><g class=\"a9 c2 node n8 p0\" transform=\"translate(23.4375 3.36916)\"><g class=\"a8 c2 node n7 p0\" transform=\"translate(21.875 2.05363)\"><g class=\"a7 i1 leaf node n2 p0 sample\" transform=\"translate(-18.75 3.92272)\"><path class=\"edge\" d=\"M 0 0 V -3.92272 H 18.75\"/><rect class=\"sym\" height=\"6\" width=\"6\" x=\"-3\" y=\"-3\"/><text class=\"lab\" transform=\"translate(0 11)\">2</text></g><g class=\"a7 c2 node n6 p0\" transform=\"translate(18.75 0.128286)\"><g class=\"a6 i1 leaf node n3 p0 sample\" transform=\"translate(-12.5 3.79443)\"><path class=\"edge\" d=\"M 0 0 V -3.79443 H 12.5\"/><rect class=\"sym\" height=\"6\" width=\"6\" x=\"-3\" y=\"-3\"/><text class=\"lab\" transform=\"translate(0 11)\">3</text></g><g class=\"a6 i2 leaf node n4 p0 sample\" transform=\"translate(12.5 3.79443)\"><path class=\"edge\" d=\"M 0 0 V -3.79443 H -12.5\"/><rect class=\"sym\" height=\"6\" width=\"6\" x=\"-3\" y=\"-3\"/><text class=\"lab\" transform=\"translate(0 11)\">4</text></g><path class=\"edge\" d=\"M 0 0 V -0.128286 H -18.75\"/><circle class=\"sym\" cx=\"0\" cy=\"0\" r=\"3\"/><text class=\"lab rgt\" transform=\"translate(3 -7.0)\">6</text></g><path class=\"edge\" d=\"M 0 0 V -2.05363 H -21.875\"/><circle class=\"sym\" cx=\"0\" cy=\"0\" r=\"3\"/><text class=\"lab rgt\" transform=\"translate(3 -7.0)\">7</text></g><g class=\"a8 i0 leaf node n1 p0 sample\" transform=\"translate(-21.875 5.97635)\"><path class=\"edge\" d=\"M 0 0 V -5.97635 H 21.875\"/><rect class=\"sym\" height=\"6\" width=\"6\" x=\"-3\" y=\"-3\"/><text class=\"lab\" transform=\"translate(0 11)\">1</text></g><path class=\"edge\" d=\"M 0 0 V -3.36916 H -23.4375\"/><circle class=\"sym\" cx=\"0\" cy=\"0\" r=\"3\"/><text class=\"lab rgt\" transform=\"translate(3 -7.0)\">8</text></g><path class=\"edge\" d=\"M 0 0 V -2.68036 H 0.0\"/><circle class=\"sym\" cx=\"0\" cy=\"0\" r=\"3\"/><text class=\"lab lft\" transform=\"translate(-3 -7.0)\">9</text></g><path class=\"edge\" d=\"M 0 0 V -82.5741 H 50.7812\"/><circle class=\"sym\" cx=\"0\" cy=\"0\" r=\"3\"/><text class=\"lab lft\" transform=\"translate(-3 -7.0)\">11</text></g><circle class=\"sym\" cx=\"0\" cy=\"0\" r=\"3\"/><text class=\"lab\" transform=\"translate(0 -11)\">13</text></g></g></g><g class=\"tree t2\" transform=\"translate(400 0)\"><g class=\"plotbox\"><g class=\"c2 node n12 p0 root\" transform=\"translate(106.719 60.332)\"><g class=\"a12 i2 leaf node n5 p0 sample\" transform=\"translate(50.7812 61.068)\"><path class=\"edge\" d=\"M 0 0 V -61.068 H -50.7812\"/><rect class=\"sym\" height=\"6\" width=\"6\" x=\"-3\" y=\"-3\"/><text class=\"lab\" transform=\"translate(0 11)\">5</text></g><g class=\"a12 c1 node n10 p0\" transform=\"translate(-50.7812 50.1312)\"><g class=\"a10 c2 node n9 p0\" transform=\"translate(0.0 1.59124)\"><g class=\"a9 i0 leaf node n0 p0 sample\" transform=\"translate(-23.4375 9.34551)\"><path class=\"edge\" d=\"M 0 0 V -9.34551 H 23.4375\"/><rect class=\"sym\" height=\"6\" width=\"6\" x=\"-3\" y=\"-3\"/><text class=\"lab\" transform=\"translate(0 11)\">0</text></g><g class=\"a9 c2 node n8 p0\" transform=\"translate(23.4375 3.36916)\"><g class=\"a8 c2 node n7 p0\" transform=\"translate(21.875 2.05363)\"><g class=\"a7 i1 leaf node n2 p0 sample\" transform=\"translate(-18.75 3.92272)\"><path class=\"edge\" d=\"M 0 0 V -3.92272 H 18.75\"/><rect class=\"sym\" height=\"6\" width=\"6\" x=\"-3\" y=\"-3\"/><text class=\"lab\" transform=\"translate(0 11)\">2</text></g><g class=\"a7 c2 node n6 p0\" transform=\"translate(18.75 0.128286)\"><g class=\"a6 i1 leaf node n3 p0 sample\" transform=\"translate(-12.5 3.79443)\"><path class=\"edge\" d=\"M 0 0 V -3.79443 H 12.5\"/><rect class=\"sym\" height=\"6\" width=\"6\" x=\"-3\" y=\"-3\"/><text class=\"lab\" transform=\"translate(0 11)\">3</text></g><g class=\"a6 i2 leaf node n4 p0 sample\" transform=\"translate(12.5 3.79443)\"><path class=\"edge\" d=\"M 0 0 V -3.79443 H -12.5\"/><rect class=\"sym\" height=\"6\" width=\"6\" x=\"-3\" y=\"-3\"/><text class=\"lab\" transform=\"translate(0 11)\">4</text></g><path class=\"edge\" d=\"M 0 0 V -0.128286 H -18.75\"/><circle class=\"sym\" cx=\"0\" cy=\"0\" r=\"3\"/><text class=\"lab rgt\" transform=\"translate(3 -7.0)\">6</text></g><path class=\"edge\" d=\"M 0 0 V -2.05363 H -21.875\"/><circle class=\"sym\" cx=\"0\" cy=\"0\" r=\"3\"/><text class=\"lab rgt\" transform=\"translate(3 -7.0)\">7</text></g><g class=\"a8 i0 leaf node n1 p0 sample\" transform=\"translate(-21.875 5.97635)\"><path class=\"edge\" d=\"M 0 0 V -5.97635 H 21.875\"/><rect class=\"sym\" height=\"6\" width=\"6\" x=\"-3\" y=\"-3\"/><text class=\"lab\" transform=\"translate(0 11)\">1</text></g><path class=\"edge\" d=\"M 0 0 V -3.36916 H -23.4375\"/><circle class=\"sym\" cx=\"0\" cy=\"0\" r=\"3\"/><text class=\"lab rgt\" transform=\"translate(3 -7.0)\">8</text></g><path class=\"edge\" d=\"M 0 0 V -1.59124 H 0.0\"/><circle class=\"sym\" cx=\"0\" cy=\"0\" r=\"3\"/><text class=\"lab lft\" transform=\"translate(-3 -7.0)\">9</text></g><path class=\"edge\" d=\"M 0 0 V -50.1312 H 50.7812\"/><circle class=\"sym\" cx=\"0\" cy=\"0\" r=\"3\"/><text class=\"lab lft\" transform=\"translate(-3 -7.0)\">10</text></g><circle class=\"sym\" cx=\"0\" cy=\"0\" r=\"3\"/><text class=\"lab\" transform=\"translate(0 -11)\">12</text></g></g></g><g class=\"tree t3\" transform=\"translate(590 0)\"><g class=\"plotbox\"><g class=\"c2 node n12 p0 root\" transform=\"translate(125.469 60.332)\"><g class=\"a12 i2 leaf node n5 p0 sample\" transform=\"translate(32.0312 61.068)\"><path class=\"edge\" d=\"M 0 0 V -61.068 H -32.0312\"/><rect class=\"sym\" height=\"6\" width=\"6\" x=\"-3\" y=\"-3\"/><text class=\"lab\" transform=\"translate(0 11)\">5</text></g><g class=\"a12 c2 node n10 p0\" transform=\"translate(-32.0312 50.1312)\"><g class=\"a10 c2 node n9 p0\" transform=\"translate(-39.0625 1.59124)\"><g class=\"a9 i0 leaf node n0 p0 sample\" transform=\"translate(-21.875 9.34551)\"><path class=\"edge\" d=\"M 0 0 V -9.34551 H 21.875\"/><rect class=\"sym\" height=\"6\" width=\"6\" x=\"-3\" y=\"-3\"/><text class=\"lab\" transform=\"translate(0 11)\">0</text></g><g class=\"a9 c1 node n8 p0\" transform=\"translate(21.875 3.36916)\"><g class=\"a8 c2 node n7 p0\" transform=\"translate(0.0 2.05363)\"><g class=\"a7 i1 leaf node n2 p0 sample\" transform=\"translate(-18.75 3.92272)\"><path class=\"edge\" d=\"M 0 0 V -3.92272 H 18.75\"/><rect class=\"sym\" height=\"6\" width=\"6\" x=\"-3\" y=\"-3\"/><text class=\"lab\" transform=\"translate(0 11)\">2</text></g><g class=\"a7 c2 node n6 p0\" transform=\"translate(18.75 0.128286)\"><g class=\"a6 i1 leaf node n3 p0 sample\" transform=\"translate(-12.5 3.79443)\"><path class=\"edge\" d=\"M 0 0 V -3.79443 H 12.5\"/><rect class=\"sym\" height=\"6\" width=\"6\" x=\"-3\" y=\"-3\"/><text class=\"lab\" transform=\"translate(0 11)\">3</text></g><g class=\"a6 i2 leaf node n4 p0 sample\" transform=\"translate(12.5 3.79443)\"><path class=\"edge\" d=\"M 0 0 V -3.79443 H -12.5\"/><rect class=\"sym\" height=\"6\" width=\"6\" x=\"-3\" y=\"-3\"/><text class=\"lab\" transform=\"translate(0 11)\">4</text></g><path class=\"edge\" d=\"M 0 0 V -0.128286 H -18.75\"/><circle class=\"sym\" cx=\"0\" cy=\"0\" r=\"3\"/><text class=\"lab rgt\" transform=\"translate(3 -7.0)\">6</text></g><path class=\"edge\" d=\"M 0 0 V -2.05363 H 0.0\"/><circle class=\"sym\" cx=\"0\" cy=\"0\" r=\"3\"/><text class=\"lab lft\" transform=\"translate(-3 -7.0)\">7</text></g><path class=\"edge\" d=\"M 0 0 V -3.36916 H -21.875\"/><circle class=\"sym\" cx=\"0\" cy=\"0\" r=\"3\"/><text class=\"lab rgt\" transform=\"translate(3 -7.0)\">8</text></g><path class=\"edge\" d=\"M 0 0 V -1.59124 H 39.0625\"/><circle class=\"sym\" cx=\"0\" cy=\"0\" r=\"3\"/><text class=\"lab lft\" transform=\"translate(-3 -7.0)\">9</text></g><g class=\"a10 i0 leaf node n1 p0 sample\" transform=\"translate(39.0625 10.9367)\"><path class=\"edge\" d=\"M 0 0 V -10.9367 H -39.0625\"/><rect class=\"sym\" height=\"6\" width=\"6\" x=\"-3\" y=\"-3\"/><text class=\"lab\" transform=\"translate(0 11)\">1</text></g><path class=\"edge\" d=\"M 0 0 V -50.1312 H 32.0312\"/><circle class=\"sym\" cx=\"0\" cy=\"0\" r=\"3\"/><text class=\"lab lft\" transform=\"translate(-3 -7.0)\">10</text></g><circle class=\"sym\" cx=\"0\" cy=\"0\" r=\"3\"/><text class=\"lab\" transform=\"translate(0 -11)\">12</text></g></g></g></g></g></svg>"
      ],
      "text/plain": [
       "<IPython.core.display.SVG object>"
      ]
     },
     "execution_count": 13,
     "metadata": {},
     "output_type": "execute_result"
    }
   ],
   "source": [
    "SVG(new_ts.draw_svg())"
   ]
  }
 ],
 "metadata": {
  "kernelspec": {
   "display_name": "Python 3 (ipykernel)",
   "language": "python",
   "name": "python3"
  },
  "language_info": {
   "codemirror_mode": {
    "name": "ipython",
    "version": 3
   },
   "file_extension": ".py",
   "mimetype": "text/x-python",
   "name": "python",
   "nbconvert_exporter": "python",
   "pygments_lexer": "ipython3",
   "version": "3.9.9"
  }
 },
 "nbformat": 4,
 "nbformat_minor": 5
}
